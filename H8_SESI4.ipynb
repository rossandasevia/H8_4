{
 "cells": [
  {
   "cell_type": "markdown",
   "id": "183bc8df-0971-4353-8321-7840aa2057a8",
   "metadata": {},
   "source": [
    "# NUMPY"
   ]
  },
  {
   "cell_type": "code",
   "execution_count": 26,
   "id": "c266bf05-824e-4149-9572-b26f87a3adbc",
   "metadata": {},
   "outputs": [
    {
     "name": "stdout",
     "output_type": "stream",
     "text": [
      "Requirement already satisfied: numpy in c:\\users\\user\\anaconda3\\lib\\site-packages (1.21.5)\n"
     ]
    }
   ],
   "source": [
    "!pip install numpy"
   ]
  },
  {
   "cell_type": "markdown",
   "id": "64887a9b-df06-4776-be03-14720f7271e6",
   "metadata": {},
   "source": [
    "## Import Numpy"
   ]
  },
  {
   "cell_type": "code",
   "execution_count": 1,
   "id": "66c68286-1754-4d56-ba14-dd9b415990c2",
   "metadata": {},
   "outputs": [],
   "source": [
    "import numpy as np"
   ]
  },
  {
   "cell_type": "code",
   "execution_count": 29,
   "id": "30e72c8d-696c-4f8c-82cc-9f21173aeb2f",
   "metadata": {},
   "outputs": [],
   "source": [
    "c = np.array([1,2,3])"
   ]
  },
  {
   "cell_type": "code",
   "execution_count": 30,
   "id": "33dd365e-f385-4117-91bd-dfec72d03b2b",
   "metadata": {},
   "outputs": [
    {
     "data": {
      "text/plain": [
       "array([1, 2, 3])"
      ]
     },
     "execution_count": 30,
     "metadata": {},
     "output_type": "execute_result"
    }
   ],
   "source": [
    "c"
   ]
  },
  {
   "cell_type": "markdown",
   "id": "9593e450-60ec-4301-a98e-a60ced13004d",
   "metadata": {},
   "source": [
    "## One Dimensional Array"
   ]
  },
  {
   "cell_type": "markdown",
   "id": "e33929d8-27df-4f3a-a8b0-94ffc2df927f",
   "metadata": {},
   "source": [
    "### Indexing dan Slicing"
   ]
  },
  {
   "cell_type": "code",
   "execution_count": 36,
   "id": "c877e638-3c0c-4403-91a7-cbb640d54263",
   "metadata": {},
   "outputs": [
    {
     "data": {
      "text/plain": [
       "2"
      ]
     },
     "execution_count": 36,
     "metadata": {},
     "output_type": "execute_result"
    }
   ],
   "source": [
    "c[1]"
   ]
  },
  {
   "cell_type": "code",
   "execution_count": 43,
   "id": "f8105907-f785-4b83-863e-ab72634d10e9",
   "metadata": {},
   "outputs": [],
   "source": [
    "array_1 = np.array([1,2,3,4,5,6,7,8]) #one dimensional"
   ]
  },
  {
   "cell_type": "code",
   "execution_count": 44,
   "id": "f2cc11d9-2664-486e-8bf5-c6586dfccf79",
   "metadata": {},
   "outputs": [
    {
     "data": {
      "text/plain": [
       "array([1, 2, 3, 4, 5, 6, 7, 8])"
      ]
     },
     "execution_count": 44,
     "metadata": {},
     "output_type": "execute_result"
    }
   ],
   "source": [
    "array_1"
   ]
  },
  {
   "cell_type": "code",
   "execution_count": 34,
   "id": "250f598a-559d-417e-98dc-86b1f0067778",
   "metadata": {},
   "outputs": [
    {
     "data": {
      "text/plain": [
       "[4, 5, 6, 7, 8]"
      ]
     },
     "execution_count": 34,
     "metadata": {},
     "output_type": "execute_result"
    }
   ],
   "source": [
    "array_1[3:] #slicing sama seperti list"
   ]
  },
  {
   "cell_type": "code",
   "execution_count": 153,
   "id": "4054faae-2606-4744-9602-6a0b29f75a0e",
   "metadata": {},
   "outputs": [
    {
     "data": {
      "text/plain": [
       "(8,)"
      ]
     },
     "execution_count": 153,
     "metadata": {},
     "output_type": "execute_result"
    }
   ],
   "source": [
    "array_1.shape #hasil adalah baris, kolom"
   ]
  },
  {
   "cell_type": "markdown",
   "id": "49def3d9-c98c-43e0-a094-136286db83a0",
   "metadata": {},
   "source": [
    "## Two Dimensional Array Consist of List of List"
   ]
  },
  {
   "cell_type": "code",
   "execution_count": 51,
   "id": "2d39cd3a-3bc9-42ff-ab8f-d217dbf14059",
   "metadata": {},
   "outputs": [
    {
     "data": {
      "text/plain": [
       "(3, 3)"
      ]
     },
     "execution_count": 51,
     "metadata": {},
     "output_type": "execute_result"
    }
   ],
   "source": [
    "list_of_list = [[1,2,3],[4,5,6],[7,8,9]]\n",
    "array_2 = np.array(list_of_list)\n",
    "np.array(list_of_list)\n",
    "array_2.shape"
   ]
  },
  {
   "cell_type": "raw",
   "id": "82d63e62-caef-422b-98f7-2d586db307cd",
   "metadata": {},
   "source": [
    "3 baris dan 3 kolom"
   ]
  },
  {
   "cell_type": "code",
   "execution_count": 58,
   "id": "06865bcf-dd1f-41e9-a8ab-ba39e33183b3",
   "metadata": {},
   "outputs": [
    {
     "name": "stdout",
     "output_type": "stream",
     "text": [
      "[[1 2]\n",
      " [3 4]\n",
      " [5 6]]\n",
      "(3, 2)\n"
     ]
    }
   ],
   "source": [
    "list_of_list2 = [[1,2],[3,4],[5,6]]\n",
    "array_3 = np.array(list_of_list2)\n",
    "print(np.array(list_of_list2))\n",
    "print(array_3.shape)"
   ]
  },
  {
   "cell_type": "code",
   "execution_count": null,
   "id": "239bed6b-fb6b-4724-884b-a93917083441",
   "metadata": {},
   "outputs": [],
   "source": [
    "3 baris dan 2 kolom"
   ]
  },
  {
   "cell_type": "markdown",
   "id": "9eea8751-d9b3-4bb2-b6dd-e6432574c58a",
   "metadata": {},
   "source": [
    "## Creating Array"
   ]
  },
  {
   "cell_type": "code",
   "execution_count": 57,
   "id": "1c255760-7800-4805-bb17-6ef6fcdde575",
   "metadata": {},
   "outputs": [
    {
     "name": "stdout",
     "output_type": "stream",
     "text": [
      "[0. 0. 0. 0. 0. 0. 0. 0.]\n",
      "[[0. 0.]\n",
      " [0. 0.]\n",
      " [0. 0.]]\n"
     ]
    }
   ],
   "source": [
    "# np.zeros\n",
    "print(np.zeros(8)) #menghasilkan one dimensional array dengan 8 angka 0\n",
    "print(np.zeros([3,2])) ##menghasilkan two dimensional array"
   ]
  },
  {
   "cell_type": "code",
   "execution_count": 60,
   "id": "e183b6fe-6591-4791-927a-c95dbde084dc",
   "metadata": {},
   "outputs": [
    {
     "name": "stdout",
     "output_type": "stream",
     "text": [
      "[1. 1. 1. 1.]\n",
      "[[1. 1.]\n",
      " [1. 1.]\n",
      " [1. 1.]\n",
      " [1. 1.]]\n"
     ]
    }
   ],
   "source": [
    "#np.ones\n",
    "print(np.ones(4))\n",
    "print(np.ones((4,2)))"
   ]
  },
  {
   "cell_type": "code",
   "execution_count": 68,
   "id": "4995448f-d754-418d-a674-4b9bc2b855b0",
   "metadata": {},
   "outputs": [
    {
     "name": "stdout",
     "output_type": "stream",
     "text": [
      "[2.12199579e-314 6.36598737e-314 1.06099790e-313 1.48539705e-313\n",
      " 1.90979621e-313]\n",
      "[[0. 0.]\n",
      " [0. 0.]\n",
      " [0. 0.]]\n"
     ]
    }
   ],
   "source": [
    "#np.empty\n",
    "print(np.empty(5)) #angka random yang sangat kecil\n",
    "print(np.empty((3,2)))"
   ]
  },
  {
   "cell_type": "code",
   "execution_count": 67,
   "id": "8b955890-89fe-4854-a1a3-8f35efaf3c4c",
   "metadata": {},
   "outputs": [
    {
     "name": "stdout",
     "output_type": "stream",
     "text": [
      "[0 1 2 3 4 5 6 7 8 9]\n",
      "[0 2 4 6 8]\n"
     ]
    }
   ],
   "source": [
    "#np.arange\n",
    "print(np.arange(10))\n",
    "print(np.arange(0,10,2)) #start,stop,step > konsep seperti slicing"
   ]
  },
  {
   "cell_type": "code",
   "execution_count": 76,
   "id": "7e44e49d-a042-4da7-9aff-3e9773426324",
   "metadata": {},
   "outputs": [
    {
     "name": "stdout",
     "output_type": "stream",
     "text": [
      "[ 1  2  3  4  5  6  7  8  9 10 11]\n",
      "[1 2 4 5 6 7 8 9]\n",
      "[1 2 3 4 5 6 7 8 9]\n"
     ]
    }
   ],
   "source": [
    "c = np.array([1,2,3,4,5,6,7,8,9])\n",
    "\n",
    "#append\n",
    "print(np.append(c,[10,11]))\n",
    "\n",
    "#delete\n",
    "print(np.delete(c,2))\n",
    "\n",
    "#sort\n",
    "print(np.sort(c))"
   ]
  },
  {
   "cell_type": "code",
   "execution_count": 83,
   "id": "0b5ab15e-3a80-4431-87ed-d29b3201c702",
   "metadata": {},
   "outputs": [
    {
     "name": "stdout",
     "output_type": "stream",
     "text": [
      "1\n",
      "2\n",
      "9\n",
      "4\n",
      "[[1 2 3]\n",
      " [4 5 6]\n",
      " [7 8 9]]\n"
     ]
    }
   ],
   "source": [
    "d = np.zeros((2,2))\n",
    "\n",
    "#ndim\n",
    "print(c.ndim)\n",
    "print(d.ndim)\n",
    "\n",
    "#size\n",
    "print(c.size)\n",
    "print(d.size)\n",
    "\n",
    "#reshape\n",
    "print(c.reshape(3,3))"
   ]
  },
  {
   "cell_type": "code",
   "execution_count": 84,
   "id": "5ea235bb-fda7-428f-8779-5a6da8acd311",
   "metadata": {},
   "outputs": [
    {
     "data": {
      "text/plain": [
       "(1, 4)"
      ]
     },
     "execution_count": 84,
     "metadata": {},
     "output_type": "execute_result"
    }
   ],
   "source": [
    "array_3 = np.array([[1,2,3,4]])\n",
    "array_3.shape"
   ]
  },
  {
   "cell_type": "code",
   "execution_count": 88,
   "id": "a58754b5-5118-4324-9c0f-86a7ba842280",
   "metadata": {},
   "outputs": [
    {
     "name": "stdout",
     "output_type": "stream",
     "text": [
      "[[4 5 6]]\n",
      "[[4]\n",
      " [5]\n",
      " [6]]\n"
     ]
    }
   ],
   "source": [
    "#np.newaxis\n",
    "array_4 = np.array([4,5,6])\n",
    "print(array_4[np.newaxis]) #default menambah axis 1 > kolom\n",
    "print(array_4[:,np.newaxis]) #berubah menjadi 2 dimensi"
   ]
  },
  {
   "cell_type": "code",
   "execution_count": 91,
   "id": "a20606c7-b784-419a-b3c6-36d1d8d54e58",
   "metadata": {},
   "outputs": [
    {
     "name": "stdout",
     "output_type": "stream",
     "text": [
      "[1 2 3 4 5 6]\n",
      "[[1]\n",
      " [2]\n",
      " [3]\n",
      " [4]\n",
      " [5]\n",
      " [6]]\n",
      "(6, 1)\n"
     ]
    }
   ],
   "source": [
    "#np.expamd_dims\n",
    "array_5 = np.array([1,2,3,4,5,6])\n",
    "array_6 = np.expand_dims(array_5,axis=1)\n",
    "print(array_5)\n",
    "print(array_6)\n",
    "print(array_6.shape)"
   ]
  },
  {
   "cell_type": "markdown",
   "id": "9a6e4729-b5d4-403b-b7c8-25bd1665db18",
   "metadata": {},
   "source": [
    "## Operasi Matematika Pada Array"
   ]
  },
  {
   "cell_type": "raw",
   "id": "30317ead-02a6-4c4c-a45b-c10597ee20c8",
   "metadata": {},
   "source": [
    "Jika ada operasi matematika pada array, maka operasi akan dilakukan kepada setiap elemen"
   ]
  },
  {
   "cell_type": "code",
   "execution_count": 2,
   "id": "2a9cf69f-f09c-4d8c-87a3-50cf4f0d1653",
   "metadata": {},
   "outputs": [
    {
     "name": "stdout",
     "output_type": "stream",
     "text": [
      "[ 2  4  6  8 10 12]\n",
      "[[-1  0  1]\n",
      " [ 2  3  4]]\n"
     ]
    }
   ],
   "source": [
    "array_5 = np.array([1,2,3,4,5,6])\n",
    "print(array_5*2)\n",
    "array_7 = np.array([[1,2,3],[4,5,6]])\n",
    "print(array_7-2)"
   ]
  },
  {
   "cell_type": "markdown",
   "id": "37edb1fc-4ad9-4513-ae2c-533efa8cda74",
   "metadata": {},
   "source": [
    "## Filtering Array"
   ]
  },
  {
   "cell_type": "code",
   "execution_count": 3,
   "id": "739ee9ff-0213-45a9-958a-c60166a6ecca",
   "metadata": {},
   "outputs": [
    {
     "name": "stdout",
     "output_type": "stream",
     "text": [
      "[6]\n",
      "[3]\n",
      "[1 2 3]\n"
     ]
    }
   ],
   "source": [
    "print(array_7[array_7 > 5])\n",
    "print(array_7[array_7 == 3])\n",
    "print(array_7[array_7 < 4])"
   ]
  },
  {
   "cell_type": "markdown",
   "id": "47ef95d9-0734-4418-83de-09830c912511",
   "metadata": {},
   "source": [
    "## hstack, vstack, hsplit, vsplit"
   ]
  },
  {
   "cell_type": "code",
   "execution_count": 4,
   "id": "ccc891f0-46ac-41c4-be6d-eab2ac0aa2f9",
   "metadata": {},
   "outputs": [
    {
     "name": "stdout",
     "output_type": "stream",
     "text": [
      "Stack secara vertikal\n",
      "[[ 3  4  5  6  7]\n",
      " [ 7  8  9 10 11]]\n",
      "Stack secara horizontal\n",
      "[ 3  4  5  6  7  7  8  9 10 11]\n"
     ]
    }
   ],
   "source": [
    "array_14 = np.array([3,4,5,6,7])\n",
    "array_15 = np.array([7,8,9,10,11])\n",
    "\n",
    "#stack vertikal\n",
    "print('Stack secara vertikal')\n",
    "print(np.vstack([array_14,array_15]))\n",
    "\n",
    "#stack horizontal\n",
    "print('Stack secara horizontal')\n",
    "print(np.hstack([array_14,array_15]))"
   ]
  },
  {
   "cell_type": "code",
   "execution_count": 127,
   "id": "93ece57d-9c7c-4c09-b016-350064e0f338",
   "metadata": {},
   "outputs": [
    {
     "data": {
      "text/plain": [
       "[array([3, 4, 5]), array([6, 7, 8])]"
      ]
     },
     "execution_count": 127,
     "metadata": {},
     "output_type": "execute_result"
    }
   ],
   "source": [
    "#split\n",
    "array_16 = np.array([3,4,5,6,7,8])\n",
    "array_split = np.hsplit(array_16,2)\n",
    "(array_split)"
   ]
  },
  {
   "cell_type": "code",
   "execution_count": 5,
   "id": "d619a7e6-fde8-4d2a-bc15-a403518c1237",
   "metadata": {},
   "outputs": [
    {
     "name": "stdout",
     "output_type": "stream",
     "text": [
      "[[ 3  4  5  6  7]\n",
      " [ 7  8  9 10 11]]\n",
      "(2, 5)\n",
      "Horizontal split\n",
      "[array([[3],\n",
      "       [7]]), array([[4],\n",
      "       [8]]), array([[5],\n",
      "       [9]]), array([[ 6],\n",
      "       [10]]), array([[ 7],\n",
      "       [11]])]\n",
      "Vertikal Split\n",
      "[array([[3, 4, 5, 6, 7]]), array([[ 7,  8,  9, 10, 11]])]\n"
     ]
    }
   ],
   "source": [
    "array_17 = np.array([[3,4,5,6,7],[7,8,9,10,11]])\n",
    "print(array_17)\n",
    "print(array_17.shape)\n",
    "\n",
    "#hsplit\n",
    "print('Horizontal split')\n",
    "print(np.hsplit(array_17,5))\n",
    "\n",
    "#vsplit\n",
    "print('Vertikal Split')\n",
    "print(np.vsplit(array_17,2))"
   ]
  },
  {
   "cell_type": "markdown",
   "id": "6c7f2c53-19f9-481e-a33e-c6cba5a03ee7",
   "metadata": {},
   "source": [
    "## Operasi Aritmetik Antar 2 Array"
   ]
  },
  {
   "cell_type": "raw",
   "id": "ce0661e3-4760-446a-83c6-b02e8e24e7b9",
   "metadata": {},
   "source": [
    "shape antar array harus sama"
   ]
  },
  {
   "cell_type": "code",
   "execution_count": 145,
   "id": "fe1d5f14-5481-49f4-8fc6-dbe5427ab803",
   "metadata": {},
   "outputs": [
    {
     "name": "stdout",
     "output_type": "stream",
     "text": [
      "[5 7 9]\n",
      "6\n",
      "6\n"
     ]
    }
   ],
   "source": [
    "array_a = np.array([1,2,3])\n",
    "array_b = np.array([4,5,6])\n",
    "print(array_a+array_b)\n",
    "print(array_a.sum())"
   ]
  },
  {
   "cell_type": "code",
   "execution_count": 148,
   "id": "404803b0-c1ec-4df5-b75b-0ec6aa6ce5f1",
   "metadata": {},
   "outputs": [
    {
     "name": "stdout",
     "output_type": "stream",
     "text": [
      "[10 12 14 16 18]\n",
      "[25 45]\n"
     ]
    }
   ],
   "source": [
    "array_c = np.array([[3,4,5,6,7],[7,8,9,10,11]])\n",
    "print(array_c.sum(axis=0)) #sum ke bawah\n",
    "print(array_c.sum(axis=1)) #sum ke samping"
   ]
  },
  {
   "cell_type": "code",
   "execution_count": 150,
   "id": "131eccc6-f15e-4f93-92e3-0edbb055523b",
   "metadata": {},
   "outputs": [
    {
     "name": "stdout",
     "output_type": "stream",
     "text": [
      "3\n",
      "6\n",
      "11\n",
      "3\n"
     ]
    }
   ],
   "source": [
    "print(array_a.max())\n",
    "print(array_b.max())\n",
    "print(array_c.max())\n",
    "print(array_a.max(axis=0))"
   ]
  },
  {
   "cell_type": "markdown",
   "id": "0930b951-50cb-41e7-9c68-4b9a379ddad9",
   "metadata": {},
   "source": [
    "## Transpose"
   ]
  },
  {
   "cell_type": "code",
   "execution_count": 152,
   "id": "09ee7fa8-d56c-4234-abfb-7de696e667ac",
   "metadata": {},
   "outputs": [
    {
     "name": "stdout",
     "output_type": "stream",
     "text": [
      "[[ 3  4  5  6  7]\n",
      " [ 7  8  9 10 11]]\n",
      "[[ 3  7]\n",
      " [ 4  8]\n",
      " [ 5  9]\n",
      " [ 6 10]\n",
      " [ 7 11]]\n"
     ]
    }
   ],
   "source": [
    "array_c = np.array([[3,4,5,6,7],[7,8,9,10,11]])\n",
    "print(array_c)\n",
    "print(array_c.T)"
   ]
  },
  {
   "cell_type": "code",
   "execution_count": 6,
   "id": "857ee05d-fd87-49a7-9acc-069affd3fe4e",
   "metadata": {},
   "outputs": [
    {
     "name": "stdout",
     "output_type": "stream",
     "text": [
      "Array sebelum transpose\n",
      "[[ 1  2  3  4]\n",
      " [ 5  6  7  8]\n",
      " [ 9 10 11 12]]\n",
      "(3, 4)\n",
      "Array setelah transpose\n",
      "[[ 1  5  9]\n",
      " [ 2  6 10]\n",
      " [ 3  7 11]\n",
      " [ 4  8 12]]\n",
      "(4, 3)\n"
     ]
    }
   ],
   "source": [
    "array_d = np.array([[1,2,3,4],[5,6,7,8],[9,10,11,12]])\n",
    "\n",
    "#sebelum transpose\n",
    "print('Array sebelum transpose')\n",
    "print(array_d)\n",
    "print(array_d.shape)\n",
    "\n",
    "#setelah transpose\n",
    "print('Array setelah transpose')\n",
    "print(array_d.T)\n",
    "print(array_d.T.shape)"
   ]
  },
  {
   "cell_type": "code",
   "execution_count": 7,
   "id": "98228997-fbe4-4087-969d-dcda730e90a5",
   "metadata": {},
   "outputs": [
    {
     "name": "stdout",
     "output_type": "stream",
     "text": [
      "[[0.8762085  0.0250401 ]\n",
      " [0.95403704 0.50209853]\n",
      " [0.24495854 0.25407102]]\n",
      "[0.8762085  0.0250401  0.95403704 0.50209853 0.24495854 0.25407102]\n"
     ]
    }
   ],
   "source": [
    "#mengambil angka random untuk array\n",
    "array_random = np.random.random([3,2])\n",
    "print(array_random)\n",
    "print(array_random.flatten())"
   ]
  },
  {
   "cell_type": "markdown",
   "id": "0f71185f-18a6-4b96-8b53-8434d8140d85",
   "metadata": {},
   "source": [
    "## Numpy Math Formulas"
   ]
  },
  {
   "cell_type": "code",
   "execution_count": 164,
   "id": "5be9fa2a-db3a-465a-a38f-c5338adbe1e0",
   "metadata": {},
   "outputs": [
    {
     "name": "stdout",
     "output_type": "stream",
     "text": [
      "[[29.44377678 99.1940388 ]\n",
      " [64.62410509  3.19912937]\n",
      " [37.88250586 18.31825544]]\n"
     ]
    },
    {
     "data": {
      "text/plain": [
       "252.66181134644467"
      ]
     },
     "execution_count": 164,
     "metadata": {},
     "output_type": "execute_result"
    }
   ],
   "source": [
    "array_random = np.random.random([3,2])*100\n",
    "print(array_random)\n",
    "#sum\n",
    "np.sum(array_random)"
   ]
  },
  {
   "cell_type": "code",
   "execution_count": 165,
   "id": "5ac3759e-cc34-4740-9795-7623fcdd1957",
   "metadata": {},
   "outputs": [
    {
     "data": {
      "text/plain": [
       "81"
      ]
     },
     "execution_count": 165,
     "metadata": {},
     "output_type": "execute_result"
    }
   ],
   "source": [
    "#square\n",
    "np.square(9)"
   ]
  },
  {
   "cell_type": "code",
   "execution_count": 166,
   "id": "be198b3c-0dff-4ab1-91d9-359c7b00bfa2",
   "metadata": {},
   "outputs": [
    {
     "data": {
      "text/plain": [
       "3.0"
      ]
     },
     "execution_count": 166,
     "metadata": {},
     "output_type": "execute_result"
    }
   ],
   "source": [
    "#sqrt\n",
    "np.sqrt(9)"
   ]
  },
  {
   "cell_type": "code",
   "execution_count": 168,
   "id": "d963005d-4dc6-4217-981f-69e521713879",
   "metadata": {},
   "outputs": [
    {
     "name": "stdout",
     "output_type": "stream",
     "text": [
      "9.210340371976184\n"
     ]
    }
   ],
   "source": [
    "#log\n",
    "a = np.log(10000)\n",
    "print(a)"
   ]
  },
  {
   "cell_type": "markdown",
   "id": "cc52e95b-e6b5-40b0-937a-f615c043f0f6",
   "metadata": {},
   "source": [
    "# KUIS"
   ]
  },
  {
   "cell_type": "markdown",
   "id": "422efdd5-d022-4b7b-9867-c76e4c2d9402",
   "metadata": {},
   "source": [
    "## Prime Number Generator Based on Interval"
   ]
  },
  {
   "cell_type": "code",
   "execution_count": 9,
   "id": "72334c42-b65b-4b38-93ca-f01ac18059fe",
   "metadata": {},
   "outputs": [
    {
     "name": "stdin",
     "output_type": "stream",
     "text": [
      "Please, Enter the Lowest Range Value:  1\n",
      "Please, Enter the Upper Range Value:  30\n"
     ]
    },
    {
     "name": "stdout",
     "output_type": "stream",
     "text": [
      "The Prime Numbers in the range are: \n",
      "2\n",
      "3\n",
      "5\n",
      "7\n",
      "11\n",
      "13\n",
      "17\n",
      "19\n",
      "23\n",
      "29\n"
     ]
    }
   ],
   "source": [
    "# First, we will take the input:  \n",
    "lower_value = int(input (\"Please, Enter the Lowest Range Value: \"))  \n",
    "upper_value = int(input (\"Please, Enter the Upper Range Value: \"))  \n",
    "  \n",
    "print (\"The Prime Numbers in the range are: \")  \n",
    "for number in range (lower_value, upper_value + 1):  \n",
    "    if number > 1:  \n",
    "        for i in range (2, number):  \n",
    "            if (number % i) == 0:  \n",
    "                break  \n",
    "        else:  \n",
    "            print (number)"
   ]
  },
  {
   "cell_type": "markdown",
   "id": "987419ac-1e97-459d-bd4b-f14afb565a84",
   "metadata": {},
   "source": [
    "## Calculator Function Based on Operators"
   ]
  },
  {
   "cell_type": "raw",
   "id": "5d537d52-859a-4471-b85c-d01f3c251e5b",
   "metadata": {},
   "source": [
    "'x' sebagai kali\n",
    "':' sebagai bagi\n",
    "'+' sebagai tambah\n",
    "'-' sebagai kurang\n",
    "'^' sebagai pangkat"
   ]
  },
  {
   "cell_type": "code",
   "execution_count": 11,
   "id": "65154552-25d6-4d0b-91ac-ee3eebe86ae2",
   "metadata": {},
   "outputs": [
    {
     "name": "stdin",
     "output_type": "stream",
     "text": [
      "masukkan angka1=  10\n",
      "masukkan operator=  x\n",
      "masukkan angka2=  3\n"
     ]
    },
    {
     "name": "stdout",
     "output_type": "stream",
     "text": [
      "Hasil dari 10 x 3 adalah 30\n"
     ]
    }
   ],
   "source": [
    "def calc(a,b,c):\n",
    "    if (a.isnumeric() == True) and (c.isnumeric() == True) :\n",
    "        a = int(a)\n",
    "        c = int(c)\n",
    "        if b == 'x' :\n",
    "            print('Hasil dari', a, b, c, 'adalah', a*c)\n",
    "        elif b == '+' :\n",
    "            print('Hasil dari', a, b, c, 'adalah', a+c)\n",
    "        elif b == ':' :\n",
    "            print('Hasil dari', a, b, c, 'adalah', a/c)\n",
    "        elif b == \"-\" :\n",
    "            print('Hasil dari', a, b, c, 'adalah', a - c)\n",
    "        elif b == \"^\" :\n",
    "            print('Hasil dari', a, b, c, 'adalah', a**c)\n",
    "        else :\n",
    "            print('operator', b, 'tidak ditemukan')\n",
    "    else :\n",
    "        print('salah')\n",
    "\n",
    "a = (input('masukkan angka1= '))\n",
    "b = (input('masukkan operator= '))\n",
    "c = (input('masukkan angka2= '))\n",
    "\n",
    "calc(a,b,c)"
   ]
  }
 ],
 "metadata": {
  "kernelspec": {
   "display_name": "Python 3 (ipykernel)",
   "language": "python",
   "name": "python3"
  },
  "language_info": {
   "codemirror_mode": {
    "name": "ipython",
    "version": 3
   },
   "file_extension": ".py",
   "mimetype": "text/x-python",
   "name": "python",
   "nbconvert_exporter": "python",
   "pygments_lexer": "ipython3",
   "version": "3.9.13"
  }
 },
 "nbformat": 4,
 "nbformat_minor": 5
}
