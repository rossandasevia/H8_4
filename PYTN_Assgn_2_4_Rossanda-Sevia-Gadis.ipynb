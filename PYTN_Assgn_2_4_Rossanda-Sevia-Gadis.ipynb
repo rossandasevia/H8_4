{
 "cells": [
  {
   "cell_type": "markdown",
   "id": "ac083926-2c1b-43d5-96a3-e63fffdc73df",
   "metadata": {},
   "source": [
    "# Assignment Python 2\n",
    "\n",
    "# Statistical Treatment for Retail Datasets"
   ]
  },
  {
   "cell_type": "markdown",
   "id": "7bc6531c-fceb-4fef-b61c-fcfc51890284",
   "metadata": {
    "tags": []
   },
   "source": [
    "## Descriptive vs Inferential Statistics"
   ]
  },
  {
   "cell_type": "markdown",
   "id": "180c0e4f-2587-454b-8481-1db664d8127a",
   "metadata": {},
   "source": [
    "**Statistik Deskriptif** digunakan untuk memperoleh informasi dari data (numerik dan visual) dan bertujuan untuk meringkas atau membuat *summary* dari data. Informasi yang diperoleh dari statistika deskriptif diantaranya adalah *measure of central tendency* (ukuran pemusatan data) dan *measure of spread* (ukuran penyebaran data)\n",
    "\n",
    "**Statistik Inferensial** digunakan untuk menguji, memprediksi, dan membandingkan data. Statistik inferensial bertujuan untuk menarik kesimpulan data populasi menggunakan sampel. Statistika inferensial mencakup *probability distribution, confidence interval, hypothesis testing*, dan lain-lain. "
   ]
  },
  {
   "cell_type": "markdown",
   "id": "c647af39-4393-4ac4-8bba-24683259976e",
   "metadata": {},
   "source": [
    "## Import Libraries"
   ]
  },
  {
   "cell_type": "markdown",
   "id": "7dd9a77c-4750-4538-ba19-705c32243004",
   "metadata": {},
   "source": [
    "Library pada bahasa pemrograman Python berfungsi untuk memudahkan pengguna dalam membuat sebuah program tanpa harus menuliskan banyak kode. Untuk melakukan analisis deskriptif dan inferensia pada Python, dibutuhkan beberapa library. Library tersebut harus diimport terlebih dahulu agar dapat digunakan."
   ]
  },
  {
   "cell_type": "code",
   "execution_count": 1,
   "id": "d6ce2074-4f5c-428b-aa05-960a306b9fcf",
   "metadata": {},
   "outputs": [],
   "source": [
    "import pandas as pd\n",
    "import numpy as np\n",
    "import statistics\n",
    "import scipy.stats\n",
    "import matplotlib.pyplot as plt\n",
    "from IPython.display import Math, Latex\n",
    "from IPython.core.display import Image\n",
    "import seaborn as sns\n",
    "sns.set(color_codes=True)\n",
    "import statsmodels.api as sm"
   ]
  },
  {
   "cell_type": "markdown",
   "id": "80ac40c9-0c43-4401-98cb-dbea661bd184",
   "metadata": {},
   "source": [
    "Setelah proses import library selesai, maka langkah selanjutnya adalah mengimpor set data yang akan digunakan."
   ]
  },
  {
   "cell_type": "markdown",
   "id": "d1416aad-ee70-4691-b273-d50c4ddf1c86",
   "metadata": {},
   "source": [
    "## Import Data"
   ]
  },
  {
   "cell_type": "markdown",
   "id": "47503dfc-c5f0-4c25-b197-dba8cbc51f56",
   "metadata": {},
   "source": [
    "Set data yang digunakan pada kasus ini adalah data NYC Property Sales Dataset yang didapatkan dari situs Kaggle, set data berisikan setiap bangunan atau unit bangunan (apartment, dll) yang terjual di New York City selama periode 12 bulan.\n",
    "\n",
    "Variabel-variabel pada set data adalah:\n",
    "\n",
    "* **BOROUGH** : kode dari setiap wilayah properti berada. Manhattan (1), Bronx (2), Brooklyn (3), Queens (4), dan Staten Island (5)\n",
    "* **BLOCK**;**LOT** : kode unik yang properti di NYC\n",
    "* **BUILDING CLASS AT PRESENT** dan **BUILDING CLASS AT TIME OF SALE** : tipe bangunan"
   ]
  },
  {
   "cell_type": "markdown",
   "id": "8e588c43-19ce-4e93-9399-a65e92a01110",
   "metadata": {},
   "source": [
    "Set data diimport menggunakan fungsi `pd.read_csv` karena file yang digunakan memiliki format .csv dan disimpan dalam dataframe bernama `df_nyc`."
   ]
  },
  {
   "cell_type": "code",
   "execution_count": 2,
   "id": "787ae953-c753-45c7-9335-763616e5411a",
   "metadata": {},
   "outputs": [
    {
     "data": {
      "text/html": [
       "<div>\n",
       "<style scoped>\n",
       "    .dataframe tbody tr th:only-of-type {\n",
       "        vertical-align: middle;\n",
       "    }\n",
       "\n",
       "    .dataframe tbody tr th {\n",
       "        vertical-align: top;\n",
       "    }\n",
       "\n",
       "    .dataframe thead th {\n",
       "        text-align: right;\n",
       "    }\n",
       "</style>\n",
       "<table border=\"1\" class=\"dataframe\">\n",
       "  <thead>\n",
       "    <tr style=\"text-align: right;\">\n",
       "      <th></th>\n",
       "      <th>Unnamed: 0</th>\n",
       "      <th>BOROUGH</th>\n",
       "      <th>NEIGHBORHOOD</th>\n",
       "      <th>BUILDING CLASS CATEGORY</th>\n",
       "      <th>TAX CLASS AT PRESENT</th>\n",
       "      <th>BLOCK</th>\n",
       "      <th>LOT</th>\n",
       "      <th>EASE-MENT</th>\n",
       "      <th>BUILDING CLASS AT PRESENT</th>\n",
       "      <th>ADDRESS</th>\n",
       "      <th>...</th>\n",
       "      <th>RESIDENTIAL UNITS</th>\n",
       "      <th>COMMERCIAL UNITS</th>\n",
       "      <th>TOTAL UNITS</th>\n",
       "      <th>LAND SQUARE FEET</th>\n",
       "      <th>GROSS SQUARE FEET</th>\n",
       "      <th>YEAR BUILT</th>\n",
       "      <th>TAX CLASS AT TIME OF SALE</th>\n",
       "      <th>BUILDING CLASS AT TIME OF SALE</th>\n",
       "      <th>SALE PRICE</th>\n",
       "      <th>SALE DATE</th>\n",
       "    </tr>\n",
       "  </thead>\n",
       "  <tbody>\n",
       "    <tr>\n",
       "      <th>0</th>\n",
       "      <td>4</td>\n",
       "      <td>1</td>\n",
       "      <td>ALPHABET CITY</td>\n",
       "      <td>07 RENTALS - WALKUP APARTMENTS</td>\n",
       "      <td>2A</td>\n",
       "      <td>392</td>\n",
       "      <td>6</td>\n",
       "      <td></td>\n",
       "      <td>C2</td>\n",
       "      <td>153 AVENUE B</td>\n",
       "      <td>...</td>\n",
       "      <td>5</td>\n",
       "      <td>0</td>\n",
       "      <td>5</td>\n",
       "      <td>1633</td>\n",
       "      <td>6440</td>\n",
       "      <td>1900</td>\n",
       "      <td>2</td>\n",
       "      <td>C2</td>\n",
       "      <td>6625000</td>\n",
       "      <td>2017-07-19 00:00:00</td>\n",
       "    </tr>\n",
       "    <tr>\n",
       "      <th>1</th>\n",
       "      <td>5</td>\n",
       "      <td>1</td>\n",
       "      <td>ALPHABET CITY</td>\n",
       "      <td>07 RENTALS - WALKUP APARTMENTS</td>\n",
       "      <td>2</td>\n",
       "      <td>399</td>\n",
       "      <td>26</td>\n",
       "      <td></td>\n",
       "      <td>C7</td>\n",
       "      <td>234 EAST 4TH   STREET</td>\n",
       "      <td>...</td>\n",
       "      <td>28</td>\n",
       "      <td>3</td>\n",
       "      <td>31</td>\n",
       "      <td>4616</td>\n",
       "      <td>18690</td>\n",
       "      <td>1900</td>\n",
       "      <td>2</td>\n",
       "      <td>C7</td>\n",
       "      <td>-</td>\n",
       "      <td>2016-12-14 00:00:00</td>\n",
       "    </tr>\n",
       "    <tr>\n",
       "      <th>2</th>\n",
       "      <td>6</td>\n",
       "      <td>1</td>\n",
       "      <td>ALPHABET CITY</td>\n",
       "      <td>07 RENTALS - WALKUP APARTMENTS</td>\n",
       "      <td>2</td>\n",
       "      <td>399</td>\n",
       "      <td>39</td>\n",
       "      <td></td>\n",
       "      <td>C7</td>\n",
       "      <td>197 EAST 3RD   STREET</td>\n",
       "      <td>...</td>\n",
       "      <td>16</td>\n",
       "      <td>1</td>\n",
       "      <td>17</td>\n",
       "      <td>2212</td>\n",
       "      <td>7803</td>\n",
       "      <td>1900</td>\n",
       "      <td>2</td>\n",
       "      <td>C7</td>\n",
       "      <td>-</td>\n",
       "      <td>2016-12-09 00:00:00</td>\n",
       "    </tr>\n",
       "    <tr>\n",
       "      <th>3</th>\n",
       "      <td>7</td>\n",
       "      <td>1</td>\n",
       "      <td>ALPHABET CITY</td>\n",
       "      <td>07 RENTALS - WALKUP APARTMENTS</td>\n",
       "      <td>2B</td>\n",
       "      <td>402</td>\n",
       "      <td>21</td>\n",
       "      <td></td>\n",
       "      <td>C4</td>\n",
       "      <td>154 EAST 7TH STREET</td>\n",
       "      <td>...</td>\n",
       "      <td>10</td>\n",
       "      <td>0</td>\n",
       "      <td>10</td>\n",
       "      <td>2272</td>\n",
       "      <td>6794</td>\n",
       "      <td>1913</td>\n",
       "      <td>2</td>\n",
       "      <td>C4</td>\n",
       "      <td>3936272</td>\n",
       "      <td>2016-09-23 00:00:00</td>\n",
       "    </tr>\n",
       "    <tr>\n",
       "      <th>4</th>\n",
       "      <td>8</td>\n",
       "      <td>1</td>\n",
       "      <td>ALPHABET CITY</td>\n",
       "      <td>07 RENTALS - WALKUP APARTMENTS</td>\n",
       "      <td>2A</td>\n",
       "      <td>404</td>\n",
       "      <td>55</td>\n",
       "      <td></td>\n",
       "      <td>C2</td>\n",
       "      <td>301 EAST 10TH   STREET</td>\n",
       "      <td>...</td>\n",
       "      <td>6</td>\n",
       "      <td>0</td>\n",
       "      <td>6</td>\n",
       "      <td>2369</td>\n",
       "      <td>4615</td>\n",
       "      <td>1900</td>\n",
       "      <td>2</td>\n",
       "      <td>C2</td>\n",
       "      <td>8000000</td>\n",
       "      <td>2016-11-17 00:00:00</td>\n",
       "    </tr>\n",
       "  </tbody>\n",
       "</table>\n",
       "<p>5 rows × 22 columns</p>\n",
       "</div>"
      ],
      "text/plain": [
       "   Unnamed: 0  BOROUGH   NEIGHBORHOOD  \\\n",
       "0           4        1  ALPHABET CITY   \n",
       "1           5        1  ALPHABET CITY   \n",
       "2           6        1  ALPHABET CITY   \n",
       "3           7        1  ALPHABET CITY   \n",
       "4           8        1  ALPHABET CITY   \n",
       "\n",
       "                       BUILDING CLASS CATEGORY TAX CLASS AT PRESENT  BLOCK  \\\n",
       "0  07 RENTALS - WALKUP APARTMENTS                                2A    392   \n",
       "1  07 RENTALS - WALKUP APARTMENTS                                 2    399   \n",
       "2  07 RENTALS - WALKUP APARTMENTS                                 2    399   \n",
       "3  07 RENTALS - WALKUP APARTMENTS                                2B    402   \n",
       "4  07 RENTALS - WALKUP APARTMENTS                                2A    404   \n",
       "\n",
       "   LOT EASE-MENT BUILDING CLASS AT PRESENT                 ADDRESS  ...  \\\n",
       "0    6                                  C2            153 AVENUE B  ...   \n",
       "1   26                                  C7   234 EAST 4TH   STREET  ...   \n",
       "2   39                                  C7   197 EAST 3RD   STREET  ...   \n",
       "3   21                                  C4     154 EAST 7TH STREET  ...   \n",
       "4   55                                  C2  301 EAST 10TH   STREET  ...   \n",
       "\n",
       "  RESIDENTIAL UNITS  COMMERCIAL UNITS  TOTAL UNITS  LAND SQUARE FEET  \\\n",
       "0                 5                 0            5              1633   \n",
       "1                28                 3           31              4616   \n",
       "2                16                 1           17              2212   \n",
       "3                10                 0           10              2272   \n",
       "4                 6                 0            6              2369   \n",
       "\n",
       "   GROSS SQUARE FEET YEAR BUILT TAX CLASS AT TIME OF SALE  \\\n",
       "0               6440       1900                         2   \n",
       "1              18690       1900                         2   \n",
       "2               7803       1900                         2   \n",
       "3               6794       1913                         2   \n",
       "4               4615       1900                         2   \n",
       "\n",
       "   BUILDING CLASS AT TIME OF SALE  SALE PRICE            SALE DATE  \n",
       "0                              C2     6625000  2017-07-19 00:00:00  \n",
       "1                              C7         -    2016-12-14 00:00:00  \n",
       "2                              C7         -    2016-12-09 00:00:00  \n",
       "3                              C4     3936272  2016-09-23 00:00:00  \n",
       "4                              C2     8000000  2016-11-17 00:00:00  \n",
       "\n",
       "[5 rows x 22 columns]"
      ]
     },
     "execution_count": 2,
     "metadata": {},
     "output_type": "execute_result"
    }
   ],
   "source": [
    "df_nyc = pd.read_csv('nyc-rolling-sales.csv')\n",
    "df_nyc.head()"
   ]
  },
  {
   "cell_type": "markdown",
   "id": "05f4deef-dca6-4a75-a43f-fe865ac5cfe0",
   "metadata": {},
   "source": [
    "Fungsi `.head()` digunakan untuk melihat sebagian isi dari data. Secara default, fungsi `.head()` akan menampilkan 5 baris teratas dari data."
   ]
  },
  {
   "cell_type": "markdown",
   "id": "9d98bfeb-1bb7-400b-bd92-342bc008b0d8",
   "metadata": {},
   "source": [
    "## Information From Data"
   ]
  },
  {
   "cell_type": "markdown",
   "id": "844dab64-6774-4adc-9362-5f748a7832b2",
   "metadata": {},
   "source": [
    "Informasi mengenai jumlah dan nama kolom, jumlah baris, dan tipe data yang terkandung dalam set data dapat diketahui menggunakan fungsi `.info()`"
   ]
  },
  {
   "cell_type": "code",
   "execution_count": 3,
   "id": "1eb2c9bd-66e7-420d-869f-34553076a28f",
   "metadata": {},
   "outputs": [
    {
     "name": "stdout",
     "output_type": "stream",
     "text": [
      "<class 'pandas.core.frame.DataFrame'>\n",
      "RangeIndex: 84548 entries, 0 to 84547\n",
      "Data columns (total 22 columns):\n",
      " #   Column                          Non-Null Count  Dtype \n",
      "---  ------                          --------------  ----- \n",
      " 0   Unnamed: 0                      84548 non-null  int64 \n",
      " 1   BOROUGH                         84548 non-null  int64 \n",
      " 2   NEIGHBORHOOD                    84548 non-null  object\n",
      " 3   BUILDING CLASS CATEGORY         84548 non-null  object\n",
      " 4   TAX CLASS AT PRESENT            84548 non-null  object\n",
      " 5   BLOCK                           84548 non-null  int64 \n",
      " 6   LOT                             84548 non-null  int64 \n",
      " 7   EASE-MENT                       84548 non-null  object\n",
      " 8   BUILDING CLASS AT PRESENT       84548 non-null  object\n",
      " 9   ADDRESS                         84548 non-null  object\n",
      " 10  APARTMENT NUMBER                84548 non-null  object\n",
      " 11  ZIP CODE                        84548 non-null  int64 \n",
      " 12  RESIDENTIAL UNITS               84548 non-null  int64 \n",
      " 13  COMMERCIAL UNITS                84548 non-null  int64 \n",
      " 14  TOTAL UNITS                     84548 non-null  int64 \n",
      " 15  LAND SQUARE FEET                84548 non-null  object\n",
      " 16  GROSS SQUARE FEET               84548 non-null  object\n",
      " 17  YEAR BUILT                      84548 non-null  int64 \n",
      " 18  TAX CLASS AT TIME OF SALE       84548 non-null  int64 \n",
      " 19  BUILDING CLASS AT TIME OF SALE  84548 non-null  object\n",
      " 20  SALE PRICE                      84548 non-null  object\n",
      " 21  SALE DATE                       84548 non-null  object\n",
      "dtypes: int64(10), object(12)\n",
      "memory usage: 14.2+ MB\n"
     ]
    }
   ],
   "source": [
    "df_nyc.info()"
   ]
  },
  {
   "cell_type": "markdown",
   "id": "f8233cf2-d4c2-4306-83d9-872c014a2333",
   "metadata": {},
   "source": [
    "Dapat dilihat bahwa set data memiliki total 22 kolom dan 84547 baris. Tipe data setiap kolom dapat dilihat pada kolom `Dtype`."
   ]
  },
  {
   "cell_type": "markdown",
   "id": "6cfde393-1cbd-4740-98c1-bd5ed1dc84d2",
   "metadata": {},
   "source": [
    "## Preprocessing Data"
   ]
  },
  {
   "cell_type": "markdown",
   "id": "23e7c57e-cfab-4dcc-bcc2-18f70df7b478",
   "metadata": {},
   "source": [
    "Sebelum dilakukan proses analisis, set data perlu dipersiapkan terlebih dahulu."
   ]
  },
  {
   "cell_type": "markdown",
   "id": "116a3d8a-8287-4702-9ff8-2c57284d7b1f",
   "metadata": {},
   "source": [
    "Dilakukan penambahan kolom bernama `BOROUGH NAME` yang merupakan hasil dari replace pada data kolom BOROUGH menggunakan fungsi `.replace` .\n",
    "\n",
    "* Kode 1 : Manhattan\n",
    "* Kode 2 : Bronx\n",
    "* Kode 3: Brooklyn\n",
    "* Kode 4 : Queens\n",
    "* Kode 5 : Staten Island"
   ]
  },
  {
   "cell_type": "code",
   "execution_count": 4,
   "id": "665401c8-f26e-4a63-be40-cf91107ab9f0",
   "metadata": {},
   "outputs": [],
   "source": [
    "df_nyc['BOROUGH NAME'] = df_nyc.BOROUGH.replace({1: \"Manhattan\", 2: \"Bronx\", 3: \"Brooklyn\", 4: \"Queens\", 5: \"Staten Island\"})"
   ]
  },
  {
   "cell_type": "code",
   "execution_count": 5,
   "id": "2aa09b0b-c8a5-4b2e-8ffa-1155c98ff5a8",
   "metadata": {},
   "outputs": [
    {
     "data": {
      "text/html": [
       "<div>\n",
       "<style scoped>\n",
       "    .dataframe tbody tr th:only-of-type {\n",
       "        vertical-align: middle;\n",
       "    }\n",
       "\n",
       "    .dataframe tbody tr th {\n",
       "        vertical-align: top;\n",
       "    }\n",
       "\n",
       "    .dataframe thead th {\n",
       "        text-align: right;\n",
       "    }\n",
       "</style>\n",
       "<table border=\"1\" class=\"dataframe\">\n",
       "  <thead>\n",
       "    <tr style=\"text-align: right;\">\n",
       "      <th></th>\n",
       "      <th>Unnamed: 0</th>\n",
       "      <th>BOROUGH</th>\n",
       "      <th>NEIGHBORHOOD</th>\n",
       "      <th>BUILDING CLASS CATEGORY</th>\n",
       "      <th>TAX CLASS AT PRESENT</th>\n",
       "      <th>BLOCK</th>\n",
       "      <th>LOT</th>\n",
       "      <th>EASE-MENT</th>\n",
       "      <th>BUILDING CLASS AT PRESENT</th>\n",
       "      <th>ADDRESS</th>\n",
       "      <th>...</th>\n",
       "      <th>COMMERCIAL UNITS</th>\n",
       "      <th>TOTAL UNITS</th>\n",
       "      <th>LAND SQUARE FEET</th>\n",
       "      <th>GROSS SQUARE FEET</th>\n",
       "      <th>YEAR BUILT</th>\n",
       "      <th>TAX CLASS AT TIME OF SALE</th>\n",
       "      <th>BUILDING CLASS AT TIME OF SALE</th>\n",
       "      <th>SALE PRICE</th>\n",
       "      <th>SALE DATE</th>\n",
       "      <th>BOROUGH NAME</th>\n",
       "    </tr>\n",
       "  </thead>\n",
       "  <tbody>\n",
       "    <tr>\n",
       "      <th>0</th>\n",
       "      <td>4</td>\n",
       "      <td>1</td>\n",
       "      <td>ALPHABET CITY</td>\n",
       "      <td>07 RENTALS - WALKUP APARTMENTS</td>\n",
       "      <td>2A</td>\n",
       "      <td>392</td>\n",
       "      <td>6</td>\n",
       "      <td></td>\n",
       "      <td>C2</td>\n",
       "      <td>153 AVENUE B</td>\n",
       "      <td>...</td>\n",
       "      <td>0</td>\n",
       "      <td>5</td>\n",
       "      <td>1633</td>\n",
       "      <td>6440</td>\n",
       "      <td>1900</td>\n",
       "      <td>2</td>\n",
       "      <td>C2</td>\n",
       "      <td>6625000</td>\n",
       "      <td>2017-07-19 00:00:00</td>\n",
       "      <td>Manhattan</td>\n",
       "    </tr>\n",
       "    <tr>\n",
       "      <th>1</th>\n",
       "      <td>5</td>\n",
       "      <td>1</td>\n",
       "      <td>ALPHABET CITY</td>\n",
       "      <td>07 RENTALS - WALKUP APARTMENTS</td>\n",
       "      <td>2</td>\n",
       "      <td>399</td>\n",
       "      <td>26</td>\n",
       "      <td></td>\n",
       "      <td>C7</td>\n",
       "      <td>234 EAST 4TH   STREET</td>\n",
       "      <td>...</td>\n",
       "      <td>3</td>\n",
       "      <td>31</td>\n",
       "      <td>4616</td>\n",
       "      <td>18690</td>\n",
       "      <td>1900</td>\n",
       "      <td>2</td>\n",
       "      <td>C7</td>\n",
       "      <td>-</td>\n",
       "      <td>2016-12-14 00:00:00</td>\n",
       "      <td>Manhattan</td>\n",
       "    </tr>\n",
       "    <tr>\n",
       "      <th>2</th>\n",
       "      <td>6</td>\n",
       "      <td>1</td>\n",
       "      <td>ALPHABET CITY</td>\n",
       "      <td>07 RENTALS - WALKUP APARTMENTS</td>\n",
       "      <td>2</td>\n",
       "      <td>399</td>\n",
       "      <td>39</td>\n",
       "      <td></td>\n",
       "      <td>C7</td>\n",
       "      <td>197 EAST 3RD   STREET</td>\n",
       "      <td>...</td>\n",
       "      <td>1</td>\n",
       "      <td>17</td>\n",
       "      <td>2212</td>\n",
       "      <td>7803</td>\n",
       "      <td>1900</td>\n",
       "      <td>2</td>\n",
       "      <td>C7</td>\n",
       "      <td>-</td>\n",
       "      <td>2016-12-09 00:00:00</td>\n",
       "      <td>Manhattan</td>\n",
       "    </tr>\n",
       "    <tr>\n",
       "      <th>3</th>\n",
       "      <td>7</td>\n",
       "      <td>1</td>\n",
       "      <td>ALPHABET CITY</td>\n",
       "      <td>07 RENTALS - WALKUP APARTMENTS</td>\n",
       "      <td>2B</td>\n",
       "      <td>402</td>\n",
       "      <td>21</td>\n",
       "      <td></td>\n",
       "      <td>C4</td>\n",
       "      <td>154 EAST 7TH STREET</td>\n",
       "      <td>...</td>\n",
       "      <td>0</td>\n",
       "      <td>10</td>\n",
       "      <td>2272</td>\n",
       "      <td>6794</td>\n",
       "      <td>1913</td>\n",
       "      <td>2</td>\n",
       "      <td>C4</td>\n",
       "      <td>3936272</td>\n",
       "      <td>2016-09-23 00:00:00</td>\n",
       "      <td>Manhattan</td>\n",
       "    </tr>\n",
       "    <tr>\n",
       "      <th>4</th>\n",
       "      <td>8</td>\n",
       "      <td>1</td>\n",
       "      <td>ALPHABET CITY</td>\n",
       "      <td>07 RENTALS - WALKUP APARTMENTS</td>\n",
       "      <td>2A</td>\n",
       "      <td>404</td>\n",
       "      <td>55</td>\n",
       "      <td></td>\n",
       "      <td>C2</td>\n",
       "      <td>301 EAST 10TH   STREET</td>\n",
       "      <td>...</td>\n",
       "      <td>0</td>\n",
       "      <td>6</td>\n",
       "      <td>2369</td>\n",
       "      <td>4615</td>\n",
       "      <td>1900</td>\n",
       "      <td>2</td>\n",
       "      <td>C2</td>\n",
       "      <td>8000000</td>\n",
       "      <td>2016-11-17 00:00:00</td>\n",
       "      <td>Manhattan</td>\n",
       "    </tr>\n",
       "  </tbody>\n",
       "</table>\n",
       "<p>5 rows × 23 columns</p>\n",
       "</div>"
      ],
      "text/plain": [
       "   Unnamed: 0  BOROUGH   NEIGHBORHOOD  \\\n",
       "0           4        1  ALPHABET CITY   \n",
       "1           5        1  ALPHABET CITY   \n",
       "2           6        1  ALPHABET CITY   \n",
       "3           7        1  ALPHABET CITY   \n",
       "4           8        1  ALPHABET CITY   \n",
       "\n",
       "                       BUILDING CLASS CATEGORY TAX CLASS AT PRESENT  BLOCK  \\\n",
       "0  07 RENTALS - WALKUP APARTMENTS                                2A    392   \n",
       "1  07 RENTALS - WALKUP APARTMENTS                                 2    399   \n",
       "2  07 RENTALS - WALKUP APARTMENTS                                 2    399   \n",
       "3  07 RENTALS - WALKUP APARTMENTS                                2B    402   \n",
       "4  07 RENTALS - WALKUP APARTMENTS                                2A    404   \n",
       "\n",
       "   LOT EASE-MENT BUILDING CLASS AT PRESENT                 ADDRESS  ...  \\\n",
       "0    6                                  C2            153 AVENUE B  ...   \n",
       "1   26                                  C7   234 EAST 4TH   STREET  ...   \n",
       "2   39                                  C7   197 EAST 3RD   STREET  ...   \n",
       "3   21                                  C4     154 EAST 7TH STREET  ...   \n",
       "4   55                                  C2  301 EAST 10TH   STREET  ...   \n",
       "\n",
       "  COMMERCIAL UNITS  TOTAL UNITS  LAND SQUARE FEET  GROSS SQUARE FEET  \\\n",
       "0                0            5              1633               6440   \n",
       "1                3           31              4616              18690   \n",
       "2                1           17              2212               7803   \n",
       "3                0           10              2272               6794   \n",
       "4                0            6              2369               4615   \n",
       "\n",
       "   YEAR BUILT TAX CLASS AT TIME OF SALE BUILDING CLASS AT TIME OF SALE  \\\n",
       "0        1900                         2                             C2   \n",
       "1        1900                         2                             C7   \n",
       "2        1900                         2                             C7   \n",
       "3        1913                         2                             C4   \n",
       "4        1900                         2                             C2   \n",
       "\n",
       "   SALE PRICE            SALE DATE BOROUGH NAME  \n",
       "0     6625000  2017-07-19 00:00:00    Manhattan  \n",
       "1         -    2016-12-14 00:00:00    Manhattan  \n",
       "2         -    2016-12-09 00:00:00    Manhattan  \n",
       "3     3936272  2016-09-23 00:00:00    Manhattan  \n",
       "4     8000000  2016-11-17 00:00:00    Manhattan  \n",
       "\n",
       "[5 rows x 23 columns]"
      ]
     },
     "execution_count": 5,
     "metadata": {},
     "output_type": "execute_result"
    }
   ],
   "source": [
    "df_nyc.head()"
   ]
  },
  {
   "cell_type": "markdown",
   "id": "d283aeb0-14ab-4e76-a3a7-79819c7d17bb",
   "metadata": {},
   "source": [
    "Dilakukan pengecekan nama kolom pada set data menggunakan fungsi `.columns` ."
   ]
  },
  {
   "cell_type": "code",
   "execution_count": 6,
   "id": "e8f742b9-bb76-4d80-9d8d-f9f2ff2ddc2c",
   "metadata": {},
   "outputs": [
    {
     "data": {
      "text/plain": [
       "Index(['Unnamed: 0', 'BOROUGH', 'NEIGHBORHOOD', 'BUILDING CLASS CATEGORY',\n",
       "       'TAX CLASS AT PRESENT', 'BLOCK', 'LOT', 'EASE-MENT',\n",
       "       'BUILDING CLASS AT PRESENT', 'ADDRESS', 'APARTMENT NUMBER', 'ZIP CODE',\n",
       "       'RESIDENTIAL UNITS', 'COMMERCIAL UNITS', 'TOTAL UNITS',\n",
       "       'LAND SQUARE FEET', 'GROSS SQUARE FEET', 'YEAR BUILT',\n",
       "       'TAX CLASS AT TIME OF SALE', 'BUILDING CLASS AT TIME OF SALE',\n",
       "       'SALE PRICE', 'SALE DATE', 'BOROUGH NAME'],\n",
       "      dtype='object')"
      ]
     },
     "execution_count": 6,
     "metadata": {},
     "output_type": "execute_result"
    }
   ],
   "source": [
    "df_nyc.columns"
   ]
  },
  {
   "cell_type": "markdown",
   "id": "5cc14500-3587-4095-94ab-7ddce3aefc9c",
   "metadata": {},
   "source": [
    "Pada set data terdapat beberapa kolom yang tidak digunakan, dilakukan drop kolom/hapus kolom menggunakan kode `.drop(['Unnamed: 0','BOROUGH','APARTMENT NUMBER','EASE-MENT'], axis=1,inplace=True)`. Kode axis=1 menandakan akan terjadi drop kolom month secara keseluruhan dan kode inplace=True digunakan untuk drop kolom secara permanen."
   ]
  },
  {
   "cell_type": "code",
   "execution_count": 7,
   "id": "9389c18b-d2c1-4482-957c-2bbd7f325d6a",
   "metadata": {},
   "outputs": [
    {
     "data": {
      "text/html": [
       "<div>\n",
       "<style scoped>\n",
       "    .dataframe tbody tr th:only-of-type {\n",
       "        vertical-align: middle;\n",
       "    }\n",
       "\n",
       "    .dataframe tbody tr th {\n",
       "        vertical-align: top;\n",
       "    }\n",
       "\n",
       "    .dataframe thead th {\n",
       "        text-align: right;\n",
       "    }\n",
       "</style>\n",
       "<table border=\"1\" class=\"dataframe\">\n",
       "  <thead>\n",
       "    <tr style=\"text-align: right;\">\n",
       "      <th></th>\n",
       "      <th>NEIGHBORHOOD</th>\n",
       "      <th>BUILDING CLASS CATEGORY</th>\n",
       "      <th>TAX CLASS AT PRESENT</th>\n",
       "      <th>BLOCK</th>\n",
       "      <th>LOT</th>\n",
       "      <th>BUILDING CLASS AT PRESENT</th>\n",
       "      <th>ADDRESS</th>\n",
       "      <th>ZIP CODE</th>\n",
       "      <th>RESIDENTIAL UNITS</th>\n",
       "      <th>COMMERCIAL UNITS</th>\n",
       "      <th>TOTAL UNITS</th>\n",
       "      <th>LAND SQUARE FEET</th>\n",
       "      <th>GROSS SQUARE FEET</th>\n",
       "      <th>YEAR BUILT</th>\n",
       "      <th>TAX CLASS AT TIME OF SALE</th>\n",
       "      <th>BUILDING CLASS AT TIME OF SALE</th>\n",
       "      <th>SALE PRICE</th>\n",
       "      <th>SALE DATE</th>\n",
       "      <th>BOROUGH NAME</th>\n",
       "    </tr>\n",
       "  </thead>\n",
       "  <tbody>\n",
       "    <tr>\n",
       "      <th>0</th>\n",
       "      <td>ALPHABET CITY</td>\n",
       "      <td>07 RENTALS - WALKUP APARTMENTS</td>\n",
       "      <td>2A</td>\n",
       "      <td>392</td>\n",
       "      <td>6</td>\n",
       "      <td>C2</td>\n",
       "      <td>153 AVENUE B</td>\n",
       "      <td>10009</td>\n",
       "      <td>5</td>\n",
       "      <td>0</td>\n",
       "      <td>5</td>\n",
       "      <td>1633</td>\n",
       "      <td>6440</td>\n",
       "      <td>1900</td>\n",
       "      <td>2</td>\n",
       "      <td>C2</td>\n",
       "      <td>6625000</td>\n",
       "      <td>2017-07-19 00:00:00</td>\n",
       "      <td>Manhattan</td>\n",
       "    </tr>\n",
       "    <tr>\n",
       "      <th>1</th>\n",
       "      <td>ALPHABET CITY</td>\n",
       "      <td>07 RENTALS - WALKUP APARTMENTS</td>\n",
       "      <td>2</td>\n",
       "      <td>399</td>\n",
       "      <td>26</td>\n",
       "      <td>C7</td>\n",
       "      <td>234 EAST 4TH   STREET</td>\n",
       "      <td>10009</td>\n",
       "      <td>28</td>\n",
       "      <td>3</td>\n",
       "      <td>31</td>\n",
       "      <td>4616</td>\n",
       "      <td>18690</td>\n",
       "      <td>1900</td>\n",
       "      <td>2</td>\n",
       "      <td>C7</td>\n",
       "      <td>-</td>\n",
       "      <td>2016-12-14 00:00:00</td>\n",
       "      <td>Manhattan</td>\n",
       "    </tr>\n",
       "    <tr>\n",
       "      <th>2</th>\n",
       "      <td>ALPHABET CITY</td>\n",
       "      <td>07 RENTALS - WALKUP APARTMENTS</td>\n",
       "      <td>2</td>\n",
       "      <td>399</td>\n",
       "      <td>39</td>\n",
       "      <td>C7</td>\n",
       "      <td>197 EAST 3RD   STREET</td>\n",
       "      <td>10009</td>\n",
       "      <td>16</td>\n",
       "      <td>1</td>\n",
       "      <td>17</td>\n",
       "      <td>2212</td>\n",
       "      <td>7803</td>\n",
       "      <td>1900</td>\n",
       "      <td>2</td>\n",
       "      <td>C7</td>\n",
       "      <td>-</td>\n",
       "      <td>2016-12-09 00:00:00</td>\n",
       "      <td>Manhattan</td>\n",
       "    </tr>\n",
       "    <tr>\n",
       "      <th>3</th>\n",
       "      <td>ALPHABET CITY</td>\n",
       "      <td>07 RENTALS - WALKUP APARTMENTS</td>\n",
       "      <td>2B</td>\n",
       "      <td>402</td>\n",
       "      <td>21</td>\n",
       "      <td>C4</td>\n",
       "      <td>154 EAST 7TH STREET</td>\n",
       "      <td>10009</td>\n",
       "      <td>10</td>\n",
       "      <td>0</td>\n",
       "      <td>10</td>\n",
       "      <td>2272</td>\n",
       "      <td>6794</td>\n",
       "      <td>1913</td>\n",
       "      <td>2</td>\n",
       "      <td>C4</td>\n",
       "      <td>3936272</td>\n",
       "      <td>2016-09-23 00:00:00</td>\n",
       "      <td>Manhattan</td>\n",
       "    </tr>\n",
       "    <tr>\n",
       "      <th>4</th>\n",
       "      <td>ALPHABET CITY</td>\n",
       "      <td>07 RENTALS - WALKUP APARTMENTS</td>\n",
       "      <td>2A</td>\n",
       "      <td>404</td>\n",
       "      <td>55</td>\n",
       "      <td>C2</td>\n",
       "      <td>301 EAST 10TH   STREET</td>\n",
       "      <td>10009</td>\n",
       "      <td>6</td>\n",
       "      <td>0</td>\n",
       "      <td>6</td>\n",
       "      <td>2369</td>\n",
       "      <td>4615</td>\n",
       "      <td>1900</td>\n",
       "      <td>2</td>\n",
       "      <td>C2</td>\n",
       "      <td>8000000</td>\n",
       "      <td>2016-11-17 00:00:00</td>\n",
       "      <td>Manhattan</td>\n",
       "    </tr>\n",
       "  </tbody>\n",
       "</table>\n",
       "</div>"
      ],
      "text/plain": [
       "    NEIGHBORHOOD                      BUILDING CLASS CATEGORY  \\\n",
       "0  ALPHABET CITY  07 RENTALS - WALKUP APARTMENTS                \n",
       "1  ALPHABET CITY  07 RENTALS - WALKUP APARTMENTS                \n",
       "2  ALPHABET CITY  07 RENTALS - WALKUP APARTMENTS                \n",
       "3  ALPHABET CITY  07 RENTALS - WALKUP APARTMENTS                \n",
       "4  ALPHABET CITY  07 RENTALS - WALKUP APARTMENTS                \n",
       "\n",
       "  TAX CLASS AT PRESENT  BLOCK  LOT BUILDING CLASS AT PRESENT  \\\n",
       "0                   2A    392    6                        C2   \n",
       "1                    2    399   26                        C7   \n",
       "2                    2    399   39                        C7   \n",
       "3                   2B    402   21                        C4   \n",
       "4                   2A    404   55                        C2   \n",
       "\n",
       "                  ADDRESS  ZIP CODE  RESIDENTIAL UNITS  COMMERCIAL UNITS  \\\n",
       "0            153 AVENUE B     10009                  5                 0   \n",
       "1   234 EAST 4TH   STREET     10009                 28                 3   \n",
       "2   197 EAST 3RD   STREET     10009                 16                 1   \n",
       "3     154 EAST 7TH STREET     10009                 10                 0   \n",
       "4  301 EAST 10TH   STREET     10009                  6                 0   \n",
       "\n",
       "   TOTAL UNITS LAND SQUARE FEET GROSS SQUARE FEET  YEAR BUILT  \\\n",
       "0            5             1633              6440        1900   \n",
       "1           31             4616             18690        1900   \n",
       "2           17             2212              7803        1900   \n",
       "3           10             2272              6794        1913   \n",
       "4            6             2369              4615        1900   \n",
       "\n",
       "   TAX CLASS AT TIME OF SALE BUILDING CLASS AT TIME OF SALE SALE PRICE  \\\n",
       "0                          2                             C2    6625000   \n",
       "1                          2                             C7        -     \n",
       "2                          2                             C7        -     \n",
       "3                          2                             C4    3936272   \n",
       "4                          2                             C2    8000000   \n",
       "\n",
       "             SALE DATE BOROUGH NAME  \n",
       "0  2017-07-19 00:00:00    Manhattan  \n",
       "1  2016-12-14 00:00:00    Manhattan  \n",
       "2  2016-12-09 00:00:00    Manhattan  \n",
       "3  2016-09-23 00:00:00    Manhattan  \n",
       "4  2016-11-17 00:00:00    Manhattan  "
      ]
     },
     "execution_count": 7,
     "metadata": {},
     "output_type": "execute_result"
    }
   ],
   "source": [
    "df_nyc.drop(['Unnamed: 0','BOROUGH','APARTMENT NUMBER','EASE-MENT'], axis=1,inplace=True)\n",
    "df_nyc.head()"
   ]
  },
  {
   "cell_type": "markdown",
   "id": "e581244b-a371-40c8-b907-c4fce6426e63",
   "metadata": {},
   "source": [
    "Pada set data, tipe data pada kolom `SALE DATE` diubah menjadi tipe data date time."
   ]
  },
  {
   "cell_type": "code",
   "execution_count": 8,
   "id": "ea8973b9-531c-4fdd-8775-97c39ccbe790",
   "metadata": {},
   "outputs": [],
   "source": [
    "df_nyc['SALE DATE'] = pd.to_datetime(df_nyc['SALE DATE'])"
   ]
  },
  {
   "cell_type": "markdown",
   "id": "d0955db5-622d-4b4f-92e7-028cd4022ba3",
   "metadata": {},
   "source": [
    "Untuk memudahkan proses analisis, kolom `LAND SQUARE FEET`, `GROSS SQUARE FEET`, dan `SALE PRICE` diubah menjadi numerik."
   ]
  },
  {
   "cell_type": "code",
   "execution_count": 9,
   "id": "9d52de84-f3bf-46a4-bd6c-d50e8353b283",
   "metadata": {},
   "outputs": [],
   "source": [
    "num_col = [\"LAND SQUARE FEET\",\"GROSS SQUARE FEET\",\"SALE PRICE\" ]\n",
    "\n",
    "for col in num_col: \n",
    "    df_nyc[col] = pd.to_numeric(df_nyc[col],errors='coerce')"
   ]
  },
  {
   "cell_type": "markdown",
   "id": "88b3de50-1190-4d8a-888d-e0e937466382",
   "metadata": {},
   "source": [
    "Dilakukan pengecekan duplikasi data menggunakan fungsi `.duplicated()`. Pada set data, terdapat sebanyak 765 duplikasi data."
   ]
  },
  {
   "cell_type": "code",
   "execution_count": 10,
   "id": "48450a98-679d-4bb3-a8bd-7b988116b13c",
   "metadata": {},
   "outputs": [
    {
     "name": "stdout",
     "output_type": "stream",
     "text": [
      "True\n"
     ]
    },
    {
     "data": {
      "text/plain": [
       "765"
      ]
     },
     "execution_count": 10,
     "metadata": {},
     "output_type": "execute_result"
    }
   ],
   "source": [
    "dups = df_nyc.duplicated()\n",
    "print(dups.any())\n",
    "df_nyc.duplicated().sum()"
   ]
  },
  {
   "cell_type": "markdown",
   "id": "28fad94b-7a5d-4156-9818-18c521c76b41",
   "metadata": {},
   "source": [
    "Dilakukan proses drop pada data duplikasi menggunakan fungsi `.drop_duplicates()`. "
   ]
  },
  {
   "cell_type": "code",
   "execution_count": 11,
   "id": "7b646480-556a-4845-a94f-d4bc576bc255",
   "metadata": {},
   "outputs": [],
   "source": [
    "df_nyc = df_nyc.drop_duplicates().reset_index(drop=True)"
   ]
  },
  {
   "cell_type": "markdown",
   "id": "692db0a8-fce3-4219-b2ea-909795a5a1be",
   "metadata": {},
   "source": [
    "Setelah proses drop selesai, dilakukan pengecekan kembali duplikasi data."
   ]
  },
  {
   "cell_type": "code",
   "execution_count": 12,
   "id": "e05487a6-a182-4e7c-9a15-d4e408befe1f",
   "metadata": {},
   "outputs": [
    {
     "name": "stdout",
     "output_type": "stream",
     "text": [
      "False\n"
     ]
    },
    {
     "data": {
      "text/plain": [
       "0"
      ]
     },
     "execution_count": 12,
     "metadata": {},
     "output_type": "execute_result"
    }
   ],
   "source": [
    "dups_2 = df_nyc.duplicated()\n",
    "print(dups_2.any())\n",
    "df_nyc.duplicated().sum()"
   ]
  },
  {
   "cell_type": "markdown",
   "id": "3b1de0a2-a888-4213-a3e7-b4e18f4adfff",
   "metadata": {},
   "source": [
    "Sudah tidak terdapat data yang terduplikasi, maka proses selanjutnya dapat dilakukan."
   ]
  },
  {
   "cell_type": "markdown",
   "id": "a186b0ab-1216-451c-a372-4beea584fce8",
   "metadata": {},
   "source": [
    "Dilakukan pengecekan data null pada set data menggunakan fungsi `.isnull().sum()`."
   ]
  },
  {
   "cell_type": "code",
   "execution_count": 13,
   "id": "769a363c-6386-4cdc-b450-0c1dbccbe79e",
   "metadata": {},
   "outputs": [
    {
     "data": {
      "text/plain": [
       "NEIGHBORHOOD                          0\n",
       "BUILDING CLASS CATEGORY               0\n",
       "TAX CLASS AT PRESENT                  0\n",
       "BLOCK                                 0\n",
       "LOT                                   0\n",
       "BUILDING CLASS AT PRESENT             0\n",
       "ADDRESS                               0\n",
       "ZIP CODE                              0\n",
       "RESIDENTIAL UNITS                     0\n",
       "COMMERCIAL UNITS                      0\n",
       "TOTAL UNITS                           0\n",
       "LAND SQUARE FEET                  26054\n",
       "GROSS SQUARE FEET                 27385\n",
       "YEAR BUILT                            0\n",
       "TAX CLASS AT TIME OF SALE             0\n",
       "BUILDING CLASS AT TIME OF SALE        0\n",
       "SALE PRICE                        14176\n",
       "SALE DATE                             0\n",
       "BOROUGH NAME                          0\n",
       "dtype: int64"
      ]
     },
     "execution_count": 13,
     "metadata": {},
     "output_type": "execute_result"
    }
   ],
   "source": [
    "df_nyc.isnull().sum()"
   ]
  },
  {
   "cell_type": "markdown",
   "id": "da95bafd-22af-42cc-a3fb-986e9e075ffe",
   "metadata": {},
   "source": [
    "Terdapat 26054 missing values pada kolom `LAND SQUARE FEET`, 27385 missing values pada kolom `GROSS SQUARE FEET` dan 14176 missing values pada kolom `SALE PRICE`."
   ]
  },
  {
   "cell_type": "markdown",
   "id": "2f75582a-c97d-445e-a91c-f69038cead4a",
   "metadata": {},
   "source": [
    "Setelah itu dilakukan replace pada missing values data menggunakan NaN."
   ]
  },
  {
   "cell_type": "code",
   "execution_count": 14,
   "id": "642580a5-ec31-482d-ae62-38e772aa6860",
   "metadata": {
    "tags": []
   },
   "outputs": [
    {
     "data": {
      "text/html": [
       "<div>\n",
       "<style scoped>\n",
       "    .dataframe tbody tr th:only-of-type {\n",
       "        vertical-align: middle;\n",
       "    }\n",
       "\n",
       "    .dataframe tbody tr th {\n",
       "        vertical-align: top;\n",
       "    }\n",
       "\n",
       "    .dataframe thead th {\n",
       "        text-align: right;\n",
       "    }\n",
       "</style>\n",
       "<table border=\"1\" class=\"dataframe\">\n",
       "  <thead>\n",
       "    <tr style=\"text-align: right;\">\n",
       "      <th></th>\n",
       "      <th>NEIGHBORHOOD</th>\n",
       "      <th>BUILDING CLASS CATEGORY</th>\n",
       "      <th>TAX CLASS AT PRESENT</th>\n",
       "      <th>BLOCK</th>\n",
       "      <th>LOT</th>\n",
       "      <th>BUILDING CLASS AT PRESENT</th>\n",
       "      <th>ADDRESS</th>\n",
       "      <th>ZIP CODE</th>\n",
       "      <th>RESIDENTIAL UNITS</th>\n",
       "      <th>COMMERCIAL UNITS</th>\n",
       "      <th>TOTAL UNITS</th>\n",
       "      <th>LAND SQUARE FEET</th>\n",
       "      <th>GROSS SQUARE FEET</th>\n",
       "      <th>YEAR BUILT</th>\n",
       "      <th>TAX CLASS AT TIME OF SALE</th>\n",
       "      <th>BUILDING CLASS AT TIME OF SALE</th>\n",
       "      <th>SALE PRICE</th>\n",
       "      <th>SALE DATE</th>\n",
       "      <th>BOROUGH NAME</th>\n",
       "    </tr>\n",
       "  </thead>\n",
       "  <tbody>\n",
       "    <tr>\n",
       "      <th>0</th>\n",
       "      <td>ALPHABET CITY</td>\n",
       "      <td>07 RENTALS - WALKUP APARTMENTS</td>\n",
       "      <td>2A</td>\n",
       "      <td>392</td>\n",
       "      <td>6</td>\n",
       "      <td>C2</td>\n",
       "      <td>153 AVENUE B</td>\n",
       "      <td>10009</td>\n",
       "      <td>5</td>\n",
       "      <td>0</td>\n",
       "      <td>5</td>\n",
       "      <td>1633.0</td>\n",
       "      <td>6440.0</td>\n",
       "      <td>1900</td>\n",
       "      <td>2</td>\n",
       "      <td>C2</td>\n",
       "      <td>6625000.0</td>\n",
       "      <td>2017-07-19</td>\n",
       "      <td>Manhattan</td>\n",
       "    </tr>\n",
       "    <tr>\n",
       "      <th>1</th>\n",
       "      <td>ALPHABET CITY</td>\n",
       "      <td>07 RENTALS - WALKUP APARTMENTS</td>\n",
       "      <td>2</td>\n",
       "      <td>399</td>\n",
       "      <td>26</td>\n",
       "      <td>C7</td>\n",
       "      <td>234 EAST 4TH   STREET</td>\n",
       "      <td>10009</td>\n",
       "      <td>28</td>\n",
       "      <td>3</td>\n",
       "      <td>31</td>\n",
       "      <td>4616.0</td>\n",
       "      <td>18690.0</td>\n",
       "      <td>1900</td>\n",
       "      <td>2</td>\n",
       "      <td>C7</td>\n",
       "      <td>NaN</td>\n",
       "      <td>2016-12-14</td>\n",
       "      <td>Manhattan</td>\n",
       "    </tr>\n",
       "    <tr>\n",
       "      <th>2</th>\n",
       "      <td>ALPHABET CITY</td>\n",
       "      <td>07 RENTALS - WALKUP APARTMENTS</td>\n",
       "      <td>2</td>\n",
       "      <td>399</td>\n",
       "      <td>39</td>\n",
       "      <td>C7</td>\n",
       "      <td>197 EAST 3RD   STREET</td>\n",
       "      <td>10009</td>\n",
       "      <td>16</td>\n",
       "      <td>1</td>\n",
       "      <td>17</td>\n",
       "      <td>2212.0</td>\n",
       "      <td>7803.0</td>\n",
       "      <td>1900</td>\n",
       "      <td>2</td>\n",
       "      <td>C7</td>\n",
       "      <td>NaN</td>\n",
       "      <td>2016-12-09</td>\n",
       "      <td>Manhattan</td>\n",
       "    </tr>\n",
       "    <tr>\n",
       "      <th>3</th>\n",
       "      <td>ALPHABET CITY</td>\n",
       "      <td>07 RENTALS - WALKUP APARTMENTS</td>\n",
       "      <td>2B</td>\n",
       "      <td>402</td>\n",
       "      <td>21</td>\n",
       "      <td>C4</td>\n",
       "      <td>154 EAST 7TH STREET</td>\n",
       "      <td>10009</td>\n",
       "      <td>10</td>\n",
       "      <td>0</td>\n",
       "      <td>10</td>\n",
       "      <td>2272.0</td>\n",
       "      <td>6794.0</td>\n",
       "      <td>1913</td>\n",
       "      <td>2</td>\n",
       "      <td>C4</td>\n",
       "      <td>3936272.0</td>\n",
       "      <td>2016-09-23</td>\n",
       "      <td>Manhattan</td>\n",
       "    </tr>\n",
       "    <tr>\n",
       "      <th>4</th>\n",
       "      <td>ALPHABET CITY</td>\n",
       "      <td>07 RENTALS - WALKUP APARTMENTS</td>\n",
       "      <td>2A</td>\n",
       "      <td>404</td>\n",
       "      <td>55</td>\n",
       "      <td>C2</td>\n",
       "      <td>301 EAST 10TH   STREET</td>\n",
       "      <td>10009</td>\n",
       "      <td>6</td>\n",
       "      <td>0</td>\n",
       "      <td>6</td>\n",
       "      <td>2369.0</td>\n",
       "      <td>4615.0</td>\n",
       "      <td>1900</td>\n",
       "      <td>2</td>\n",
       "      <td>C2</td>\n",
       "      <td>8000000.0</td>\n",
       "      <td>2016-11-17</td>\n",
       "      <td>Manhattan</td>\n",
       "    </tr>\n",
       "  </tbody>\n",
       "</table>\n",
       "</div>"
      ],
      "text/plain": [
       "    NEIGHBORHOOD                      BUILDING CLASS CATEGORY  \\\n",
       "0  ALPHABET CITY  07 RENTALS - WALKUP APARTMENTS                \n",
       "1  ALPHABET CITY  07 RENTALS - WALKUP APARTMENTS                \n",
       "2  ALPHABET CITY  07 RENTALS - WALKUP APARTMENTS                \n",
       "3  ALPHABET CITY  07 RENTALS - WALKUP APARTMENTS                \n",
       "4  ALPHABET CITY  07 RENTALS - WALKUP APARTMENTS                \n",
       "\n",
       "  TAX CLASS AT PRESENT  BLOCK  LOT BUILDING CLASS AT PRESENT  \\\n",
       "0                   2A    392    6                        C2   \n",
       "1                    2    399   26                        C7   \n",
       "2                    2    399   39                        C7   \n",
       "3                   2B    402   21                        C4   \n",
       "4                   2A    404   55                        C2   \n",
       "\n",
       "                  ADDRESS  ZIP CODE  RESIDENTIAL UNITS  COMMERCIAL UNITS  \\\n",
       "0            153 AVENUE B     10009                  5                 0   \n",
       "1   234 EAST 4TH   STREET     10009                 28                 3   \n",
       "2   197 EAST 3RD   STREET     10009                 16                 1   \n",
       "3     154 EAST 7TH STREET     10009                 10                 0   \n",
       "4  301 EAST 10TH   STREET     10009                  6                 0   \n",
       "\n",
       "   TOTAL UNITS  LAND SQUARE FEET  GROSS SQUARE FEET  YEAR BUILT  \\\n",
       "0            5            1633.0             6440.0        1900   \n",
       "1           31            4616.0            18690.0        1900   \n",
       "2           17            2212.0             7803.0        1900   \n",
       "3           10            2272.0             6794.0        1913   \n",
       "4            6            2369.0             4615.0        1900   \n",
       "\n",
       "   TAX CLASS AT TIME OF SALE BUILDING CLASS AT TIME OF SALE  SALE PRICE  \\\n",
       "0                          2                             C2   6625000.0   \n",
       "1                          2                             C7         NaN   \n",
       "2                          2                             C7         NaN   \n",
       "3                          2                             C4   3936272.0   \n",
       "4                          2                             C2   8000000.0   \n",
       "\n",
       "   SALE DATE BOROUGH NAME  \n",
       "0 2017-07-19    Manhattan  \n",
       "1 2016-12-14    Manhattan  \n",
       "2 2016-12-09    Manhattan  \n",
       "3 2016-09-23    Manhattan  \n",
       "4 2016-11-17    Manhattan  "
      ]
     },
     "execution_count": 14,
     "metadata": {},
     "output_type": "execute_result"
    }
   ],
   "source": [
    "df_nyc = df_nyc.replace(['-',' '], np.NaN)\n",
    "df_nyc.head()"
   ]
  },
  {
   "cell_type": "markdown",
   "id": "440b0a1d-7334-4206-a15f-915d3078dedf",
   "metadata": {},
   "source": [
    "Dilakukan pengecekan kembali missing value pada set data."
   ]
  },
  {
   "cell_type": "code",
   "execution_count": 15,
   "id": "528ca006-1b44-47da-856a-689012c9a077",
   "metadata": {},
   "outputs": [
    {
     "data": {
      "text/plain": [
       "NEIGHBORHOOD                          0\n",
       "BUILDING CLASS CATEGORY               0\n",
       "TAX CLASS AT PRESENT                738\n",
       "BLOCK                                 0\n",
       "LOT                                   0\n",
       "BUILDING CLASS AT PRESENT           738\n",
       "ADDRESS                               0\n",
       "ZIP CODE                              0\n",
       "RESIDENTIAL UNITS                     0\n",
       "COMMERCIAL UNITS                      0\n",
       "TOTAL UNITS                           0\n",
       "LAND SQUARE FEET                  26054\n",
       "GROSS SQUARE FEET                 27385\n",
       "YEAR BUILT                            0\n",
       "TAX CLASS AT TIME OF SALE             0\n",
       "BUILDING CLASS AT TIME OF SALE        0\n",
       "SALE PRICE                        14176\n",
       "SALE DATE                             0\n",
       "BOROUGH NAME                          0\n",
       "dtype: int64"
      ]
     },
     "execution_count": 15,
     "metadata": {},
     "output_type": "execute_result"
    }
   ],
   "source": [
    "df_nyc.isna().sum()"
   ]
  },
  {
   "cell_type": "markdown",
   "id": "b31edbc4-c784-4334-94b4-85fd7bb4170f",
   "metadata": {},
   "source": [
    "NaN atau missing value pada kolom `TAX CLASS AT PRESENT` akan di-replace menggunakan modus dari kolom tersebut. Digunakan fungsi `.mode()` untuk mendapatkan modus atau nilai yang paling banyak muncul dari kolom"
   ]
  },
  {
   "cell_type": "code",
   "execution_count": 16,
   "id": "a4e3c07c-14ab-4026-9e76-764c4815e301",
   "metadata": {},
   "outputs": [
    {
     "data": {
      "text/plain": [
       "0    1\n",
       "Name: TAX CLASS AT PRESENT, dtype: object"
      ]
     },
     "execution_count": 16,
     "metadata": {},
     "output_type": "execute_result"
    }
   ],
   "source": [
    "mod_tax = df_nyc['TAX CLASS AT PRESENT'].mode()\n",
    "mod_tax"
   ]
  },
  {
   "cell_type": "markdown",
   "id": "4f997250-a993-41ff-ac7a-bc9177a06b88",
   "metadata": {},
   "source": [
    "Proses replace NaN value pada kolom `TAX CLASS AT PRESENT` menggunakan fungsi `.replace(np.NaN, mod_tax[0])` .\n",
    "\n",
    "* `np.NaN` : nilai lama yang akan di-replace\n",
    "* `mod_tax[0]` : nilai baru yang akan me-replace"
   ]
  },
  {
   "cell_type": "code",
   "execution_count": 17,
   "id": "4835e1f7-4596-4b0f-a2b3-0b8a2e563710",
   "metadata": {},
   "outputs": [],
   "source": [
    "df_nyc['TAX CLASS AT PRESENT'] = df_nyc['TAX CLASS AT PRESENT'].replace(np.NaN, mod_tax[0])"
   ]
  },
  {
   "cell_type": "markdown",
   "id": "aad745b5-f605-4890-a678-295ee2713aba",
   "metadata": {},
   "source": [
    "NaN atau missing value pada kolom `BUILDING CLASS CLASS AT PRESENT` akan di-replace menggunakan modus dari kolom tersebut. Digunakan fungsi `.mode()` untuk mendapatkan modus atau nilai yang paling banyak muncul dari kolom"
   ]
  },
  {
   "cell_type": "code",
   "execution_count": 18,
   "id": "8d2a3280-a06d-4a1a-834a-d370fcb4f819",
   "metadata": {},
   "outputs": [
    {
     "data": {
      "text/plain": [
       "0    D4\n",
       "Name: BUILDING CLASS AT PRESENT, dtype: object"
      ]
     },
     "execution_count": 18,
     "metadata": {},
     "output_type": "execute_result"
    }
   ],
   "source": [
    "mod_build = df_nyc['BUILDING CLASS AT PRESENT'].mode()\n",
    "mod_build"
   ]
  },
  {
   "cell_type": "markdown",
   "id": "fd6f87d4-6f9d-4597-abb5-ebb87a1b2226",
   "metadata": {},
   "source": [
    "Proses replace NaN value pada kolom `BULDING CLASS AT PRESENT` menggunakan fungsi `.replace(np.NaN, mod_build[0])` .\n",
    "\n",
    "* `np.NaN` : nilai lama yang akan di-replace\n",
    "* `mod_build[0]` : nilai baru yang akan me-replace"
   ]
  },
  {
   "cell_type": "code",
   "execution_count": 19,
   "id": "cba22948-cc05-46c6-8422-0aa7c26eebc3",
   "metadata": {},
   "outputs": [],
   "source": [
    "df_nyc['BUILDING CLASS AT PRESENT'] = df_nyc['BUILDING CLASS AT PRESENT'].replace(np.NaN, mod_build[0])"
   ]
  },
  {
   "cell_type": "markdown",
   "id": "61790a7c-76a8-4b98-a8cd-770e4f74df86",
   "metadata": {},
   "source": [
    "Dilakukan pengecekan kembali missing values pada set data."
   ]
  },
  {
   "cell_type": "code",
   "execution_count": 20,
   "id": "4bae3f9a-0f03-4897-86e9-1b312025c247",
   "metadata": {},
   "outputs": [
    {
     "data": {
      "text/plain": [
       "NEIGHBORHOOD                          0\n",
       "BUILDING CLASS CATEGORY               0\n",
       "TAX CLASS AT PRESENT                  0\n",
       "BLOCK                                 0\n",
       "LOT                                   0\n",
       "BUILDING CLASS AT PRESENT             0\n",
       "ADDRESS                               0\n",
       "ZIP CODE                              0\n",
       "RESIDENTIAL UNITS                     0\n",
       "COMMERCIAL UNITS                      0\n",
       "TOTAL UNITS                           0\n",
       "LAND SQUARE FEET                  26054\n",
       "GROSS SQUARE FEET                 27385\n",
       "YEAR BUILT                            0\n",
       "TAX CLASS AT TIME OF SALE             0\n",
       "BUILDING CLASS AT TIME OF SALE        0\n",
       "SALE PRICE                        14176\n",
       "SALE DATE                             0\n",
       "BOROUGH NAME                          0\n",
       "dtype: int64"
      ]
     },
     "execution_count": 20,
     "metadata": {},
     "output_type": "execute_result"
    }
   ],
   "source": [
    "df_nyc.isna().sum()"
   ]
  },
  {
   "cell_type": "markdown",
   "id": "b66db427-faef-4ad1-b58e-f3fc320978f1",
   "metadata": {},
   "source": [
    "Masih terdapat missing value pada kolom `LAND SQUARE FEET`, `GROSS SQUARE FEET`, dan `SALE PRICE`. Terdapat beberapa cara dalam penanganan missing value diantaranya menghapus baris yang memiliki missing value, mengisinya dengan nilai mean, median, atau modus, dan cara lainnya. Pada set data, jumlah missing value pada masing-masing kolom nilainya banyak sehingga digunakan alternatif lain dalam penanganan missing values. Penanganan missing value menggunakan alternatif lain yaitu median karena nilainya stabil dan tidak terpengaruh oleh nilai ouliers (pencilan)."
   ]
  },
  {
   "cell_type": "markdown",
   "id": "07d14d91-1ebb-422f-8fec-d09edf131392",
   "metadata": {},
   "source": [
    "Proses replace NaN value menggunakan fungsi `.replace()` .\n",
    "\n",
    "* `np.NaN` : nilai lama yang akan di-replace\n",
    "* `df_nyc[' '].median()` : nilai baru yang akan me-replace yaitu median masing-masing kolom"
   ]
  },
  {
   "cell_type": "code",
   "execution_count": 21,
   "id": "e2ae05eb-1944-46a7-ac24-fe2a658316fd",
   "metadata": {},
   "outputs": [],
   "source": [
    "df_nyc['LAND SQUARE FEET'] = df_nyc['LAND SQUARE FEET'].replace(np.NaN, df_nyc['LAND SQUARE FEET'].median())\n",
    "df_nyc['GROSS SQUARE FEET'] = df_nyc['GROSS SQUARE FEET'].replace(np.NaN, df_nyc['GROSS SQUARE FEET'].median())\n",
    "df_nyc['SALE PRICE'] = df_nyc['SALE PRICE'].replace([np.NaN,0], df_nyc['SALE PRICE'].median())"
   ]
  },
  {
   "cell_type": "markdown",
   "id": "8b9392da-86fc-4ee0-8d48-7202440531bc",
   "metadata": {},
   "source": [
    "Dilakukan pengecekan kembali missing values pada set data."
   ]
  },
  {
   "cell_type": "code",
   "execution_count": 22,
   "id": "ca425a3b-42af-4977-b913-447111c04138",
   "metadata": {},
   "outputs": [
    {
     "data": {
      "text/plain": [
       "NEIGHBORHOOD                      0\n",
       "BUILDING CLASS CATEGORY           0\n",
       "TAX CLASS AT PRESENT              0\n",
       "BLOCK                             0\n",
       "LOT                               0\n",
       "BUILDING CLASS AT PRESENT         0\n",
       "ADDRESS                           0\n",
       "ZIP CODE                          0\n",
       "RESIDENTIAL UNITS                 0\n",
       "COMMERCIAL UNITS                  0\n",
       "TOTAL UNITS                       0\n",
       "LAND SQUARE FEET                  0\n",
       "GROSS SQUARE FEET                 0\n",
       "YEAR BUILT                        0\n",
       "TAX CLASS AT TIME OF SALE         0\n",
       "BUILDING CLASS AT TIME OF SALE    0\n",
       "SALE PRICE                        0\n",
       "SALE DATE                         0\n",
       "BOROUGH NAME                      0\n",
       "dtype: int64"
      ]
     },
     "execution_count": 22,
     "metadata": {},
     "output_type": "execute_result"
    }
   ],
   "source": [
    "df_nyc.isna().sum()"
   ]
  },
  {
   "cell_type": "markdown",
   "id": "b948a222-03f1-44b6-9bcd-c0e554270d7b",
   "metadata": {},
   "source": [
    "Sudah tidak terdapat missing value pada set data, proses analisis dapat dilanjutkan."
   ]
  },
  {
   "cell_type": "markdown",
   "id": "73481021-b49f-433a-8fae-173a77558695",
   "metadata": {},
   "source": [
    "## Measure of Central Tendency"
   ]
  },
  {
   "cell_type": "markdown",
   "id": "a9349dd3-8323-4819-a57a-eb6bb5e8512c",
   "metadata": {},
   "source": [
    "Central tendency adalah ukuran nilai yang menunjukkan titik tengah dari sebuah data yang berguna untuk mengetahui posisi banyak nilai data berkumpul pada distribusi. Ukuran central tendency yang umum digunakan adalah mean, median, dan modus.\n"
   ]
  },
  {
   "cell_type": "markdown",
   "id": "4dc62162-6991-4d63-9e3c-691449001522",
   "metadata": {},
   "source": [
    "### Mean"
   ]
  },
  {
   "cell_type": "markdown",
   "id": "f5882334-30e5-4127-92f7-3299f9309fd7",
   "metadata": {},
   "source": [
    "Mean atau rata-rata adalah nilai tengah dari data yang didapatkan dengan cara menjumlahkan seluruh nilai pada data kemudian dibagi dengan banyaknya data.\n",
    "\n",
    "$ \\bar x = \\frac {x_1 + x_2 + ... + x_n}{n}$\n",
    "\n",
    "* $x_1,x_2,...,x_n$ : nilai pada data\n",
    "* $n$ : banyaknya data\n",
    "\n",
    "Mean ada beberapa jenis diantaranya arithmetic mean, geometric mean, dan harmonic mean. Namun, yang umum digunakan adalah arithmetic mean."
   ]
  },
  {
   "cell_type": "markdown",
   "id": "0c396899-c7b6-4751-8fc0-7bf46b888236",
   "metadata": {},
   "source": [
    "#### Case 1"
   ]
  },
  {
   "cell_type": "markdown",
   "id": "d2152b19-d520-494b-8111-ec448de11df1",
   "metadata": {},
   "source": [
    "Ingin diketahui rata-rata (mean) harga penjualan properti (SALE PRICE) di NYC dan rata-rata (mean) harga penjualan properti setiap wilayah selama 12 bulan."
   ]
  },
  {
   "cell_type": "markdown",
   "id": "664a36dd-bb0b-476f-8ca2-4ac833c58ed6",
   "metadata": {},
   "source": [
    "Untuk mendapatkan rata-rata kolom `SALE PRICE`, perlu dilakukan slicing pada data frame `df_nyc` berdasarkan kolom `SALE PRICE`. Kemudian digunakan fungsi `.mean()` untuk mendapatkan mean atau rata-rata dari kolom tersebut."
   ]
  },
  {
   "cell_type": "code",
   "execution_count": 23,
   "id": "300a202c-1b53-40a9-953b-6f802f8b9f1f",
   "metadata": {},
   "outputs": [
    {
     "data": {
      "text/plain": [
       "1217885.4629459437"
      ]
     },
     "execution_count": 23,
     "metadata": {},
     "output_type": "execute_result"
    }
   ],
   "source": [
    "#mean NYC\n",
    "\n",
    "mean_nyc =df_nyc['SALE PRICE'].mean()\n",
    "mean_nyc"
   ]
  },
  {
   "cell_type": "markdown",
   "id": "e02c54a8-1530-42f0-9681-099563fbbce0",
   "metadata": {},
   "source": [
    "Untuk mendapatkan rata-rata kolom `SALE PRICE` pada wilayah Manhattan, data frame `df_nyc` perlu di-slicing terlebih dahulu menggunakan fungsi `.loc` dengan syarat `['BOROUGH NAME'] == Manhattan`. Setelah itu, digunakan fungsi `.mean()` untuk mendapatkan mean atau rata-rata dari kolom `SALE PRICE` dengan syarat `BOROUGH NAME == Manhattan`."
   ]
  },
  {
   "cell_type": "code",
   "execution_count": 24,
   "id": "002eba44-5e2d-40f9-83c1-51b1ccfafc99",
   "metadata": {},
   "outputs": [
    {
     "data": {
      "text/plain": [
       "2765600.9200088386"
      ]
     },
     "execution_count": 24,
     "metadata": {},
     "output_type": "execute_result"
    }
   ],
   "source": [
    "#mean Manhattan\n",
    "\n",
    "df_manhattan = df_nyc.loc[(df_nyc['BOROUGH NAME'] == 'Manhattan')]\n",
    "mean_manhattan = df_manhattan['SALE PRICE'].mean()\n",
    "mean_manhattan"
   ]
  },
  {
   "cell_type": "markdown",
   "id": "1d57c147-6905-468b-b1d7-b5b10d5adcec",
   "metadata": {},
   "source": [
    "Untuk mendapatkan rata-rata kolom `SALE PRICE` pada wilayah Bronx, data frame `df_nyc` perlu di-slicing terlebih dahulu menggunakan fungsi `.loc` dengan syarat `['BOROUGH NAME'] == Bronx`. Setelah itu, digunakan fungsi `.mean()` untuk mendapatkan mean atau rata-rata dari kolom `SALE PRICE` dengan syarat `BOROUGH NAME == Bronx`."
   ]
  },
  {
   "cell_type": "code",
   "execution_count": 25,
   "id": "1d75491c-86b4-46c0-b42b-83935a7fadf6",
   "metadata": {
    "tags": []
   },
   "outputs": [
    {
     "data": {
      "text/plain": [
       "733833.2522161853"
      ]
     },
     "execution_count": 25,
     "metadata": {},
     "output_type": "execute_result"
    }
   ],
   "source": [
    "#mean Bronx\n",
    "\n",
    "df_bronx = df_nyc.loc[(df_nyc['BOROUGH NAME'] == 'Bronx')]\n",
    "mean_bronx = df_bronx['SALE PRICE'].mean()\n",
    "mean_bronx"
   ]
  },
  {
   "cell_type": "markdown",
   "id": "07e4b083-471d-4fda-91cf-6277f45f6511",
   "metadata": {},
   "source": [
    "Untuk mendapatkan rata-rata kolom `SALE PRICE` pada wilayah Brooklyn, data frame `df_nyc` perlu di-slicing terlebih dahulu menggunakan fungsi `.loc` dengan syarat `['BOROUGH NAME'] == Brooklyn`. Setelah itu, digunakan fungsi `.mean()` untuk mendapatkan mean atau rata-rata dari kolom `SALE PRICE` dengan syarat `BOROUGH NAME == Brooklyn`."
   ]
  },
  {
   "cell_type": "code",
   "execution_count": 26,
   "id": "09251a22-a9d3-4ee8-9457-5bb1d59f2c09",
   "metadata": {},
   "outputs": [
    {
     "data": {
      "text/plain": [
       "1024077.900809462"
      ]
     },
     "execution_count": 26,
     "metadata": {},
     "output_type": "execute_result"
    }
   ],
   "source": [
    "#mean Brooklyn\n",
    "\n",
    "df_brooklyn = df_nyc.loc[(df_nyc['BOROUGH NAME'] == 'Brooklyn')]\n",
    "mean_brooklyn = df_brooklyn['SALE PRICE'].mean()\n",
    "mean_brooklyn"
   ]
  },
  {
   "cell_type": "markdown",
   "id": "ef3dd7cf-19cb-4765-ad54-6f76c34420bc",
   "metadata": {},
   "source": [
    "Untuk mendapatkan rata-rata kolom `SALE PRICE` pada wilayah Queens, data frame `df_nyc` perlu di-slicing terlebih dahulu menggunakan fungsi `.loc` dengan syarat `['BOROUGH NAME'] == Queens`. Setelah itu, digunakan fungsi `.mean()` untuk mendapatkan mean atau rata-rata dari kolom `SALE PRICE` dengan syarat `BOROUGH NAME == Queens`."
   ]
  },
  {
   "cell_type": "code",
   "execution_count": 27,
   "id": "a93444dc-432a-413c-a83e-30460eacda21",
   "metadata": {},
   "outputs": [
    {
     "data": {
      "text/plain": [
       "675771.5737908693"
      ]
     },
     "execution_count": 27,
     "metadata": {},
     "output_type": "execute_result"
    }
   ],
   "source": [
    "#mean Queens\n",
    "\n",
    "df_queens = df_nyc.loc[(df_nyc['BOROUGH NAME'] == 'Queens')]\n",
    "mean_queens = df_queens['SALE PRICE'].mean()\n",
    "mean_queens"
   ]
  },
  {
   "cell_type": "markdown",
   "id": "6ae0c03b-cc05-463b-ac54-99a89c640222",
   "metadata": {},
   "source": [
    "Untuk mendapatkan rata-rata kolom `SALE PRICE` pada wilayah Staten Island, data frame `df_nyc` perlu di-slicing terlebih dahulu menggunakan fungsi `.loc` dengan syarat `['BOROUGH NAME'] == Staten Island`. Setelah itu, digunakan fungsi `.mean()` untuk mendapatkan mean atau rata-rata dari kolom `SALE PRICE` dengan syarat `BOROUGH NAME == Staten Island`."
   ]
  },
  {
   "cell_type": "code",
   "execution_count": 28,
   "id": "92c70246-debe-4531-af23-e0052c8e889a",
   "metadata": {},
   "outputs": [
    {
     "data": {
      "text/plain": [
       "540656.5805207329"
      ]
     },
     "execution_count": 28,
     "metadata": {},
     "output_type": "execute_result"
    }
   ],
   "source": [
    "#mean Staten Island\n",
    "\n",
    "df_staten = df_nyc.loc[(df_nyc['BOROUGH NAME'] == 'Staten Island')]\n",
    "mean_staten = df_staten['SALE PRICE'].mean()\n",
    "mean_staten"
   ]
  },
  {
   "cell_type": "markdown",
   "id": "4d42d6f4-805e-4b7e-97e3-5600ebfeb90d",
   "metadata": {},
   "source": [
    "Untuk memudahkan proses interpretasi, mean kolom `SALE PRICE` di NYC dan masing-masing wilayah dirangkum pada sebuah data frame baru."
   ]
  },
  {
   "cell_type": "code",
   "execution_count": 29,
   "id": "d6146f41-2963-4d3f-8596-f192b4ad5627",
   "metadata": {},
   "outputs": [
    {
     "data": {
      "text/html": [
       "<div>\n",
       "<style scoped>\n",
       "    .dataframe tbody tr th:only-of-type {\n",
       "        vertical-align: middle;\n",
       "    }\n",
       "\n",
       "    .dataframe tbody tr th {\n",
       "        vertical-align: top;\n",
       "    }\n",
       "\n",
       "    .dataframe thead th {\n",
       "        text-align: right;\n",
       "    }\n",
       "</style>\n",
       "<table border=\"1\" class=\"dataframe\">\n",
       "  <thead>\n",
       "    <tr style=\"text-align: right;\">\n",
       "      <th></th>\n",
       "      <th>mean</th>\n",
       "    </tr>\n",
       "  </thead>\n",
       "  <tbody>\n",
       "    <tr>\n",
       "      <th>NYC</th>\n",
       "      <td>1.217885e+06</td>\n",
       "    </tr>\n",
       "    <tr>\n",
       "      <th>Manhattan</th>\n",
       "      <td>2.765601e+06</td>\n",
       "    </tr>\n",
       "    <tr>\n",
       "      <th>Bronx</th>\n",
       "      <td>7.338333e+05</td>\n",
       "    </tr>\n",
       "    <tr>\n",
       "      <th>Brooklyn</th>\n",
       "      <td>1.024078e+06</td>\n",
       "    </tr>\n",
       "    <tr>\n",
       "      <th>Queens</th>\n",
       "      <td>6.757716e+05</td>\n",
       "    </tr>\n",
       "    <tr>\n",
       "      <th>Staten Island</th>\n",
       "      <td>5.406566e+05</td>\n",
       "    </tr>\n",
       "  </tbody>\n",
       "</table>\n",
       "</div>"
      ],
      "text/plain": [
       "                       mean\n",
       "NYC            1.217885e+06\n",
       "Manhattan      2.765601e+06\n",
       "Bronx          7.338333e+05\n",
       "Brooklyn       1.024078e+06\n",
       "Queens         6.757716e+05\n",
       "Staten Island  5.406566e+05"
      ]
     },
     "execution_count": 29,
     "metadata": {},
     "output_type": "execute_result"
    }
   ],
   "source": [
    "mean_ = {'mean':[mean_nyc,mean_manhattan,mean_bronx,mean_brooklyn,mean_queens,mean_staten]}\n",
    "mean = pd.DataFrame(mean_, index=['NYC','Manhattan','Bronx','Brooklyn','Queens','Staten Island'])\n",
    "mean"
   ]
  },
  {
   "cell_type": "markdown",
   "id": "1e3aa8ba-4c63-4531-8d05-8f42f0bb91b2",
   "metadata": {},
   "source": [
    "**Interpretasi:** \n",
    "\n",
    "Berdasarkan hasil perhitungan, diketahui bahwa:\n",
    "- Rata-rata harga penjualan properti di NYC sebesar 1217885.5 USD. \n",
    "- Rata-rata harga penjualan properti di wilayah Manhattan sebesar 2765600 USD.\n",
    "- Rata-rata harga penjualan properti di wilayah Bronx sebesar 733833.3 USD.\n",
    "- Rata-rata harga penjualan properti di wilayah Brooklyn sebesar 1024078 USD.\n",
    "- Rata-rata harga penjualan properti di wilayah Queens sebesar 675771.6 USD.\n",
    "- Rata-rata harga penjualan properti di wilayah Staten Island sebesar 540656.6 USD."
   ]
  },
  {
   "cell_type": "markdown",
   "id": "359a3a33-3ed6-4f2c-a5a9-fc9f11338b53",
   "metadata": {},
   "source": [
    "### Median"
   ]
  },
  {
   "cell_type": "markdown",
   "id": "a318c926-f053-4a61-b283-0d648bb7c195",
   "metadata": {},
   "source": [
    "Median adalah nilai tengah dari data yang membagi data tersebut menjadi dua bagian sama besar. Untuk memperoleh nilai median, data perlu diurutkan dari yang terkecil hingga terbesar."
   ]
  },
  {
   "cell_type": "markdown",
   "id": "262018b0-1f1e-4a88-9c64-158e454dc9eb",
   "metadata": {},
   "source": [
    "#### Case 2"
   ]
  },
  {
   "cell_type": "markdown",
   "id": "ac40b53b-d1cf-467e-b207-f2b6a923b6bf",
   "metadata": {},
   "source": [
    "Ingin diketahui median harga penjualan properti (SALE PRICE) di NYC dan median harga penjualan property setiap wilayah selama 12 bulan."
   ]
  },
  {
   "cell_type": "markdown",
   "id": "45d030e9-a3a3-49ef-9df4-560543905107",
   "metadata": {},
   "source": [
    "Untuk mendapatkan median kolom `SALE PRICE`, perlu dilakukan slicing pada data frame `df_nyc` berdasarkan kolom `SALE PRICE`. Kemudian digunakan fungsi `.median()` untuk mendapatkan median dari kolom tersebut."
   ]
  },
  {
   "cell_type": "code",
   "execution_count": 30,
   "id": "38fffa6f-0f22-4231-a018-8d5485941200",
   "metadata": {},
   "outputs": [
    {
     "data": {
      "text/plain": [
       "533000.0"
      ]
     },
     "execution_count": 30,
     "metadata": {},
     "output_type": "execute_result"
    }
   ],
   "source": [
    "#median NYC\n",
    "\n",
    "median_nyc =df_nyc['SALE PRICE'].median()\n",
    "median_nyc"
   ]
  },
  {
   "cell_type": "markdown",
   "id": "c7e7db76-e715-4a23-978c-e1364ba5a3e8",
   "metadata": {},
   "source": [
    "Untuk mendapatkan median kolom `SALE PRICE` pada wilayah Manhattan, data frame `df_nyc` perlu di-slicing terlebih dahulu menggunakan fungsi `.loc` dengan syarat `['BOROUGH NAME'] == Manhattan`. Setelah itu, digunakan fungsi `.median()` untuk mendapatkan median dari kolom `SALE PRICE` dengan syarat `BOROUGH NAME == Manhattan`."
   ]
  },
  {
   "cell_type": "code",
   "execution_count": 31,
   "id": "d71b357a-e53e-4fe7-a785-b72dd20988b8",
   "metadata": {},
   "outputs": [
    {
     "data": {
      "text/plain": [
       "849444.0"
      ]
     },
     "execution_count": 31,
     "metadata": {},
     "output_type": "execute_result"
    }
   ],
   "source": [
    "#median Manhattan\n",
    "\n",
    "df_manhattan = df_nyc.loc[(df_nyc['BOROUGH NAME'] == 'Manhattan')]\n",
    "median_manhattan = df_manhattan['SALE PRICE'].median()\n",
    "median_manhattan"
   ]
  },
  {
   "cell_type": "markdown",
   "id": "c5fe3897-0706-437b-a751-2711827f4459",
   "metadata": {},
   "source": [
    "Untuk mendapatkan median kolom `SALE PRICE` pada wilayah Bronx, data frame `df_nyc` perlu di-slicing terlebih dahulu menggunakan fungsi `.loc` dengan syarat `['BOROUGH NAME'] == Bronx`. Setelah itu, digunakan fungsi `.median()` untuk mendapatkan median dari kolom `SALE PRICE` dengan syarat `BOROUGH NAME == Bronx`."
   ]
  },
  {
   "cell_type": "code",
   "execution_count": 32,
   "id": "e374d3fc-0573-41cb-87e4-05e916916e77",
   "metadata": {
    "tags": []
   },
   "outputs": [
    {
     "data": {
      "text/plain": [
       "517000.0"
      ]
     },
     "execution_count": 32,
     "metadata": {},
     "output_type": "execute_result"
    }
   ],
   "source": [
    "#median Bronx\n",
    "\n",
    "df_bronx = df_nyc.loc[(df_nyc['BOROUGH NAME'] == 'Bronx')]\n",
    "median_bronx = df_bronx['SALE PRICE'].median()\n",
    "median_bronx"
   ]
  },
  {
   "cell_type": "markdown",
   "id": "d74ecdf9-2b79-4e4c-a4e4-463c057ac6ef",
   "metadata": {},
   "source": [
    "Untuk mendapatkan median kolom `SALE PRICE` pada wilayah Brooklyn data frame `df_nyc` perlu di-slicing terlebih dahulu menggunakan fungsi `.loc` dengan syarat `['BOROUGH NAME'] == Brooklyn`. Setelah itu, digunakan fungsi `.median()` untuk mendapatkan median dari kolom `SALE PRICE` dengan syarat `BOROUGH NAME == Brooklyn`."
   ]
  },
  {
   "cell_type": "code",
   "execution_count": 33,
   "id": "8725963f-db7c-47cf-9ffd-1bd154de4dd7",
   "metadata": {},
   "outputs": [
    {
     "data": {
      "text/plain": [
       "533000.0"
      ]
     },
     "execution_count": 33,
     "metadata": {},
     "output_type": "execute_result"
    }
   ],
   "source": [
    "#median Brooklyn\n",
    "\n",
    "df_brooklyn = df_nyc.loc[(df_nyc['BOROUGH NAME'] == 'Brooklyn')]\n",
    "median_brooklyn = df_brooklyn['SALE PRICE'].median()\n",
    "median_brooklyn"
   ]
  },
  {
   "cell_type": "markdown",
   "id": "588199e3-5b99-403f-b63b-50cec3f39d6b",
   "metadata": {},
   "source": [
    "Untuk mendapatkan median kolom `SALE PRICE` pada wilayah Queens, data frame `df_nyc` perlu di-slicing terlebih dahulu menggunakan fungsi `.loc` dengan syarat `['BOROUGH NAME'] == Queens`. Setelah itu, digunakan fungsi `.median()` untuk mendapatkan median dari kolom `SALE PRICE` dengan syarat `BOROUGH NAME == Queens`."
   ]
  },
  {
   "cell_type": "code",
   "execution_count": 34,
   "id": "8d909790-65ab-440f-9424-b98c0f074fbe",
   "metadata": {},
   "outputs": [
    {
     "data": {
      "text/plain": [
       "533000.0"
      ]
     },
     "execution_count": 34,
     "metadata": {},
     "output_type": "execute_result"
    }
   ],
   "source": [
    "#mean Queens\n",
    "\n",
    "df_queens = df_nyc.loc[(df_nyc['BOROUGH NAME'] == 'Queens')]\n",
    "median_queens = df_queens['SALE PRICE'].median()\n",
    "median_queens"
   ]
  },
  {
   "cell_type": "markdown",
   "id": "59fab937-a640-4204-830f-b9828c655f11",
   "metadata": {},
   "source": [
    "Untuk mendapatkan median kolom `SALE PRICE` pada wilayah Staten Island, data frame `df_nyc` perlu di-slicing terlebih dahulu menggunakan fungsi `.loc` dengan syarat `['BOROUGH NAME'] == Staten Island`. Setelah itu, digunakan fungsi `.median()` untuk mendapatkan median dari kolom `SALE PRICE` dengan syarat `BOROUGH NAME == Staten Island`."
   ]
  },
  {
   "cell_type": "code",
   "execution_count": 35,
   "id": "b2a25fac-5980-4e88-8f03-84d48ba5417a",
   "metadata": {},
   "outputs": [
    {
     "data": {
      "text/plain": [
       "533000.0"
      ]
     },
     "execution_count": 35,
     "metadata": {},
     "output_type": "execute_result"
    }
   ],
   "source": [
    "#mean Staten Island\n",
    "\n",
    "df_staten = df_nyc.loc[(df_nyc['BOROUGH NAME'] == 'Staten Island')]\n",
    "median_staten = df_staten['SALE PRICE'].median()\n",
    "median_staten"
   ]
  },
  {
   "cell_type": "markdown",
   "id": "3c0ed3bf-9a27-47c8-82c4-9c86b4093572",
   "metadata": {},
   "source": [
    "Untuk memudahkan proses interpretasi, median kolom `SALE PRICE` di NYC dan masing-masing wilayah dirangkum pada sebuah data frame baru."
   ]
  },
  {
   "cell_type": "code",
   "execution_count": 36,
   "id": "d8821d9f-8754-409c-b326-6c4c6dde7a8f",
   "metadata": {},
   "outputs": [
    {
     "data": {
      "text/html": [
       "<div>\n",
       "<style scoped>\n",
       "    .dataframe tbody tr th:only-of-type {\n",
       "        vertical-align: middle;\n",
       "    }\n",
       "\n",
       "    .dataframe tbody tr th {\n",
       "        vertical-align: top;\n",
       "    }\n",
       "\n",
       "    .dataframe thead th {\n",
       "        text-align: right;\n",
       "    }\n",
       "</style>\n",
       "<table border=\"1\" class=\"dataframe\">\n",
       "  <thead>\n",
       "    <tr style=\"text-align: right;\">\n",
       "      <th></th>\n",
       "      <th>median</th>\n",
       "    </tr>\n",
       "  </thead>\n",
       "  <tbody>\n",
       "    <tr>\n",
       "      <th>NYC</th>\n",
       "      <td>533000.0</td>\n",
       "    </tr>\n",
       "    <tr>\n",
       "      <th>Manhattan</th>\n",
       "      <td>849444.0</td>\n",
       "    </tr>\n",
       "    <tr>\n",
       "      <th>Bronx</th>\n",
       "      <td>517000.0</td>\n",
       "    </tr>\n",
       "    <tr>\n",
       "      <th>Brooklyn</th>\n",
       "      <td>533000.0</td>\n",
       "    </tr>\n",
       "    <tr>\n",
       "      <th>Queens</th>\n",
       "      <td>533000.0</td>\n",
       "    </tr>\n",
       "    <tr>\n",
       "      <th>Staten Island</th>\n",
       "      <td>533000.0</td>\n",
       "    </tr>\n",
       "  </tbody>\n",
       "</table>\n",
       "</div>"
      ],
      "text/plain": [
       "                 median\n",
       "NYC            533000.0\n",
       "Manhattan      849444.0\n",
       "Bronx          517000.0\n",
       "Brooklyn       533000.0\n",
       "Queens         533000.0\n",
       "Staten Island  533000.0"
      ]
     },
     "execution_count": 36,
     "metadata": {},
     "output_type": "execute_result"
    }
   ],
   "source": [
    "median_ = {'median':[median_nyc, median_manhattan, median_bronx, median_brooklyn, median_queens, median_staten]}\n",
    "median = pd.DataFrame(median_, index=['NYC','Manhattan','Bronx','Brooklyn','Queens','Staten Island'])\n",
    "median"
   ]
  },
  {
   "cell_type": "markdown",
   "id": "bc7b9409-b5ed-4152-8e74-11856224f802",
   "metadata": {},
   "source": [
    "**Interpretasi:** \n",
    "\n",
    "Berdasarkan hasil perhitungan, diketahui bahwa:\n",
    "- Median harga penjualan properti di NYC sebesar 533000 USD. \n",
    "- Median harga penjualan properti di wilayah Manhattan sebesar 84944 USD.\n",
    "- Median harga penjualan properti di wilayah Bronx sebesar 517000 USD.\n",
    "- Median harga penjualan properti di wilayah Brooklyn sebesar 533000 USD.\n",
    "- Median harga penjualan properti di wilayah Queens sebesar 533000 USD.\n",
    "- Median harga penjualan properti di wilayah Staten Island sebesar 533000 USD."
   ]
  },
  {
   "cell_type": "markdown",
   "id": "dd242225-1491-49c3-9145-85d53c6f96da",
   "metadata": {},
   "source": [
    "### Mode"
   ]
  },
  {
   "cell_type": "markdown",
   "id": "fbc2d86b-c1eb-4952-8952-6e0718698e93",
   "metadata": {},
   "source": [
    "Modus atau mode adalah nilai yang paling sering muncul pada data."
   ]
  },
  {
   "cell_type": "markdown",
   "id": "2fe7382b-32b9-447f-a34a-0dde07bf379d",
   "metadata": {},
   "source": [
    "#### Case 3"
   ]
  },
  {
   "cell_type": "markdown",
   "id": "0e4de826-881d-4207-a6e8-35375394667a",
   "metadata": {},
   "source": [
    "Ingin diketahui building class category yang paling banyak dijual di NYC dan building class category yang paling banyak dijual setiap wilayah selama 12 bulan."
   ]
  },
  {
   "cell_type": "markdown",
   "id": "30e632e0-5dea-4dce-9019-ef0efba8f99b",
   "metadata": {},
   "source": [
    "Untuk mendapatkan modus kolom `BUILDING CLASS CATEGORY`, perlu dilakukan slicing pada data frame df_nyc berdasarkan kolom `BUILDING CLASS CATEGORY`. Kemudian digunakan fungsi `.mode()` untuk mendapatkan modus dari kolom tersebut."
   ]
  },
  {
   "cell_type": "code",
   "execution_count": 37,
   "id": "c861ef30-c119-4ee8-ad80-ae76c08f82d5",
   "metadata": {},
   "outputs": [
    {
     "data": {
      "text/plain": [
       "0    01 ONE FAMILY DWELLINGS                    \n",
       "Name: BUILDING CLASS CATEGORY, dtype: object"
      ]
     },
     "execution_count": 37,
     "metadata": {},
     "output_type": "execute_result"
    }
   ],
   "source": [
    "#mode NYC\n",
    "\n",
    "mode_nyc = df_nyc['BUILDING CLASS CATEGORY'].mode()\n",
    "mode_nyc"
   ]
  },
  {
   "cell_type": "markdown",
   "id": "15ea8bc6-16fb-4d0c-ad34-44d43829bd2f",
   "metadata": {},
   "source": [
    "Untuk mendapatkan modus kolom `BUILDING CLASS CATEGORY` pada wilayah Manhattan, data frame `df_nyc` perlu di-slicing terlebih dahulu menggunakan fungsi `.loc` dengan syarat `['BOROUGH NAME'] == Manhattan`. Setelah itu, digunakan fungsi `.mode()` untuk mendapatkan modus dari kolom `BUILDING CLASS CATEGORY` dengan syarat `BOROUGH NAME == Manhattan`."
   ]
  },
  {
   "cell_type": "code",
   "execution_count": 38,
   "id": "5c29efef-fcaa-4459-965e-d3aa876a39fc",
   "metadata": {},
   "outputs": [
    {
     "data": {
      "text/plain": [
       "0    13 CONDOS - ELEVATOR APARTMENTS            \n",
       "Name: BUILDING CLASS CATEGORY, dtype: object"
      ]
     },
     "execution_count": 38,
     "metadata": {},
     "output_type": "execute_result"
    }
   ],
   "source": [
    "#mode Manhattan\n",
    "\n",
    "df_manhattan = df_nyc.loc[(df_nyc['BOROUGH NAME'] == 'Manhattan')]\n",
    "mode_manhattan = df_manhattan['BUILDING CLASS CATEGORY'].mode()\n",
    "mode_manhattan"
   ]
  },
  {
   "cell_type": "markdown",
   "id": "2fd02854-efd3-47e2-9f94-d8c2e57e2321",
   "metadata": {},
   "source": [
    "Untuk mendapatkan modus kolom `BUILDING CLASS CATEGORY` pada wilayah Bronx, data frame `df_nyc` perlu di-slicing terlebih dahulu menggunakan fungsi `.loc` dengan syarat `['BOROUGH NAME'] == Bronx`. Setelah itu, digunakan fungsi `.mode()` untuk mendapatkan modus dari kolom `BUILDING CLASS CATEGORY` dengan syarat `BOROUGH NAME == Bronx`."
   ]
  },
  {
   "cell_type": "code",
   "execution_count": 39,
   "id": "9cb31cfa-f168-45fc-bdd9-1910232ecc19",
   "metadata": {
    "tags": []
   },
   "outputs": [
    {
     "data": {
      "text/plain": [
       "0    02 TWO FAMILY DWELLINGS                    \n",
       "Name: BUILDING CLASS CATEGORY, dtype: object"
      ]
     },
     "execution_count": 39,
     "metadata": {},
     "output_type": "execute_result"
    }
   ],
   "source": [
    "#mode Bronx\n",
    "\n",
    "df_bronx = df_nyc.loc[(df_nyc['BOROUGH NAME'] == 'Bronx')]\n",
    "mode_bronx = df_bronx['BUILDING CLASS CATEGORY'].mode()\n",
    "mode_bronx"
   ]
  },
  {
   "cell_type": "markdown",
   "id": "521cf4fe-9359-42b9-b748-bea268361756",
   "metadata": {},
   "source": [
    "Untuk mendapatkan modus kolom `BUILDING CLASS CATEGORY` pada wilayah Brooklyn, data frame `df_nyc` perlu di-slicing terlebih dahulu menggunakan fungsi `.loc` dengan syarat `['BOROUGH NAME'] == Brooklyn`. Setelah itu, digunakan fungsi `.mode()` untuk mendapatkan modus dari kolom `BUILDING CLASS CATEGORY` dengan syarat `BOROUGH NAME == Brooklyn`."
   ]
  },
  {
   "cell_type": "code",
   "execution_count": 40,
   "id": "386efacf-4758-483c-86fa-0bede10401a6",
   "metadata": {},
   "outputs": [
    {
     "data": {
      "text/plain": [
       "0    02 TWO FAMILY DWELLINGS                    \n",
       "Name: BUILDING CLASS CATEGORY, dtype: object"
      ]
     },
     "execution_count": 40,
     "metadata": {},
     "output_type": "execute_result"
    }
   ],
   "source": [
    "#mode Brooklyn\n",
    "\n",
    "df_brooklyn = df_nyc.loc[(df_nyc['BOROUGH NAME'] == 'Brooklyn')]\n",
    "mode_brooklyn = df_brooklyn['BUILDING CLASS CATEGORY'].mode()\n",
    "mode_brooklyn"
   ]
  },
  {
   "cell_type": "markdown",
   "id": "d7eb181a-e475-4bae-a2c9-8b730a90b472",
   "metadata": {},
   "source": [
    "Untuk mendapatkan modus kolom `BUILDING CLASS CATEGORY` pada wilayah Queens, data frame `df_nyc` perlu di-slicing terlebih dahulu menggunakan fungsi `.loc` dengan syarat `['BOROUGH NAME'] == Queens`. Setelah itu, digunakan fungsi `.mode()` untuk mendapatkan modus dari kolom `BUILDING CLASS CATEGORY` dengan syarat `BOROUGH NAME == Queens`."
   ]
  },
  {
   "cell_type": "code",
   "execution_count": 41,
   "id": "1e84f1a9-3065-4bec-9ecc-0a26f0320c99",
   "metadata": {},
   "outputs": [
    {
     "data": {
      "text/plain": [
       "0    01 ONE FAMILY DWELLINGS                    \n",
       "Name: BUILDING CLASS CATEGORY, dtype: object"
      ]
     },
     "execution_count": 41,
     "metadata": {},
     "output_type": "execute_result"
    }
   ],
   "source": [
    "#mode Queens\n",
    "\n",
    "df_queens = df_nyc.loc[(df_nyc['BOROUGH NAME'] == 'Queens')]\n",
    "mode_queens = df_queens['BUILDING CLASS CATEGORY'].mode()\n",
    "mode_queens"
   ]
  },
  {
   "cell_type": "markdown",
   "id": "c1eac9f2-ac09-4bf2-8a74-8d8fb64306e0",
   "metadata": {},
   "source": [
    "Untuk mendapatkan modus kolom `BUILDING CLASS CATEGORY` pada wilayah Staten Island, data frame `df_nyc` perlu di-slicing terlebih dahulu menggunakan fungsi `.loc` dengan syarat `['BOROUGH NAME'] == Staten Island`. Setelah itu, digunakan fungsi `.mode()` untuk mendapatkan modus dari kolom `BUILDING CLASS CATEGORY` dengan syarat `BOROUGH NAME == Staten Island`."
   ]
  },
  {
   "cell_type": "code",
   "execution_count": 42,
   "id": "b304296c-d402-4242-814a-87e591323bd7",
   "metadata": {},
   "outputs": [
    {
     "data": {
      "text/plain": [
       "0    01 ONE FAMILY DWELLINGS                    \n",
       "Name: BUILDING CLASS CATEGORY, dtype: object"
      ]
     },
     "execution_count": 42,
     "metadata": {},
     "output_type": "execute_result"
    }
   ],
   "source": [
    "#mode Staten Island\n",
    "\n",
    "df_staten = df_nyc.loc[(df_nyc['BOROUGH NAME'] == 'Staten Island')]\n",
    "mode_staten = df_staten['BUILDING CLASS CATEGORY'].mode()\n",
    "mode_staten"
   ]
  },
  {
   "cell_type": "markdown",
   "id": "92e2700e-0201-41e2-b93e-8126858d9ea9",
   "metadata": {},
   "source": [
    "Untuk memudahkan proses interpretasi, median kolom `BUILDING CLASS CATEGORY` di NYC dan masing-masing wilayah dirangkum pada sebuah data frame baru."
   ]
  },
  {
   "cell_type": "code",
   "execution_count": 43,
   "id": "62f6f287-9461-4d14-ab21-0432e69546c1",
   "metadata": {},
   "outputs": [
    {
     "data": {
      "text/html": [
       "<div>\n",
       "<style scoped>\n",
       "    .dataframe tbody tr th:only-of-type {\n",
       "        vertical-align: middle;\n",
       "    }\n",
       "\n",
       "    .dataframe tbody tr th {\n",
       "        vertical-align: top;\n",
       "    }\n",
       "\n",
       "    .dataframe thead th {\n",
       "        text-align: right;\n",
       "    }\n",
       "</style>\n",
       "<table border=\"1\" class=\"dataframe\">\n",
       "  <thead>\n",
       "    <tr style=\"text-align: right;\">\n",
       "      <th></th>\n",
       "      <th>mode</th>\n",
       "    </tr>\n",
       "  </thead>\n",
       "  <tbody>\n",
       "    <tr>\n",
       "      <th>NYC</th>\n",
       "      <td>0    01 ONE FAMILY DWELLINGS                  ...</td>\n",
       "    </tr>\n",
       "    <tr>\n",
       "      <th>Manhattan</th>\n",
       "      <td>0    13 CONDOS - ELEVATOR APARTMENTS          ...</td>\n",
       "    </tr>\n",
       "    <tr>\n",
       "      <th>Bronx</th>\n",
       "      <td>0    02 TWO FAMILY DWELLINGS                  ...</td>\n",
       "    </tr>\n",
       "    <tr>\n",
       "      <th>Brooklyn</th>\n",
       "      <td>0    02 TWO FAMILY DWELLINGS                  ...</td>\n",
       "    </tr>\n",
       "    <tr>\n",
       "      <th>Queens</th>\n",
       "      <td>0    01 ONE FAMILY DWELLINGS                  ...</td>\n",
       "    </tr>\n",
       "    <tr>\n",
       "      <th>Staten Island</th>\n",
       "      <td>0    01 ONE FAMILY DWELLINGS                  ...</td>\n",
       "    </tr>\n",
       "  </tbody>\n",
       "</table>\n",
       "</div>"
      ],
      "text/plain": [
       "                                                            mode\n",
       "NYC            0    01 ONE FAMILY DWELLINGS                  ...\n",
       "Manhattan      0    13 CONDOS - ELEVATOR APARTMENTS          ...\n",
       "Bronx          0    02 TWO FAMILY DWELLINGS                  ...\n",
       "Brooklyn       0    02 TWO FAMILY DWELLINGS                  ...\n",
       "Queens         0    01 ONE FAMILY DWELLINGS                  ...\n",
       "Staten Island  0    01 ONE FAMILY DWELLINGS                  ..."
      ]
     },
     "execution_count": 43,
     "metadata": {},
     "output_type": "execute_result"
    }
   ],
   "source": [
    "mode_ = {'mode':[mode_nyc, mode_manhattan, mode_bronx, mode_brooklyn, mode_queens, mode_staten]}\n",
    "mode = pd.DataFrame(mode_, index=['NYC','Manhattan','Bronx','Brooklyn','Queens','Staten Island'])\n",
    "mode"
   ]
  },
  {
   "cell_type": "markdown",
   "id": "74fa9c38-bacd-4e5e-8446-e1f039d2a495",
   "metadata": {},
   "source": [
    "**Interpretasi:**\n",
    "\n",
    "Berdasarkan hasil perhitungan, didapatkan bahwa:\n",
    "\n",
    "- Kategori kelas bangunan yang paling banyak dijual di NYC adalah ONE FAMILY DWELLINGS\n",
    "- Kategori kelas bangunan yang paling banyak dijual di wilayah Manhattan adalag CONDOS - ELEVATOR APARTMENTS\n",
    "- Kategori kelas bangunan yang paling banyak dijual di wilayah Bronx adalah TWO FAMILY DWELLINGS\n",
    "- Kategori kelas bangunan yang paling banyak dijual di wilayah Brooklyn adalah TWO FAMILY DWELLINGS\n",
    "- Kategori kelas bangunan yang paling banyak dijual di wilayah Queens adalah ONE FAMILY DWELLINGS\n",
    "- Kategori kelas bangunan yang paling banyak dijual di wilayah Staten Island adalah ONE FAMILY DWELLINGS"
   ]
  },
  {
   "cell_type": "markdown",
   "id": "0f9992ca-1d5c-4c89-aa7c-0c14031e7b6a",
   "metadata": {},
   "source": [
    "## Measure of Spread"
   ]
  },
  {
   "cell_type": "markdown",
   "id": "0da76a56-ad53-479d-998f-d0c848fd9a19",
   "metadata": {},
   "source": [
    "Measure of spread adalah cara yang digunakan untuk mendeskripsikan penyebaran data. Umumnya pengukuran persebaran data menggunakan range, variance, dan standard deviation."
   ]
  },
  {
   "cell_type": "markdown",
   "id": "a2be1866-0aab-408b-9748-ba9523621cab",
   "metadata": {},
   "source": [
    "### Case 4"
   ]
  },
  {
   "cell_type": "markdown",
   "id": "7d887a71-2b2e-4951-b3a3-611b7ba09156",
   "metadata": {},
   "source": [
    "Ingin diketahui persebaran data penjualan properti di NYC selama 12 bulan."
   ]
  },
  {
   "cell_type": "markdown",
   "id": "b4b56977-27cf-4363-b2cd-93582b543ce7",
   "metadata": {},
   "source": [
    "### Range"
   ]
  },
  {
   "cell_type": "markdown",
   "id": "96c223ab-ad9f-4be3-8d72-86f5d4f6caf9",
   "metadata": {},
   "source": [
    "Range adalah selisih antara nilai minimum dan maksimum pada sebuah data."
   ]
  },
  {
   "cell_type": "markdown",
   "id": "8ecaa62e-2987-41ad-9a67-3a8a1179ff39",
   "metadata": {},
   "source": [
    "Untuk mengetahui selisih dari nilai `SALE PRICE` pada data, digunakan fungsi `np.ptp()` yang berasal dari library numpy."
   ]
  },
  {
   "cell_type": "code",
   "execution_count": 44,
   "id": "5d3d662c-d5df-4191-93fb-01eccd171141",
   "metadata": {},
   "outputs": [
    {
     "data": {
      "text/plain": [
       "2209999999.0"
      ]
     },
     "execution_count": 44,
     "metadata": {},
     "output_type": "execute_result"
    }
   ],
   "source": [
    "range_ = np.ptp(df_nyc['SALE PRICE'])\n",
    "range_"
   ]
  },
  {
   "cell_type": "markdown",
   "id": "8dc2e325-0c1b-4185-9b42-4ec721587d5d",
   "metadata": {},
   "source": [
    "### Variance"
   ]
  },
  {
   "cell_type": "markdown",
   "id": "de19267c-4e4d-43fb-868d-ad8358c0d97c",
   "metadata": {},
   "source": [
    "Variance atau ragam adalah nilai rata-rata perbedaan kuadrat yang digunakan untuk menentuukan kedekatan sebaran data pada sampel dan kedekatan nilai individu data terhadap mean sampel.\n",
    "\n",
    "Variance dapat dihitung menggunakan fungsi `np.var()` yang berasal dari library numpy."
   ]
  },
  {
   "cell_type": "code",
   "execution_count": 45,
   "id": "8c04418c-b976-4b7d-9c6b-1c904f15468b",
   "metadata": {},
   "outputs": [
    {
     "data": {
      "text/plain": [
       "108508017937508.36"
      ]
     },
     "execution_count": 45,
     "metadata": {},
     "output_type": "execute_result"
    }
   ],
   "source": [
    "var = np.var(df_nyc['SALE PRICE'],ddof=1)\n",
    "var"
   ]
  },
  {
   "cell_type": "markdown",
   "id": "d89a6138-57eb-4744-ab5a-d042cd7200b0",
   "metadata": {},
   "source": [
    "### Standard Deviation"
   ]
  },
  {
   "cell_type": "markdown",
   "id": "88b73cc7-0b04-4b91-a25b-ccec6ca29d8e",
   "metadata": {},
   "source": [
    "Standard Deviation adalah akar kuadrat dari variance yaitu ukuran yang menunjukkan seberapa besar variasi rata-rata.\n",
    "\n",
    "Standard Deviation dapat dihitung menggunakan fungsi `np.std()` yang berasal dari library numpy."
   ]
  },
  {
   "cell_type": "code",
   "execution_count": 46,
   "id": "cd8d7156-561a-4aff-bede-dee3ed28f91e",
   "metadata": {},
   "outputs": [
    {
     "data": {
      "text/plain": [
       "10416718.19420629"
      ]
     },
     "execution_count": 46,
     "metadata": {},
     "output_type": "execute_result"
    }
   ],
   "source": [
    "sd = np.std(df_nyc['SALE PRICE'],ddof=1)\n",
    "sd"
   ]
  },
  {
   "cell_type": "markdown",
   "id": "c3b4b153-b689-4f60-8b6e-e0f29ac33589",
   "metadata": {},
   "source": [
    "Untuk memudahkan proses interpretasi, Measure of Spread kolom `SALE PRICE` pada data frame `df_nyc` dirangkum pada sebuah data frame baru."
   ]
  },
  {
   "cell_type": "code",
   "execution_count": 47,
   "id": "2e484984-147a-42ca-8ac2-ff7423931401",
   "metadata": {},
   "outputs": [
    {
     "data": {
      "text/html": [
       "<div>\n",
       "<style scoped>\n",
       "    .dataframe tbody tr th:only-of-type {\n",
       "        vertical-align: middle;\n",
       "    }\n",
       "\n",
       "    .dataframe tbody tr th {\n",
       "        vertical-align: top;\n",
       "    }\n",
       "\n",
       "    .dataframe thead th {\n",
       "        text-align: right;\n",
       "    }\n",
       "</style>\n",
       "<table border=\"1\" class=\"dataframe\">\n",
       "  <thead>\n",
       "    <tr style=\"text-align: right;\">\n",
       "      <th></th>\n",
       "      <th>NYC</th>\n",
       "    </tr>\n",
       "  </thead>\n",
       "  <tbody>\n",
       "    <tr>\n",
       "      <th>Range</th>\n",
       "      <td>2.210000e+09</td>\n",
       "    </tr>\n",
       "    <tr>\n",
       "      <th>Variance</th>\n",
       "      <td>1.085080e+14</td>\n",
       "    </tr>\n",
       "    <tr>\n",
       "      <th>Standard Deviation</th>\n",
       "      <td>1.041672e+07</td>\n",
       "    </tr>\n",
       "  </tbody>\n",
       "</table>\n",
       "</div>"
      ],
      "text/plain": [
       "                             NYC\n",
       "Range               2.210000e+09\n",
       "Variance            1.085080e+14\n",
       "Standard Deviation  1.041672e+07"
      ]
     },
     "execution_count": 47,
     "metadata": {},
     "output_type": "execute_result"
    }
   ],
   "source": [
    "measurement = {'NYC' : [range_,var,sd]}\n",
    "mse = pd.DataFrame(measurement,index=['Range','Variance','Standard Deviation'])\n",
    "mse"
   ]
  },
  {
   "cell_type": "markdown",
   "id": "ef6b6e45-0724-4f84-bdb5-f4c0f491e65a",
   "metadata": {},
   "source": [
    "**Interpretasi:**\n",
    "\n",
    "Berdasarkan hasil perhitungan, didapatkan bahwa:\n",
    "\n",
    "- Range atau selisih dari nilai maksimum dan nilai minimum harga jual properti di NYC adalah 2209999999 USD.\n",
    "- Variance atau ragam dari harga jual properti di NYC adalah 108508017937508.4 USD.\n",
    "- Standard Deviation atau simpangan baku harga jual properti di NYC adalah 10416718.2 USD."
   ]
  },
  {
   "cell_type": "markdown",
   "id": "a4371e97-d568-4224-b308-bb1921bd984d",
   "metadata": {},
   "source": [
    "## Probability Distribution"
   ]
  },
  {
   "cell_type": "markdown",
   "id": "263753ae-1cf0-46d1-95bc-a6d98e1bba57",
   "metadata": {},
   "source": [
    "Peluang atau probabilitas adalah banyaknya kejadian atau peristiwa yang muncul dengan banyaknya atau semua kejadian yang mungkin muncul. Distribusi peluang adalah munculnya suatu peristiwa terjadi atau tidak terjadi secara berkali-kali atau banyak sekali sehingga peluang dapat disusun. Distribusi peluang terbagi menjadi dua jenis yaitu distribusi peluang diskrit dan distribusi peluang kontinu."
   ]
  },
  {
   "cell_type": "markdown",
   "id": "384837ed-52e9-497c-8bce-f3755fb27bc5",
   "metadata": {},
   "source": [
    "### Case 5"
   ]
  },
  {
   "cell_type": "markdown",
   "id": "2f70d741-a1ad-4c28-8edf-c4d3505b810e",
   "metadata": {},
   "source": [
    "Ingin diketahui sebaran peluang dari data harga penjualan properti di NYC pada rentang harga 500000 USD hingga 10000000 USD."
   ]
  },
  {
   "cell_type": "markdown",
   "id": "7831d74f-9fb4-4f8b-8c50-77123066dae5",
   "metadata": {},
   "source": [
    "Untuk mendapatkan data pada kolom `SALE PRICE` dengan syarat tertentu perlu dilakukan slicing pada data frame df_nyc berdasarkan kolom `SALE PRICE` dengan syarat data dari kolom `SALE PRICE` bernilai lebih dari 500000 USD dan kurang dari 10000000 USD. Data kemudian disimpan dalam dataframe bernama `sale`."
   ]
  },
  {
   "cell_type": "code",
   "execution_count": 48,
   "id": "dee58463-613c-4d0d-a188-b2f76de024a1",
   "metadata": {},
   "outputs": [
    {
     "data": {
      "text/html": [
       "<div>\n",
       "<style scoped>\n",
       "    .dataframe tbody tr th:only-of-type {\n",
       "        vertical-align: middle;\n",
       "    }\n",
       "\n",
       "    .dataframe tbody tr th {\n",
       "        vertical-align: top;\n",
       "    }\n",
       "\n",
       "    .dataframe thead th {\n",
       "        text-align: right;\n",
       "    }\n",
       "</style>\n",
       "<table border=\"1\" class=\"dataframe\">\n",
       "  <thead>\n",
       "    <tr style=\"text-align: right;\">\n",
       "      <th></th>\n",
       "      <th>NEIGHBORHOOD</th>\n",
       "      <th>BUILDING CLASS CATEGORY</th>\n",
       "      <th>TAX CLASS AT PRESENT</th>\n",
       "      <th>BLOCK</th>\n",
       "      <th>LOT</th>\n",
       "      <th>BUILDING CLASS AT PRESENT</th>\n",
       "      <th>ADDRESS</th>\n",
       "      <th>ZIP CODE</th>\n",
       "      <th>RESIDENTIAL UNITS</th>\n",
       "      <th>COMMERCIAL UNITS</th>\n",
       "      <th>TOTAL UNITS</th>\n",
       "      <th>LAND SQUARE FEET</th>\n",
       "      <th>GROSS SQUARE FEET</th>\n",
       "      <th>YEAR BUILT</th>\n",
       "      <th>TAX CLASS AT TIME OF SALE</th>\n",
       "      <th>BUILDING CLASS AT TIME OF SALE</th>\n",
       "      <th>SALE PRICE</th>\n",
       "      <th>SALE DATE</th>\n",
       "      <th>BOROUGH NAME</th>\n",
       "    </tr>\n",
       "  </thead>\n",
       "  <tbody>\n",
       "    <tr>\n",
       "      <th>0</th>\n",
       "      <td>ALPHABET CITY</td>\n",
       "      <td>07 RENTALS - WALKUP APARTMENTS</td>\n",
       "      <td>2A</td>\n",
       "      <td>392</td>\n",
       "      <td>6</td>\n",
       "      <td>C2</td>\n",
       "      <td>153 AVENUE B</td>\n",
       "      <td>10009</td>\n",
       "      <td>5</td>\n",
       "      <td>0</td>\n",
       "      <td>5</td>\n",
       "      <td>1633.0</td>\n",
       "      <td>6440.0</td>\n",
       "      <td>1900</td>\n",
       "      <td>2</td>\n",
       "      <td>C2</td>\n",
       "      <td>6625000.0</td>\n",
       "      <td>2017-07-19</td>\n",
       "      <td>Manhattan</td>\n",
       "    </tr>\n",
       "    <tr>\n",
       "      <th>1</th>\n",
       "      <td>ALPHABET CITY</td>\n",
       "      <td>07 RENTALS - WALKUP APARTMENTS</td>\n",
       "      <td>2</td>\n",
       "      <td>399</td>\n",
       "      <td>26</td>\n",
       "      <td>C7</td>\n",
       "      <td>234 EAST 4TH   STREET</td>\n",
       "      <td>10009</td>\n",
       "      <td>28</td>\n",
       "      <td>3</td>\n",
       "      <td>31</td>\n",
       "      <td>4616.0</td>\n",
       "      <td>18690.0</td>\n",
       "      <td>1900</td>\n",
       "      <td>2</td>\n",
       "      <td>C7</td>\n",
       "      <td>533000.0</td>\n",
       "      <td>2016-12-14</td>\n",
       "      <td>Manhattan</td>\n",
       "    </tr>\n",
       "    <tr>\n",
       "      <th>2</th>\n",
       "      <td>ALPHABET CITY</td>\n",
       "      <td>07 RENTALS - WALKUP APARTMENTS</td>\n",
       "      <td>2</td>\n",
       "      <td>399</td>\n",
       "      <td>39</td>\n",
       "      <td>C7</td>\n",
       "      <td>197 EAST 3RD   STREET</td>\n",
       "      <td>10009</td>\n",
       "      <td>16</td>\n",
       "      <td>1</td>\n",
       "      <td>17</td>\n",
       "      <td>2212.0</td>\n",
       "      <td>7803.0</td>\n",
       "      <td>1900</td>\n",
       "      <td>2</td>\n",
       "      <td>C7</td>\n",
       "      <td>533000.0</td>\n",
       "      <td>2016-12-09</td>\n",
       "      <td>Manhattan</td>\n",
       "    </tr>\n",
       "    <tr>\n",
       "      <th>3</th>\n",
       "      <td>ALPHABET CITY</td>\n",
       "      <td>07 RENTALS - WALKUP APARTMENTS</td>\n",
       "      <td>2B</td>\n",
       "      <td>402</td>\n",
       "      <td>21</td>\n",
       "      <td>C4</td>\n",
       "      <td>154 EAST 7TH STREET</td>\n",
       "      <td>10009</td>\n",
       "      <td>10</td>\n",
       "      <td>0</td>\n",
       "      <td>10</td>\n",
       "      <td>2272.0</td>\n",
       "      <td>6794.0</td>\n",
       "      <td>1913</td>\n",
       "      <td>2</td>\n",
       "      <td>C4</td>\n",
       "      <td>3936272.0</td>\n",
       "      <td>2016-09-23</td>\n",
       "      <td>Manhattan</td>\n",
       "    </tr>\n",
       "    <tr>\n",
       "      <th>4</th>\n",
       "      <td>ALPHABET CITY</td>\n",
       "      <td>07 RENTALS - WALKUP APARTMENTS</td>\n",
       "      <td>2A</td>\n",
       "      <td>404</td>\n",
       "      <td>55</td>\n",
       "      <td>C2</td>\n",
       "      <td>301 EAST 10TH   STREET</td>\n",
       "      <td>10009</td>\n",
       "      <td>6</td>\n",
       "      <td>0</td>\n",
       "      <td>6</td>\n",
       "      <td>2369.0</td>\n",
       "      <td>4615.0</td>\n",
       "      <td>1900</td>\n",
       "      <td>2</td>\n",
       "      <td>C2</td>\n",
       "      <td>8000000.0</td>\n",
       "      <td>2016-11-17</td>\n",
       "      <td>Manhattan</td>\n",
       "    </tr>\n",
       "    <tr>\n",
       "      <th>...</th>\n",
       "      <td>...</td>\n",
       "      <td>...</td>\n",
       "      <td>...</td>\n",
       "      <td>...</td>\n",
       "      <td>...</td>\n",
       "      <td>...</td>\n",
       "      <td>...</td>\n",
       "      <td>...</td>\n",
       "      <td>...</td>\n",
       "      <td>...</td>\n",
       "      <td>...</td>\n",
       "      <td>...</td>\n",
       "      <td>...</td>\n",
       "      <td>...</td>\n",
       "      <td>...</td>\n",
       "      <td>...</td>\n",
       "      <td>...</td>\n",
       "      <td>...</td>\n",
       "      <td>...</td>\n",
       "    </tr>\n",
       "    <tr>\n",
       "      <th>83774</th>\n",
       "      <td>WOODROW</td>\n",
       "      <td>02 TWO FAMILY DWELLINGS</td>\n",
       "      <td>1</td>\n",
       "      <td>7316</td>\n",
       "      <td>85</td>\n",
       "      <td>B2</td>\n",
       "      <td>137 DARNELL LANE</td>\n",
       "      <td>10309</td>\n",
       "      <td>2</td>\n",
       "      <td>0</td>\n",
       "      <td>2</td>\n",
       "      <td>3016.0</td>\n",
       "      <td>1300.0</td>\n",
       "      <td>1995</td>\n",
       "      <td>1</td>\n",
       "      <td>B2</td>\n",
       "      <td>533000.0</td>\n",
       "      <td>2016-12-30</td>\n",
       "      <td>Staten Island</td>\n",
       "    </tr>\n",
       "    <tr>\n",
       "      <th>83775</th>\n",
       "      <td>WOODROW</td>\n",
       "      <td>02 TWO FAMILY DWELLINGS</td>\n",
       "      <td>1</td>\n",
       "      <td>7316</td>\n",
       "      <td>93</td>\n",
       "      <td>B2</td>\n",
       "      <td>125 DARNELL LANE</td>\n",
       "      <td>10309</td>\n",
       "      <td>2</td>\n",
       "      <td>0</td>\n",
       "      <td>2</td>\n",
       "      <td>3325.0</td>\n",
       "      <td>1300.0</td>\n",
       "      <td>1995</td>\n",
       "      <td>1</td>\n",
       "      <td>B2</td>\n",
       "      <td>509000.0</td>\n",
       "      <td>2016-10-31</td>\n",
       "      <td>Staten Island</td>\n",
       "    </tr>\n",
       "    <tr>\n",
       "      <th>83776</th>\n",
       "      <td>WOODROW</td>\n",
       "      <td>02 TWO FAMILY DWELLINGS</td>\n",
       "      <td>1</td>\n",
       "      <td>7317</td>\n",
       "      <td>126</td>\n",
       "      <td>B2</td>\n",
       "      <td>112 ROBIN COURT</td>\n",
       "      <td>10309</td>\n",
       "      <td>2</td>\n",
       "      <td>0</td>\n",
       "      <td>2</td>\n",
       "      <td>11088.0</td>\n",
       "      <td>2160.0</td>\n",
       "      <td>1994</td>\n",
       "      <td>1</td>\n",
       "      <td>B2</td>\n",
       "      <td>648000.0</td>\n",
       "      <td>2016-12-07</td>\n",
       "      <td>Staten Island</td>\n",
       "    </tr>\n",
       "    <tr>\n",
       "      <th>83777</th>\n",
       "      <td>WOODROW</td>\n",
       "      <td>02 TWO FAMILY DWELLINGS</td>\n",
       "      <td>1</td>\n",
       "      <td>7339</td>\n",
       "      <td>41</td>\n",
       "      <td>B9</td>\n",
       "      <td>41 SONIA COURT</td>\n",
       "      <td>10309</td>\n",
       "      <td>2</td>\n",
       "      <td>0</td>\n",
       "      <td>2</td>\n",
       "      <td>3020.0</td>\n",
       "      <td>1800.0</td>\n",
       "      <td>1997</td>\n",
       "      <td>1</td>\n",
       "      <td>B9</td>\n",
       "      <td>533000.0</td>\n",
       "      <td>2016-12-01</td>\n",
       "      <td>Staten Island</td>\n",
       "    </tr>\n",
       "    <tr>\n",
       "      <th>83779</th>\n",
       "      <td>WOODROW</td>\n",
       "      <td>02 TWO FAMILY DWELLINGS</td>\n",
       "      <td>1</td>\n",
       "      <td>7349</td>\n",
       "      <td>78</td>\n",
       "      <td>B9</td>\n",
       "      <td>32 PHEASANT LANE</td>\n",
       "      <td>10309</td>\n",
       "      <td>2</td>\n",
       "      <td>0</td>\n",
       "      <td>2</td>\n",
       "      <td>2498.0</td>\n",
       "      <td>2377.0</td>\n",
       "      <td>1998</td>\n",
       "      <td>1</td>\n",
       "      <td>B9</td>\n",
       "      <td>550000.0</td>\n",
       "      <td>2017-04-21</td>\n",
       "      <td>Staten Island</td>\n",
       "    </tr>\n",
       "  </tbody>\n",
       "</table>\n",
       "<p>59615 rows × 19 columns</p>\n",
       "</div>"
      ],
      "text/plain": [
       "        NEIGHBORHOOD                      BUILDING CLASS CATEGORY  \\\n",
       "0      ALPHABET CITY  07 RENTALS - WALKUP APARTMENTS                \n",
       "1      ALPHABET CITY  07 RENTALS - WALKUP APARTMENTS                \n",
       "2      ALPHABET CITY  07 RENTALS - WALKUP APARTMENTS                \n",
       "3      ALPHABET CITY  07 RENTALS - WALKUP APARTMENTS                \n",
       "4      ALPHABET CITY  07 RENTALS - WALKUP APARTMENTS                \n",
       "...              ...                                          ...   \n",
       "83774        WOODROW  02 TWO FAMILY DWELLINGS                       \n",
       "83775        WOODROW  02 TWO FAMILY DWELLINGS                       \n",
       "83776        WOODROW  02 TWO FAMILY DWELLINGS                       \n",
       "83777        WOODROW  02 TWO FAMILY DWELLINGS                       \n",
       "83779        WOODROW  02 TWO FAMILY DWELLINGS                       \n",
       "\n",
       "      TAX CLASS AT PRESENT  BLOCK  LOT BUILDING CLASS AT PRESENT  \\\n",
       "0                       2A    392    6                        C2   \n",
       "1                        2    399   26                        C7   \n",
       "2                        2    399   39                        C7   \n",
       "3                       2B    402   21                        C4   \n",
       "4                       2A    404   55                        C2   \n",
       "...                    ...    ...  ...                       ...   \n",
       "83774                    1   7316   85                        B2   \n",
       "83775                    1   7316   93                        B2   \n",
       "83776                    1   7317  126                        B2   \n",
       "83777                    1   7339   41                        B9   \n",
       "83779                    1   7349   78                        B9   \n",
       "\n",
       "                      ADDRESS  ZIP CODE  RESIDENTIAL UNITS  COMMERCIAL UNITS  \\\n",
       "0                153 AVENUE B     10009                  5                 0   \n",
       "1       234 EAST 4TH   STREET     10009                 28                 3   \n",
       "2       197 EAST 3RD   STREET     10009                 16                 1   \n",
       "3         154 EAST 7TH STREET     10009                 10                 0   \n",
       "4      301 EAST 10TH   STREET     10009                  6                 0   \n",
       "...                       ...       ...                ...               ...   \n",
       "83774        137 DARNELL LANE     10309                  2                 0   \n",
       "83775        125 DARNELL LANE     10309                  2                 0   \n",
       "83776         112 ROBIN COURT     10309                  2                 0   \n",
       "83777          41 SONIA COURT     10309                  2                 0   \n",
       "83779        32 PHEASANT LANE     10309                  2                 0   \n",
       "\n",
       "       TOTAL UNITS  LAND SQUARE FEET  GROSS SQUARE FEET  YEAR BUILT  \\\n",
       "0                5            1633.0             6440.0        1900   \n",
       "1               31            4616.0            18690.0        1900   \n",
       "2               17            2212.0             7803.0        1900   \n",
       "3               10            2272.0             6794.0        1913   \n",
       "4                6            2369.0             4615.0        1900   \n",
       "...            ...               ...                ...         ...   \n",
       "83774            2            3016.0             1300.0        1995   \n",
       "83775            2            3325.0             1300.0        1995   \n",
       "83776            2           11088.0             2160.0        1994   \n",
       "83777            2            3020.0             1800.0        1997   \n",
       "83779            2            2498.0             2377.0        1998   \n",
       "\n",
       "       TAX CLASS AT TIME OF SALE BUILDING CLASS AT TIME OF SALE  SALE PRICE  \\\n",
       "0                              2                             C2   6625000.0   \n",
       "1                              2                             C7    533000.0   \n",
       "2                              2                             C7    533000.0   \n",
       "3                              2                             C4   3936272.0   \n",
       "4                              2                             C2   8000000.0   \n",
       "...                          ...                            ...         ...   \n",
       "83774                          1                             B2    533000.0   \n",
       "83775                          1                             B2    509000.0   \n",
       "83776                          1                             B2    648000.0   \n",
       "83777                          1                             B9    533000.0   \n",
       "83779                          1                             B9    550000.0   \n",
       "\n",
       "       SALE DATE   BOROUGH NAME  \n",
       "0     2017-07-19      Manhattan  \n",
       "1     2016-12-14      Manhattan  \n",
       "2     2016-12-09      Manhattan  \n",
       "3     2016-09-23      Manhattan  \n",
       "4     2016-11-17      Manhattan  \n",
       "...          ...            ...  \n",
       "83774 2016-12-30  Staten Island  \n",
       "83775 2016-10-31  Staten Island  \n",
       "83776 2016-12-07  Staten Island  \n",
       "83777 2016-12-01  Staten Island  \n",
       "83779 2017-04-21  Staten Island  \n",
       "\n",
       "[59615 rows x 19 columns]"
      ]
     },
     "execution_count": 48,
     "metadata": {},
     "output_type": "execute_result"
    }
   ],
   "source": [
    "sale = df_nyc[(df_nyc['SALE PRICE'] > 500000) & (df_nyc['SALE PRICE'] < 10000000)]\n",
    "sale"
   ]
  },
  {
   "cell_type": "markdown",
   "id": "7af5d32a-b313-49d0-8c25-0389adf14430",
   "metadata": {},
   "source": [
    "Untuk membentuk sebuah plot distribusi peluang, digunakan fungsi `sns.distplot()` yang berasal dari library seaborn."
   ]
  },
  {
   "cell_type": "code",
   "execution_count": 49,
   "id": "a77200d5-3d5b-418f-a058-91624acb71e7",
   "metadata": {},
   "outputs": [
    {
     "name": "stderr",
     "output_type": "stream",
     "text": [
      "C:\\Users\\USER\\anaconda3\\lib\\site-packages\\seaborn\\distributions.py:2619: FutureWarning: `distplot` is a deprecated function and will be removed in a future version. Please adapt your code to use either `displot` (a figure-level function with similar flexibility) or `histplot` (an axes-level function for histograms).\n",
      "  warnings.warn(msg, FutureWarning)\n"
     ]
    },
    {
     "data": {
      "text/plain": [
       "<AxesSubplot:xlabel='SALE PRICE', ylabel='Density'>"
      ]
     },
     "execution_count": 49,
     "metadata": {},
     "output_type": "execute_result"
    },
    {
     "data": {
      "image/png": "[encoded data removed]",
      "text/plain": [
       "<Figure size 640x480 with 1 Axes>"
      ]
     },
     "metadata": {},
     "output_type": "display_data"
    }
   ],
   "source": [
    "sns.distplot(sale['SALE PRICE'])"
   ]
  },
  {
   "cell_type": "markdown",
   "id": "0fbcb166-83a3-4220-b5e1-55cec60634a2",
   "metadata": {},
   "source": [
    "**Interpretasi:**\n",
    "\n",
    "Berdasarkan plot distribusi peluang yang terbentuk, dapat terlihat bahwa sebaran data menyerupai sebaran peluang eksponensial. Hal ini dapat terlihat dari ekor kurva yang berada di sebelah kanan."
   ]
  },
  {
   "cell_type": "markdown",
   "id": "92cef629-8765-405c-a962-096dfc9b3bc0",
   "metadata": {},
   "source": [
    "## Confidence Interval"
   ]
  },
  {
   "cell_type": "markdown",
   "id": "266e1d50-77fe-4707-86c6-dbaa356c4cb4",
   "metadata": {},
   "source": [
    "Confidence Interval adalah  parameter yang digunakan untuk menentukan keakuratan mean suatu sampel. Confidence Interval digunakan yntuk menentukan rentang nilai yang kemungkinan mengandung mean populasi “sebenarnya” berdasarkan sampel.\n",
    "\n",
    "Nilai Confidence Interval dapat diperoleh menggunakan rumus:\n",
    "\n",
    "$CI : mean \\pm z-score * standard error$\n",
    "\n",
    "Sedangkan nilai Standard Error dapat diperoleh menggunakan rumus:\n",
    "\n",
    "$SE = \\frac {standard  deviation}{\\sqrt{n}}$\n",
    "\n",
    "- $n$ : banyaknya data"
   ]
  },
  {
   "cell_type": "markdown",
   "id": "c72c7c89-8ba3-4dea-8373-632f44760b6e",
   "metadata": {},
   "source": [
    "### Case 6\n",
    "\n",
    "Tentukan Confidence Interval harga penjualan properti di NYC pada rentang harga 500000 USD hingga 10000000 USD (Gunakan $\\alpha$ = 5%)."
   ]
  },
  {
   "cell_type": "markdown",
   "id": "09f6ad4b-73d9-4600-9408-358c6578fbab",
   "metadata": {},
   "source": [
    "Untuk mendapatkan mean dari harga properti di NYC pada rentang harga 500000 USD hingga 10000000 USD, digunakan dataframe `sale` yang telah didefinisikan sebelumnya. Dataframe perlu di-slicing berdasarkan kolom `SALE PRICE` kemudian digunakan fungsi `.mean()` untuk memperoleh nilai mean.\n",
    "\n",
    "Untuk mendapatkan nilai standar deviasi dari harga properti di NYC pada rentang harga 500000 USD hingga 10000000 USD, digunakan dataframe `sale` yang telah didefinisikan sebelumnya. Dataframe perlu di-slicing berdasarkan kolom `SALE PRICE` kemudian digunakan fungsi `.std()` untuk memperoleh nilai standar deviasi. Nilai standar deviasi akan digunakan untuk memperoleh nilai standard error.\n",
    "\n",
    "Mendefinisikan `se` sebagai nilai standar error.\n",
    "\n",
    "Mendefinisikan nilai z-score dari $\\alpha$ yang digunakan yaitu 1.96.\n",
    "\n",
    "Batas bawah Confidence Interval didefinisikan sebagai `lower` sedangkan batas atas didefinisikan sebagai `upper`."
   ]
  },
  {
   "cell_type": "code",
   "execution_count": 50,
   "id": "6d2bfeac-3b5d-4e41-a920-6c12d4316fb3",
   "metadata": {},
   "outputs": [
    {
     "name": "stdout",
     "output_type": "stream",
     "text": [
      "Confidence Interval:  1047268.3676718797 - 1065717.9971020867\n"
     ]
    }
   ],
   "source": [
    "sale_mean = sale['SALE PRICE'].mean()\n",
    "sale_std = sale['SALE PRICE'].std()\n",
    "se = sale_std/np.sqrt(len(sale))\n",
    "z = 1.96\n",
    "\n",
    "lower = sale_mean - z * se\n",
    "upper = sale_mean + z * se\n",
    "print('Confidence Interval: ',lower,'-',upper)"
   ]
  },
  {
   "cell_type": "markdown",
   "id": "5fd91b59-b94e-4596-9bd8-87337f31babd",
   "metadata": {},
   "source": [
    "**Interpretasi:**\n",
    "\n",
    "Berdasarkan hasil perhitungan, diperoleh hasil bahwa rata-rata harga jual tanah di NYC berkisar antara 1047268.3676718797 USD sampai dengan 1065717.9971020867 USD"
   ]
  },
  {
   "cell_type": "markdown",
   "id": "d859b184-3a6e-4bb9-93d1-d73ed1ea4588",
   "metadata": {},
   "source": [
    "## Hypothesis Testing"
   ]
  },
  {
   "cell_type": "markdown",
   "id": "5fb5d220-c6b9-4fee-a346-6e592a1f8a5e",
   "metadata": {},
   "source": [
    "Hypothesis Testing atau Uji Hipotesis merupakan suatu cara pengujian hasil survei atau eksperimen untuk melihat apakah hasil yang diperoleh signifikan."
   ]
  },
  {
   "cell_type": "markdown",
   "id": "eb251b34-319c-427e-b6e7-2f67a7843f4f",
   "metadata": {},
   "source": [
    "### Case 7\n",
    "\n",
    "Ingin diketahui apakah terdapat perbedaan rata-rata penjualan total unit properti di wilayah Manhattan dan Brooklyn (Gunakan $\\alpha = 5\\%$).\n",
    "\n",
    "Hipotesis:\n",
    "\n",
    "$h_0 : \\mu_1 = \\mu_2$\n",
    "\n",
    "$h_1 : \\mu_1 \\neq \\mu_2$"
   ]
  },
  {
   "cell_type": "markdown",
   "id": "418a0adb-2334-465e-89b6-58fd66b718ea",
   "metadata": {},
   "source": [
    "Untuk mendapatkan data yang diperlukan, perlu dilakukan slicing pada dataframe `df_nyc` dengan syarat `BOROUGH NAME == 'Manhattan'`. Kemudian data disimpan dalam dataframe baru bernama `tu_manhattan`."
   ]
  },
  {
   "cell_type": "code",
   "execution_count": 51,
   "id": "dc426ace-5a19-4133-9bc7-1e4e92ab38c5",
   "metadata": {},
   "outputs": [
    {
     "data": {
      "text/html": [
       "<div>\n",
       "<style scoped>\n",
       "    .dataframe tbody tr th:only-of-type {\n",
       "        vertical-align: middle;\n",
       "    }\n",
       "\n",
       "    .dataframe tbody tr th {\n",
       "        vertical-align: top;\n",
       "    }\n",
       "\n",
       "    .dataframe thead th {\n",
       "        text-align: right;\n",
       "    }\n",
       "</style>\n",
       "<table border=\"1\" class=\"dataframe\">\n",
       "  <thead>\n",
       "    <tr style=\"text-align: right;\">\n",
       "      <th></th>\n",
       "      <th>NEIGHBORHOOD</th>\n",
       "      <th>BUILDING CLASS CATEGORY</th>\n",
       "      <th>TAX CLASS AT PRESENT</th>\n",
       "      <th>BLOCK</th>\n",
       "      <th>LOT</th>\n",
       "      <th>BUILDING CLASS AT PRESENT</th>\n",
       "      <th>ADDRESS</th>\n",
       "      <th>ZIP CODE</th>\n",
       "      <th>RESIDENTIAL UNITS</th>\n",
       "      <th>COMMERCIAL UNITS</th>\n",
       "      <th>TOTAL UNITS</th>\n",
       "      <th>LAND SQUARE FEET</th>\n",
       "      <th>GROSS SQUARE FEET</th>\n",
       "      <th>YEAR BUILT</th>\n",
       "      <th>TAX CLASS AT TIME OF SALE</th>\n",
       "      <th>BUILDING CLASS AT TIME OF SALE</th>\n",
       "      <th>SALE PRICE</th>\n",
       "      <th>SALE DATE</th>\n",
       "      <th>BOROUGH NAME</th>\n",
       "    </tr>\n",
       "  </thead>\n",
       "  <tbody>\n",
       "    <tr>\n",
       "      <th>0</th>\n",
       "      <td>ALPHABET CITY</td>\n",
       "      <td>07 RENTALS - WALKUP APARTMENTS</td>\n",
       "      <td>2A</td>\n",
       "      <td>392</td>\n",
       "      <td>6</td>\n",
       "      <td>C2</td>\n",
       "      <td>153 AVENUE B</td>\n",
       "      <td>10009</td>\n",
       "      <td>5</td>\n",
       "      <td>0</td>\n",
       "      <td>5</td>\n",
       "      <td>1633.0</td>\n",
       "      <td>6440.0</td>\n",
       "      <td>1900</td>\n",
       "      <td>2</td>\n",
       "      <td>C2</td>\n",
       "      <td>6625000.0</td>\n",
       "      <td>2017-07-19</td>\n",
       "      <td>Manhattan</td>\n",
       "    </tr>\n",
       "    <tr>\n",
       "      <th>1</th>\n",
       "      <td>ALPHABET CITY</td>\n",
       "      <td>07 RENTALS - WALKUP APARTMENTS</td>\n",
       "      <td>2</td>\n",
       "      <td>399</td>\n",
       "      <td>26</td>\n",
       "      <td>C7</td>\n",
       "      <td>234 EAST 4TH   STREET</td>\n",
       "      <td>10009</td>\n",
       "      <td>28</td>\n",
       "      <td>3</td>\n",
       "      <td>31</td>\n",
       "      <td>4616.0</td>\n",
       "      <td>18690.0</td>\n",
       "      <td>1900</td>\n",
       "      <td>2</td>\n",
       "      <td>C7</td>\n",
       "      <td>533000.0</td>\n",
       "      <td>2016-12-14</td>\n",
       "      <td>Manhattan</td>\n",
       "    </tr>\n",
       "    <tr>\n",
       "      <th>2</th>\n",
       "      <td>ALPHABET CITY</td>\n",
       "      <td>07 RENTALS - WALKUP APARTMENTS</td>\n",
       "      <td>2</td>\n",
       "      <td>399</td>\n",
       "      <td>39</td>\n",
       "      <td>C7</td>\n",
       "      <td>197 EAST 3RD   STREET</td>\n",
       "      <td>10009</td>\n",
       "      <td>16</td>\n",
       "      <td>1</td>\n",
       "      <td>17</td>\n",
       "      <td>2212.0</td>\n",
       "      <td>7803.0</td>\n",
       "      <td>1900</td>\n",
       "      <td>2</td>\n",
       "      <td>C7</td>\n",
       "      <td>533000.0</td>\n",
       "      <td>2016-12-09</td>\n",
       "      <td>Manhattan</td>\n",
       "    </tr>\n",
       "    <tr>\n",
       "      <th>3</th>\n",
       "      <td>ALPHABET CITY</td>\n",
       "      <td>07 RENTALS - WALKUP APARTMENTS</td>\n",
       "      <td>2B</td>\n",
       "      <td>402</td>\n",
       "      <td>21</td>\n",
       "      <td>C4</td>\n",
       "      <td>154 EAST 7TH STREET</td>\n",
       "      <td>10009</td>\n",
       "      <td>10</td>\n",
       "      <td>0</td>\n",
       "      <td>10</td>\n",
       "      <td>2272.0</td>\n",
       "      <td>6794.0</td>\n",
       "      <td>1913</td>\n",
       "      <td>2</td>\n",
       "      <td>C4</td>\n",
       "      <td>3936272.0</td>\n",
       "      <td>2016-09-23</td>\n",
       "      <td>Manhattan</td>\n",
       "    </tr>\n",
       "    <tr>\n",
       "      <th>4</th>\n",
       "      <td>ALPHABET CITY</td>\n",
       "      <td>07 RENTALS - WALKUP APARTMENTS</td>\n",
       "      <td>2A</td>\n",
       "      <td>404</td>\n",
       "      <td>55</td>\n",
       "      <td>C2</td>\n",
       "      <td>301 EAST 10TH   STREET</td>\n",
       "      <td>10009</td>\n",
       "      <td>6</td>\n",
       "      <td>0</td>\n",
       "      <td>6</td>\n",
       "      <td>2369.0</td>\n",
       "      <td>4615.0</td>\n",
       "      <td>1900</td>\n",
       "      <td>2</td>\n",
       "      <td>C2</td>\n",
       "      <td>8000000.0</td>\n",
       "      <td>2016-11-17</td>\n",
       "      <td>Manhattan</td>\n",
       "    </tr>\n",
       "    <tr>\n",
       "      <th>...</th>\n",
       "      <td>...</td>\n",
       "      <td>...</td>\n",
       "      <td>...</td>\n",
       "      <td>...</td>\n",
       "      <td>...</td>\n",
       "      <td>...</td>\n",
       "      <td>...</td>\n",
       "      <td>...</td>\n",
       "      <td>...</td>\n",
       "      <td>...</td>\n",
       "      <td>...</td>\n",
       "      <td>...</td>\n",
       "      <td>...</td>\n",
       "      <td>...</td>\n",
       "      <td>...</td>\n",
       "      <td>...</td>\n",
       "      <td>...</td>\n",
       "      <td>...</td>\n",
       "      <td>...</td>\n",
       "    </tr>\n",
       "    <tr>\n",
       "      <th>18097</th>\n",
       "      <td>WASHINGTON HEIGHTS UPPER</td>\n",
       "      <td>29 COMMERCIAL GARAGES</td>\n",
       "      <td>4</td>\n",
       "      <td>2154</td>\n",
       "      <td>18</td>\n",
       "      <td>G9</td>\n",
       "      <td>552 WEST 182 STREET</td>\n",
       "      <td>10033</td>\n",
       "      <td>0</td>\n",
       "      <td>1</td>\n",
       "      <td>1</td>\n",
       "      <td>1260.0</td>\n",
       "      <td>1080.0</td>\n",
       "      <td>1990</td>\n",
       "      <td>4</td>\n",
       "      <td>G9</td>\n",
       "      <td>533000.0</td>\n",
       "      <td>2016-11-16</td>\n",
       "      <td>Manhattan</td>\n",
       "    </tr>\n",
       "    <tr>\n",
       "      <th>18098</th>\n",
       "      <td>WASHINGTON HEIGHTS UPPER</td>\n",
       "      <td>31 COMMERCIAL VACANT LAND</td>\n",
       "      <td>4</td>\n",
       "      <td>2170</td>\n",
       "      <td>383</td>\n",
       "      <td>V1</td>\n",
       "      <td>WADSWORTH TERRACE</td>\n",
       "      <td>0</td>\n",
       "      <td>0</td>\n",
       "      <td>0</td>\n",
       "      <td>0</td>\n",
       "      <td>13000.0</td>\n",
       "      <td>1680.0</td>\n",
       "      <td>0</td>\n",
       "      <td>4</td>\n",
       "      <td>V1</td>\n",
       "      <td>7500000.0</td>\n",
       "      <td>2016-11-01</td>\n",
       "      <td>Manhattan</td>\n",
       "    </tr>\n",
       "    <tr>\n",
       "      <th>18099</th>\n",
       "      <td>WASHINGTON HEIGHTS UPPER</td>\n",
       "      <td>33 EDUCATIONAL FACILITIES</td>\n",
       "      <td>4</td>\n",
       "      <td>2149</td>\n",
       "      <td>23</td>\n",
       "      <td>W2</td>\n",
       "      <td>2495 AMSTERDAM AVENUE</td>\n",
       "      <td>10033</td>\n",
       "      <td>0</td>\n",
       "      <td>1</td>\n",
       "      <td>1</td>\n",
       "      <td>29775.0</td>\n",
       "      <td>253942.0</td>\n",
       "      <td>1969</td>\n",
       "      <td>4</td>\n",
       "      <td>W2</td>\n",
       "      <td>533000.0</td>\n",
       "      <td>2017-04-21</td>\n",
       "      <td>Manhattan</td>\n",
       "    </tr>\n",
       "    <tr>\n",
       "      <th>18100</th>\n",
       "      <td>WASHINGTON HEIGHTS UPPER</td>\n",
       "      <td>33 EDUCATIONAL FACILITIES</td>\n",
       "      <td>4</td>\n",
       "      <td>2156</td>\n",
       "      <td>48</td>\n",
       "      <td>W6</td>\n",
       "      <td>2520 AMSTERDAM AVENUE</td>\n",
       "      <td>10033</td>\n",
       "      <td>0</td>\n",
       "      <td>1</td>\n",
       "      <td>1</td>\n",
       "      <td>25875.0</td>\n",
       "      <td>140260.0</td>\n",
       "      <td>1967</td>\n",
       "      <td>4</td>\n",
       "      <td>W6</td>\n",
       "      <td>533000.0</td>\n",
       "      <td>2017-04-21</td>\n",
       "      <td>Manhattan</td>\n",
       "    </tr>\n",
       "    <tr>\n",
       "      <th>18101</th>\n",
       "      <td>WASHINGTON HEIGHTS UPPER</td>\n",
       "      <td>44 CONDO PARKING</td>\n",
       "      <td>4</td>\n",
       "      <td>2180</td>\n",
       "      <td>1202</td>\n",
       "      <td>RG</td>\n",
       "      <td>736 WEST 187 STREET</td>\n",
       "      <td>10033</td>\n",
       "      <td>0</td>\n",
       "      <td>0</td>\n",
       "      <td>1</td>\n",
       "      <td>2314.0</td>\n",
       "      <td>1680.0</td>\n",
       "      <td>2005</td>\n",
       "      <td>4</td>\n",
       "      <td>RG</td>\n",
       "      <td>533000.0</td>\n",
       "      <td>2016-09-19</td>\n",
       "      <td>Manhattan</td>\n",
       "    </tr>\n",
       "  </tbody>\n",
       "</table>\n",
       "<p>18102 rows × 19 columns</p>\n",
       "</div>"
      ],
      "text/plain": [
       "                   NEIGHBORHOOD                      BUILDING CLASS CATEGORY  \\\n",
       "0                 ALPHABET CITY  07 RENTALS - WALKUP APARTMENTS                \n",
       "1                 ALPHABET CITY  07 RENTALS - WALKUP APARTMENTS                \n",
       "2                 ALPHABET CITY  07 RENTALS - WALKUP APARTMENTS                \n",
       "3                 ALPHABET CITY  07 RENTALS - WALKUP APARTMENTS                \n",
       "4                 ALPHABET CITY  07 RENTALS - WALKUP APARTMENTS                \n",
       "...                         ...                                          ...   \n",
       "18097  WASHINGTON HEIGHTS UPPER  29 COMMERCIAL GARAGES                         \n",
       "18098  WASHINGTON HEIGHTS UPPER  31 COMMERCIAL VACANT LAND                     \n",
       "18099  WASHINGTON HEIGHTS UPPER  33 EDUCATIONAL FACILITIES                     \n",
       "18100  WASHINGTON HEIGHTS UPPER  33 EDUCATIONAL FACILITIES                     \n",
       "18101  WASHINGTON HEIGHTS UPPER  44 CONDO PARKING                              \n",
       "\n",
       "      TAX CLASS AT PRESENT  BLOCK   LOT BUILDING CLASS AT PRESENT  \\\n",
       "0                       2A    392     6                        C2   \n",
       "1                        2    399    26                        C7   \n",
       "2                        2    399    39                        C7   \n",
       "3                       2B    402    21                        C4   \n",
       "4                       2A    404    55                        C2   \n",
       "...                    ...    ...   ...                       ...   \n",
       "18097                    4   2154    18                        G9   \n",
       "18098                    4   2170   383                        V1   \n",
       "18099                    4   2149    23                        W2   \n",
       "18100                    4   2156    48                        W6   \n",
       "18101                    4   2180  1202                        RG   \n",
       "\n",
       "                      ADDRESS  ZIP CODE  RESIDENTIAL UNITS  COMMERCIAL UNITS  \\\n",
       "0                153 AVENUE B     10009                  5                 0   \n",
       "1       234 EAST 4TH   STREET     10009                 28                 3   \n",
       "2       197 EAST 3RD   STREET     10009                 16                 1   \n",
       "3         154 EAST 7TH STREET     10009                 10                 0   \n",
       "4      301 EAST 10TH   STREET     10009                  6                 0   \n",
       "...                       ...       ...                ...               ...   \n",
       "18097     552 WEST 182 STREET     10033                  0                 1   \n",
       "18098       WADSWORTH TERRACE         0                  0                 0   \n",
       "18099   2495 AMSTERDAM AVENUE     10033                  0                 1   \n",
       "18100   2520 AMSTERDAM AVENUE     10033                  0                 1   \n",
       "18101     736 WEST 187 STREET     10033                  0                 0   \n",
       "\n",
       "       TOTAL UNITS  LAND SQUARE FEET  GROSS SQUARE FEET  YEAR BUILT  \\\n",
       "0                5            1633.0             6440.0        1900   \n",
       "1               31            4616.0            18690.0        1900   \n",
       "2               17            2212.0             7803.0        1900   \n",
       "3               10            2272.0             6794.0        1913   \n",
       "4                6            2369.0             4615.0        1900   \n",
       "...            ...               ...                ...         ...   \n",
       "18097            1            1260.0             1080.0        1990   \n",
       "18098            0           13000.0             1680.0           0   \n",
       "18099            1           29775.0           253942.0        1969   \n",
       "18100            1           25875.0           140260.0        1967   \n",
       "18101            1            2314.0             1680.0        2005   \n",
       "\n",
       "       TAX CLASS AT TIME OF SALE BUILDING CLASS AT TIME OF SALE  SALE PRICE  \\\n",
       "0                              2                             C2   6625000.0   \n",
       "1                              2                             C7    533000.0   \n",
       "2                              2                             C7    533000.0   \n",
       "3                              2                             C4   3936272.0   \n",
       "4                              2                             C2   8000000.0   \n",
       "...                          ...                            ...         ...   \n",
       "18097                          4                             G9    533000.0   \n",
       "18098                          4                             V1   7500000.0   \n",
       "18099                          4                             W2    533000.0   \n",
       "18100                          4                             W6    533000.0   \n",
       "18101                          4                             RG    533000.0   \n",
       "\n",
       "       SALE DATE BOROUGH NAME  \n",
       "0     2017-07-19    Manhattan  \n",
       "1     2016-12-14    Manhattan  \n",
       "2     2016-12-09    Manhattan  \n",
       "3     2016-09-23    Manhattan  \n",
       "4     2016-11-17    Manhattan  \n",
       "...          ...          ...  \n",
       "18097 2016-11-16    Manhattan  \n",
       "18098 2016-11-01    Manhattan  \n",
       "18099 2017-04-21    Manhattan  \n",
       "18100 2017-04-21    Manhattan  \n",
       "18101 2016-09-19    Manhattan  \n",
       "\n",
       "[18102 rows x 19 columns]"
      ]
     },
     "execution_count": 51,
     "metadata": {},
     "output_type": "execute_result"
    }
   ],
   "source": [
    "tu_manhattan = df_nyc[df_nyc['BOROUGH NAME'] == 'Manhattan']\n",
    "tu_manhattan"
   ]
  },
  {
   "cell_type": "markdown",
   "id": "96adf1b8-9d81-45ee-9a51-ce57d1cdd2c9",
   "metadata": {},
   "source": [
    "Untuk mendapatkan data yang diperlukan, perlu dilakukan slicing pada dataframe `df_nyc` dengan syarat `BOROUGH NAME == 'Brooklyn'`. Kemudian data disimpan dalam dataframe baru bernama `tu_brooklyn`."
   ]
  },
  {
   "cell_type": "code",
   "execution_count": 52,
   "id": "c9c87b8b-787c-4194-85da-1f462f74f43d",
   "metadata": {},
   "outputs": [
    {
     "data": {
      "text/html": [
       "<div>\n",
       "<style scoped>\n",
       "    .dataframe tbody tr th:only-of-type {\n",
       "        vertical-align: middle;\n",
       "    }\n",
       "\n",
       "    .dataframe tbody tr th {\n",
       "        vertical-align: top;\n",
       "    }\n",
       "\n",
       "    .dataframe thead th {\n",
       "        text-align: right;\n",
       "    }\n",
       "</style>\n",
       "<table border=\"1\" class=\"dataframe\">\n",
       "  <thead>\n",
       "    <tr style=\"text-align: right;\">\n",
       "      <th></th>\n",
       "      <th>NEIGHBORHOOD</th>\n",
       "      <th>BUILDING CLASS CATEGORY</th>\n",
       "      <th>TAX CLASS AT PRESENT</th>\n",
       "      <th>BLOCK</th>\n",
       "      <th>LOT</th>\n",
       "      <th>BUILDING CLASS AT PRESENT</th>\n",
       "      <th>ADDRESS</th>\n",
       "      <th>ZIP CODE</th>\n",
       "      <th>RESIDENTIAL UNITS</th>\n",
       "      <th>COMMERCIAL UNITS</th>\n",
       "      <th>TOTAL UNITS</th>\n",
       "      <th>LAND SQUARE FEET</th>\n",
       "      <th>GROSS SQUARE FEET</th>\n",
       "      <th>YEAR BUILT</th>\n",
       "      <th>TAX CLASS AT TIME OF SALE</th>\n",
       "      <th>BUILDING CLASS AT TIME OF SALE</th>\n",
       "      <th>SALE PRICE</th>\n",
       "      <th>SALE DATE</th>\n",
       "      <th>BOROUGH NAME</th>\n",
       "    </tr>\n",
       "  </thead>\n",
       "  <tbody>\n",
       "    <tr>\n",
       "      <th>25096</th>\n",
       "      <td>BATH BEACH</td>\n",
       "      <td>01 ONE FAMILY DWELLINGS</td>\n",
       "      <td>1</td>\n",
       "      <td>6360</td>\n",
       "      <td>157</td>\n",
       "      <td>A5</td>\n",
       "      <td>36 BAY 10TH   STREET</td>\n",
       "      <td>11228</td>\n",
       "      <td>1</td>\n",
       "      <td>0</td>\n",
       "      <td>1</td>\n",
       "      <td>1547.0</td>\n",
       "      <td>1428.0</td>\n",
       "      <td>1930</td>\n",
       "      <td>1</td>\n",
       "      <td>A5</td>\n",
       "      <td>800000.0</td>\n",
       "      <td>2017-02-27</td>\n",
       "      <td>Brooklyn</td>\n",
       "    </tr>\n",
       "    <tr>\n",
       "      <th>25097</th>\n",
       "      <td>BATH BEACH</td>\n",
       "      <td>01 ONE FAMILY DWELLINGS</td>\n",
       "      <td>1</td>\n",
       "      <td>6361</td>\n",
       "      <td>20</td>\n",
       "      <td>A5</td>\n",
       "      <td>47 BAY 10TH STREET</td>\n",
       "      <td>11228</td>\n",
       "      <td>1</td>\n",
       "      <td>0</td>\n",
       "      <td>1</td>\n",
       "      <td>1933.0</td>\n",
       "      <td>1660.0</td>\n",
       "      <td>1930</td>\n",
       "      <td>1</td>\n",
       "      <td>A5</td>\n",
       "      <td>533000.0</td>\n",
       "      <td>2017-03-04</td>\n",
       "      <td>Brooklyn</td>\n",
       "    </tr>\n",
       "    <tr>\n",
       "      <th>25098</th>\n",
       "      <td>BATH BEACH</td>\n",
       "      <td>01 ONE FAMILY DWELLINGS</td>\n",
       "      <td>1</td>\n",
       "      <td>6364</td>\n",
       "      <td>2</td>\n",
       "      <td>A5</td>\n",
       "      <td>1649 BENSON AVENUE</td>\n",
       "      <td>11214</td>\n",
       "      <td>1</td>\n",
       "      <td>0</td>\n",
       "      <td>1</td>\n",
       "      <td>1638.0</td>\n",
       "      <td>972.0</td>\n",
       "      <td>1930</td>\n",
       "      <td>1</td>\n",
       "      <td>A5</td>\n",
       "      <td>533000.0</td>\n",
       "      <td>2016-10-06</td>\n",
       "      <td>Brooklyn</td>\n",
       "    </tr>\n",
       "    <tr>\n",
       "      <th>25099</th>\n",
       "      <td>BATH BEACH</td>\n",
       "      <td>01 ONE FAMILY DWELLINGS</td>\n",
       "      <td>1</td>\n",
       "      <td>6367</td>\n",
       "      <td>42</td>\n",
       "      <td>S1</td>\n",
       "      <td>1730 86TH STREET</td>\n",
       "      <td>11214</td>\n",
       "      <td>1</td>\n",
       "      <td>1</td>\n",
       "      <td>2</td>\n",
       "      <td>1342.0</td>\n",
       "      <td>1920.0</td>\n",
       "      <td>1926</td>\n",
       "      <td>1</td>\n",
       "      <td>S1</td>\n",
       "      <td>1200000.0</td>\n",
       "      <td>2017-03-31</td>\n",
       "      <td>Brooklyn</td>\n",
       "    </tr>\n",
       "    <tr>\n",
       "      <th>25100</th>\n",
       "      <td>BATH BEACH</td>\n",
       "      <td>01 ONE FAMILY DWELLINGS</td>\n",
       "      <td>1</td>\n",
       "      <td>6374</td>\n",
       "      <td>67</td>\n",
       "      <td>S1</td>\n",
       "      <td>8642 20TH AVENUE</td>\n",
       "      <td>11214</td>\n",
       "      <td>1</td>\n",
       "      <td>1</td>\n",
       "      <td>2</td>\n",
       "      <td>1740.0</td>\n",
       "      <td>3240.0</td>\n",
       "      <td>1925</td>\n",
       "      <td>1</td>\n",
       "      <td>S1</td>\n",
       "      <td>1090000.0</td>\n",
       "      <td>2016-10-24</td>\n",
       "      <td>Brooklyn</td>\n",
       "    </tr>\n",
       "    <tr>\n",
       "      <th>...</th>\n",
       "      <td>...</td>\n",
       "      <td>...</td>\n",
       "      <td>...</td>\n",
       "      <td>...</td>\n",
       "      <td>...</td>\n",
       "      <td>...</td>\n",
       "      <td>...</td>\n",
       "      <td>...</td>\n",
       "      <td>...</td>\n",
       "      <td>...</td>\n",
       "      <td>...</td>\n",
       "      <td>...</td>\n",
       "      <td>...</td>\n",
       "      <td>...</td>\n",
       "      <td>...</td>\n",
       "      <td>...</td>\n",
       "      <td>...</td>\n",
       "      <td>...</td>\n",
       "      <td>...</td>\n",
       "    </tr>\n",
       "    <tr>\n",
       "      <th>48934</th>\n",
       "      <td>WYCKOFF HEIGHTS</td>\n",
       "      <td>41 TAX CLASS 4 - OTHER</td>\n",
       "      <td>4</td>\n",
       "      <td>3189</td>\n",
       "      <td>1</td>\n",
       "      <td>Z9</td>\n",
       "      <td>35 WYCKOFF AVENUE</td>\n",
       "      <td>11237</td>\n",
       "      <td>0</td>\n",
       "      <td>0</td>\n",
       "      <td>0</td>\n",
       "      <td>2431.0</td>\n",
       "      <td>0.0</td>\n",
       "      <td>0</td>\n",
       "      <td>4</td>\n",
       "      <td>Z9</td>\n",
       "      <td>5650000.0</td>\n",
       "      <td>2017-05-04</td>\n",
       "      <td>Brooklyn</td>\n",
       "    </tr>\n",
       "    <tr>\n",
       "      <th>48935</th>\n",
       "      <td>WYCKOFF HEIGHTS</td>\n",
       "      <td>41 TAX CLASS 4 - OTHER</td>\n",
       "      <td>4</td>\n",
       "      <td>3189</td>\n",
       "      <td>2</td>\n",
       "      <td>Z9</td>\n",
       "      <td>33 WYCKOFF AVENUE</td>\n",
       "      <td>11237</td>\n",
       "      <td>0</td>\n",
       "      <td>0</td>\n",
       "      <td>0</td>\n",
       "      <td>2415.0</td>\n",
       "      <td>0.0</td>\n",
       "      <td>0</td>\n",
       "      <td>4</td>\n",
       "      <td>Z9</td>\n",
       "      <td>533000.0</td>\n",
       "      <td>2017-05-04</td>\n",
       "      <td>Brooklyn</td>\n",
       "    </tr>\n",
       "    <tr>\n",
       "      <th>48936</th>\n",
       "      <td>WYCKOFF HEIGHTS</td>\n",
       "      <td>41 TAX CLASS 4 - OTHER</td>\n",
       "      <td>4</td>\n",
       "      <td>3189</td>\n",
       "      <td>3</td>\n",
       "      <td>Z9</td>\n",
       "      <td>33A WYCKOFF AVENUE</td>\n",
       "      <td>11237</td>\n",
       "      <td>0</td>\n",
       "      <td>0</td>\n",
       "      <td>0</td>\n",
       "      <td>2390.0</td>\n",
       "      <td>0.0</td>\n",
       "      <td>0</td>\n",
       "      <td>4</td>\n",
       "      <td>Z9</td>\n",
       "      <td>533000.0</td>\n",
       "      <td>2017-05-04</td>\n",
       "      <td>Brooklyn</td>\n",
       "    </tr>\n",
       "    <tr>\n",
       "      <th>48937</th>\n",
       "      <td>WYCKOFF HEIGHTS</td>\n",
       "      <td>41 TAX CLASS 4 - OTHER</td>\n",
       "      <td>4</td>\n",
       "      <td>3280</td>\n",
       "      <td>50</td>\n",
       "      <td>Z9</td>\n",
       "      <td>383 HARMAN STREET</td>\n",
       "      <td>11237</td>\n",
       "      <td>0</td>\n",
       "      <td>0</td>\n",
       "      <td>0</td>\n",
       "      <td>2765.0</td>\n",
       "      <td>0.0</td>\n",
       "      <td>0</td>\n",
       "      <td>4</td>\n",
       "      <td>Z9</td>\n",
       "      <td>2825000.0</td>\n",
       "      <td>2017-03-28</td>\n",
       "      <td>Brooklyn</td>\n",
       "    </tr>\n",
       "    <tr>\n",
       "      <th>48938</th>\n",
       "      <td>WYCKOFF HEIGHTS</td>\n",
       "      <td>44 CONDO PARKING</td>\n",
       "      <td>4</td>\n",
       "      <td>3328</td>\n",
       "      <td>1090</td>\n",
       "      <td>RP</td>\n",
       "      <td>358 GROVE STREET</td>\n",
       "      <td>11237</td>\n",
       "      <td>0</td>\n",
       "      <td>0</td>\n",
       "      <td>1</td>\n",
       "      <td>0.0</td>\n",
       "      <td>0.0</td>\n",
       "      <td>0</td>\n",
       "      <td>4</td>\n",
       "      <td>RP</td>\n",
       "      <td>533000.0</td>\n",
       "      <td>2017-02-22</td>\n",
       "      <td>Brooklyn</td>\n",
       "    </tr>\n",
       "  </tbody>\n",
       "</table>\n",
       "<p>23843 rows × 19 columns</p>\n",
       "</div>"
      ],
      "text/plain": [
       "          NEIGHBORHOOD                      BUILDING CLASS CATEGORY  \\\n",
       "25096       BATH BEACH  01 ONE FAMILY DWELLINGS                       \n",
       "25097       BATH BEACH  01 ONE FAMILY DWELLINGS                       \n",
       "25098       BATH BEACH  01 ONE FAMILY DWELLINGS                       \n",
       "25099       BATH BEACH  01 ONE FAMILY DWELLINGS                       \n",
       "25100       BATH BEACH  01 ONE FAMILY DWELLINGS                       \n",
       "...                ...                                          ...   \n",
       "48934  WYCKOFF HEIGHTS  41 TAX CLASS 4 - OTHER                        \n",
       "48935  WYCKOFF HEIGHTS  41 TAX CLASS 4 - OTHER                        \n",
       "48936  WYCKOFF HEIGHTS  41 TAX CLASS 4 - OTHER                        \n",
       "48937  WYCKOFF HEIGHTS  41 TAX CLASS 4 - OTHER                        \n",
       "48938  WYCKOFF HEIGHTS  44 CONDO PARKING                              \n",
       "\n",
       "      TAX CLASS AT PRESENT  BLOCK   LOT BUILDING CLASS AT PRESENT  \\\n",
       "25096                    1   6360   157                        A5   \n",
       "25097                    1   6361    20                        A5   \n",
       "25098                    1   6364     2                        A5   \n",
       "25099                    1   6367    42                        S1   \n",
       "25100                    1   6374    67                        S1   \n",
       "...                    ...    ...   ...                       ...   \n",
       "48934                    4   3189     1                        Z9   \n",
       "48935                    4   3189     2                        Z9   \n",
       "48936                    4   3189     3                        Z9   \n",
       "48937                    4   3280    50                        Z9   \n",
       "48938                    4   3328  1090                        RP   \n",
       "\n",
       "                    ADDRESS  ZIP CODE  RESIDENTIAL UNITS  COMMERCIAL UNITS  \\\n",
       "25096  36 BAY 10TH   STREET     11228                  1                 0   \n",
       "25097    47 BAY 10TH STREET     11228                  1                 0   \n",
       "25098    1649 BENSON AVENUE     11214                  1                 0   \n",
       "25099      1730 86TH STREET     11214                  1                 1   \n",
       "25100      8642 20TH AVENUE     11214                  1                 1   \n",
       "...                     ...       ...                ...               ...   \n",
       "48934     35 WYCKOFF AVENUE     11237                  0                 0   \n",
       "48935     33 WYCKOFF AVENUE     11237                  0                 0   \n",
       "48936    33A WYCKOFF AVENUE     11237                  0                 0   \n",
       "48937     383 HARMAN STREET     11237                  0                 0   \n",
       "48938      358 GROVE STREET     11237                  0                 0   \n",
       "\n",
       "       TOTAL UNITS  LAND SQUARE FEET  GROSS SQUARE FEET  YEAR BUILT  \\\n",
       "25096            1            1547.0             1428.0        1930   \n",
       "25097            1            1933.0             1660.0        1930   \n",
       "25098            1            1638.0              972.0        1930   \n",
       "25099            2            1342.0             1920.0        1926   \n",
       "25100            2            1740.0             3240.0        1925   \n",
       "...            ...               ...                ...         ...   \n",
       "48934            0            2431.0                0.0           0   \n",
       "48935            0            2415.0                0.0           0   \n",
       "48936            0            2390.0                0.0           0   \n",
       "48937            0            2765.0                0.0           0   \n",
       "48938            1               0.0                0.0           0   \n",
       "\n",
       "       TAX CLASS AT TIME OF SALE BUILDING CLASS AT TIME OF SALE  SALE PRICE  \\\n",
       "25096                          1                             A5    800000.0   \n",
       "25097                          1                             A5    533000.0   \n",
       "25098                          1                             A5    533000.0   \n",
       "25099                          1                             S1   1200000.0   \n",
       "25100                          1                             S1   1090000.0   \n",
       "...                          ...                            ...         ...   \n",
       "48934                          4                             Z9   5650000.0   \n",
       "48935                          4                             Z9    533000.0   \n",
       "48936                          4                             Z9    533000.0   \n",
       "48937                          4                             Z9   2825000.0   \n",
       "48938                          4                             RP    533000.0   \n",
       "\n",
       "       SALE DATE BOROUGH NAME  \n",
       "25096 2017-02-27     Brooklyn  \n",
       "25097 2017-03-04     Brooklyn  \n",
       "25098 2016-10-06     Brooklyn  \n",
       "25099 2017-03-31     Brooklyn  \n",
       "25100 2016-10-24     Brooklyn  \n",
       "...          ...          ...  \n",
       "48934 2017-05-04     Brooklyn  \n",
       "48935 2017-05-04     Brooklyn  \n",
       "48936 2017-05-04     Brooklyn  \n",
       "48937 2017-03-28     Brooklyn  \n",
       "48938 2017-02-22     Brooklyn  \n",
       "\n",
       "[23843 rows x 19 columns]"
      ]
     },
     "execution_count": 52,
     "metadata": {},
     "output_type": "execute_result"
    }
   ],
   "source": [
    "tu_brooklyn = df_nyc[df_nyc['BOROUGH NAME'] == 'Brooklyn']\n",
    "tu_brooklyn"
   ]
  },
  {
   "cell_type": "markdown",
   "id": "b8faab9c-7ecd-4707-9fbb-ce0b82ae2e9c",
   "metadata": {},
   "source": [
    "Menghitung statistik uji dan p-value menggunakan fungsi `sm.stats.ztest()` pada dataframe baru bernama `tu_manhattan` dan `tu_brooklyn` menggunakan kolom `TOTAL UNITS`. Digunakan parameter `alternative='two-sided'` karena akan diperiksa ketidaksamaan antar dua sampel.\n",
    "\n",
    "Menggunakan IF, apabila p_value bernilai lebih dari 0.05, maka akan muncul keterangan `Accept Null Hypothesis (h0)`. Apabila p_value kurang dari 0.05 maka akan muncul keterangan `Reject Null Hypothesis (h0)`. Nilai 0.05 adalah alpha ($\\alpha$) atau tingkat kesalahan."
   ]
  },
  {
   "cell_type": "code",
   "execution_count": 53,
   "id": "86c7470f-eec1-4304-98b9-69c70e3ceb82",
   "metadata": {},
   "outputs": [
    {
     "name": "stdout",
     "output_type": "stream",
     "text": [
      "statistics = 2.456, p_value = 0.014\n",
      "Reject Null Hypothesis (h0)\n"
     ]
    }
   ],
   "source": [
    "statistics,p_value = sm.stats.ztest(tu_manhattan['TOTAL UNITS'],tu_brooklyn['TOTAL UNITS'],alternative='two-sided')\n",
    "print('statistics = %.3f, p_value = %.3f' % (statistics, p_value))\n",
    "if p_value > 0.05:\n",
    "  print('Accept Null Hypothesis (h0)')\n",
    "else:\n",
    "  print('Reject Null Hypothesis (h0)')"
   ]
  },
  {
   "cell_type": "markdown",
   "id": "cd71089d-5de9-4005-83ad-0d49c1d88559",
   "metadata": {},
   "source": [
    "**Interpretasi:**\n",
    "\n",
    "Berdasarkan hasil perhitungan, diperoleh p-value sebesar 0.014. P-value < $\\alpha$, maka $h_0$ ditolak. Dapat disimpulkan bahwa terdapat perbedaan rata-rata penjualan total unit properti di wilayah Manhattan dan Brooklyn."
   ]
  },
  {
   "cell_type": "markdown",
   "id": "d6ecec6c-844a-416c-8fe3-e704818e3944",
   "metadata": {},
   "source": [
    "### Case 8"
   ]
  },
  {
   "cell_type": "markdown",
   "id": "20a10ba3-f155-4c62-892f-7ce0515b3513",
   "metadata": {},
   "source": [
    "Menggunakan Shapiro-Wilk Test, ingin diketahui apakah data harga penjualan unit properti di NYC (SALE PRICE) mengikuti sebaran normal (Gunakan $\\alpha = 5\\%$).\n",
    "\n",
    "Hipotesis:\n",
    "\n",
    "$h_0$: data mengikuti sebaran normal\n",
    "\n",
    "$h_1$: data tidak mengikuti sebaran normal"
   ]
  },
  {
   "cell_type": "markdown",
   "id": "641d5046-6052-4d42-ad68-fe016313f50c",
   "metadata": {},
   "source": [
    "Untuk menganalisis kenormalan data menggunakan uji Shapiro Wilk, perlu dilakukan import library `from scipy.stats import shapiro` terlebih dahulu."
   ]
  },
  {
   "cell_type": "code",
   "execution_count": 54,
   "id": "5a08497c-0a9c-4f65-9121-7a4a24afd0f1",
   "metadata": {},
   "outputs": [],
   "source": [
    "from scipy.stats import shapiro"
   ]
  },
  {
   "cell_type": "markdown",
   "id": "519abda2-0924-4834-b299-59901c7355c5",
   "metadata": {},
   "source": [
    "Menghitung statistik uji dan p-value menggunakan fungsi `shapiro()` pada dataframe `df_NYC` menggunakan kolom `TOTAL UNITS`.\n",
    "\n",
    "Menggunakan fungsi IF, apabila p_value bernilai lebih dari 0.05, maka akan muncul keterangan `Accept Null Hypothesis (h0)`. Apabila p_value kurang dari 0.05 maka akan muncul keterangan `Reject Null Hypothesis (h0)`. Nilai 0.05 adalah alpha ($\\alpha$) atau tingkat kesalahan."
   ]
  },
  {
   "cell_type": "code",
   "execution_count": 55,
   "id": "9b91c89d-0a89-424a-a194-df7edff24e80",
   "metadata": {},
   "outputs": [
    {
     "name": "stdout",
     "output_type": "stream",
     "text": [
      "statistics = 0.032, p_value = 0.000\n",
      "Reject Null Hypothesis (h0)\n"
     ]
    },
    {
     "name": "stderr",
     "output_type": "stream",
     "text": [
      "C:\\Users\\USER\\anaconda3\\lib\\site-packages\\scipy\\stats\\_morestats.py:1800: UserWarning: p-value may not be accurate for N > 5000.\n",
      "  warnings.warn(\"p-value may not be accurate for N > 5000.\")\n"
     ]
    }
   ],
   "source": [
    "statistics, p_value = shapiro(df_nyc['SALE PRICE'])\n",
    "print('statistics = %.3f, p_value = %.3f' % (statistics, p_value))\n",
    "if p_value > 0.05:\n",
    "  print('Accept Null Hypothesis (h0)')\n",
    "else:\n",
    "  print('Reject Null Hypothesis (h0)')"
   ]
  },
  {
   "cell_type": "markdown",
   "id": "5003c77d-6302-4393-9a15-979b2996b58e",
   "metadata": {},
   "source": [
    "**Interpretasi:**\n",
    "\n",
    "Berdasarkan hasil perhitungan, diperoleh p-value sebesar 0.00 (p-value sangat kecil). P-value < $\\alpha$, maka $h_0$ ditolak. Dapat disimpulkan bahwa data tidak mengikuti sebaran normal."
   ]
  },
  {
   "cell_type": "code",
   "execution_count": null,
   "id": "a65c7e03-3523-4a41-9ea0-6f52eed11a5b",
   "metadata": {},
   "outputs": [],
   "source": []
  }
 ],
 "metadata": {
  "kernelspec": {
   "display_name": "Python 3 (ipykernel)",
   "language": "python",
   "name": "python3"
  },
  "language_info": {
   "codemirror_mode": {
    "name": "ipython",
    "version": 3
   },
   "file_extension": ".py",
   "mimetype": "text/x-python",
   "name": "python",
   "nbconvert_exporter": "python",
   "pygments_lexer": "ipython3",
   "version": "3.9.13"
  }
 },
 "nbformat": 4,
 "nbformat_minor": 5
}
