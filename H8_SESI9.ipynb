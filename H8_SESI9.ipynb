{
 "cells": [
  {
   "cell_type": "markdown",
   "id": "723368e3-e243-4982-85c0-320e90c4bef2",
   "metadata": {},
   "source": [
    "# Descriptive Statistics"
   ]
  },
  {
   "cell_type": "code",
   "execution_count": 1,
   "id": "e5ba3a90-82fa-4c37-95df-54558513942a",
   "metadata": {},
   "outputs": [],
   "source": [
    "import math\n",
    "import statistics\n",
    "import numpy as np\n",
    "import scipy.stats\n",
    "import pandas as pd"
   ]
  },
  {
   "cell_type": "code",
   "execution_count": 53,
   "id": "1e7823a3-bf17-43a9-9289-838b22e14c01",
   "metadata": {},
   "outputs": [
    {
     "name": "stdout",
     "output_type": "stream",
     "text": [
      "[8, 1, 2.5, 4, 28]\n",
      "[8, 1, 2.5, nan, 4, 28]\n"
     ]
    }
   ],
   "source": [
    "x = [8,1,2.5,4,28]\n",
    "x_with_nan = [8,1,2.5,np.nan,4,28]\n",
    "print(x)\n",
    "print(x_with_nan)"
   ]
  },
  {
   "cell_type": "code",
   "execution_count": 51,
   "id": "790eece4-93e5-4883-b0a8-41d7c6cba079",
   "metadata": {},
   "outputs": [
    {
     "name": "stdout",
     "output_type": "stream",
     "text": [
      "[-5.   1.1  0.1  2.   8.  12.8 21.  25.8 41. ]\n",
      "[ 8.   1.   2.5  nan  4.  28. ]\n",
      "0    -5.0\n",
      "1     1.1\n",
      "2     0.1\n",
      "3     2.0\n",
      "4     8.0\n",
      "5    12.8\n",
      "6    21.0\n",
      "7    25.8\n",
      "8    41.0\n",
      "dtype: float64\n",
      "0     8.0\n",
      "1     1.0\n",
      "2     2.5\n",
      "3     NaN\n",
      "4     4.0\n",
      "5    28.0\n",
      "dtype: float64\n"
     ]
    }
   ],
   "source": [
    "#membuat array (y) dan series (z) dari x\n",
    "y, y_with_nan = np.array(x), np.array(x_with_nan)\n",
    "z, z_with_nan = pd.Series(x), pd.Series(x_with_nan)\n",
    "\n",
    "print(y)\n",
    "print(y_with_nan)\n",
    "print(z)\n",
    "print(z_with_nan)"
   ]
  },
  {
   "cell_type": "markdown",
   "id": "91bdaf94-cd00-49ec-9b1b-393394fee411",
   "metadata": {},
   "source": [
    "## Central Tendency\n",
    "\n",
    "* mean\n",
    "* weighted mean\n",
    "* geometric mean\n",
    "* harmonic mean\n",
    "* mean\n",
    "* mode"
   ]
  },
  {
   "cell_type": "markdown",
   "id": "2b940239-2752-4046-93d5-c83b1b231ec1",
   "metadata": {},
   "source": [
    "### Mean"
   ]
  },
  {
   "cell_type": "code",
   "execution_count": 54,
   "id": "a8764d11-c23e-4354-bb9b-4fa8e853a69d",
   "metadata": {},
   "outputs": [
    {
     "data": {
      "text/plain": [
       "[8, 1, 2.5, 4, 28]"
      ]
     },
     "execution_count": 54,
     "metadata": {},
     "output_type": "execute_result"
    }
   ],
   "source": [
    "x"
   ]
  },
  {
   "cell_type": "code",
   "execution_count": 4,
   "id": "8230026b-e216-415a-8dcc-df72de21e06a",
   "metadata": {},
   "outputs": [
    {
     "data": {
      "text/plain": [
       "43.5"
      ]
     },
     "execution_count": 4,
     "metadata": {},
     "output_type": "execute_result"
    }
   ],
   "source": [
    "sum(x)"
   ]
  },
  {
   "cell_type": "code",
   "execution_count": 5,
   "id": "cb8c536a-d8ed-42b9-899a-7401ae582767",
   "metadata": {},
   "outputs": [
    {
     "data": {
      "text/plain": [
       "5"
      ]
     },
     "execution_count": 5,
     "metadata": {},
     "output_type": "execute_result"
    }
   ],
   "source": [
    "len(x)"
   ]
  },
  {
   "cell_type": "code",
   "execution_count": 55,
   "id": "61c9b519-5470-4e6d-a953-b66f933a7076",
   "metadata": {},
   "outputs": [
    {
     "data": {
      "text/plain": [
       "8.7"
      ]
     },
     "execution_count": 55,
     "metadata": {},
     "output_type": "execute_result"
    }
   ],
   "source": [
    "#manual\n",
    "\n",
    "mean_x = sum(x)/len(x)\n",
    "mean_x"
   ]
  },
  {
   "cell_type": "code",
   "execution_count": 56,
   "id": "9aecd413-deb0-443f-bcec-2fc4d85f6874",
   "metadata": {},
   "outputs": [
    {
     "data": {
      "text/plain": [
       "8.7"
      ]
     },
     "execution_count": 56,
     "metadata": {},
     "output_type": "execute_result"
    }
   ],
   "source": [
    "#menggunakan library statistics\n",
    "\n",
    "mean_stats = statistics.mean(x)\n",
    "mean_stats"
   ]
  },
  {
   "cell_type": "code",
   "execution_count": 9,
   "id": "1a14ada1-9f0b-4c51-93b8-4d26180e253f",
   "metadata": {},
   "outputs": [
    {
     "data": {
      "text/plain": [
       "array([ 8. ,  1. ,  2.5,  4. , 28. ])"
      ]
     },
     "execution_count": 9,
     "metadata": {},
     "output_type": "execute_result"
    }
   ],
   "source": [
    "y"
   ]
  },
  {
   "cell_type": "code",
   "execution_count": 10,
   "id": "35340a6a-8b3e-460a-b763-db124f89c247",
   "metadata": {},
   "outputs": [
    {
     "data": {
      "text/plain": [
       "8.7"
      ]
     },
     "execution_count": 10,
     "metadata": {},
     "output_type": "execute_result"
    }
   ],
   "source": [
    "y.mean() #array"
   ]
  },
  {
   "cell_type": "code",
   "execution_count": 11,
   "id": "dd3d1ea3-5cfd-4dea-90aa-780d3a3ae4a5",
   "metadata": {},
   "outputs": [
    {
     "data": {
      "text/plain": [
       "8.7"
      ]
     },
     "execution_count": 11,
     "metadata": {},
     "output_type": "execute_result"
    }
   ],
   "source": [
    "z.mean() #series"
   ]
  },
  {
   "cell_type": "code",
   "execution_count": 12,
   "id": "8fd71370-a608-4bad-b684-cb837f339d77",
   "metadata": {},
   "outputs": [
    {
     "data": {
      "text/plain": [
       "nan"
      ]
     },
     "execution_count": 12,
     "metadata": {},
     "output_type": "execute_result"
    }
   ],
   "source": [
    "y_with_nan.mean()"
   ]
  },
  {
   "cell_type": "code",
   "execution_count": 14,
   "id": "fbb9f2f9-72e3-427b-873c-5ab0ca7ee142",
   "metadata": {},
   "outputs": [
    {
     "data": {
      "text/plain": [
       "8.7"
      ]
     },
     "execution_count": 14,
     "metadata": {},
     "output_type": "execute_result"
    }
   ],
   "source": [
    "z_with_nan.mean() #rata-rata pada series tidak mempertimbangkan nan value"
   ]
  },
  {
   "cell_type": "code",
   "execution_count": 57,
   "id": "96f5ba70-f7f0-47f8-925e-52709d3fb4b0",
   "metadata": {
    "tags": []
   },
   "outputs": [
    {
     "data": {
      "text/plain": [
       "8.7"
      ]
     },
     "execution_count": 57,
     "metadata": {},
     "output_type": "execute_result"
    }
   ],
   "source": [
    "#menggunakanm library numpy\n",
    "\n",
    "mean_np = np.mean(x)\n",
    "mean_np"
   ]
  },
  {
   "cell_type": "code",
   "execution_count": 13,
   "id": "4c6b923e-0182-41da-bff7-8fc3d5ba3f4d",
   "metadata": {},
   "outputs": [
    {
     "data": {
      "text/plain": [
       "8.7"
      ]
     },
     "execution_count": 13,
     "metadata": {},
     "output_type": "execute_result"
    }
   ],
   "source": [
    "np.nanmean(y_with_nan) #mengabaikan nan value"
   ]
  },
  {
   "cell_type": "markdown",
   "id": "14f87598-e8bb-48dc-84df-9acaf3042ed9",
   "metadata": {},
   "source": [
    "### Weighted Mean\n",
    "\n",
    "Rata-rata dengan pembobotan."
   ]
  },
  {
   "cell_type": "code",
   "execution_count": 15,
   "id": "9d4b5a69-c326-44c6-b46d-1a4c0b91d0a7",
   "metadata": {},
   "outputs": [
    {
     "data": {
      "text/plain": [
       "6.95"
      ]
     },
     "execution_count": 15,
     "metadata": {},
     "output_type": "execute_result"
    }
   ],
   "source": [
    "x = [8,1,2.5,4,28] #metrics\n",
    "w = [0.1,0.2,0.3,0.25,0.15] #weightages\n",
    "\n",
    "#convert to array\n",
    "y,z,w = np.array(x),pd.Series(x),np.array(w)\n",
    "\n",
    "wmean = np.average(y, weights=w)\n",
    "wmean"
   ]
  },
  {
   "cell_type": "code",
   "execution_count": 16,
   "id": "5af47291-7d72-4091-95f5-ae0295447671",
   "metadata": {},
   "outputs": [
    {
     "data": {
      "text/plain": [
       "6.95"
      ]
     },
     "execution_count": 16,
     "metadata": {},
     "output_type": "execute_result"
    }
   ],
   "source": [
    "#manual\n",
    "wmean_manual = sum(w[i]*x[i] for i in range(len(x)))/sum(w)\n",
    "wmean_manual"
   ]
  },
  {
   "cell_type": "markdown",
   "id": "282d1940-6fe4-4686-ae1b-be9f7d0efe41",
   "metadata": {},
   "source": [
    "### Harmonic Mean\n",
    "\n",
    "Digunakan untuk rata-rata rate/laju, contohnya 10km/jam"
   ]
  },
  {
   "cell_type": "code",
   "execution_count": 19,
   "id": "c64ba0ac-d0d7-419d-b7b2-bf02cd138c55",
   "metadata": {},
   "outputs": [
    {
     "data": {
      "text/plain": [
       "[8, 1, 2.5, 4, 28]"
      ]
     },
     "execution_count": 19,
     "metadata": {},
     "output_type": "execute_result"
    }
   ],
   "source": [
    "x"
   ]
  },
  {
   "cell_type": "code",
   "execution_count": 58,
   "id": "6d74d89e-ac16-4203-875d-fcf8145dcc06",
   "metadata": {},
   "outputs": [
    {
     "data": {
      "text/plain": [
       "2.7613412228796843"
      ]
     },
     "execution_count": 58,
     "metadata": {},
     "output_type": "execute_result"
    }
   ],
   "source": [
    "#manual\n",
    "\n",
    "hmean = len(x)/sum(1/item for item in x)\n",
    "hmean"
   ]
  },
  {
   "cell_type": "code",
   "execution_count": 20,
   "id": "d6bafd07-6a5f-4aeb-9387-741f34963c92",
   "metadata": {},
   "outputs": [
    {
     "name": "stdout",
     "output_type": "stream",
     "text": [
      "0.125\n",
      "1.0\n",
      "0.4\n",
      "0.25\n",
      "0.03571428571428571\n"
     ]
    }
   ],
   "source": [
    "for item in x:\n",
    "    print(1/item)"
   ]
  },
  {
   "cell_type": "code",
   "execution_count": 21,
   "id": "1fcb1c54-bfd0-4264-babd-2e5ab38ac3be",
   "metadata": {},
   "outputs": [
    {
     "data": {
      "text/plain": [
       "[0.125, 1.0, 0.4, 0.25, 0.03571428571428571]"
      ]
     },
     "execution_count": 21,
     "metadata": {},
     "output_type": "execute_result"
    }
   ],
   "source": [
    "list(1/item for item in x)"
   ]
  },
  {
   "cell_type": "code",
   "execution_count": 22,
   "id": "0a235900-fdd5-429a-b80a-d53d7e3ecc9d",
   "metadata": {},
   "outputs": [
    {
     "data": {
      "text/plain": [
       "30.0"
      ]
     },
     "execution_count": 22,
     "metadata": {},
     "output_type": "execute_result"
    }
   ],
   "source": [
    "speed = [60,20]\n",
    "hmean_speed = len(speed)/sum(1/item for item in speed)\n",
    "hmean_speed"
   ]
  },
  {
   "cell_type": "code",
   "execution_count": 59,
   "id": "16ead6ed-4387-4520-bcf0-d2eca5d060f5",
   "metadata": {},
   "outputs": [
    {
     "data": {
      "text/plain": [
       "2.7613412228796843"
      ]
     },
     "execution_count": 59,
     "metadata": {},
     "output_type": "execute_result"
    }
   ],
   "source": [
    "#menggunakan library statistics\n",
    "\n",
    "hmean_stats = statistics.harmonic_mean(x)\n",
    "hmean_stats"
   ]
  },
  {
   "cell_type": "code",
   "execution_count": 23,
   "id": "925b9b25-6f72-451a-8f5e-b287e38a04fb",
   "metadata": {},
   "outputs": [
    {
     "data": {
      "text/plain": [
       "30.0"
      ]
     },
     "execution_count": 23,
     "metadata": {},
     "output_type": "execute_result"
    }
   ],
   "source": [
    "hmean_stats_speed = statistics.harmonic_mean(speed)\n",
    "hmean_stats_speed"
   ]
  },
  {
   "cell_type": "code",
   "execution_count": 60,
   "id": "f832cab9-f9f2-49ae-b1b9-30d54b8add87",
   "metadata": {},
   "outputs": [
    {
     "data": {
      "text/plain": [
       "30.0"
      ]
     },
     "execution_count": 60,
     "metadata": {},
     "output_type": "execute_result"
    }
   ],
   "source": [
    "#menggunakan library scipy\n",
    "\n",
    "hmean_speed_scipy = scipy.stats.hmean(speed)\n",
    "hmean_speed_scipy"
   ]
  },
  {
   "cell_type": "markdown",
   "id": "106ce513-15fb-4e28-90e7-d75e04d9f64e",
   "metadata": {},
   "source": [
    "### Geometric Mean"
   ]
  },
  {
   "attachments": {
    "f697fff9-4892-4e90-a9fb-d95c7d2d8a43.png": {
     "image/png": "[encoded data removed]"
    }
   },
   "cell_type": "markdown",
   "id": "be27d259-9a28-43b1-a177-bc2e7022533e",
   "metadata": {},
   "source": [
    "![image.png](attachment:f697fff9-4892-4e90-a9fb-d95c7d2d8a43.png)"
   ]
  },
  {
   "cell_type": "code",
   "execution_count": 24,
   "id": "89042d14-b007-4b12-a620-6d574c118b74",
   "metadata": {},
   "outputs": [
    {
     "data": {
      "text/plain": [
       "2730.0"
      ]
     },
     "execution_count": 24,
     "metadata": {},
     "output_type": "execute_result"
    }
   ],
   "source": [
    "x = 1000\n",
    "x*= 1.3\n",
    "x*= 1.5\n",
    "x*= 1.4\n",
    "x"
   ]
  },
  {
   "cell_type": "code",
   "execution_count": 25,
   "id": "fe1d8ac9-191b-4a4e-8a30-a642bd19e9bd",
   "metadata": {},
   "outputs": [
    {
     "data": {
      "text/plain": [
       "40.0"
      ]
     },
     "execution_count": 25,
     "metadata": {},
     "output_type": "execute_result"
    }
   ],
   "source": [
    "#arithmetic mean\n",
    "(30+50+40)/3"
   ]
  },
  {
   "cell_type": "code",
   "execution_count": 26,
   "id": "83acf092-7c42-4487-9d53-4f3326f06384",
   "metadata": {},
   "outputs": [
    {
     "data": {
      "text/plain": [
       "2743.9999999999995"
      ]
     },
     "execution_count": 26,
     "metadata": {},
     "output_type": "execute_result"
    }
   ],
   "source": [
    "x = 1000\n",
    "x*= 1.4\n",
    "x*= 1.4\n",
    "x*= 1.4\n",
    "x"
   ]
  },
  {
   "cell_type": "code",
   "execution_count": 27,
   "id": "fd2a5603-657c-4396-9db8-5148efe6dc71",
   "metadata": {},
   "outputs": [
    {
     "data": {
      "text/plain": [
       "39.148676411688626"
      ]
     },
     "execution_count": 27,
     "metadata": {},
     "output_type": "execute_result"
    }
   ],
   "source": [
    "#geometric mean\n",
    "gmean=(30*50*40)**(1/3)\n",
    "gmean"
   ]
  },
  {
   "cell_type": "code",
   "execution_count": 28,
   "id": "d22c5bb1-4f60-494b-83c8-9fc1567fcda5",
   "metadata": {},
   "outputs": [
    {
     "data": {
      "text/plain": [
       "39.14867641168864"
      ]
     },
     "execution_count": 28,
     "metadata": {},
     "output_type": "execute_result"
    }
   ],
   "source": [
    "scipy.stats.gmean([30,50,40])"
   ]
  },
  {
   "cell_type": "code",
   "execution_count": 61,
   "id": "b9ed814c-69cc-4858-8c65-ccd3bfcc21c7",
   "metadata": {},
   "outputs": [
    {
     "data": {
      "text/plain": [
       "2694.322835875"
      ]
     },
     "execution_count": 61,
     "metadata": {},
     "output_type": "execute_result"
    }
   ],
   "source": [
    "x = 1000\n",
    "x*=1.3915\n",
    "x*=1.3915\n",
    "x*=1.3915\n",
    "x"
   ]
  },
  {
   "cell_type": "code",
   "execution_count": 62,
   "id": "44a871b8-4672-4e0d-aa3d-7e07fb063bce",
   "metadata": {},
   "outputs": [
    {
     "data": {
      "text/plain": [
       "39.14867641168864"
      ]
     },
     "execution_count": 62,
     "metadata": {},
     "output_type": "execute_result"
    }
   ],
   "source": [
    "#geometric mean menggunakan library scipy\n",
    "scipy.stats.gmean([30,50,40])"
   ]
  },
  {
   "cell_type": "markdown",
   "id": "4d7b1c41-8f1f-45dd-9e1b-a5373cc7210b",
   "metadata": {},
   "source": [
    "## Median"
   ]
  },
  {
   "cell_type": "code",
   "execution_count": 63,
   "id": "01510a0d-8a76-4bfb-9527-d1f2b3af4b50",
   "metadata": {},
   "outputs": [
    {
     "data": {
      "text/plain": [
       "4"
      ]
     },
     "execution_count": 63,
     "metadata": {},
     "output_type": "execute_result"
    }
   ],
   "source": [
    "#manual GANJIL\n",
    "\n",
    "a = [1,2,4,8,9]\n",
    "n = len(a)\n",
    "median = a[2]\n",
    "median"
   ]
  },
  {
   "cell_type": "code",
   "execution_count": 64,
   "id": "0dfd7459-8641-4cf5-971e-e8404a8cccef",
   "metadata": {},
   "outputs": [
    {
     "data": {
      "text/plain": [
       "3.0"
      ]
     },
     "execution_count": 64,
     "metadata": {},
     "output_type": "execute_result"
    }
   ],
   "source": [
    "#manual GENAP\n",
    "\n",
    "a = [1,4,8,9]\n",
    "n = len(a)\n",
    "(n+1)/2\n",
    "median = (2+4)/2\n",
    "median"
   ]
  },
  {
   "cell_type": "code",
   "execution_count": 65,
   "id": "1dfea8cd-aa26-4b34-ad25-e43f49db2830",
   "metadata": {},
   "outputs": [
    {
     "name": "stdout",
     "output_type": "stream",
     "text": [
      "4.0\n",
      "3.5\n"
     ]
    }
   ],
   "source": [
    "#menggunakan library numpy\n",
    "\n",
    "x = [8,1,2.5,4,28]\n",
    "c = [2,3,4,5]\n",
    "print(np.median(x))\n",
    "print(np.median(c))"
   ]
  },
  {
   "cell_type": "code",
   "execution_count": 66,
   "id": "2a732963-e76c-4021-8650-66a9db119793",
   "metadata": {},
   "outputs": [],
   "source": [
    "#function median > pembuktian manual\n",
    "\n",
    "def median_function(c):\n",
    "    n = len(c)\n",
    "    if n%2 == 1:\n",
    "        median_ = sorted(c)[round(0.5*(n-1))]\n",
    "    else:\n",
    "        c_ord, index = sorted(c), round(0.5*n)\n",
    "        median_=0.5*(c_ord[index-1]+c_ord[index])\n",
    "    return(median_)"
   ]
  },
  {
   "cell_type": "code",
   "execution_count": 33,
   "id": "69f23884-03e6-40cb-a3e0-cf4b587efe91",
   "metadata": {},
   "outputs": [
    {
     "data": {
      "text/plain": [
       "4"
      ]
     },
     "execution_count": 33,
     "metadata": {},
     "output_type": "execute_result"
    }
   ],
   "source": [
    "median_function(x)"
   ]
  },
  {
   "cell_type": "code",
   "execution_count": 34,
   "id": "0064fbc7-6362-43ef-b00b-8684ba448428",
   "metadata": {},
   "outputs": [
    {
     "data": {
      "text/plain": [
       "3.5"
      ]
     },
     "execution_count": 34,
     "metadata": {},
     "output_type": "execute_result"
    }
   ],
   "source": [
    "median_function(c)"
   ]
  },
  {
   "cell_type": "markdown",
   "id": "82a9c2dc-e42c-4e70-876c-6237b0bb7345",
   "metadata": {},
   "source": [
    "### Mode/modus"
   ]
  },
  {
   "cell_type": "code",
   "execution_count": 35,
   "id": "b663f75f-b635-4a23-848c-d142988814a0",
   "metadata": {},
   "outputs": [
    {
     "data": {
      "text/plain": [
       "2"
      ]
     },
     "execution_count": 35,
     "metadata": {},
     "output_type": "execute_result"
    }
   ],
   "source": [
    "u = [2,3,2,8,12]\n",
    "\n",
    "mode_ =  max((u.count(i),i) for i in set(u))[1]\n",
    "mode_"
   ]
  },
  {
   "cell_type": "code",
   "execution_count": 36,
   "id": "d5ac15b7-64d3-4217-af1e-71e2d5f4e987",
   "metadata": {},
   "outputs": [
    {
     "data": {
      "text/plain": [
       "2"
      ]
     },
     "execution_count": 36,
     "metadata": {},
     "output_type": "execute_result"
    }
   ],
   "source": [
    "statistics.mode(u)"
   ]
  },
  {
   "cell_type": "code",
   "execution_count": null,
   "id": "b9b8af8b-fbbd-4218-b04a-e890beedb40c",
   "metadata": {},
   "outputs": [
    {
     "name": "stderr",
     "output_type": "stream",
     "text": [
      "C:\\Users\\USER\\AppData\\Local\\Temp\\ipykernel_13696\\4097402543.py:1: FutureWarning: Unlike other reduction functions (e.g. `skew`, `kurtosis`), the default behavior of `mode` typically preserves the axis it acts along. In SciPy 1.11.0, this behavior will change: the default value of `keepdims` will become False, the `axis` over which the statistic is taken will be eliminated, and the value None will no longer be accepted. Set `keepdims` to True or False to avoid this warning.\n",
      "  scipy.stats.mode(u)[0][0]\n"
     ]
    },
    {
     "data": {
      "text/plain": [
       "2"
      ]
     },
     "execution_count": 67,
     "metadata": {},
     "output_type": "execute_result"
    }
   ],
   "source": [
    "scipy.stats.mode(u)[0][0]"
   ]
  },
  {
   "cell_type": "code",
   "execution_count": 68,
   "id": "cd51f09f-f527-4975-b5ad-6534655f2b32",
   "metadata": {},
   "outputs": [
    {
     "name": "stderr",
     "output_type": "stream",
     "text": [
      "C:\\Users\\USER\\AppData\\Local\\Temp\\ipykernel_13696\\1318742610.py:1: FutureWarning: Unlike other reduction functions (e.g. `skew`, `kurtosis`), the default behavior of `mode` typically preserves the axis it acts along. In SciPy 1.11.0, this behavior will change: the default value of `keepdims` will become False, the `axis` over which the statistic is taken will be eliminated, and the value None will no longer be accepted. Set `keepdims` to True or False to avoid this warning.\n",
      "  mode_lib = scipy.stats.mode(u)\n"
     ]
    }
   ],
   "source": [
    "mode_lib = scipy.stats.mode(u)"
   ]
  },
  {
   "cell_type": "code",
   "execution_count": 69,
   "id": "b936a2f2-f9fb-43bd-8836-c0be6be77acf",
   "metadata": {},
   "outputs": [
    {
     "name": "stdout",
     "output_type": "stream",
     "text": [
      "ModeResult(mode=array([2]), count=array([2]))\n",
      "[2]\n",
      "[2]\n"
     ]
    }
   ],
   "source": [
    "print(mode_lib)\n",
    "print(mode_lib.mode)\n",
    "print(mode_lib.count)"
   ]
  },
  {
   "cell_type": "code",
   "execution_count": 70,
   "id": "f847d73c-abce-4aa6-a557-ac2aad34c4f6",
   "metadata": {},
   "outputs": [
    {
     "data": {
      "text/plain": [
       "[2, 3, 2, 8, 12]"
      ]
     },
     "execution_count": 70,
     "metadata": {},
     "output_type": "execute_result"
    }
   ],
   "source": [
    "u"
   ]
  },
  {
   "cell_type": "code",
   "execution_count": 71,
   "id": "837ee2a8-47c0-4a73-bc24-5ef5d52c3911",
   "metadata": {},
   "outputs": [
    {
     "data": {
      "text/plain": [
       "0    2\n",
       "dtype: int64"
      ]
     },
     "execution_count": 71,
     "metadata": {},
     "output_type": "execute_result"
    }
   ],
   "source": [
    "u_series = pd.Series(u)\n",
    "u_series.mode()"
   ]
  },
  {
   "cell_type": "code",
   "execution_count": 72,
   "id": "fd3a5c21-8ffd-4886-8f37-fbe39ebb8223",
   "metadata": {},
   "outputs": [
    {
     "data": {
      "text/plain": [
       "2"
      ]
     },
     "execution_count": 72,
     "metadata": {},
     "output_type": "execute_result"
    }
   ],
   "source": [
    "u_array = np.array(u)\n",
    "statistics.mode(u_array)"
   ]
  },
  {
   "cell_type": "code",
   "execution_count": 73,
   "id": "77db1457-7acd-4593-9256-af9f8d12d64c",
   "metadata": {},
   "outputs": [
    {
     "data": {
      "text/plain": [
       "0    3.0\n",
       "dtype: float64"
      ]
     },
     "execution_count": 73,
     "metadata": {},
     "output_type": "execute_result"
    }
   ],
   "source": [
    "v = pd.Series([1,2,3,3,3,np.nan,np.nan,np.nan,np.nan])\n",
    "v.mode()"
   ]
  },
  {
   "cell_type": "code",
   "execution_count": 74,
   "id": "69e64c3b-4681-4720-b06a-f5b8646fda4b",
   "metadata": {},
   "outputs": [
    {
     "data": {
      "text/plain": [
       "3.0"
      ]
     },
     "execution_count": 74,
     "metadata": {},
     "output_type": "execute_result"
    }
   ],
   "source": [
    "statistics.mode(v)"
   ]
  },
  {
   "cell_type": "code",
   "execution_count": 75,
   "id": "51f77aee-779f-46cd-b8ae-76d9181c8a65",
   "metadata": {},
   "outputs": [
    {
     "data": {
      "text/plain": [
       "nan"
      ]
     },
     "execution_count": 75,
     "metadata": {},
     "output_type": "execute_result"
    }
   ],
   "source": [
    "h = [1,2,3,3,3,np.nan,np.nan,np.nan,np.nan]\n",
    "statistics.mode(h)"
   ]
  },
  {
   "cell_type": "markdown",
   "id": "a1800ad0-8414-44d3-9e0c-32d23e291a2d",
   "metadata": {},
   "source": [
    "Catatan: eries akan mengabaikan NaN dan List akan mempertimbangkan NaN"
   ]
  },
  {
   "cell_type": "markdown",
   "id": "a83e1308-843e-4ea9-b346-99449450edeb",
   "metadata": {},
   "source": [
    "## Measures of Variability"
   ]
  },
  {
   "cell_type": "markdown",
   "id": "bfda1796-b4be-4b37-8f70-e3b752bf2e1e",
   "metadata": {},
   "source": [
    "### Variance"
   ]
  },
  {
   "cell_type": "code",
   "execution_count": 37,
   "id": "c867f755-f1f5-4812-8c6b-7bb549afef07",
   "metadata": {},
   "outputs": [
    {
     "data": {
      "text/plain": [
       "[8, 1, 2.5, 4, 28]"
      ]
     },
     "execution_count": 37,
     "metadata": {},
     "output_type": "execute_result"
    }
   ],
   "source": [
    "x"
   ]
  },
  {
   "cell_type": "code",
   "execution_count": 76,
   "id": "7a3ca4e3-7416-4b21-8b7e-60f973a20100",
   "metadata": {},
   "outputs": [
    {
     "data": {
      "text/plain": [
       "123.19999999999999"
      ]
     },
     "execution_count": 76,
     "metadata": {},
     "output_type": "execute_result"
    }
   ],
   "source": [
    "#manual\n",
    "\n",
    "n = len(x)\n",
    "mean_var = np.mean(x)\n",
    "var_ = sum((item-mean_var)**2 for item in x) / (n-1)\n",
    "var_"
   ]
  },
  {
   "cell_type": "code",
   "execution_count": 77,
   "id": "ffba3e09-c474-45a3-a3a8-09be105e3ee0",
   "metadata": {},
   "outputs": [
    {
     "data": {
      "text/plain": [
       "123.2"
      ]
     },
     "execution_count": 77,
     "metadata": {},
     "output_type": "execute_result"
    }
   ],
   "source": [
    "#menggunakan library statistics\n",
    "\n",
    "var_stat = statistics.variance(x)\n",
    "var_stat"
   ]
  },
  {
   "cell_type": "code",
   "execution_count": 78,
   "id": "55480938-adc6-4d2f-9275-188b6dbabb60",
   "metadata": {},
   "outputs": [
    {
     "data": {
      "text/plain": [
       "123.19999999999999"
      ]
     },
     "execution_count": 78,
     "metadata": {},
     "output_type": "execute_result"
    }
   ],
   "source": [
    "#menggunakan numpy\n",
    "\n",
    "var_np = np.var(x,ddof=1)\n",
    "var_np"
   ]
  },
  {
   "cell_type": "code",
   "execution_count": 79,
   "id": "ce8bb6be-755e-41a7-9f77-37bf67272982",
   "metadata": {},
   "outputs": [
    {
     "data": {
      "text/plain": [
       "123.19999999999999"
      ]
     },
     "execution_count": 79,
     "metadata": {},
     "output_type": "execute_result"
    }
   ],
   "source": [
    "#menggunakan series function\n",
    "\n",
    "z = pd.Series(x)\n",
    "z.var()"
   ]
  },
  {
   "cell_type": "markdown",
   "id": "4c60b218-bf5d-47aa-8783-e866472468cb",
   "metadata": {},
   "source": [
    "### Standard Deviasi"
   ]
  },
  {
   "cell_type": "code",
   "execution_count": 83,
   "id": "2bd1cedf-a33a-45bf-9c39-64d328162ce4",
   "metadata": {},
   "outputs": [
    {
     "data": {
      "text/plain": [
       "11.099549540409287"
      ]
     },
     "execution_count": 83,
     "metadata": {},
     "output_type": "execute_result"
    }
   ],
   "source": [
    "# stdev menggunakan library statistics\n",
    "\n",
    "stdev = statistics.stdev(x)\n",
    "stdev"
   ]
  },
  {
   "cell_type": "code",
   "execution_count": 82,
   "id": "c8916f21-2fa0-4bc3-a62f-c09bf8190aea",
   "metadata": {},
   "outputs": [
    {
     "data": {
      "text/plain": [
       "11.099549540409285"
      ]
     },
     "execution_count": 82,
     "metadata": {},
     "output_type": "execute_result"
    }
   ],
   "source": [
    "#stdev menggunakan library numpy\n",
    "\n",
    "stdev = np.std(x,ddof=1)\n",
    "stdev"
   ]
  },
  {
   "cell_type": "code",
   "execution_count": 41,
   "id": "c7a37fdf-c91a-49fb-a633-ba7dbc59ba32",
   "metadata": {},
   "outputs": [
    {
     "data": {
      "text/plain": [
       "18.58090417606205"
      ]
     },
     "execution_count": 41,
     "metadata": {},
     "output_type": "execute_result"
    }
   ],
   "source": [
    "x = [1,2,3,6,7,8,30,40,50]\n",
    "\n",
    "stdev_ = statistics.stdev(x)\n",
    "stdev_"
   ]
  },
  {
   "cell_type": "code",
   "execution_count": 42,
   "id": "1efff392-bb5b-4a55-9cb7-e1de74a184b7",
   "metadata": {
    "tags": []
   },
   "outputs": [
    {
     "name": "stdout",
     "output_type": "stream",
     "text": [
      "18.58090417606205\n",
      "345.25000000000006\n"
     ]
    }
   ],
   "source": [
    "x = [1,2,3,6,7,8,30,40,50]\n",
    "std_dev = statistics.stdev(x)\n",
    "print(std_dev)\n",
    "\n",
    "variance = statistics.variance(x)\n",
    "print(variance)"
   ]
  },
  {
   "cell_type": "code",
   "execution_count": 43,
   "id": "ed42538b-cf27-4192-a743-a966ca7263e3",
   "metadata": {
    "tags": []
   },
   "outputs": [
    {
     "name": "stdout",
     "output_type": "stream",
     "text": [
      "345.25000000000006\n",
      "18.58090417606205\n"
     ]
    }
   ],
   "source": [
    "x = [1,2,3,6,7,8,30,40,50]\n",
    "n = len(x)\n",
    "mean = sum(x)/n\n",
    "var_ = sum((item - mean)**2 for item in x)/(n-1)\n",
    "Sd_ = var_**(1/2)\n",
    "\n",
    "print(var_)\n",
    "print(Sd_)"
   ]
  },
  {
   "cell_type": "code",
   "execution_count": 81,
   "id": "d1c79fd8-37ef-4f63-8d1e-0995d4fa099d",
   "metadata": {},
   "outputs": [
    {
     "name": "stdout",
     "output_type": "stream",
     "text": [
      "123.19999999999999\n",
      "11.099549540409285\n"
     ]
    }
   ],
   "source": [
    "x = [8, 1, 2.5, 4, 28]\n",
    "var_np\n",
    "stdev = var_np**(1/2)\n",
    "print(var_np)\n",
    "print(stdev)"
   ]
  },
  {
   "cell_type": "markdown",
   "id": "4cc8234e-b7e5-469a-8b3e-bfbda04ea9c2",
   "metadata": {},
   "source": [
    "### Skewness"
   ]
  },
  {
   "cell_type": "code",
   "execution_count": 44,
   "id": "d94713d3-4210-453c-af75-12761eb4e621",
   "metadata": {},
   "outputs": [],
   "source": [
    "x = [8,1,2.5,4,28]"
   ]
  },
  {
   "cell_type": "code",
   "execution_count": 45,
   "id": "ec1d598b-7a82-4c8e-a218-4749c2109566",
   "metadata": {},
   "outputs": [
    {
     "data": {
      "text/plain": [
       "1.947043227390592"
      ]
     },
     "execution_count": 45,
     "metadata": {},
     "output_type": "execute_result"
    }
   ],
   "source": [
    "n = len(x)\n",
    "mean = np.mean(x)\n",
    "stdev = statistics.stdev(x)\n",
    "skew_= (sum((item - mean)**3 for item in x))*n / ((n-1)*(n-2)*(stdev**3))\n",
    "skew_"
   ]
  },
  {
   "cell_type": "code",
   "execution_count": 46,
   "id": "ae1cb50b-0bfe-430a-b66f-6d9f4cd094ed",
   "metadata": {},
   "outputs": [
    {
     "data": {
      "text/plain": [
       "1.9470432273905927"
      ]
     },
     "execution_count": 46,
     "metadata": {},
     "output_type": "execute_result"
    }
   ],
   "source": [
    "scipy.stats.skew(x,bias=False)"
   ]
  },
  {
   "cell_type": "code",
   "execution_count": 84,
   "id": "6efa7ccc-489b-4739-9d42-0413ccb18fa1",
   "metadata": {},
   "outputs": [
    {
     "data": {
      "text/plain": [
       "1.9470432273905924"
      ]
     },
     "execution_count": 84,
     "metadata": {},
     "output_type": "execute_result"
    }
   ],
   "source": [
    "z = pd.Series(x)\n",
    "z.skew()"
   ]
  },
  {
   "cell_type": "code",
   "execution_count": 85,
   "id": "3ccd627a-762a-4e0e-9262-7dfede3c2b3b",
   "metadata": {},
   "outputs": [
    {
     "data": {
      "text/plain": [
       "nan"
      ]
     },
     "execution_count": 85,
     "metadata": {},
     "output_type": "execute_result"
    }
   ],
   "source": [
    "scipy.stats.skew(x_with_nan)"
   ]
  },
  {
   "cell_type": "code",
   "execution_count": 86,
   "id": "5809fbb6-471b-4cf6-8c39-70feb39c6fdb",
   "metadata": {},
   "outputs": [
    {
     "data": {
      "text/plain": [
       "1.9470432273905924"
      ]
     },
     "execution_count": 86,
     "metadata": {},
     "output_type": "execute_result"
    }
   ],
   "source": [
    "z_with_nan = pd.Series(x_with_nan)\n",
    "z_with_nan.skew()"
   ]
  },
  {
   "cell_type": "code",
   "execution_count": 87,
   "id": "4e268b60-9274-4499-a09c-ffabb95f8070",
   "metadata": {},
   "outputs": [
    {
     "data": {
      "text/plain": [
       "nan"
      ]
     },
     "execution_count": 87,
     "metadata": {},
     "output_type": "execute_result"
    }
   ],
   "source": [
    "scipy.stats.skew(z_with_nan)"
   ]
  },
  {
   "cell_type": "code",
   "execution_count": 88,
   "id": "e520a6a4-9eca-4999-9420-741b71a7ec27",
   "metadata": {},
   "outputs": [
    {
     "data": {
      "text/plain": [
       "nan"
      ]
     },
     "execution_count": 88,
     "metadata": {},
     "output_type": "execute_result"
    }
   ],
   "source": [
    "scipy.stats.skew(y_with_nan, bias=False)"
   ]
  },
  {
   "cell_type": "markdown",
   "id": "f7936508-ad2c-4e68-a00b-f3c25c11ef13",
   "metadata": {},
   "source": [
    "## Percentile"
   ]
  },
  {
   "cell_type": "code",
   "execution_count": 91,
   "id": "c16be4e5-c8c3-4ba3-9d16-2bce79adb096",
   "metadata": {},
   "outputs": [
    {
     "data": {
      "text/plain": [
       "-2.96"
      ]
     },
     "execution_count": 91,
     "metadata": {},
     "output_type": "execute_result"
    }
   ],
   "source": [
    "x = [-5.0,1.1,0.1,2.0,8.0,12.8,21.0,25.8,41.0]\n",
    "\n",
    "#percentile 5\n",
    "np.percentile(x,5)"
   ]
  },
  {
   "cell_type": "code",
   "execution_count": 92,
   "id": "76f57e30-516f-4d80-af56-a9849473772f",
   "metadata": {},
   "outputs": [
    {
     "data": {
      "text/plain": [
       "-5.0"
      ]
     },
     "execution_count": 92,
     "metadata": {},
     "output_type": "execute_result"
    }
   ],
   "source": [
    "#percentile menggunakan library numpy\n",
    "\n",
    "np.percentile(x,0)"
   ]
  },
  {
   "cell_type": "code",
   "execution_count": 93,
   "id": "2837b25c-714d-41c0-9271-c6b6fd8545c6",
   "metadata": {},
   "outputs": [
    {
     "data": {
      "text/plain": [
       "41.0"
      ]
     },
     "execution_count": 93,
     "metadata": {},
     "output_type": "execute_result"
    }
   ],
   "source": [
    "np.percentile(x,100)"
   ]
  },
  {
   "cell_type": "code",
   "execution_count": 94,
   "id": "714663fb-f65f-4ff7-aa93-6e0e4e6279a2",
   "metadata": {},
   "outputs": [
    {
     "data": {
      "text/plain": [
       "28.840000000000003"
      ]
     },
     "execution_count": 94,
     "metadata": {},
     "output_type": "execute_result"
    }
   ],
   "source": [
    "np.percentile(x,90)"
   ]
  },
  {
   "cell_type": "code",
   "execution_count": 95,
   "id": "407adb73-82bb-4787-8a5d-69f6d6b0c515",
   "metadata": {},
   "outputs": [
    {
     "data": {
      "text/plain": [
       "[8.0]"
      ]
     },
     "execution_count": 95,
     "metadata": {},
     "output_type": "execute_result"
    }
   ],
   "source": [
    "#quantile menggunakan library statistics\n",
    "\n",
    "statistics.quantiles(x,n=2)"
   ]
  },
  {
   "cell_type": "code",
   "execution_count": 96,
   "id": "0394594f-69a7-49be-b19c-8069a8d216e4",
   "metadata": {},
   "outputs": [
    {
     "data": {
      "text/plain": [
       "[0.6000000000000001, 8.0, 23.4]"
      ]
     },
     "execution_count": 96,
     "metadata": {},
     "output_type": "execute_result"
    }
   ],
   "source": [
    "statistics.quantiles(x,n=4)"
   ]
  },
  {
   "cell_type": "code",
   "execution_count": 97,
   "id": "ac1c23ed-715b-425f-a2ed-bfb8c40cc652",
   "metadata": {},
   "outputs": [
    {
     "data": {
      "text/plain": [
       "[1.1, 8.0, 21.0]"
      ]
     },
     "execution_count": 97,
     "metadata": {},
     "output_type": "execute_result"
    }
   ],
   "source": [
    "statistics.quantiles(x,n=4,method='inclusive')"
   ]
  },
  {
   "cell_type": "code",
   "execution_count": 98,
   "id": "d36f29b5-214a-4e60-be30-daaad3b4d194",
   "metadata": {},
   "outputs": [
    {
     "data": {
      "text/plain": [
       "-5.0"
      ]
     },
     "execution_count": 98,
     "metadata": {},
     "output_type": "execute_result"
    }
   ],
   "source": [
    "#quantile menggunakan library numpy\n",
    "\n",
    "np.quantile(x,0)"
   ]
  },
  {
   "cell_type": "code",
   "execution_count": 99,
   "id": "9fd8bc62-9cea-44e6-a070-30ff5592495b",
   "metadata": {},
   "outputs": [
    {
     "data": {
      "text/plain": [
       "41.0"
      ]
     },
     "execution_count": 99,
     "metadata": {},
     "output_type": "execute_result"
    }
   ],
   "source": [
    "np.quantile(x,1)"
   ]
  },
  {
   "cell_type": "code",
   "execution_count": 100,
   "id": "f6780f32-9122-44b6-bb5b-d2d9c33ca76c",
   "metadata": {},
   "outputs": [
    {
     "data": {
      "text/plain": [
       "8.0"
      ]
     },
     "execution_count": 100,
     "metadata": {},
     "output_type": "execute_result"
    }
   ],
   "source": [
    "np.quantile(x,0.5)"
   ]
  },
  {
   "cell_type": "code",
   "execution_count": 101,
   "id": "841b2042-b194-4eaf-8d9a-67950f20baba",
   "metadata": {},
   "outputs": [
    {
     "data": {
      "text/plain": [
       "[-5, -1.1, nan, 0.1, 2, 8, 12.8, 21, 25.8, 41]"
      ]
     },
     "execution_count": 101,
     "metadata": {},
     "output_type": "execute_result"
    }
   ],
   "source": [
    "x_with_nan = [-5, -1.1,np.nan, 0.1, 2, 8, 12.8, 21, 25.8, 41]\n",
    "x_with_nan"
   ]
  },
  {
   "cell_type": "code",
   "execution_count": 102,
   "id": "6dee42ea-e112-4095-a149-06ed43e78b96",
   "metadata": {},
   "outputs": [
    {
     "data": {
      "text/plain": [
       "nan"
      ]
     },
     "execution_count": 102,
     "metadata": {},
     "output_type": "execute_result"
    }
   ],
   "source": [
    "np.quantile(x_with_nan,0)"
   ]
  },
  {
   "cell_type": "code",
   "execution_count": 103,
   "id": "31eb3efc-491e-436a-8d2c-a96e0bb9fa71",
   "metadata": {},
   "outputs": [
    {
     "data": {
      "text/plain": [
       "8.0"
      ]
     },
     "execution_count": 103,
     "metadata": {},
     "output_type": "execute_result"
    }
   ],
   "source": [
    "np.nanquantile(x_with_nan,0.5)"
   ]
  },
  {
   "cell_type": "code",
   "execution_count": 104,
   "id": "1d7f95c5-083c-4e77-8952-06acfc072a04",
   "metadata": {},
   "outputs": [
    {
     "data": {
      "text/plain": [
       "array([ 1.1,  8. , 21. ])"
      ]
     },
     "execution_count": 104,
     "metadata": {},
     "output_type": "execute_result"
    }
   ],
   "source": [
    "np.quantile(x,[0.25,0.5,0.75])"
   ]
  },
  {
   "cell_type": "code",
   "execution_count": 105,
   "id": "e21b8d9e-8a3f-4adc-b676-bef4f59dc869",
   "metadata": {},
   "outputs": [
    {
     "data": {
      "text/plain": [
       "[1.1, 8.0, 21.0]"
      ]
     },
     "execution_count": 105,
     "metadata": {},
     "output_type": "execute_result"
    }
   ],
   "source": [
    "#quantile menggunakan library statistics\n",
    "\n",
    "statistics.quantiles(x,n=4,method='inclusive')"
   ]
  },
  {
   "cell_type": "code",
   "execution_count": 106,
   "id": "6e9675e1-bd78-4e92-adf9-05cf8da08f76",
   "metadata": {},
   "outputs": [
    {
     "data": {
      "text/plain": [
       "array([ 1.1,  8. , 21. ])"
      ]
     },
     "execution_count": 106,
     "metadata": {},
     "output_type": "execute_result"
    }
   ],
   "source": [
    "np.percentile(x,[25,50,75])"
   ]
  },
  {
   "cell_type": "markdown",
   "id": "ee95bf37-b540-4514-b4c3-167153e256a6",
   "metadata": {},
   "source": [
    "## Range"
   ]
  },
  {
   "cell_type": "code",
   "execution_count": 107,
   "id": "6f2127d6-f4ad-490b-8418-f8336dd49e0d",
   "metadata": {},
   "outputs": [
    {
     "data": {
      "text/plain": [
       "[-5.0, 1.1, 0.1, 2.0, 8.0, 12.8, 21.0, 25.8, 41.0]"
      ]
     },
     "execution_count": 107,
     "metadata": {},
     "output_type": "execute_result"
    }
   ],
   "source": [
    "x"
   ]
  },
  {
   "cell_type": "code",
   "execution_count": 108,
   "id": "29f7d501-f030-46a4-8033-1002c77adf39",
   "metadata": {},
   "outputs": [
    {
     "data": {
      "text/plain": [
       "46.0"
      ]
     },
     "execution_count": 108,
     "metadata": {},
     "output_type": "execute_result"
    }
   ],
   "source": [
    "#menggunakan library numpy\n",
    "\n",
    "np.ptp(x)"
   ]
  },
  {
   "cell_type": "code",
   "execution_count": 109,
   "id": "d1ea9909-2182-4756-abdc-708db50b023a",
   "metadata": {},
   "outputs": [
    {
     "data": {
      "text/plain": [
       "41.0"
      ]
     },
     "execution_count": 109,
     "metadata": {},
     "output_type": "execute_result"
    }
   ],
   "source": [
    "np.amax(x)"
   ]
  },
  {
   "cell_type": "code",
   "execution_count": 110,
   "id": "d86dea41-6cd3-4760-a426-e5791552d8a5",
   "metadata": {},
   "outputs": [
    {
     "data": {
      "text/plain": [
       "-5.0"
      ]
     },
     "execution_count": 110,
     "metadata": {},
     "output_type": "execute_result"
    }
   ],
   "source": [
    "np.amin(x)"
   ]
  },
  {
   "cell_type": "code",
   "execution_count": 111,
   "id": "38f1b419-b6f7-4f38-98bd-ded1e00a9335",
   "metadata": {},
   "outputs": [
    {
     "data": {
      "text/plain": [
       "46.0"
      ]
     },
     "execution_count": 111,
     "metadata": {},
     "output_type": "execute_result"
    }
   ],
   "source": [
    "np.amax(x)-np.amin(x)"
   ]
  },
  {
   "cell_type": "markdown",
   "id": "0df09f99-e568-49bb-b170-c0a328038675",
   "metadata": {},
   "source": [
    "## Interquartile Range"
   ]
  },
  {
   "cell_type": "code",
   "execution_count": 113,
   "id": "3b04b54e-d353-48be-ae8c-76110e0242cc",
   "metadata": {},
   "outputs": [
    {
     "data": {
      "text/plain": [
       "[-5.0, 1.1, 0.1, 2.0, 8.0, 12.8, 21.0, 25.8, 41.0]"
      ]
     },
     "execution_count": 113,
     "metadata": {},
     "output_type": "execute_result"
    }
   ],
   "source": [
    "x"
   ]
  },
  {
   "cell_type": "code",
   "execution_count": 114,
   "id": "68d041db-f910-45d2-9c9c-311034ef6a87",
   "metadata": {},
   "outputs": [
    {
     "data": {
      "text/plain": [
       "19.9"
      ]
     },
     "execution_count": 114,
     "metadata": {},
     "output_type": "execute_result"
    }
   ],
   "source": [
    "quartiles = np.quantile(x,[0.25,0.75])\n",
    "IQR = quartiles[1] - quartiles[0]\n",
    "IQR"
   ]
  },
  {
   "cell_type": "markdown",
   "id": "5d07022b-b733-4f2b-a630-09f16b013fb9",
   "metadata": {},
   "source": [
    "## Summary"
   ]
  },
  {
   "cell_type": "code",
   "execution_count": 115,
   "id": "cc0bb791-bf74-452d-86c9-49cf4802d14a",
   "metadata": {},
   "outputs": [
    {
     "data": {
      "text/plain": [
       "[-5.0, 1.1, 0.1, 2.0, 8.0, 12.8, 21.0, 25.8, 41.0]"
      ]
     },
     "execution_count": 115,
     "metadata": {},
     "output_type": "execute_result"
    }
   ],
   "source": [
    "x"
   ]
  },
  {
   "cell_type": "code",
   "execution_count": 120,
   "id": "96105d05-3bee-4b37-9426-75315819dc28",
   "metadata": {},
   "outputs": [
    {
     "data": {
      "text/plain": [
       "DescribeResult(nobs=9, minmax=(-5.0, 41.0), mean=11.866666666666667, variance=222.29250000000002, skewness=0.9456243702241568, kurtosis=0.2435793192040654)"
      ]
     },
     "execution_count": 120,
     "metadata": {},
     "output_type": "execute_result"
    }
   ],
   "source": [
    "result = scipy.stats.describe(x,ddof=1,bias=False)\n",
    "result"
   ]
  },
  {
   "cell_type": "code",
   "execution_count": 117,
   "id": "6525b533-db4e-4be0-ba57-ad6f19e06342",
   "metadata": {},
   "outputs": [
    {
     "data": {
      "text/plain": [
       "14.90947685198914"
      ]
     },
     "execution_count": 117,
     "metadata": {},
     "output_type": "execute_result"
    }
   ],
   "source": [
    "(result.variance)**(1/2)"
   ]
  },
  {
   "cell_type": "code",
   "execution_count": 118,
   "id": "ef9bba51-5997-4796-9e9b-cd6e3df014a1",
   "metadata": {},
   "outputs": [
    {
     "data": {
      "text/plain": [
       "46.0"
      ]
     },
     "execution_count": 118,
     "metadata": {},
     "output_type": "execute_result"
    }
   ],
   "source": [
    "result.minmax[1]-result.minmax[0]"
   ]
  },
  {
   "cell_type": "code",
   "execution_count": 119,
   "id": "de0ff8f1-231a-4cbe-854a-8325300bdaaa",
   "metadata": {},
   "outputs": [
    {
     "data": {
      "text/plain": [
       "0.9456243702241568"
      ]
     },
     "execution_count": 119,
     "metadata": {},
     "output_type": "execute_result"
    }
   ],
   "source": [
    "result.skewness"
   ]
  },
  {
   "cell_type": "code",
   "execution_count": 121,
   "id": "41693c90-4474-4818-83d1-6e362c8b97d8",
   "metadata": {},
   "outputs": [
    {
     "data": {
      "text/plain": [
       "0    -5.0\n",
       "1     1.1\n",
       "2     0.1\n",
       "3     2.0\n",
       "4     8.0\n",
       "5    12.8\n",
       "6    21.0\n",
       "7    25.8\n",
       "8    41.0\n",
       "dtype: float64"
      ]
     },
     "execution_count": 121,
     "metadata": {},
     "output_type": "execute_result"
    }
   ],
   "source": [
    "z = pd.Series(x)\n",
    "z"
   ]
  },
  {
   "cell_type": "code",
   "execution_count": 122,
   "id": "92b77e56-be36-4f79-93eb-6208893df677",
   "metadata": {},
   "outputs": [
    {
     "data": {
      "text/plain": [
       "count     9.000000\n",
       "mean     11.866667\n",
       "std      14.909477\n",
       "min      -5.000000\n",
       "25%       1.100000\n",
       "50%       8.000000\n",
       "75%      21.000000\n",
       "max      41.000000\n",
       "dtype: float64"
      ]
     },
     "execution_count": 122,
     "metadata": {},
     "output_type": "execute_result"
    }
   ],
   "source": [
    "z.describe()"
   ]
  },
  {
   "cell_type": "markdown",
   "id": "52267e07-270a-4f9c-a35b-8a79c57c7fd7",
   "metadata": {},
   "source": [
    "## Correlation"
   ]
  },
  {
   "cell_type": "code",
   "execution_count": 123,
   "id": "1641d53c-9ef3-49fd-951a-acb42cf7a5f9",
   "metadata": {},
   "outputs": [],
   "source": [
    "x = list(range(-10,11))\n",
    "y = [0 , 2, 2, 2, 2, 3, 3, 6, 7, 4, 7, 6, 6, 9, 4, 5, 5, 10, 11, 12, 14]\n",
    "x_ar, y_ar = np.array(x),np.array(y)\n",
    "x_s,y_s = pd.Series(x),pd.Series(y)"
   ]
  },
  {
   "cell_type": "code",
   "execution_count": 124,
   "id": "a70ca97f-ee92-4b11-ba63-39417882ec22",
   "metadata": {},
   "outputs": [
    {
     "data": {
      "text/plain": [
       "True"
      ]
     },
     "execution_count": 124,
     "metadata": {},
     "output_type": "execute_result"
    }
   ],
   "source": [
    "len(x)==len(y)"
   ]
  },
  {
   "cell_type": "markdown",
   "id": "ce0f98c4-b2ef-4f64-964a-439aa3bd2f45",
   "metadata": {},
   "source": [
    "## Covariance"
   ]
  },
  {
   "cell_type": "code",
   "execution_count": 125,
   "id": "141a35ae-31ff-48ef-8538-ffe85ebaeffb",
   "metadata": {},
   "outputs": [
    {
     "data": {
      "text/plain": [
       "19.95"
      ]
     },
     "execution_count": 125,
     "metadata": {},
     "output_type": "execute_result"
    }
   ],
   "source": [
    "n = len(x)\n",
    "mean_x = np.mean(x)\n",
    "mean_y = np.mean(y)\n",
    "\n",
    "cov_xy = (sum((x[item]-mean_x)*(y[item]-mean_y) for item in range(n)))/(n-1)\n",
    "cov_xy"
   ]
  },
  {
   "cell_type": "markdown",
   "id": "b7fe563e-96a6-4edb-aedc-b056ebd6d295",
   "metadata": {},
   "source": [
    "##### Cov Matrix"
   ]
  },
  {
   "attachments": {
    "a329e3ff-fb2f-4606-8dd7-20ad7bbd17e4.png": {
     "image/png": "[encoded data removed]"
    }
   },
   "cell_type": "markdown",
   "id": "d8688963-0afa-4406-80ac-80c182864573",
   "metadata": {},
   "source": [
    "![image.png](attachment:a329e3ff-fb2f-4606-8dd7-20ad7bbd17e4.png)"
   ]
  },
  {
   "cell_type": "code",
   "execution_count": 126,
   "id": "2222028e-6173-4599-be01-80e8fc7352ef",
   "metadata": {},
   "outputs": [
    {
     "data": {
      "text/plain": [
       "array([[38.5       , 19.95      ],\n",
       "       [19.95      , 13.91428571]])"
      ]
     },
     "execution_count": 126,
     "metadata": {},
     "output_type": "execute_result"
    }
   ],
   "source": [
    "cov_matrix = np.cov(x,y)\n",
    "cov_matrix"
   ]
  },
  {
   "cell_type": "code",
   "execution_count": 127,
   "id": "e3bb8601-aa04-40d1-8e92-f98189bdbdc2",
   "metadata": {},
   "outputs": [
    {
     "data": {
      "text/plain": [
       "38.5"
      ]
     },
     "execution_count": 127,
     "metadata": {},
     "output_type": "execute_result"
    }
   ],
   "source": [
    "np.var(x,ddof=1)"
   ]
  },
  {
   "cell_type": "code",
   "execution_count": 128,
   "id": "31391847-bc97-435c-bcc6-4b9725a8820f",
   "metadata": {},
   "outputs": [
    {
     "data": {
      "text/plain": [
       "13.914285714285711"
      ]
     },
     "execution_count": 128,
     "metadata": {},
     "output_type": "execute_result"
    }
   ],
   "source": [
    "np.var(y,ddof=1)"
   ]
  },
  {
   "cell_type": "code",
   "execution_count": 129,
   "id": "2e858abd-490d-4f13-8ae2-da88b07826cd",
   "metadata": {},
   "outputs": [
    {
     "data": {
      "text/plain": [
       "19.95"
      ]
     },
     "execution_count": 129,
     "metadata": {},
     "output_type": "execute_result"
    }
   ],
   "source": [
    "cov_xy = cov_matrix[0,1]\n",
    "cov_xy"
   ]
  },
  {
   "cell_type": "code",
   "execution_count": 130,
   "id": "dda7012f-17a8-44e6-88eb-3a7ca45c339b",
   "metadata": {},
   "outputs": [
    {
     "data": {
      "text/plain": [
       "19.95"
      ]
     },
     "execution_count": 130,
     "metadata": {},
     "output_type": "execute_result"
    }
   ],
   "source": [
    "cov_xy = cov_matrix[1,0]\n",
    "cov_xy"
   ]
  },
  {
   "cell_type": "markdown",
   "id": "239e833b-cb48-4633-bdb0-b5efd1f4b5ae",
   "metadata": {},
   "source": [
    "## Correlation Coeff\n",
    "\n",
    "r = 1 / r= -1 atau mendekati merupakan tanda kedua variabel mengalami multicollinearity"
   ]
  },
  {
   "cell_type": "code",
   "execution_count": 131,
   "id": "f60b00e6-5819-4476-99f9-497a111bfe99",
   "metadata": {},
   "outputs": [
    {
     "data": {
      "text/plain": [
       "0.861950005631606"
      ]
     },
     "execution_count": 131,
     "metadata": {},
     "output_type": "execute_result"
    }
   ],
   "source": [
    "var_x = np.var(x,ddof=1)\n",
    "var_y = np.var(y,ddof=1)\n",
    "cov_xy\n",
    "std_x = var_x**(1/2)\n",
    "std_y = var_y**(1/2)\n",
    "r = cov_xy / (std_x*std_y)\n",
    "r"
   ]
  },
  {
   "cell_type": "markdown",
   "id": "a38ea038-9e48-4f76-98b5-9751fe167d0f",
   "metadata": {},
   "source": [
    "Nilai korelasi mendekati 1 >> korelasi kuat"
   ]
  },
  {
   "cell_type": "code",
   "execution_count": 132,
   "id": "4220c488-a552-46d4-a287-da5642dbcc12",
   "metadata": {},
   "outputs": [
    {
     "data": {
      "text/plain": [
       "0.8619500056316058"
      ]
     },
     "execution_count": 132,
     "metadata": {},
     "output_type": "execute_result"
    }
   ],
   "source": [
    "r , p = scipy.stats.pearsonr(x,y)\n",
    "r"
   ]
  },
  {
   "cell_type": "code",
   "execution_count": 133,
   "id": "bf06640b-f20b-4608-b6a8-5fe58e09824a",
   "metadata": {},
   "outputs": [
    {
     "data": {
      "text/plain": [
       "5.122760847201207e-07"
      ]
     },
     "execution_count": 133,
     "metadata": {},
     "output_type": "execute_result"
    }
   ],
   "source": [
    "p"
   ]
  }
 ],
 "metadata": {
  "kernelspec": {
   "display_name": "Python 3 (ipykernel)",
   "language": "python",
   "name": "python3"
  },
  "language_info": {
   "codemirror_mode": {
    "name": "ipython",
    "version": 3
   },
   "file_extension": ".py",
   "mimetype": "text/x-python",
   "name": "python",
   "nbconvert_exporter": "python",
   "pygments_lexer": "ipython3",
   "version": "3.9.13"
  }
 },
 "nbformat": 4,
 "nbformat_minor": 5
}
