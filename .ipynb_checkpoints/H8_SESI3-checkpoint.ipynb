{
 "cells": [
  {
   "cell_type": "markdown",
   "id": "25934274-20e3-42ea-9ce2-15fcc3bf6dee",
   "metadata": {},
   "source": [
    "# Function, Module, Package"
   ]
  },
  {
   "cell_type": "markdown",
   "id": "e3db2df8-4db6-49a8-8891-7f7e03da170a",
   "metadata": {},
   "source": [
    "## Function"
   ]
  },
  {
   "cell_type": "code",
   "execution_count": 1,
   "id": "8664506a-4609-439a-9bf4-ba9097d477e3",
   "metadata": {},
   "outputs": [
    {
     "name": "stdout",
     "output_type": "stream",
     "text": [
      "3\n"
     ]
    }
   ],
   "source": [
    "def kali (a):\n",
    "    return a*3\n",
    "print (kali(1))"
   ]
  },
  {
   "cell_type": "code",
   "execution_count": 3,
   "id": "561c0d5f-9044-4a1d-99df-69f4c190ef87",
   "metadata": {},
   "outputs": [
    {
     "name": "stdout",
     "output_type": "stream",
     "text": [
      "3\n"
     ]
    }
   ],
   "source": [
    "def kali (a):\n",
    "    return a*3\n",
    "variabel_kali = kali(1)\n",
    "print (variabel_kali)"
   ]
  },
  {
   "cell_type": "code",
   "execution_count": 4,
   "id": "b61b0c9c-f251-4fe7-8f1a-5e4179df4d6b",
   "metadata": {},
   "outputs": [
    {
     "name": "stdout",
     "output_type": "stream",
     "text": [
      "4\n"
     ]
    }
   ],
   "source": [
    "def kali (a,b):\n",
    "    return a*b\n",
    "print (kali(1,4))"
   ]
  },
  {
   "cell_type": "code",
   "execution_count": 7,
   "id": "6e143113-0c04-430f-abdf-c21455ee8ce1",
   "metadata": {},
   "outputs": [
    {
     "name": "stdout",
     "output_type": "stream",
     "text": [
      "6\n",
      "12\n",
      "72\n"
     ]
    }
   ],
   "source": [
    "x = kali (2,3)\n",
    "y = kali (3,4)\n",
    "z = kali (x,y)\n",
    "print (x)\n",
    "print (y)\n",
    "print (z)"
   ]
  },
  {
   "cell_type": "code",
   "execution_count": 11,
   "id": "b699b095-2fa0-40d7-ac79-4a508ccea0de",
   "metadata": {},
   "outputs": [],
   "source": [
    "def str_joiner (a,b):\n",
    "    return a+b"
   ]
  },
  {
   "cell_type": "code",
   "execution_count": 12,
   "id": "f4ba1ce7-ef92-4c43-af5b-f02665aa0e74",
   "metadata": {},
   "outputs": [
    {
     "data": {
      "text/plain": [
       "'ayamburung'"
      ]
     },
     "execution_count": 12,
     "metadata": {},
     "output_type": "execute_result"
    }
   ],
   "source": [
    "str_joiner (\"ayam\",\"burung\")"
   ]
  },
  {
   "cell_type": "markdown",
   "id": "37782b4b-fe4a-4796-ac9a-bcb9c985005c",
   "metadata": {},
   "source": [
    "#### Kuis 1"
   ]
  },
  {
   "cell_type": "raw",
   "id": "853a9dff-1719-4df7-9d86-66b690cb4e77",
   "metadata": {},
   "source": [
    "Tolong buat function yang berisi 3 parameter string yang akan dijoin menggunakan spasi dan diconvert menjadi reverse\n",
    "contoh:\n",
    "input:\n",
    "str_joiner('Saya','Mau','Makan')\n",
    "Output:\n",
    "nakam uam ayas"
   ]
  },
  {
   "cell_type": "code",
   "execution_count": 18,
   "id": "dc094eff-64db-4a6d-aa91-7fdbbcb93bf1",
   "metadata": {},
   "outputs": [
    {
     "data": {
      "text/plain": [
       "'nakam uam ayas'"
      ]
     },
     "execution_count": 18,
     "metadata": {},
     "output_type": "execute_result"
    }
   ],
   "source": [
    "def str_joiner (a,b,c):\n",
    "    a = a.lower()\n",
    "    b = b.lower()\n",
    "    c = c.lower()\n",
    "    return (a + ' ' + b + ' ' + c) [::-1]\n",
    "str_joiner (\"Saya\", \"Mau\", \"Makan\")"
   ]
  },
  {
   "cell_type": "markdown",
   "id": "c041e726-8c97-4a69-a91b-fbfd9e2ea00f",
   "metadata": {
    "tags": []
   },
   "source": [
    "### Variabel Global dan Lokal"
   ]
  },
  {
   "cell_type": "code",
   "execution_count": 25,
   "id": "2fa8dfc4-6b26-4822-a6e5-38639dc86ffb",
   "metadata": {},
   "outputs": [
    {
     "name": "stdout",
     "output_type": "stream",
     "text": [
      "20\n"
     ]
    },
    {
     "data": {
      "text/plain": [
       "3"
      ]
     },
     "execution_count": 25,
     "metadata": {},
     "output_type": "execute_result"
    }
   ],
   "source": [
    "total = 20 #variabel global\n",
    "\n",
    "def function_a(a,b):\n",
    "    total = a+b #variabel lokal (hanya sah di function function_a)\n",
    "    return (total)\n",
    "\n",
    "print (total) #yang akan diprint adalah variabel global\n",
    "function_a (1,2)"
   ]
  },
  {
   "cell_type": "markdown",
   "id": "d0f5a8d3-f174-4f84-a899-9bd9b6d766ea",
   "metadata": {},
   "source": [
    "#### Kuis 2"
   ]
  },
  {
   "cell_type": "raw",
   "id": "04dc3324-c4a4-468b-87c1-d3e5654f96f5",
   "metadata": {
    "tags": []
   },
   "source": [
    "mylist = [31,23,31,40,50,67,74,88,91,10,11,13]\n",
    "Output:\n",
    "A. Jumlah total huruf angka adalah =\n",
    "B. Jumlah total huruf angka adalah =\n",
    "C. Sum angka ganjil adalah =\n",
    "D. Sum angka genap adalah ="
   ]
  },
  {
   "cell_type": "code",
   "execution_count": 1,
   "id": "2f2805cb-43f8-405c-8a63-6c5ef080d777",
   "metadata": {},
   "outputs": [
    {
     "name": "stdout",
     "output_type": "stream",
     "text": [
      "7\n",
      "5\n",
      "267\n",
      "262\n"
     ]
    }
   ],
   "source": [
    "mylist = [31,23,31,40,50,67,74,88,91,10,11,13]\n",
    "\n",
    "def list_summary(lst):\n",
    "    nGenap = 0 #placeholder n angka genap\n",
    "    nGanjil = 0\n",
    "    sumGenap = 0\n",
    "    sumGanjil = 0\n",
    "    for i in lst:\n",
    "        if i % 2 == 0 : # untuk filter angka genap\n",
    "            nGenap +=1\n",
    "            sumGenap +=i\n",
    "        else: # untuk filter angka ganjil\n",
    "            nGanjil +=1\n",
    "            sumGanjil +=i\n",
    "    print(nGanjil)\n",
    "    print(nGenap)\n",
    "    print(sumGanjil)\n",
    "    print(sumGenap)\n",
    "    \n",
    "list_summary(mylist)"
   ]
  },
  {
   "cell_type": "markdown",
   "id": "db5bd00c-5531-4f9b-9de1-ac241a7e9d38",
   "metadata": {},
   "source": [
    "### Default Argumen"
   ]
  },
  {
   "cell_type": "code",
   "execution_count": 50,
   "id": "20861aea-68b9-46b3-9f31-74e34dcb7a78",
   "metadata": {},
   "outputs": [
    {
     "name": "stdout",
     "output_type": "stream",
     "text": [
      "name:  budi\n",
      "age:  30\n"
     ]
    }
   ],
   "source": [
    "def printinfo(name,age=26):\n",
    "    print('name: ', name)\n",
    "    print('age: ', age)\n",
    "printinfo('budi', 30)"
   ]
  },
  {
   "cell_type": "code",
   "execution_count": 51,
   "id": "f1bf581d-a0a1-4561-a1dd-eb6df314dded",
   "metadata": {},
   "outputs": [
    {
     "name": "stdout",
     "output_type": "stream",
     "text": [
      "name:  rahmat\n",
      "age:  44\n"
     ]
    }
   ],
   "source": [
    "printinfo(name='rahmat',age=44)"
   ]
  },
  {
   "cell_type": "code",
   "execution_count": 55,
   "id": "9610c9f2-7865-4cb4-bbc3-84e3ea1d678a",
   "metadata": {},
   "outputs": [
    {
     "name": "stdout",
     "output_type": "stream",
     "text": [
      "name:  44\n",
      "age:  rahmat\n"
     ]
    }
   ],
   "source": [
    "printinfo(44,'rahmat')"
   ]
  },
  {
   "cell_type": "markdown",
   "id": "28f9efd5-e871-44ad-a2e6-cd79e96c274d",
   "metadata": {},
   "source": [
    "### Variable Length Arguments"
   ]
  },
  {
   "cell_type": "code",
   "execution_count": 60,
   "id": "24ba328c-51c9-4985-a3bc-9e39edd4e8e2",
   "metadata": {},
   "outputs": [
    {
     "name": "stdout",
     "output_type": "stream",
     "text": [
      "output is:\n",
      "8\n",
      "6\n",
      "8\n",
      "2\n"
     ]
    }
   ],
   "source": [
    "def printinfo(x,*vartuple):\n",
    "    print('output is:')\n",
    "    print(x)\n",
    "    for i in vartuple:\n",
    "        print(i)\n",
    "printinfo(8,6,8,2)"
   ]
  },
  {
   "cell_type": "markdown",
   "id": "7281fdcb-9a98-4d6b-83fe-161908a8cb0d",
   "metadata": {},
   "source": [
    "### Lambda"
   ]
  },
  {
   "cell_type": "code",
   "execution_count": 61,
   "id": "e37638d0-f59b-4288-8920-3e20ecc87702",
   "metadata": {},
   "outputs": [
    {
     "name": "stdout",
     "output_type": "stream",
     "text": [
      "3\n"
     ]
    }
   ],
   "source": [
    "def sum(x,y):\n",
    "    return x + y\n",
    "print (sum(1,2))"
   ]
  },
  {
   "cell_type": "code",
   "execution_count": 63,
   "id": "28353fbc-2048-4210-9e65-a8e4f5b1c524",
   "metadata": {},
   "outputs": [
    {
     "name": "stdout",
     "output_type": "stream",
     "text": [
      "8\n"
     ]
    }
   ],
   "source": [
    "sum = lambda x,y: x+y\n",
    "print(sum(3,5))"
   ]
  },
  {
   "cell_type": "markdown",
   "id": "0b8790e9-0ea3-4f79-bf4e-3e93bb81d0e0",
   "metadata": {},
   "source": [
    "## Modules"
   ]
  },
  {
   "cell_type": "code",
   "execution_count": 64,
   "id": "32afd7a5-9281-40f8-bb9a-5e7ab9c96442",
   "metadata": {},
   "outputs": [],
   "source": [
    "import numpy as np"
   ]
  },
  {
   "cell_type": "code",
   "execution_count": 65,
   "id": "38892f42-8bec-4591-bb6d-50bfbf2540bb",
   "metadata": {},
   "outputs": [
    {
     "data": {
      "text/plain": [
       "3.0"
      ]
     },
     "execution_count": 65,
     "metadata": {},
     "output_type": "execute_result"
    }
   ],
   "source": [
    "np.sqrt(9)"
   ]
  },
  {
   "cell_type": "code",
   "execution_count": 74,
   "id": "8cc6e36f-a640-4b5f-95c7-74fb66624d01",
   "metadata": {},
   "outputs": [],
   "source": [
    "sys.path.append('‪C:/Users/USER/MBKM/a')"
   ]
  },
  {
   "cell_type": "code",
   "execution_count": 69,
   "id": "8805fe53-5b6a-4db1-804a-33796cdfe819",
   "metadata": {},
   "outputs": [],
   "source": [
    "import mod"
   ]
  },
  {
   "cell_type": "code",
   "execution_count": 77,
   "id": "dc45b4ce-f858-495f-95b3-99baa0fab703",
   "metadata": {},
   "outputs": [
    {
     "data": {
      "text/plain": [
       "'C:\\\\Users\\\\USER\\\\MBKM\\\\sesi\\\\mod.py'"
      ]
     },
     "execution_count": 77,
     "metadata": {},
     "output_type": "execute_result"
    }
   ],
   "source": [
    "mod.__file__"
   ]
  },
  {
   "cell_type": "code",
   "execution_count": 78,
   "id": "28026a6b-7578-4cd3-bca4-ac360362f706",
   "metadata": {},
   "outputs": [
    {
     "data": {
      "text/plain": [
       "'Hacktiv8-PTP Phyton for Data Science'"
      ]
     },
     "execution_count": 78,
     "metadata": {},
     "output_type": "execute_result"
    }
   ],
   "source": [
    "mod.s"
   ]
  },
  {
   "cell_type": "code",
   "execution_count": 79,
   "id": "dd39a748-158c-4dc9-937c-2437e2fa08b6",
   "metadata": {},
   "outputs": [
    {
     "data": {
      "text/plain": [
       "[100, 200, 300]"
      ]
     },
     "execution_count": 79,
     "metadata": {},
     "output_type": "execute_result"
    }
   ],
   "source": [
    "mod.a"
   ]
  },
  {
   "cell_type": "code",
   "execution_count": 80,
   "id": "7cf5fe9a-8841-4525-9593-bfb1486d151b",
   "metadata": {},
   "outputs": [
    {
     "name": "stdout",
     "output_type": "stream",
     "text": [
      "arg = hello word\n"
     ]
    }
   ],
   "source": [
    "mod.foo('hello word')"
   ]
  },
  {
   "cell_type": "code",
   "execution_count": 81,
   "id": "7839d6da-2470-4031-bbab-abea59a02838",
   "metadata": {},
   "outputs": [
    {
     "data": {
      "text/plain": [
       "'Hacktiv8-PTP Phyton for Data Science'"
      ]
     },
     "execution_count": 81,
     "metadata": {},
     "output_type": "execute_result"
    }
   ],
   "source": [
    "from mod import s as abc\n",
    "abc"
   ]
  },
  {
   "cell_type": "code",
   "execution_count": 82,
   "id": "6b4fe503-66a2-46cd-af54-2ba9e5850504",
   "metadata": {},
   "outputs": [
    {
     "name": "stdout",
     "output_type": "stream",
     "text": [
      "arg = welcome\n"
     ]
    }
   ],
   "source": [
    "from mod import s, foo #variable foo diambil dari mod.py\n",
    "foo ('welcome')"
   ]
  },
  {
   "cell_type": "code",
   "execution_count": 86,
   "id": "99c998b6-77e4-4928-a63f-f940e4b4ddd6",
   "metadata": {},
   "outputs": [
    {
     "name": "stdout",
     "output_type": "stream",
     "text": [
      "arg = hello\n"
     ]
    },
    {
     "ename": "NameError",
     "evalue": "name 'foot' is not defined",
     "output_type": "error",
     "traceback": [
      "\u001b[1;31m---------------------------------------------------------------------------\u001b[0m",
      "\u001b[1;31mNameError\u001b[0m                                 Traceback (most recent call last)",
      "\u001b[1;32m~\\AppData\\Local\\Temp\\ipykernel_11624\\665316078.py\u001b[0m in \u001b[0;36m<module>\u001b[1;34m\u001b[0m\n\u001b[0;32m      3\u001b[0m     \u001b[0mfoo\u001b[0m\u001b[1;33m(\u001b[0m\u001b[1;34m'hello'\u001b[0m\u001b[1;33m)\u001b[0m\u001b[1;33m\u001b[0m\u001b[1;33m\u001b[0m\u001b[0m\n\u001b[0;32m      4\u001b[0m \u001b[0mbar\u001b[0m\u001b[1;33m(\u001b[0m\u001b[1;33m)\u001b[0m\u001b[1;33m\u001b[0m\u001b[1;33m\u001b[0m\u001b[0m\n\u001b[1;32m----> 5\u001b[1;33m \u001b[0mfoot\u001b[0m\u001b[1;33m\u001b[0m\u001b[1;33m\u001b[0m\u001b[0m\n\u001b[0m",
      "\u001b[1;31mNameError\u001b[0m: name 'foot' is not defined"
     ]
    }
   ],
   "source": [
    "def bar ():\n",
    "    from mod import foo as foot\n",
    "    foo('hello')\n",
    "bar()\n",
    "foot #tidak akan keluar hasil karena sifatnya lokal dan sah dalam function"
   ]
  },
  {
   "cell_type": "markdown",
   "id": "0b35a734-8587-4d94-aefc-f9f236a85b28",
   "metadata": {},
   "source": [
    "### Try Except"
   ]
  },
  {
   "cell_type": "raw",
   "id": "7588c82a-86ec-429c-a2ea-d012be0a7d85",
   "metadata": {},
   "source": [
    "Try:\n",
    "[code block]\n",
    "\n",
    "Except:\n",
    "[error operation]\n",
    "\n",
    ">>Jika error langsung masuk ke except"
   ]
  },
  {
   "cell_type": "code",
   "execution_count": 88,
   "id": "e5bdf5bb-8c9c-4d39-a578-6c32770469db",
   "metadata": {},
   "outputs": [
    {
     "name": "stdout",
     "output_type": "stream",
     "text": [
      "object not found in module\n"
     ]
    }
   ],
   "source": [
    "try:\n",
    "    from mod import haha\n",
    "except:\n",
    "    print('object not found in module')"
   ]
  },
  {
   "cell_type": "code",
   "execution_count": 83,
   "id": "1f50a646-8c35-4693-9d19-ee3ae7942bec",
   "metadata": {},
   "outputs": [],
   "source": [
    "from mod import * #import seluruh objek dalam modul"
   ]
  },
  {
   "cell_type": "code",
   "execution_count": 70,
   "id": "41c7e7fe-4a4b-464c-ba77-6b63d69ff7f2",
   "metadata": {},
   "outputs": [
    {
     "data": {
      "text/plain": [
       "['C:\\\\Users\\\\USER\\\\MBKM\\\\sesi',\n",
       " 'C:\\\\Users\\\\USER\\\\anaconda3\\\\python39.zip',\n",
       " 'C:\\\\Users\\\\USER\\\\anaconda3\\\\DLLs',\n",
       " 'C:\\\\Users\\\\USER\\\\anaconda3\\\\lib',\n",
       " 'C:\\\\Users\\\\USER\\\\anaconda3',\n",
       " '',\n",
       " 'C:\\\\Users\\\\USER\\\\anaconda3\\\\lib\\\\site-packages',\n",
       " 'C:\\\\Users\\\\USER\\\\anaconda3\\\\lib\\\\site-packages\\\\win32',\n",
       " 'C:\\\\Users\\\\USER\\\\anaconda3\\\\lib\\\\site-packages\\\\win32\\\\lib',\n",
       " 'C:\\\\Users\\\\USER\\\\anaconda3\\\\lib\\\\site-packages\\\\Pythonwin',\n",
       " 'C:\\\\Users\\\\USER\\\\anaconda3\\\\lib\\\\site-packages\\\\IPython\\\\extensions',\n",
       " 'C:\\\\Users\\\\USER\\\\.ipython']"
      ]
     },
     "execution_count": 70,
     "metadata": {},
     "output_type": "execute_result"
    }
   ],
   "source": [
    "import sys\n",
    "sys.path"
   ]
  },
  {
   "cell_type": "code",
   "execution_count": 85,
   "id": "e409998f-f4a8-4a5b-88c1-7432c9d27f06",
   "metadata": {},
   "outputs": [
    {
     "data": {
      "text/plain": [
       "['Foo',\n",
       " 'In',\n",
       " 'Out',\n",
       " '_',\n",
       " '_12',\n",
       " '_13',\n",
       " '_14',\n",
       " '_15',\n",
       " '_16',\n",
       " '_17',\n",
       " '_18',\n",
       " '_24',\n",
       " '_25',\n",
       " '_65',\n",
       " '_68',\n",
       " '_70',\n",
       " '_77',\n",
       " '_78',\n",
       " '_79',\n",
       " '_81',\n",
       " '_84',\n",
       " '__',\n",
       " '___',\n",
       " '__builtin__',\n",
       " '__builtins__',\n",
       " '__doc__',\n",
       " '__loader__',\n",
       " '__name__',\n",
       " '__package__',\n",
       " '__spec__',\n",
       " '_dh',\n",
       " '_i',\n",
       " '_i1',\n",
       " '_i10',\n",
       " '_i11',\n",
       " '_i12',\n",
       " '_i13',\n",
       " '_i14',\n",
       " '_i15',\n",
       " '_i16',\n",
       " '_i17',\n",
       " '_i18',\n",
       " '_i19',\n",
       " '_i2',\n",
       " '_i20',\n",
       " '_i21',\n",
       " '_i22',\n",
       " '_i23',\n",
       " '_i24',\n",
       " '_i25',\n",
       " '_i26',\n",
       " '_i27',\n",
       " '_i28',\n",
       " '_i29',\n",
       " '_i3',\n",
       " '_i30',\n",
       " '_i31',\n",
       " '_i32',\n",
       " '_i33',\n",
       " '_i34',\n",
       " '_i35',\n",
       " '_i36',\n",
       " '_i37',\n",
       " '_i38',\n",
       " '_i39',\n",
       " '_i4',\n",
       " '_i40',\n",
       " '_i41',\n",
       " '_i42',\n",
       " '_i43',\n",
       " '_i44',\n",
       " '_i45',\n",
       " '_i46',\n",
       " '_i47',\n",
       " '_i48',\n",
       " '_i49',\n",
       " '_i5',\n",
       " '_i50',\n",
       " '_i51',\n",
       " '_i52',\n",
       " '_i53',\n",
       " '_i54',\n",
       " '_i55',\n",
       " '_i56',\n",
       " '_i57',\n",
       " '_i58',\n",
       " '_i59',\n",
       " '_i6',\n",
       " '_i60',\n",
       " '_i61',\n",
       " '_i62',\n",
       " '_i63',\n",
       " '_i64',\n",
       " '_i65',\n",
       " '_i66',\n",
       " '_i67',\n",
       " '_i68',\n",
       " '_i69',\n",
       " '_i7',\n",
       " '_i70',\n",
       " '_i71',\n",
       " '_i72',\n",
       " '_i73',\n",
       " '_i74',\n",
       " '_i75',\n",
       " '_i76',\n",
       " '_i77',\n",
       " '_i78',\n",
       " '_i79',\n",
       " '_i8',\n",
       " '_i80',\n",
       " '_i81',\n",
       " '_i82',\n",
       " '_i83',\n",
       " '_i84',\n",
       " '_i85',\n",
       " '_i9',\n",
       " '_ih',\n",
       " '_ii',\n",
       " '_iii',\n",
       " '_oh',\n",
       " 'a',\n",
       " 'abc',\n",
       " 'exit',\n",
       " 'foo',\n",
       " 'function',\n",
       " 'function_a',\n",
       " 'get_ipython',\n",
       " 'kali',\n",
       " 'list_summary',\n",
       " 'mod',\n",
       " 'mylist',\n",
       " 'np',\n",
       " 'printinfo',\n",
       " 'quit',\n",
       " 's',\n",
       " 'str_joiner',\n",
       " 'sum',\n",
       " 'sys',\n",
       " 'total',\n",
       " 'variabel_kali',\n",
       " 'x',\n",
       " 'y',\n",
       " 'z']"
      ]
     },
     "execution_count": 85,
     "metadata": {},
     "output_type": "execute_result"
    }
   ],
   "source": [
    "dir()"
   ]
  },
  {
   "cell_type": "markdown",
   "id": "68a1bb65-46bb-4c8e-90e3-d089bb328f3c",
   "metadata": {},
   "source": [
    "## packages"
   ]
  },
  {
   "cell_type": "raw",
   "id": "57e1c517-b143-4897-975e-41d47f7502ec",
   "metadata": {},
   "source": [
    "packages adalah kumpulan modul-modul"
   ]
  }
 ],
 "metadata": {
  "kernelspec": {
   "display_name": "Python 3 (ipykernel)",
   "language": "python",
   "name": "python3"
  },
  "language_info": {
   "codemirror_mode": {
    "name": "ipython",
    "version": 3
   },
   "file_extension": ".py",
   "mimetype": "text/x-python",
   "name": "python",
   "nbconvert_exporter": "python",
   "pygments_lexer": "ipython3",
   "version": "3.9.13"
  }
 },
 "nbformat": 4,
 "nbformat_minor": 5
}
