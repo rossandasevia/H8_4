{
 "cells": [
  {
   "cell_type": "markdown",
   "id": "eb88162f-493c-4e44-9b22-a4046ae49d97",
   "metadata": {},
   "source": [
    "## IF ELIF DAN ELSE"
   ]
  },
  {
   "cell_type": "code",
   "execution_count": null,
   "id": "2fcf6348-4e3c-4d8d-a562-1b35ffc1decb",
   "metadata": {},
   "outputs": [],
   "source": [
    "x = 2\n",
    "y = 3\n",
    "\n",
    "if x < y:\n",
    "    print('true')\n",
    "if x > y:\n",
    "    print('true') #tidak akan muncul hasil karena statement tidak terpenuhi\n",
    "if x == y:\n",
    "    print('true') #tidak akan muncul hasil karena statement tidak terpenuhi\n",
    "if x <= y:\n",
    "    print('true')"
   ]
  },
  {
   "cell_type": "code",
   "execution_count": null,
   "id": "5d0e002d-de74-47bb-87a8-2dd408e122ba",
   "metadata": {},
   "outputs": [],
   "source": [
    "harga_jeruk = 60000\n",
    "standar_harga = 30000\n",
    "#apabila harga jeruk > standar harga maka mahal, apabila harga jeruk < standar harga maka murah, apabila harga jeruk = standar maka biasa saja\n",
    "if harga_jeruk > standar_harga:\n",
    "    print ('mahal')\n",
    "elif harga_jeruk < standar_harga:\n",
    "    print ('murah')\n",
    "elif harga_jeruk == standar_harga:\n",
    "    print ('biasa')"
   ]
  },
  {
   "cell_type": "code",
   "execution_count": null,
   "id": "f6e8ff95-98d2-45a8-aeea-73a14c4f3ecd",
   "metadata": {},
   "outputs": [],
   "source": [
    "harga_jeruk = 50000\n",
    "standar_harga = 30000\n",
    "#apabila harga jeruk > standar harga maka mahal, apabila harga jeruk < standar harga maka murah, apabila harga jeruk = standar maka biasa saja\n",
    "if harga_jeruk > standar_harga:\n",
    "    print ('mahal')\n",
    "elif harga_jeruk < standar_harga:\n",
    "    print ('murah')\n",
    "else:\n",
    "    print ('biasa')"
   ]
  },
  {
   "cell_type": "code",
   "execution_count": null,
   "id": "0a4142e1-725f-4842-95e1-58298759e9d9",
   "metadata": {},
   "outputs": [],
   "source": [
    "harga_jeruk = int(input('masukkan harga jeruk='))\n",
    "standar_harga = 70000\n",
    "#apabila harga jeruk > standar harga maka mahal, apabila harga jeruk < standar harga maka murah\n",
    "if harga_jeruk > standar_harga:\n",
    "    print ('mahal')\n",
    "else:\n",
    "    print ('murah')"
   ]
  },
  {
   "cell_type": "code",
   "execution_count": 11,
   "id": "dfbee365-3742-4f16-996c-62c10d2ffe33",
   "metadata": {},
   "outputs": [
    {
     "name": "stdin",
     "output_type": "stream",
     "text": [
      "masukkan jumlah pisang= 10\n"
     ]
    },
    {
     "name": "stdout",
     "output_type": "stream",
     "text": [
      "total belanja anda adalah IDR 30000\n",
      "jumlah pisang yang dibeli adalah 10 pisang\n"
     ]
    }
   ],
   "source": [
    "harga_pisang = 3000\n",
    "total_belanja = int(input('masukkan jumlah pisang='))\n",
    "harga = harga_pisang * total_belanja\n",
    "\n",
    "if harga >= 100000:\n",
    "    diskon = 0.1*harga\n",
    "    total_bayar = harga - diskon\n",
    "    print ('total belanja anda adalah IDR', harga, 'dengan diskon', diskon, 'jumlah yang harus dibayarkan', total_bayar)\n",
    "elif harga >= 50000:\n",
    "    diskon = 0.05*harga\n",
    "    total_bayar = harga - diskon\n",
    "    print ('total belanja anda adalah IDR', harga, 'dengan diskon', diskon, 'jumlah yang harus dibayarkan', total_bayar)\n",
    "else:\n",
    "    total_bayar = harga\n",
    "    print('total belanja anda adalah IDR', total_bayar)\n",
    "    \n",
    "print ('jumlah pisang yang dibeli adalah', total_belanja, 'pisang')"
   ]
  },
  {
   "cell_type": "markdown",
   "id": "7826a9af-44e1-4ffd-9a79-d1f808e702de",
   "metadata": {},
   "source": [
    "## one-line if-statements"
   ]
  },
  {
   "cell_type": "code",
   "execution_count": 14,
   "id": "0430488d-1393-4137-b00a-bccd34e17bbb",
   "metadata": {},
   "outputs": [
    {
     "name": "stdout",
     "output_type": "stream",
     "text": [
      "mahal\n",
      "banget\n"
     ]
    }
   ],
   "source": [
    "harga_jeruk = 50000\n",
    "standar_harga = 30000\n",
    "if harga_jeruk > standar_harga: print ('mahal');print('banget')\n",
    "elif harga_jeruk < standar_harga: print ('murah')\n",
    "else: print ('biasa')"
   ]
  },
  {
   "cell_type": "markdown",
   "id": "c911f3c3-8e58-4927-8ede-4e13f4574b68",
   "metadata": {},
   "source": [
    "## conditional expressions"
   ]
  },
  {
   "cell_type": "code",
   "execution_count": 15,
   "id": "0e1d1968-1ced-4b7e-aac3-df7741fac2f3",
   "metadata": {},
   "outputs": [
    {
     "name": "stdout",
     "output_type": "stream",
     "text": [
      "tua\n"
     ]
    }
   ],
   "source": [
    "umur = 40\n",
    "s = 'tua' if umur >= 35 else 'muda'\n",
    "print (s)"
   ]
  },
  {
   "cell_type": "code",
   "execution_count": 16,
   "id": "65fe1ab3-b60b-4e42-a943-d4e3c9bd2317",
   "metadata": {},
   "outputs": [
    {
     "name": "stdout",
     "output_type": "stream",
     "text": [
      "in class\n"
     ]
    }
   ],
   "source": [
    "nama = 'ocha'\n",
    "n = 'in class' if nama in ['ocha', 'caca', 'aca'] else 'out class'\n",
    "print (n)"
   ]
  },
  {
   "cell_type": "code",
   "execution_count": 25,
   "id": "5d37f383-4f12-4d77-a51a-5ee8ce36d135",
   "metadata": {},
   "outputs": [
    {
     "name": "stdin",
     "output_type": "stream",
     "text": [
      "masukkan jumlah gaji= 10000000\n",
      "masukkan lama service pegawai= 11\n"
     ]
    },
    {
     "name": "stdout",
     "output_type": "stream",
     "text": [
      "selamat anda mendapat bonus, total gaji anda adalah 11000000.0\n"
     ]
    }
   ],
   "source": [
    "gaji = int(input('masukkan jumlah gaji='))\n",
    "year = int(input('masukkan lama service pegawai='))\n",
    "if year > 10:\n",
    "    bonus = 0.1*gaji\n",
    "    total = gaji + bonus\n",
    "    print('selamat anda mendapat bonus, total gaji anda adalah', total)\n",
    "else:\n",
    "    print('total gaji anda adalah', gaji)"
   ]
  },
  {
   "cell_type": "markdown",
   "id": "e8a9c502-38d0-4aaf-ab86-ff086bc5a251",
   "metadata": {},
   "source": [
    "## for loop"
   ]
  },
  {
   "cell_type": "code",
   "execution_count": null,
   "id": "1e8fb83f-e9cf-47c6-be78-474fb67128de",
   "metadata": {},
   "outputs": [],
   "source": [
    "## objek yang bisa dilakukan looping adalah iterable (string, list, tuple, dictionary, dsb)"
   ]
  },
  {
   "cell_type": "code",
   "execution_count": 26,
   "id": "b4fe4a9e-6aff-4800-a17a-b805d3c58f02",
   "metadata": {},
   "outputs": [
    {
     "name": "stdout",
     "output_type": "stream",
     "text": [
      "fooayam\n",
      "barayam\n",
      "bazayam\n",
      "quxayam\n",
      "quuxayam\n",
      "corgeayam\n"
     ]
    }
   ],
   "source": [
    "for i in ['foo','bar','baz','qux','quux','corge']:\n",
    "    print(i+'ayam')"
   ]
  },
  {
   "cell_type": "code",
   "execution_count": 27,
   "id": "f7f014c0-9c06-4f5c-8767-41ca363435d1",
   "metadata": {},
   "outputs": [
    {
     "name": "stdout",
     "output_type": "stream",
     "text": [
      "2\n",
      "3\n",
      "4\n",
      "5\n"
     ]
    }
   ],
   "source": [
    "for i in [1,2,3,4]:\n",
    "    print(i+1)"
   ]
  },
  {
   "cell_type": "code",
   "execution_count": 28,
   "id": "62f8b871-262e-49a3-86b2-dea13c46a310",
   "metadata": {},
   "outputs": [
    {
     "name": "stdout",
     "output_type": "stream",
     "text": [
      "s\n",
      "t\n",
      "r\n",
      "i\n",
      "n\n",
      "g\n"
     ]
    }
   ],
   "source": [
    "for i in 'string':\n",
    "    print(i)"
   ]
  },
  {
   "cell_type": "markdown",
   "id": "d7dbc1ac-9e76-49f2-926f-167b54407e97",
   "metadata": {},
   "source": [
    "## while loop"
   ]
  },
  {
   "cell_type": "code",
   "execution_count": 31,
   "id": "31228b68-21ed-40fd-a1ff-6c305247af1e",
   "metadata": {},
   "outputs": [
    {
     "name": "stdout",
     "output_type": "stream",
     "text": [
      "4\n",
      "3\n",
      "2\n",
      "1\n",
      "0\n"
     ]
    }
   ],
   "source": [
    "n = 5\n",
    "while n > 0:\n",
    "    n-=1\n",
    "    print(n)"
   ]
  },
  {
   "cell_type": "code",
   "execution_count": 30,
   "id": "78ae5f7a-b8fc-47a4-b7a5-b256efba9607",
   "metadata": {},
   "outputs": [
    {
     "name": "stdout",
     "output_type": "stream",
     "text": [
      "4\n"
     ]
    }
   ],
   "source": [
    "n = 5\n",
    "n -=1\n",
    "print(n)"
   ]
  },
  {
   "cell_type": "code",
   "execution_count": 34,
   "id": "fadc7f63-dcf4-48ca-8b7b-a003c0e3c6a2",
   "metadata": {},
   "outputs": [
    {
     "name": "stdout",
     "output_type": "stream",
     "text": [
      "4\n",
      "3\n",
      "2\n",
      "tinggal 1\n",
      "0\n"
     ]
    }
   ],
   "source": [
    "n = 5\n",
    "while n > 0:\n",
    "    n-=1\n",
    "    if n == 1:\n",
    "        print('tinggal 1')\n",
    "    else:\n",
    "        print(n)"
   ]
  },
  {
   "cell_type": "code",
   "execution_count": 39,
   "id": "726541e3-a542-4d10-8e4c-f4e5a955c3c7",
   "metadata": {},
   "outputs": [
    {
     "name": "stdout",
     "output_type": "stream",
     "text": [
      "4\n",
      "3\n",
      "2\n",
      "1\n",
      "0\n",
      "loop ended\n"
     ]
    }
   ],
   "source": [
    "## menggunakan ELSE\n",
    "n = 5\n",
    "while n > 0:\n",
    "    n -= 1\n",
    "    print(n)\n",
    "else:\n",
    "    print ('loop ended')"
   ]
  },
  {
   "cell_type": "markdown",
   "id": "f2367b2f-d408-466c-8561-32c32a461efa",
   "metadata": {},
   "source": [
    "## one-line while loop"
   ]
  },
  {
   "cell_type": "code",
   "execution_count": 45,
   "id": "f17cdc9e-4bb9-4ba5-8539-ee7a1b185ab1",
   "metadata": {},
   "outputs": [
    {
     "name": "stdout",
     "output_type": "stream",
     "text": [
      "4\n",
      "3\n",
      "2\n",
      "1\n",
      "0\n"
     ]
    }
   ],
   "source": [
    "n = 5\n",
    "while n > 0:n-=1;print(n)"
   ]
  },
  {
   "cell_type": "markdown",
   "id": "f19f9740-67f5-46a1-85be-be8ebb9309c6",
   "metadata": {},
   "source": [
    "## break"
   ]
  },
  {
   "cell_type": "code",
   "execution_count": null,
   "id": "ffdbe345-0680-42ca-b265-4e2b771d3483",
   "metadata": {},
   "outputs": [],
   "source": [
    "## digunakan untuk memberhentikan loop"
   ]
  },
  {
   "cell_type": "code",
   "execution_count": 36,
   "id": "1678ac43-41ee-49a5-9289-0910b4218fa5",
   "metadata": {},
   "outputs": [
    {
     "name": "stdout",
     "output_type": "stream",
     "text": [
      "4\n",
      "3\n",
      "loop ended\n"
     ]
    }
   ],
   "source": [
    "n = 5\n",
    "while n > 0:\n",
    "    n-=1\n",
    "    if n == 2:\n",
    "        break\n",
    "    print (n)\n",
    "print('loop ended')"
   ]
  },
  {
   "cell_type": "code",
   "execution_count": 40,
   "id": "76e0b819-4410-451d-9e69-573900f8650b",
   "metadata": {},
   "outputs": [
    {
     "name": "stdout",
     "output_type": "stream",
     "text": [
      "4\n",
      "3\n",
      "2\n"
     ]
    }
   ],
   "source": [
    "n = 5\n",
    "while n > 0:\n",
    "    n -= 1\n",
    "    print(n)\n",
    "    if n == 2:\n",
    "        break\n",
    "else:\n",
    "    print('loop ended') ## tidak pernah sampai disini karena sudah berhenti pada n = 2"
   ]
  },
  {
   "cell_type": "markdown",
   "id": "44ed12ad-dbf8-4427-b5c1-d635264f9f50",
   "metadata": {},
   "source": [
    "## continue"
   ]
  },
  {
   "cell_type": "code",
   "execution_count": null,
   "id": "ae1daab7-2d46-4aaa-86ba-e560be8191d2",
   "metadata": {},
   "outputs": [],
   "source": [
    "## digunakan untuk melanjutkan loop berdasarkan kondisi"
   ]
  },
  {
   "cell_type": "code",
   "execution_count": 38,
   "id": "2896f645-5c98-436c-929c-783d19c08d53",
   "metadata": {},
   "outputs": [
    {
     "name": "stdout",
     "output_type": "stream",
     "text": [
      "4\n",
      "3\n",
      "1\n",
      "0\n",
      "loop ended\n"
     ]
    }
   ],
   "source": [
    "n = 5\n",
    "while n > 0:\n",
    "    n -= 1\n",
    "    if n == 2:\n",
    "        continue\n",
    "    print(n)\n",
    "print ('loop ended')"
   ]
  },
  {
   "cell_type": "markdown",
   "id": "93eed23b-f5f0-46bc-a8d1-e28ee258dd3c",
   "metadata": {},
   "source": [
    "## nested if - else loop"
   ]
  },
  {
   "cell_type": "code",
   "execution_count": 44,
   "id": "030dc670-0fab-40e3-b205-1152c5d92362",
   "metadata": {},
   "outputs": [
    {
     "name": "stdout",
     "output_type": "stream",
     "text": [
      "Dad\n"
     ]
    }
   ],
   "source": [
    "# NESTED IF\n",
    "umur = 43\n",
    "gender = 'M'\n",
    "if umur < 18:\n",
    "    if gender == 'M':\n",
    "        print('son')\n",
    "    else:\n",
    "        print('daughter')\n",
    "if umur >= 18 and umur < 65:\n",
    "    if gender == 'M':\n",
    "        print('Dad')\n",
    "    else:\n",
    "        print ('Mom')"
   ]
  },
  {
   "cell_type": "code",
   "execution_count": 48,
   "id": "e3fb1927-cae8-44a4-ac5f-5cd2128ad5f3",
   "metadata": {},
   "outputs": [
    {
     "name": "stdout",
     "output_type": "stream",
     "text": [
      "b\n",
      "u\n",
      "d\n",
      "i\n",
      "j\n",
      "o\n",
      "k\n",
      "o\n",
      "a\n",
      "n\n",
      "w\n",
      "a\n",
      "r\n"
     ]
    }
   ],
   "source": [
    "# NESTED FOR LOOPS\n",
    "x = ['budi','joko','anwar']\n",
    "for i in x:\n",
    "    for j in i:\n",
    "        print(j)"
   ]
  },
  {
   "cell_type": "code",
   "execution_count": 49,
   "id": "4ec013cf-3870-4697-977d-5f50019ebad1",
   "metadata": {},
   "outputs": [
    {
     "name": "stdout",
     "output_type": "stream",
     "text": [
      "b\n",
      "u\n",
      "d\n",
      "i\n"
     ]
    }
   ],
   "source": [
    "# NESTED FOR LOOPS\n",
    "x = ['budi','joko','anwar']\n",
    "for i in x:\n",
    "    if i == 'joko':\n",
    "        break\n",
    "    for j in i:\n",
    "        print(j)"
   ]
  },
  {
   "cell_type": "code",
   "execution_count": null,
   "id": "4d9f4403-efac-4194-a241-9b858cbdbe76",
   "metadata": {},
   "outputs": [
    {
     "name": "stdout",
     "output_type": "stream",
     "text": [
      "b\n",
      "u\n",
      "d\n",
      "i\n",
      "j\n",
      "o\n",
      "k\n",
      "o\n"
     ]
    }
   ],
   "source": [
    "# NESTED FOR LOOPS\n",
    "x = ['budi','joko','anwar']\n",
    "for i in x:\n",
    "    if i == 'joko':\n",
    "        break\n",
    "    for j in i:\n",
    "        print(j)"
   ]
  },
  {
   "cell_type": "markdown",
   "id": "6d3927b4-f084-4d60-bc91-021140ed52c2",
   "metadata": {},
   "source": [
    "## dictionary loop"
   ]
  },
  {
   "cell_type": "code",
   "execution_count": 51,
   "id": "c3817461-8f0d-4fbf-90de-5a0cd5f29f15",
   "metadata": {},
   "outputs": [
    {
     "name": "stdout",
     "output_type": "stream",
     "text": [
      "A\n",
      "B\n",
      "C\n"
     ]
    }
   ],
   "source": [
    "dictionary_a = {'A':'Bekasi','B':'Jakarta','C':'Medan'}\n",
    "for i in dictionary_a:\n",
    "    print(i)"
   ]
  },
  {
   "cell_type": "code",
   "execution_count": 61,
   "id": "d59233bd-f73e-4735-8fe2-c3483746335c",
   "metadata": {},
   "outputs": [
    {
     "name": "stdout",
     "output_type": "stream",
     "text": [
      "Bekasi\n",
      "Jakarta\n",
      "Medan\n"
     ]
    }
   ],
   "source": [
    "dictionary_a = {'A':'Bekasi','B':'Jakarta','C':'Medan'}\n",
    "for i in dictionary_a:\n",
    "    print(dictionary_a[i])"
   ]
  },
  {
   "cell_type": "code",
   "execution_count": 67,
   "id": "4c030476-a386-4cfd-93fe-032f589d5ece",
   "metadata": {},
   "outputs": [
    {
     "data": {
      "text/plain": [
       "dict_values(['Bekasi', 'Jakarta', 'Medan'])"
      ]
     },
     "execution_count": 67,
     "metadata": {},
     "output_type": "execute_result"
    }
   ],
   "source": [
    "dictionary_a.values()"
   ]
  },
  {
   "cell_type": "code",
   "execution_count": 68,
   "id": "448a2fe3-be52-40a8-8f6f-7f5169086c35",
   "metadata": {},
   "outputs": [
    {
     "data": {
      "text/plain": [
       "dict_keys(['A', 'B', 'C'])"
      ]
     },
     "execution_count": 68,
     "metadata": {},
     "output_type": "execute_result"
    }
   ],
   "source": [
    "dictionary_a.keys()"
   ]
  },
  {
   "cell_type": "code",
   "execution_count": 76,
   "id": "f59ab76f-7562-49c3-937e-0f67f8d1a34f",
   "metadata": {},
   "outputs": [
    {
     "data": {
      "text/plain": [
       "dict_items([('A', 'Bekasi'), ('B', 'Jakarta'), ('C', 'Medan')])"
      ]
     },
     "execution_count": 76,
     "metadata": {},
     "output_type": "execute_result"
    }
   ],
   "source": [
    "dictionary_a.items()"
   ]
  },
  {
   "cell_type": "code",
   "execution_count": 71,
   "id": "093d2132-75fe-4b1b-8965-bd9b342aeb6b",
   "metadata": {},
   "outputs": [
    {
     "name": "stdout",
     "output_type": "stream",
     "text": [
      "A\n",
      "B\n",
      "C\n"
     ]
    }
   ],
   "source": [
    "dictionary_a = {'A':'Bekasi','B':'Jakarta','C':'Medan'}\n",
    "for i in dictionary_a.keys():\n",
    "    print(i)"
   ]
  },
  {
   "cell_type": "code",
   "execution_count": 72,
   "id": "b8306f80-fece-4205-b86a-9e6e482fc40d",
   "metadata": {},
   "outputs": [
    {
     "name": "stdout",
     "output_type": "stream",
     "text": [
      "Bekasi\n",
      "Jakarta\n",
      "Medan\n"
     ]
    }
   ],
   "source": [
    "dictionary_a = {'A':'Bekasi','B':'Jakarta','C':'Medan'}\n",
    "for i in dictionary_a.values():\n",
    "    print(i)"
   ]
  },
  {
   "cell_type": "code",
   "execution_count": 79,
   "id": "f2bf2ddc-f553-4f65-a369-ae1ea60d6a04",
   "metadata": {},
   "outputs": [
    {
     "name": "stdout",
     "output_type": "stream",
     "text": [
      "A Bekasi\n",
      "B Jakarta\n",
      "C Medan\n"
     ]
    }
   ],
   "source": [
    "dictionary_a = {'A':'Bekasi','B':'Jakarta','C':'Medan'}\n",
    "for i,j in dictionary_a.items():\n",
    "    print(i,j)"
   ]
  },
  {
   "cell_type": "code",
   "execution_count": 63,
   "id": "ce948fc6-6875-4d8d-901c-91caad08b3ff",
   "metadata": {},
   "outputs": [
    {
     "name": "stdout",
     "output_type": "stream",
     "text": [
      "aster\n",
      "hachi\n"
     ]
    }
   ],
   "source": [
    "for i in ['aster','jubah','nambo','hachi']:\n",
    "    if 'b' in i:\n",
    "        continue\n",
    "    print(i)"
   ]
  },
  {
   "cell_type": "code",
   "execution_count": 64,
   "id": "5b3bfebe-b6ff-46f6-a055-8f7ebe0537f4",
   "metadata": {},
   "outputs": [
    {
     "name": "stdout",
     "output_type": "stream",
     "text": [
      "aster\n",
      "jubah\n",
      "nambo\n",
      "hachi\n"
     ]
    }
   ],
   "source": [
    "for i in ['aster','jubah','nambo','hachi']:\n",
    "    if 'b' in i:\n",
    "        pass\n",
    "    print(i)"
   ]
  },
  {
   "cell_type": "code",
   "execution_count": 65,
   "id": "e1a0ba3b-8a06-49cc-842c-7f8a12bb8a59",
   "metadata": {},
   "outputs": [
    {
     "name": "stdout",
     "output_type": "stream",
     "text": [
      "aster\n"
     ]
    }
   ],
   "source": [
    "for i in ['aster','jubah','nambo','hachi']:\n",
    "    if 'b' in i:\n",
    "           break\n",
    "    print(i)\n",
    "else:\n",
    "    print('loop done')"
   ]
  },
  {
   "cell_type": "code",
   "execution_count": 74,
   "id": "0b272d9f-e745-48ca-8fb2-4053c32fd8da",
   "metadata": {},
   "outputs": [
    {
     "name": "stdout",
     "output_type": "stream",
     "text": [
      "0\n",
      "1\n",
      "2\n",
      "3\n",
      "4\n"
     ]
    }
   ],
   "source": [
    "for i in range(5):\n",
    "    print(i)"
   ]
  },
  {
   "cell_type": "code",
   "execution_count": 75,
   "id": "754ae7ea-ea04-41cf-8c97-a2de7e6a7df2",
   "metadata": {},
   "outputs": [
    {
     "name": "stdout",
     "output_type": "stream",
     "text": [
      "1\n",
      "2\n",
      "3\n",
      "4\n",
      "5\n",
      "6\n",
      "7\n",
      "8\n",
      "9\n",
      "10\n",
      "11\n",
      "12\n",
      "13\n",
      "14\n",
      "15\n",
      "16\n",
      "17\n",
      "18\n",
      "19\n",
      "20\n"
     ]
    }
   ],
   "source": [
    "for i in range (20):\n",
    "    print (i+1)"
   ]
  },
  {
   "cell_type": "code",
   "execution_count": 78,
   "id": "aae98077-f8d5-4f74-bcd5-7702d41cf183",
   "metadata": {},
   "outputs": [
    {
     "name": "stdout",
     "output_type": "stream",
     "text": [
      "1 4\n",
      "2 5\n",
      "3 6\n"
     ]
    }
   ],
   "source": [
    "a = [1,2,3]\n",
    "b = [4,5,6]\n",
    "for i, j in zip(a,b):\n",
    "    print(i,j)"
   ]
  },
  {
   "cell_type": "code",
   "execution_count": 80,
   "id": "5d32c09d-eb20-4971-9ceb-e79a0b58080f",
   "metadata": {},
   "outputs": [
    {
     "name": "stdout",
     "output_type": "stream",
     "text": [
      "5\n",
      "7\n",
      "9\n"
     ]
    }
   ],
   "source": [
    "a = [1,2,3]\n",
    "b = [4,5,6]\n",
    "for i, j in zip(a,b):\n",
    "    print(i+j)"
   ]
  },
  {
   "cell_type": "code",
   "execution_count": null,
   "id": "2ad1f51e-e6e1-440a-ba52-0933de1fbd4d",
   "metadata": {},
   "outputs": [],
   "source": [
    "i = 1\n",
    "while i <= 20\n",
    "    if i % 2 == 1:\n",
    "        print(i)\n",
    "    else:\n",
    "        print ('genap')\n",
    "    i += 1"
   ]
  }
 ],
 "metadata": {
  "kernelspec": {
   "display_name": "Python 3 (ipykernel)",
   "language": "python",
   "name": "python3"
  },
  "language_info": {
   "codemirror_mode": {
    "name": "ipython",
    "version": 3
   },
   "file_extension": ".py",
   "mimetype": "text/x-python",
   "name": "python",
   "nbconvert_exporter": "python",
   "pygments_lexer": "ipython3",
   "version": "3.9.13"
  }
 },
 "nbformat": 4,
 "nbformat_minor": 5
}
