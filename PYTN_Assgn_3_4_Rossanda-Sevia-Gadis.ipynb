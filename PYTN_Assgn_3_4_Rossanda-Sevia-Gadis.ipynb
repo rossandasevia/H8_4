{
 "cells": [
  {
   "cell_type": "markdown",
   "id": "fd81483e-c12c-4ed5-947b-04f38c60e143",
   "metadata": {},
   "source": [
    "# Assignment 3 Python"
   ]
  },
  {
   "cell_type": "markdown",
   "id": "7d80a559-aaf2-4af7-8aff-0ac853950058",
   "metadata": {},
   "source": [
    "# Bank Marketing Data Set"
   ]
  },
  {
   "cell_type": "markdown",
   "id": "dad63470-a1b1-4eae-871c-0070860e5f69",
   "metadata": {},
   "source": [
    "## Import Libraries"
   ]
  },
  {
   "cell_type": "markdown",
   "id": "6cef8755-05ba-4c84-8e6b-9815e87d1f7e",
   "metadata": {},
   "source": [
    "Library pada bahasa pemrograman Python berfungsi untuk memudahkan pengguna dalam membuat sebuah program tanpa harus menuliskan banyak kode. Untuk melakukan klasifikasi pada python, dibutuhkan beberapa library. Library tersebut harus diimport terlebih dahulu agar dapat digunakan."
   ]
  },
  {
   "cell_type": "code",
   "execution_count": 32,
   "id": "c3bc3bf2-a6f8-4bb2-8e80-2c39fd002a20",
   "metadata": {},
   "outputs": [],
   "source": [
    "import numpy as np\n",
    "import pandas as pd\n",
    "import matplotlib.pyplot as plt\n",
    "from sklearn.datasets import load_digits\n",
    "import seaborn as sns\n",
    "\n",
    "# Label Encoder\n",
    "from sklearn.preprocessing import LabelEncoder\n",
    "\n",
    "# Splitting Data\n",
    "from sklearn.model_selection import train_test_split\n",
    "\n",
    "# Standardization\n",
    "from sklearn.preprocessing import StandardScaler\n",
    "\n",
    "# logistic Regression\n",
    "from sklearn.linear_model import LogisticRegression\n",
    "from sklearn.metrics import accuracy_score # Accuracy Score\n",
    "from sklearn.metrics import classification_report, confusion_matrix #Classification Report, Confusion Matrix\n",
    "\n",
    "# KNN Classifier\n",
    "from sklearn.neighbors import KNeighborsClassifier #Import knearest neighbors Classifier model\n",
    "\n",
    "# SVM Classifier\n",
    "from sklearn.svm import SVC\n",
    "\n",
    "# Naive Bayes\n",
    "from sklearn.naive_bayes import GaussianNB\n",
    "\n",
    "# Decision Tree Classifier\n",
    "from sklearn.tree import DecisionTreeClassifier\n",
    "import sklearn.tree as tree # Visualizing Decision Tree\n",
    "import pydotplus\n",
    "from six import StringIO \n",
    "from IPython.display import Image\n",
    "\n",
    "# Random Forest Classifier\n",
    "from sklearn.ensemble import RandomForestClassifier\n",
    "\n",
    "# Remove Warnings\n",
    "import warnings "
   ]
  },
  {
   "cell_type": "markdown",
   "id": "a8f7bde1-88ea-45ba-8c0b-49cf57a12821",
   "metadata": {},
   "source": [
    "Setelah proses import library selesai, maka langkah selanjutnya adalah mengimpor set data yang akan digunakan."
   ]
  },
  {
   "cell_type": "markdown",
   "id": "6202057b-f911-4ed2-8e95-bf043dc0276c",
   "metadata": {},
   "source": [
    "## Import Data"
   ]
  },
  {
   "cell_type": "markdown",
   "id": "08fe591f-7ed7-45b2-adc0-c54f469754d3",
   "metadata": {},
   "source": [
    "\n",
    "Set data bernama `bank-additional-full.csv` di-import menggunakan fungsi `pd.read_csv` karena file yang digunakan memiliki format `.csv` dan disimpan dalam dataframe bernama `df` , digunakan argumen `sep=';'` karena masing-masing kolom dipisahkan oleh tanda semicolon. "
   ]
  },
  {
   "cell_type": "code",
   "execution_count": 33,
   "id": "4fac85c6-aa00-4871-a0c4-f5dad4fa49bf",
   "metadata": {},
   "outputs": [
    {
     "data": {
      "text/html": [
       "<div>\n",
       "<style scoped>\n",
       "    .dataframe tbody tr th:only-of-type {\n",
       "        vertical-align: middle;\n",
       "    }\n",
       "\n",
       "    .dataframe tbody tr th {\n",
       "        vertical-align: top;\n",
       "    }\n",
       "\n",
       "    .dataframe thead th {\n",
       "        text-align: right;\n",
       "    }\n",
       "</style>\n",
       "<table border=\"1\" class=\"dataframe\">\n",
       "  <thead>\n",
       "    <tr style=\"text-align: right;\">\n",
       "      <th></th>\n",
       "      <th>age</th>\n",
       "      <th>job</th>\n",
       "      <th>marital</th>\n",
       "      <th>education</th>\n",
       "      <th>default</th>\n",
       "      <th>housing</th>\n",
       "      <th>loan</th>\n",
       "      <th>contact</th>\n",
       "      <th>month</th>\n",
       "      <th>day_of_week</th>\n",
       "      <th>...</th>\n",
       "      <th>campaign</th>\n",
       "      <th>pdays</th>\n",
       "      <th>previous</th>\n",
       "      <th>poutcome</th>\n",
       "      <th>emp.var.rate</th>\n",
       "      <th>cons.price.idx</th>\n",
       "      <th>cons.conf.idx</th>\n",
       "      <th>euribor3m</th>\n",
       "      <th>nr.employed</th>\n",
       "      <th>y</th>\n",
       "    </tr>\n",
       "  </thead>\n",
       "  <tbody>\n",
       "    <tr>\n",
       "      <th>0</th>\n",
       "      <td>56</td>\n",
       "      <td>housemaid</td>\n",
       "      <td>married</td>\n",
       "      <td>basic.4y</td>\n",
       "      <td>no</td>\n",
       "      <td>no</td>\n",
       "      <td>no</td>\n",
       "      <td>telephone</td>\n",
       "      <td>may</td>\n",
       "      <td>mon</td>\n",
       "      <td>...</td>\n",
       "      <td>1</td>\n",
       "      <td>999</td>\n",
       "      <td>0</td>\n",
       "      <td>nonexistent</td>\n",
       "      <td>1.1</td>\n",
       "      <td>93.994</td>\n",
       "      <td>-36.4</td>\n",
       "      <td>4.857</td>\n",
       "      <td>5191.0</td>\n",
       "      <td>no</td>\n",
       "    </tr>\n",
       "    <tr>\n",
       "      <th>1</th>\n",
       "      <td>57</td>\n",
       "      <td>services</td>\n",
       "      <td>married</td>\n",
       "      <td>high.school</td>\n",
       "      <td>unknown</td>\n",
       "      <td>no</td>\n",
       "      <td>no</td>\n",
       "      <td>telephone</td>\n",
       "      <td>may</td>\n",
       "      <td>mon</td>\n",
       "      <td>...</td>\n",
       "      <td>1</td>\n",
       "      <td>999</td>\n",
       "      <td>0</td>\n",
       "      <td>nonexistent</td>\n",
       "      <td>1.1</td>\n",
       "      <td>93.994</td>\n",
       "      <td>-36.4</td>\n",
       "      <td>4.857</td>\n",
       "      <td>5191.0</td>\n",
       "      <td>no</td>\n",
       "    </tr>\n",
       "    <tr>\n",
       "      <th>2</th>\n",
       "      <td>37</td>\n",
       "      <td>services</td>\n",
       "      <td>married</td>\n",
       "      <td>high.school</td>\n",
       "      <td>no</td>\n",
       "      <td>yes</td>\n",
       "      <td>no</td>\n",
       "      <td>telephone</td>\n",
       "      <td>may</td>\n",
       "      <td>mon</td>\n",
       "      <td>...</td>\n",
       "      <td>1</td>\n",
       "      <td>999</td>\n",
       "      <td>0</td>\n",
       "      <td>nonexistent</td>\n",
       "      <td>1.1</td>\n",
       "      <td>93.994</td>\n",
       "      <td>-36.4</td>\n",
       "      <td>4.857</td>\n",
       "      <td>5191.0</td>\n",
       "      <td>no</td>\n",
       "    </tr>\n",
       "    <tr>\n",
       "      <th>3</th>\n",
       "      <td>40</td>\n",
       "      <td>admin.</td>\n",
       "      <td>married</td>\n",
       "      <td>basic.6y</td>\n",
       "      <td>no</td>\n",
       "      <td>no</td>\n",
       "      <td>no</td>\n",
       "      <td>telephone</td>\n",
       "      <td>may</td>\n",
       "      <td>mon</td>\n",
       "      <td>...</td>\n",
       "      <td>1</td>\n",
       "      <td>999</td>\n",
       "      <td>0</td>\n",
       "      <td>nonexistent</td>\n",
       "      <td>1.1</td>\n",
       "      <td>93.994</td>\n",
       "      <td>-36.4</td>\n",
       "      <td>4.857</td>\n",
       "      <td>5191.0</td>\n",
       "      <td>no</td>\n",
       "    </tr>\n",
       "    <tr>\n",
       "      <th>4</th>\n",
       "      <td>56</td>\n",
       "      <td>services</td>\n",
       "      <td>married</td>\n",
       "      <td>high.school</td>\n",
       "      <td>no</td>\n",
       "      <td>no</td>\n",
       "      <td>yes</td>\n",
       "      <td>telephone</td>\n",
       "      <td>may</td>\n",
       "      <td>mon</td>\n",
       "      <td>...</td>\n",
       "      <td>1</td>\n",
       "      <td>999</td>\n",
       "      <td>0</td>\n",
       "      <td>nonexistent</td>\n",
       "      <td>1.1</td>\n",
       "      <td>93.994</td>\n",
       "      <td>-36.4</td>\n",
       "      <td>4.857</td>\n",
       "      <td>5191.0</td>\n",
       "      <td>no</td>\n",
       "    </tr>\n",
       "  </tbody>\n",
       "</table>\n",
       "<p>5 rows × 21 columns</p>\n",
       "</div>"
      ],
      "text/plain": [
       "   age        job  marital    education  default housing loan    contact  \\\n",
       "0   56  housemaid  married     basic.4y       no      no   no  telephone   \n",
       "1   57   services  married  high.school  unknown      no   no  telephone   \n",
       "2   37   services  married  high.school       no     yes   no  telephone   \n",
       "3   40     admin.  married     basic.6y       no      no   no  telephone   \n",
       "4   56   services  married  high.school       no      no  yes  telephone   \n",
       "\n",
       "  month day_of_week  ...  campaign  pdays  previous     poutcome emp.var.rate  \\\n",
       "0   may         mon  ...         1    999         0  nonexistent          1.1   \n",
       "1   may         mon  ...         1    999         0  nonexistent          1.1   \n",
       "2   may         mon  ...         1    999         0  nonexistent          1.1   \n",
       "3   may         mon  ...         1    999         0  nonexistent          1.1   \n",
       "4   may         mon  ...         1    999         0  nonexistent          1.1   \n",
       "\n",
       "   cons.price.idx  cons.conf.idx  euribor3m  nr.employed   y  \n",
       "0          93.994          -36.4      4.857       5191.0  no  \n",
       "1          93.994          -36.4      4.857       5191.0  no  \n",
       "2          93.994          -36.4      4.857       5191.0  no  \n",
       "3          93.994          -36.4      4.857       5191.0  no  \n",
       "4          93.994          -36.4      4.857       5191.0  no  \n",
       "\n",
       "[5 rows x 21 columns]"
      ]
     },
     "execution_count": 33,
     "metadata": {},
     "output_type": "execute_result"
    }
   ],
   "source": [
    "df = pd.read_csv('bank-additional-full.csv', sep=';')\n",
    "df.head()"
   ]
  },
  {
   "cell_type": "markdown",
   "id": "d3a67933-a824-4a06-aacd-973d7a1c890a",
   "metadata": {},
   "source": [
    "Fungsi `.head()` digunakan untuk melihat sebagian isi dari data. Secara default, fungsi `.head()` akan menampilkan 5 baris teratas dari data."
   ]
  },
  {
   "cell_type": "markdown",
   "id": "03ddb416-fdfe-47cf-98bd-f783e6a6a446",
   "metadata": {},
   "source": [
    "## Information from Data"
   ]
  },
  {
   "cell_type": "markdown",
   "id": "76f3c845-60f5-40c8-a094-0b6538e0bb8c",
   "metadata": {},
   "source": [
    "Set data merupakan data kampanye pemasaran langsung sebuah Bank di Portugis. Kampanye pemasaran dilakukan melalui telepon. Klien sering kali dihubungi lebih dari satu kali untuk memastikan apakah mereka akan berlangganan produk bank tersebut (deposito bank berjangka)."
   ]
  },
  {
   "cell_type": "markdown",
   "id": "e8b9ad60-1c5b-435c-82e9-0fbe333d5a77",
   "metadata": {},
   "source": [
    "Informasi mengenai jumlah dan nama kolom, jumlah baris, dan tipe data yang terkandung dalam set data dapat diketahui menggunakan fungsi `.info()`"
   ]
  },
  {
   "cell_type": "code",
   "execution_count": 34,
   "id": "319c9ddf-3fd1-453e-adb9-3ff239201505",
   "metadata": {},
   "outputs": [
    {
     "name": "stdout",
     "output_type": "stream",
     "text": [
      "<class 'pandas.core.frame.DataFrame'>\n",
      "RangeIndex: 41188 entries, 0 to 41187\n",
      "Data columns (total 21 columns):\n",
      " #   Column          Non-Null Count  Dtype  \n",
      "---  ------          --------------  -----  \n",
      " 0   age             41188 non-null  int64  \n",
      " 1   job             41188 non-null  object \n",
      " 2   marital         41188 non-null  object \n",
      " 3   education       41188 non-null  object \n",
      " 4   default         41188 non-null  object \n",
      " 5   housing         41188 non-null  object \n",
      " 6   loan            41188 non-null  object \n",
      " 7   contact         41188 non-null  object \n",
      " 8   month           41188 non-null  object \n",
      " 9   day_of_week     41188 non-null  object \n",
      " 10  duration        41188 non-null  int64  \n",
      " 11  campaign        41188 non-null  int64  \n",
      " 12  pdays           41188 non-null  int64  \n",
      " 13  previous        41188 non-null  int64  \n",
      " 14  poutcome        41188 non-null  object \n",
      " 15  emp.var.rate    41188 non-null  float64\n",
      " 16  cons.price.idx  41188 non-null  float64\n",
      " 17  cons.conf.idx   41188 non-null  float64\n",
      " 18  euribor3m       41188 non-null  float64\n",
      " 19  nr.employed     41188 non-null  float64\n",
      " 20  y               41188 non-null  object \n",
      "dtypes: float64(5), int64(5), object(11)\n",
      "memory usage: 6.6+ MB\n"
     ]
    }
   ],
   "source": [
    "df.info()"
   ]
  },
  {
   "cell_type": "markdown",
   "id": "019a12c4-f539-43e4-85d8-a9764dff118a",
   "metadata": {},
   "source": [
    "Set data memiliki 21 kolom dan 41188 baris. Data type pada setiap kolo dapat diketahui berdasarkan `Dtype`."
   ]
  },
  {
   "cell_type": "markdown",
   "id": "01d09d8a-e89b-4830-b14f-e9b033a69519",
   "metadata": {},
   "source": [
    "Untuk mengetahui nama-nama kolom pada set data, dapat digunakan fungsi `.columns`"
   ]
  },
  {
   "cell_type": "code",
   "execution_count": 35,
   "id": "22aae248-1470-4d94-81db-f5b07b26bd37",
   "metadata": {},
   "outputs": [
    {
     "data": {
      "text/plain": [
       "Index(['age', 'job', 'marital', 'education', 'default', 'housing', 'loan',\n",
       "       'contact', 'month', 'day_of_week', 'duration', 'campaign', 'pdays',\n",
       "       'previous', 'poutcome', 'emp.var.rate', 'cons.price.idx',\n",
       "       'cons.conf.idx', 'euribor3m', 'nr.employed', 'y'],\n",
       "      dtype='object')"
      ]
     },
     "execution_count": 35,
     "metadata": {},
     "output_type": "execute_result"
    }
   ],
   "source": [
    "df.columns"
   ]
  },
  {
   "cell_type": "markdown",
   "id": "a1338b97-d8bd-4bea-9948-fce4aacb2a35",
   "metadata": {},
   "source": [
    "Untuk mengetahui apakah terdapat null-value pada set data, digunakan fungsi `.isna().sum()`."
   ]
  },
  {
   "cell_type": "code",
   "execution_count": 36,
   "id": "fd5103cd-9d61-481a-a608-21e18908cfeb",
   "metadata": {},
   "outputs": [
    {
     "data": {
      "text/plain": [
       "age               0\n",
       "job               0\n",
       "marital           0\n",
       "education         0\n",
       "default           0\n",
       "housing           0\n",
       "loan              0\n",
       "contact           0\n",
       "month             0\n",
       "day_of_week       0\n",
       "duration          0\n",
       "campaign          0\n",
       "pdays             0\n",
       "previous          0\n",
       "poutcome          0\n",
       "emp.var.rate      0\n",
       "cons.price.idx    0\n",
       "cons.conf.idx     0\n",
       "euribor3m         0\n",
       "nr.employed       0\n",
       "y                 0\n",
       "dtype: int64"
      ]
     },
     "execution_count": 36,
     "metadata": {},
     "output_type": "execute_result"
    }
   ],
   "source": [
    "df.isna().sum()"
   ]
  },
  {
   "cell_type": "markdown",
   "id": "8a4de13b-10e9-45e4-84c4-cdd64641783f",
   "metadata": {},
   "source": [
    "Tidak ditemukan null-value pada set data."
   ]
  },
  {
   "cell_type": "markdown",
   "id": "3661fcae-c1a5-408a-8dfc-c7e0a6f0e4ef",
   "metadata": {},
   "source": [
    "Informasi statistik pada data (numerik) dapat ditampilkan menggunakan fungsi `.describe()`."
   ]
  },
  {
   "cell_type": "code",
   "execution_count": 37,
   "id": "5eabc995-2095-499b-bf90-2e3dd5c18f7f",
   "metadata": {},
   "outputs": [
    {
     "data": {
      "text/html": [
       "<div>\n",
       "<style scoped>\n",
       "    .dataframe tbody tr th:only-of-type {\n",
       "        vertical-align: middle;\n",
       "    }\n",
       "\n",
       "    .dataframe tbody tr th {\n",
       "        vertical-align: top;\n",
       "    }\n",
       "\n",
       "    .dataframe thead th {\n",
       "        text-align: right;\n",
       "    }\n",
       "</style>\n",
       "<table border=\"1\" class=\"dataframe\">\n",
       "  <thead>\n",
       "    <tr style=\"text-align: right;\">\n",
       "      <th></th>\n",
       "      <th>age</th>\n",
       "      <th>duration</th>\n",
       "      <th>campaign</th>\n",
       "      <th>pdays</th>\n",
       "      <th>previous</th>\n",
       "      <th>emp.var.rate</th>\n",
       "      <th>cons.price.idx</th>\n",
       "      <th>cons.conf.idx</th>\n",
       "      <th>euribor3m</th>\n",
       "      <th>nr.employed</th>\n",
       "    </tr>\n",
       "  </thead>\n",
       "  <tbody>\n",
       "    <tr>\n",
       "      <th>count</th>\n",
       "      <td>41188.00000</td>\n",
       "      <td>41188.000000</td>\n",
       "      <td>41188.000000</td>\n",
       "      <td>41188.000000</td>\n",
       "      <td>41188.000000</td>\n",
       "      <td>41188.000000</td>\n",
       "      <td>41188.000000</td>\n",
       "      <td>41188.000000</td>\n",
       "      <td>41188.000000</td>\n",
       "      <td>41188.000000</td>\n",
       "    </tr>\n",
       "    <tr>\n",
       "      <th>mean</th>\n",
       "      <td>40.02406</td>\n",
       "      <td>258.285010</td>\n",
       "      <td>2.567593</td>\n",
       "      <td>962.475454</td>\n",
       "      <td>0.172963</td>\n",
       "      <td>0.081886</td>\n",
       "      <td>93.575664</td>\n",
       "      <td>-40.502600</td>\n",
       "      <td>3.621291</td>\n",
       "      <td>5167.035911</td>\n",
       "    </tr>\n",
       "    <tr>\n",
       "      <th>std</th>\n",
       "      <td>10.42125</td>\n",
       "      <td>259.279249</td>\n",
       "      <td>2.770014</td>\n",
       "      <td>186.910907</td>\n",
       "      <td>0.494901</td>\n",
       "      <td>1.570960</td>\n",
       "      <td>0.578840</td>\n",
       "      <td>4.628198</td>\n",
       "      <td>1.734447</td>\n",
       "      <td>72.251528</td>\n",
       "    </tr>\n",
       "    <tr>\n",
       "      <th>min</th>\n",
       "      <td>17.00000</td>\n",
       "      <td>0.000000</td>\n",
       "      <td>1.000000</td>\n",
       "      <td>0.000000</td>\n",
       "      <td>0.000000</td>\n",
       "      <td>-3.400000</td>\n",
       "      <td>92.201000</td>\n",
       "      <td>-50.800000</td>\n",
       "      <td>0.634000</td>\n",
       "      <td>4963.600000</td>\n",
       "    </tr>\n",
       "    <tr>\n",
       "      <th>25%</th>\n",
       "      <td>32.00000</td>\n",
       "      <td>102.000000</td>\n",
       "      <td>1.000000</td>\n",
       "      <td>999.000000</td>\n",
       "      <td>0.000000</td>\n",
       "      <td>-1.800000</td>\n",
       "      <td>93.075000</td>\n",
       "      <td>-42.700000</td>\n",
       "      <td>1.344000</td>\n",
       "      <td>5099.100000</td>\n",
       "    </tr>\n",
       "    <tr>\n",
       "      <th>50%</th>\n",
       "      <td>38.00000</td>\n",
       "      <td>180.000000</td>\n",
       "      <td>2.000000</td>\n",
       "      <td>999.000000</td>\n",
       "      <td>0.000000</td>\n",
       "      <td>1.100000</td>\n",
       "      <td>93.749000</td>\n",
       "      <td>-41.800000</td>\n",
       "      <td>4.857000</td>\n",
       "      <td>5191.000000</td>\n",
       "    </tr>\n",
       "    <tr>\n",
       "      <th>75%</th>\n",
       "      <td>47.00000</td>\n",
       "      <td>319.000000</td>\n",
       "      <td>3.000000</td>\n",
       "      <td>999.000000</td>\n",
       "      <td>0.000000</td>\n",
       "      <td>1.400000</td>\n",
       "      <td>93.994000</td>\n",
       "      <td>-36.400000</td>\n",
       "      <td>4.961000</td>\n",
       "      <td>5228.100000</td>\n",
       "    </tr>\n",
       "    <tr>\n",
       "      <th>max</th>\n",
       "      <td>98.00000</td>\n",
       "      <td>4918.000000</td>\n",
       "      <td>56.000000</td>\n",
       "      <td>999.000000</td>\n",
       "      <td>7.000000</td>\n",
       "      <td>1.400000</td>\n",
       "      <td>94.767000</td>\n",
       "      <td>-26.900000</td>\n",
       "      <td>5.045000</td>\n",
       "      <td>5228.100000</td>\n",
       "    </tr>\n",
       "  </tbody>\n",
       "</table>\n",
       "</div>"
      ],
      "text/plain": [
       "               age      duration      campaign         pdays      previous  \\\n",
       "count  41188.00000  41188.000000  41188.000000  41188.000000  41188.000000   \n",
       "mean      40.02406    258.285010      2.567593    962.475454      0.172963   \n",
       "std       10.42125    259.279249      2.770014    186.910907      0.494901   \n",
       "min       17.00000      0.000000      1.000000      0.000000      0.000000   \n",
       "25%       32.00000    102.000000      1.000000    999.000000      0.000000   \n",
       "50%       38.00000    180.000000      2.000000    999.000000      0.000000   \n",
       "75%       47.00000    319.000000      3.000000    999.000000      0.000000   \n",
       "max       98.00000   4918.000000     56.000000    999.000000      7.000000   \n",
       "\n",
       "       emp.var.rate  cons.price.idx  cons.conf.idx     euribor3m   nr.employed  \n",
       "count  41188.000000    41188.000000   41188.000000  41188.000000  41188.000000  \n",
       "mean       0.081886       93.575664     -40.502600      3.621291   5167.035911  \n",
       "std        1.570960        0.578840       4.628198      1.734447     72.251528  \n",
       "min       -3.400000       92.201000     -50.800000      0.634000   4963.600000  \n",
       "25%       -1.800000       93.075000     -42.700000      1.344000   5099.100000  \n",
       "50%        1.100000       93.749000     -41.800000      4.857000   5191.000000  \n",
       "75%        1.400000       93.994000     -36.400000      4.961000   5228.100000  \n",
       "max        1.400000       94.767000     -26.900000      5.045000   5228.100000  "
      ]
     },
     "execution_count": 37,
     "metadata": {},
     "output_type": "execute_result"
    }
   ],
   "source": [
    "df.describe()"
   ]
  },
  {
   "cell_type": "markdown",
   "id": "e76bd9bc-f77a-42c8-9d58-bc92c2a872ff",
   "metadata": {},
   "source": [
    "## Pre-processing Data"
   ]
  },
  {
   "cell_type": "markdown",
   "id": "1973357a-08f7-4285-a7e8-f0072294858f",
   "metadata": {},
   "source": [
    "Sebelum dilakukan proses analisis, set data perlu dipersiapkan terlebih dahulu."
   ]
  },
  {
   "cell_type": "markdown",
   "id": "442171bc-daad-4628-b015-d133ad69fccb",
   "metadata": {},
   "source": [
    "Dilakukan proses label encoding untuk memetakan setiap nilai pada set data menjadi sebuah angka. Proses label encoding dilakukan menggunakan `LabelEncoder` yang berasal dari library sklearn. Pada set data, pengaplikasian label encoder dilakukan pada kolom job, marital, education, default, housing, loan, contact, month, day_of_week, poutcome, dan y."
   ]
  },
  {
   "cell_type": "code",
   "execution_count": 38,
   "id": "807911ae-bd53-4c17-8c93-2223518b88ed",
   "metadata": {},
   "outputs": [],
   "source": [
    "# konversi data kategorik menjadi numerik\n",
    "\n",
    "le = LabelEncoder()\n",
    "df[['job','marital','education','default','housing',\n",
    "    'loan','contact','month','day_of_week','poutcome','y']]= df[['job','marital','education','default','housing',\n",
    "                                                             'loan','contact','month','day_of_week','poutcome','y']].apply(le.fit_transform)\n"
   ]
  },
  {
   "cell_type": "markdown",
   "id": "199e855e-1131-4ebe-b2c5-689b610da093",
   "metadata": {},
   "source": [
    "Dilakukan pengecekan pada set data menggunakan fungsi `.head()` untuk menampilkan 5 baris teratas dari data dan fungsi `.info()` untuk menampilkan informasi dari set data."
   ]
  },
  {
   "cell_type": "code",
   "execution_count": 39,
   "id": "656a587f-3d3e-400c-959a-1b251a25e240",
   "metadata": {},
   "outputs": [
    {
     "data": {
      "text/html": [
       "<div>\n",
       "<style scoped>\n",
       "    .dataframe tbody tr th:only-of-type {\n",
       "        vertical-align: middle;\n",
       "    }\n",
       "\n",
       "    .dataframe tbody tr th {\n",
       "        vertical-align: top;\n",
       "    }\n",
       "\n",
       "    .dataframe thead th {\n",
       "        text-align: right;\n",
       "    }\n",
       "</style>\n",
       "<table border=\"1\" class=\"dataframe\">\n",
       "  <thead>\n",
       "    <tr style=\"text-align: right;\">\n",
       "      <th></th>\n",
       "      <th>age</th>\n",
       "      <th>job</th>\n",
       "      <th>marital</th>\n",
       "      <th>education</th>\n",
       "      <th>default</th>\n",
       "      <th>housing</th>\n",
       "      <th>loan</th>\n",
       "      <th>contact</th>\n",
       "      <th>month</th>\n",
       "      <th>day_of_week</th>\n",
       "      <th>...</th>\n",
       "      <th>campaign</th>\n",
       "      <th>pdays</th>\n",
       "      <th>previous</th>\n",
       "      <th>poutcome</th>\n",
       "      <th>emp.var.rate</th>\n",
       "      <th>cons.price.idx</th>\n",
       "      <th>cons.conf.idx</th>\n",
       "      <th>euribor3m</th>\n",
       "      <th>nr.employed</th>\n",
       "      <th>y</th>\n",
       "    </tr>\n",
       "  </thead>\n",
       "  <tbody>\n",
       "    <tr>\n",
       "      <th>0</th>\n",
       "      <td>56</td>\n",
       "      <td>3</td>\n",
       "      <td>1</td>\n",
       "      <td>0</td>\n",
       "      <td>0</td>\n",
       "      <td>0</td>\n",
       "      <td>0</td>\n",
       "      <td>1</td>\n",
       "      <td>6</td>\n",
       "      <td>1</td>\n",
       "      <td>...</td>\n",
       "      <td>1</td>\n",
       "      <td>999</td>\n",
       "      <td>0</td>\n",
       "      <td>1</td>\n",
       "      <td>1.1</td>\n",
       "      <td>93.994</td>\n",
       "      <td>-36.4</td>\n",
       "      <td>4.857</td>\n",
       "      <td>5191.0</td>\n",
       "      <td>0</td>\n",
       "    </tr>\n",
       "    <tr>\n",
       "      <th>1</th>\n",
       "      <td>57</td>\n",
       "      <td>7</td>\n",
       "      <td>1</td>\n",
       "      <td>3</td>\n",
       "      <td>1</td>\n",
       "      <td>0</td>\n",
       "      <td>0</td>\n",
       "      <td>1</td>\n",
       "      <td>6</td>\n",
       "      <td>1</td>\n",
       "      <td>...</td>\n",
       "      <td>1</td>\n",
       "      <td>999</td>\n",
       "      <td>0</td>\n",
       "      <td>1</td>\n",
       "      <td>1.1</td>\n",
       "      <td>93.994</td>\n",
       "      <td>-36.4</td>\n",
       "      <td>4.857</td>\n",
       "      <td>5191.0</td>\n",
       "      <td>0</td>\n",
       "    </tr>\n",
       "    <tr>\n",
       "      <th>2</th>\n",
       "      <td>37</td>\n",
       "      <td>7</td>\n",
       "      <td>1</td>\n",
       "      <td>3</td>\n",
       "      <td>0</td>\n",
       "      <td>2</td>\n",
       "      <td>0</td>\n",
       "      <td>1</td>\n",
       "      <td>6</td>\n",
       "      <td>1</td>\n",
       "      <td>...</td>\n",
       "      <td>1</td>\n",
       "      <td>999</td>\n",
       "      <td>0</td>\n",
       "      <td>1</td>\n",
       "      <td>1.1</td>\n",
       "      <td>93.994</td>\n",
       "      <td>-36.4</td>\n",
       "      <td>4.857</td>\n",
       "      <td>5191.0</td>\n",
       "      <td>0</td>\n",
       "    </tr>\n",
       "    <tr>\n",
       "      <th>3</th>\n",
       "      <td>40</td>\n",
       "      <td>0</td>\n",
       "      <td>1</td>\n",
       "      <td>1</td>\n",
       "      <td>0</td>\n",
       "      <td>0</td>\n",
       "      <td>0</td>\n",
       "      <td>1</td>\n",
       "      <td>6</td>\n",
       "      <td>1</td>\n",
       "      <td>...</td>\n",
       "      <td>1</td>\n",
       "      <td>999</td>\n",
       "      <td>0</td>\n",
       "      <td>1</td>\n",
       "      <td>1.1</td>\n",
       "      <td>93.994</td>\n",
       "      <td>-36.4</td>\n",
       "      <td>4.857</td>\n",
       "      <td>5191.0</td>\n",
       "      <td>0</td>\n",
       "    </tr>\n",
       "    <tr>\n",
       "      <th>4</th>\n",
       "      <td>56</td>\n",
       "      <td>7</td>\n",
       "      <td>1</td>\n",
       "      <td>3</td>\n",
       "      <td>0</td>\n",
       "      <td>0</td>\n",
       "      <td>2</td>\n",
       "      <td>1</td>\n",
       "      <td>6</td>\n",
       "      <td>1</td>\n",
       "      <td>...</td>\n",
       "      <td>1</td>\n",
       "      <td>999</td>\n",
       "      <td>0</td>\n",
       "      <td>1</td>\n",
       "      <td>1.1</td>\n",
       "      <td>93.994</td>\n",
       "      <td>-36.4</td>\n",
       "      <td>4.857</td>\n",
       "      <td>5191.0</td>\n",
       "      <td>0</td>\n",
       "    </tr>\n",
       "  </tbody>\n",
       "</table>\n",
       "<p>5 rows × 21 columns</p>\n",
       "</div>"
      ],
      "text/plain": [
       "   age  job  marital  education  default  housing  loan  contact  month  \\\n",
       "0   56    3        1          0        0        0     0        1      6   \n",
       "1   57    7        1          3        1        0     0        1      6   \n",
       "2   37    7        1          3        0        2     0        1      6   \n",
       "3   40    0        1          1        0        0     0        1      6   \n",
       "4   56    7        1          3        0        0     2        1      6   \n",
       "\n",
       "   day_of_week  ...  campaign  pdays  previous  poutcome  emp.var.rate  \\\n",
       "0            1  ...         1    999         0         1           1.1   \n",
       "1            1  ...         1    999         0         1           1.1   \n",
       "2            1  ...         1    999         0         1           1.1   \n",
       "3            1  ...         1    999         0         1           1.1   \n",
       "4            1  ...         1    999         0         1           1.1   \n",
       "\n",
       "   cons.price.idx  cons.conf.idx  euribor3m  nr.employed  y  \n",
       "0          93.994          -36.4      4.857       5191.0  0  \n",
       "1          93.994          -36.4      4.857       5191.0  0  \n",
       "2          93.994          -36.4      4.857       5191.0  0  \n",
       "3          93.994          -36.4      4.857       5191.0  0  \n",
       "4          93.994          -36.4      4.857       5191.0  0  \n",
       "\n",
       "[5 rows x 21 columns]"
      ]
     },
     "execution_count": 39,
     "metadata": {},
     "output_type": "execute_result"
    }
   ],
   "source": [
    "df.head()"
   ]
  },
  {
   "cell_type": "markdown",
   "id": "1d26a6bd-2281-4414-a632-b04eb2874f6e",
   "metadata": {},
   "source": [
    "Menggunakan fungsi `.info()` dilakukan pengecekan kembali apakah data kategorik telah berubah menjadi data numerik."
   ]
  },
  {
   "cell_type": "code",
   "execution_count": 40,
   "id": "36fc715b-300f-4921-b7d1-6a29e971efa1",
   "metadata": {},
   "outputs": [
    {
     "name": "stdout",
     "output_type": "stream",
     "text": [
      "<class 'pandas.core.frame.DataFrame'>\n",
      "RangeIndex: 41188 entries, 0 to 41187\n",
      "Data columns (total 21 columns):\n",
      " #   Column          Non-Null Count  Dtype  \n",
      "---  ------          --------------  -----  \n",
      " 0   age             41188 non-null  int64  \n",
      " 1   job             41188 non-null  int32  \n",
      " 2   marital         41188 non-null  int32  \n",
      " 3   education       41188 non-null  int32  \n",
      " 4   default         41188 non-null  int32  \n",
      " 5   housing         41188 non-null  int32  \n",
      " 6   loan            41188 non-null  int32  \n",
      " 7   contact         41188 non-null  int32  \n",
      " 8   month           41188 non-null  int32  \n",
      " 9   day_of_week     41188 non-null  int32  \n",
      " 10  duration        41188 non-null  int64  \n",
      " 11  campaign        41188 non-null  int64  \n",
      " 12  pdays           41188 non-null  int64  \n",
      " 13  previous        41188 non-null  int64  \n",
      " 14  poutcome        41188 non-null  int32  \n",
      " 15  emp.var.rate    41188 non-null  float64\n",
      " 16  cons.price.idx  41188 non-null  float64\n",
      " 17  cons.conf.idx   41188 non-null  float64\n",
      " 18  euribor3m       41188 non-null  float64\n",
      " 19  nr.employed     41188 non-null  float64\n",
      " 20  y               41188 non-null  int32  \n",
      "dtypes: float64(5), int32(11), int64(5)\n",
      "memory usage: 4.9 MB\n"
     ]
    }
   ],
   "source": [
    "df.info()"
   ]
  },
  {
   "cell_type": "markdown",
   "id": "a3166913-edf8-4569-8244-173ae5f5bf1b",
   "metadata": {},
   "source": [
    "Data kategorik telah terkonversi menjadi numerik."
   ]
  },
  {
   "cell_type": "markdown",
   "id": "5feaeca7-584c-4d4d-876c-4a13d4989631",
   "metadata": {},
   "source": [
    "## Splitting Data"
   ]
  },
  {
   "cell_type": "markdown",
   "id": "892d3b22-5b51-4975-82ed-735bd114534f",
   "metadata": {},
   "source": [
    "Dilakukan proses splitting data untuk membagi data menjadi 2 set yaitu training set dan test set. Pembagian data training dan dara testing dilakukan secara acak. Data training digunakan untuk melatih model, sedangkan data testing digunakan untuk mengevaluasi model.\n",
    "\n",
    "Didefinisikan variabel X sebagai data seluruh kolom kecuali kolom `y`. Nilai variabel X diperoleh menggunakan fungsi `.drop(['y'],axis=1)`, `y` adalah kolom yang tidak digunakan/dihapus, sedangkan `axis=1` akan menghapus keseluruhan kolom. Sedangkan variabel y adalah data dari kolom `y`."
   ]
  },
  {
   "cell_type": "code",
   "execution_count": 41,
   "id": "6c67d430-ed43-4d3d-bae4-93b5d46d1500",
   "metadata": {},
   "outputs": [],
   "source": [
    "X = df.drop(['y'],axis=1)\n",
    "y = df[['y']]"
   ]
  },
  {
   "cell_type": "markdown",
   "id": "94883d83-e2f2-4fc0-bdee-b82dd111e18f",
   "metadata": {},
   "source": [
    "Proses splitting data dapat menggunakan fungsi `train_test_split()` dengan rincian:\n",
    "\n",
    "- X : variabel x\n",
    "- y : variabel y\n",
    "- test_size : ukuran test data\n",
    "- random_state : status pseudo-random number generator"
   ]
  },
  {
   "cell_type": "code",
   "execution_count": 42,
   "id": "63f93bee-2048-47a0-8d8e-136044818b81",
   "metadata": {},
   "outputs": [],
   "source": [
    "# 70% training set, 30% test set\n",
    "\n",
    "X_train, X_test, y_train, y_test = train_test_split(X,y,test_size=0.3,random_state=0)"
   ]
  },
  {
   "cell_type": "markdown",
   "id": "9eb8216b-7bb5-474c-91f5-d065a26891fc",
   "metadata": {},
   "source": [
    "Pada objek `y_train` dan `y_test` digunakan fungsi `.ravel()` untuk mengubah matriks menjadi array."
   ]
  },
  {
   "cell_type": "code",
   "execution_count": 43,
   "id": "550dcec3-76bf-4bf5-9922-0bdd62a605e4",
   "metadata": {},
   "outputs": [],
   "source": [
    "y_train = y_train.values.ravel()\n",
    "y_test = y_test.values.ravel()"
   ]
  },
  {
   "cell_type": "markdown",
   "id": "cbd8988c-3927-43ea-b712-73967388d5dc",
   "metadata": {},
   "source": [
    "## Logistic Regression"
   ]
  },
  {
   "cell_type": "markdown",
   "id": "83ad3dee-85d9-4d6c-a092-7d8b36fc6b17",
   "metadata": {},
   "source": [
    "Logistic Regression alau regresi logistik adalah suatu pendekatan yang digunakan untuk membuat model prediksi. Regresi logistik mirip dengan regresi linear, akan tetapi terdapat perbedaan pada keduanya yaitu pada variabel dependennya yang besifat dikotomus (dua kriteria: ya dan tidak). Perbedaan lainnya adalah pada regresi logistik tidak dibutuhkan asumsi khusus seperti regresi linear."
   ]
  },
  {
   "cell_type": "markdown",
   "id": "b1dfbf77-14b1-41cc-a63b-3cf84b9d3b3a",
   "metadata": {},
   "source": [
    "### Standardization"
   ]
  },
  {
   "cell_type": "markdown",
   "id": "eddcce7c-2f18-4715-87ea-d661bee59218",
   "metadata": {},
   "source": [
    "Sebelum dilakukan proses analisis, data perlu distandarisasi terlebih dahulu menggunakan `StandardScaler()`. Proses standarisasi data dapat meningkatkan kinerja algortima yang digunakan."
   ]
  },
  {
   "cell_type": "code",
   "execution_count": 44,
   "id": "c5d6ef6a-053d-4080-8ca4-cb2fac134bd0",
   "metadata": {},
   "outputs": [],
   "source": [
    "scaler = StandardScaler()\n",
    "X_train = scaler.fit_transform(X_train)\n",
    "X_test = scaler.transform(X_test)"
   ]
  },
  {
   "cell_type": "markdown",
   "id": "e8347766-180c-4bd3-8256-5bc7a7df9b6d",
   "metadata": {},
   "source": [
    "### Model Building"
   ]
  },
  {
   "cell_type": "markdown",
   "id": "73f99b97-54fa-40c9-abdc-da4882425cda",
   "metadata": {},
   "source": [
    "Langkah selanjutnya adalah membuat model menggunakan fungsi `LogisticRegression` dengan rincian:\n",
    "\n",
    "- solver='liblinear' : digunakan solver bernama *liblinear*\n",
    "- C=0.05 : mendefinisikan kekuatan relatif regularisasi, semakin kecil nilainya, semakin kuat\n",
    "- multi_class='ovr' : dugunakan ketika regresi yang digunakan adalah regresi logistik biner\n",
    "- random state=0 : digunakan untuk mengacak data\n",
    "\n",
    "Fungsi `.fit()` digunakan untuk melatih model."
   ]
  },
  {
   "cell_type": "code",
   "execution_count": 45,
   "id": "bf445c62-46f7-4f66-97c7-e4533c0f4765",
   "metadata": {},
   "outputs": [
    {
     "data": {
      "text/plain": [
       "LogisticRegression(C=0.05, multi_class='ovr', random_state=0,\n",
       "                   solver='liblinear')"
      ]
     },
     "execution_count": 45,
     "metadata": {},
     "output_type": "execute_result"
    }
   ],
   "source": [
    "model_lr = LogisticRegression(solver='liblinear', C=0.05, multi_class='ovr',random_state=0)\n",
    "model_lr.fit(X_train,y_train)"
   ]
  },
  {
   "cell_type": "markdown",
   "id": "cdebc5b8-29da-4717-84cc-b1d79704a712",
   "metadata": {},
   "source": [
    "### Model Prediction"
   ]
  },
  {
   "cell_type": "markdown",
   "id": "dea65589-ecd9-455c-8d4a-43f26d092ee6",
   "metadata": {},
   "source": [
    "Setelah mendapatkan model, maka prediksi dapat didapatkan menggunakan fungsi `.predict()`."
   ]
  },
  {
   "cell_type": "code",
   "execution_count": 46,
   "id": "67659096-9e3c-4599-a298-8051f4dc7d42",
   "metadata": {},
   "outputs": [],
   "source": [
    "y_pred_train_lr = model_lr.predict(X_train)\n",
    "y_pred_test_lr = model_lr.predict(X_test)"
   ]
  },
  {
   "cell_type": "markdown",
   "id": "711625e7-54ae-4cd6-a09d-3d2307e7bb7e",
   "metadata": {},
   "source": [
    "### Accuracy"
   ]
  },
  {
   "cell_type": "markdown",
   "id": "d9d909d7-cf74-4710-a409-e5b098f0d9af",
   "metadata": {},
   "source": [
    "Untuk mengukur tingkat akurasi model, digunakan fungsi `.score()`"
   ]
  },
  {
   "cell_type": "code",
   "execution_count": 47,
   "id": "d77d24c6-b5bc-43c5-88f7-7773c94d8da0",
   "metadata": {},
   "outputs": [
    {
     "name": "stdout",
     "output_type": "stream",
     "text": [
      "Accuracy Train Set: 0.9102701952759182\n",
      "Accuracy Test Set: 0.9122764425022255\n"
     ]
    }
   ],
   "source": [
    "print('Accuracy Train Set:', model_lr.score(X_train,y_train))\n",
    "print('Accuracy Test Set:', model_lr.score(X_test,y_test))"
   ]
  },
  {
   "cell_type": "markdown",
   "id": "7cad0de7-bd3a-4271-955b-83064d4e0327",
   "metadata": {},
   "source": [
    "Berdasarkan hasil tersebut didapatkan:\n",
    "- Tingkat akurasi model berdasarkan data training sebesar 0.9102701952759182.\n",
    "- Tingkat akurasi model berdasarkan data testing sebesar 0.9122764425022255,"
   ]
  },
  {
   "cell_type": "markdown",
   "id": "9480efbd-e48b-43bd-b3d8-32264230b7de",
   "metadata": {},
   "source": [
    "### Confusion Matrix"
   ]
  },
  {
   "cell_type": "markdown",
   "id": "0aaf0865-7be0-46f8-8519-d5c11f918ecd",
   "metadata": {},
   "source": [
    "Informasi mengenai model dapat juga diperoleh menggunakan matriks konfusi atau confusion matrix. \n",
    "\n",
    "Perlu dilakukan import library dengan argumen `from sklearn.metrics import confusion_matrix`. Untuk memperoleh matriks konfusi, digunakan fungsi `confusion_matrix()` dengan parameter `y_test` dan `y_pred_test`."
   ]
  },
  {
   "cell_type": "code",
   "execution_count": 48,
   "id": "a78b25ac-fbdd-4893-a7f6-8103c1cc249e",
   "metadata": {},
   "outputs": [
    {
     "name": "stdout",
     "output_type": "stream",
     "text": [
      "[[10696   273]\n",
      " [  811   577]]\n"
     ]
    }
   ],
   "source": [
    "from sklearn.metrics import confusion_matrix\n",
    "cm = confusion_matrix(y_test, y_pred_test_lr)\n",
    "print(cm)"
   ]
  },
  {
   "cell_type": "markdown",
   "id": "9b1dcaee-b500-4fd9-a7d9-15db714f695c",
   "metadata": {},
   "source": [
    "Diperoleh hasil sebagai berikut:\n",
    "\n",
    "- True negative (benar memprediksi negatif) : 10696\n",
    "- False negative (salah memprediksi negatif) : 811\n",
    "- False postive (salah memprediksi positif) : 273\n",
    "- True postive (benar memprediksi positif) : 577"
   ]
  },
  {
   "cell_type": "markdown",
   "id": "d1ecee3a-d8ec-4f6d-bf67-2fb4757b6619",
   "metadata": {},
   "source": [
    "### Confusion Matrix Visualization\n",
    "\n",
    "Untuk memvisualisasikan matriks konfusi dapat menggunakan fungsi `.imshow()` yang berasal dari library matplotlib dengan argumen sebagai berikut."
   ]
  },
  {
   "cell_type": "code",
   "execution_count": 49,
   "id": "98d6d0a8-1f7d-4041-8831-9b66f9ee29a0",
   "metadata": {},
   "outputs": [
    {
     "data": {
      "image/png": "[encoded data removed]",
      "text/plain": [
       "<Figure size 1000x1000 with 1 Axes>"
      ]
     },
     "metadata": {},
     "output_type": "display_data"
    }
   ],
   "source": [
    "cm = confusion_matrix(y_test,y_pred_test_lr)\n",
    "\n",
    "fig, ax = plt.subplots(figsize=(10,10))\n",
    "ax.imshow(cm)\n",
    "ax.grid(False)\n",
    "ax.set_xlabel('Predicted outputs', color='black')\n",
    "ax.set_ylabel('Actual outputs', color='black')\n",
    "ax.xaxis.set(ticks=range(2))\n",
    "ax.yaxis.set(ticks=range(2))\n",
    "ax.set_ylim(1.5, -0.5)\n",
    "for i in range(2):\n",
    "    for j in range(2):\n",
    "        ax.text(j, i, cm[i, j], ha='center', va='center', color='white')\n",
    "plt.show()"
   ]
  },
  {
   "cell_type": "markdown",
   "id": "b529f192-0d47-4f50-a47b-3b870c3c16bb",
   "metadata": {},
   "source": [
    "Diperoleh hasil sebagai berikut:\n",
    "\n",
    "- True negative (benar memprediksi negatif) : 10696\n",
    "- False negative (salah memprediksi negatif) : 811\n",
    "- False postive (salah memprediksi positif) : 273\n",
    "- True postive (benar memprediksi positif) : 577"
   ]
  },
  {
   "cell_type": "markdown",
   "id": "f68f544f-821a-45b4-aa62-8947fc68b1c0",
   "metadata": {},
   "source": [
    "### Classification Report"
   ]
  },
  {
   "cell_type": "markdown",
   "id": "68664949-a458-4781-a290-713340085f68",
   "metadata": {},
   "source": [
    "Untuk memperoleh hasil yang lebih komprehensif mengenai klasifikasi, dapat digunakan fungsi `classification_report`."
   ]
  },
  {
   "cell_type": "code",
   "execution_count": 50,
   "id": "8a570336-12ba-4c3f-84df-a8f792627f78",
   "metadata": {},
   "outputs": [
    {
     "name": "stdout",
     "output_type": "stream",
     "text": [
      "Classification Report Train Set: \n",
      "               precision    recall  f1-score   support\n",
      "\n",
      "           0       0.93      0.97      0.95     25579\n",
      "           1       0.67      0.41      0.51      3252\n",
      "\n",
      "    accuracy                           0.91     28831\n",
      "   macro avg       0.80      0.69      0.73     28831\n",
      "weighted avg       0.90      0.91      0.90     28831\n",
      "\n",
      "Classification Report Test Set: \n",
      "               precision    recall  f1-score   support\n",
      "\n",
      "           0       0.93      0.98      0.95     10969\n",
      "           1       0.68      0.42      0.52      1388\n",
      "\n",
      "    accuracy                           0.91     12357\n",
      "   macro avg       0.80      0.70      0.73     12357\n",
      "weighted avg       0.90      0.91      0.90     12357\n",
      "\n"
     ]
    }
   ],
   "source": [
    "print('Classification Report Train Set: \\n',classification_report(y_train,y_pred_train_lr))\n",
    "print('Classification Report Test Set: \\n',classification_report(y_test,y_pred_test_lr))"
   ]
  },
  {
   "cell_type": "markdown",
   "id": "7ba1ac39-2cb7-43e9-a7b1-07bcabc3f1db",
   "metadata": {},
   "source": [
    "Tingkat akurasi model berdasarkan data training sebesar 0.91, sedangkan tingkat akurasi model berdasarkan data testing juga bernilai 0.91. Maka, model dapat dikategorikan sebagai model well-fit."
   ]
  },
  {
   "cell_type": "markdown",
   "id": "017fae66-91a6-48dd-805c-2ddd5965ffff",
   "metadata": {},
   "source": [
    "## K-Nearest Neighbors"
   ]
  },
  {
   "cell_type": "markdown",
   "id": "1e93fa36-993c-4022-a8d3-53a3ef8c6fdb",
   "metadata": {},
   "source": [
    "K-Nearest Neighbors atau KNN adalah salah satu algoritma supervised machine learning yang mengklasifikasikan titik data baru ke dalam kelas target tergantung pada fitur titik data tetangganya, K pada KNN adalah banyaknya tetangga/neighbors yang digunakan sebagai dasar dalam klasifikasi. Algoritma KNN mengklasifikasikan titik data berdasarkan seberapa mirip titik tersebut dengan titik data tetangganya."
   ]
  },
  {
   "cell_type": "markdown",
   "id": "5bbbe58b-3b18-4dc8-9110-357464be74fa",
   "metadata": {},
   "source": [
    "### Generating Model K = 5"
   ]
  },
  {
   "cell_type": "markdown",
   "id": "60b8c997-45af-4a96-a5a2-f16a7bdecfa8",
   "metadata": {},
   "source": [
    "Untuk membangun model KNN, digunakan fungsi `KNeighborsClassifier` dengan argumen `(n_neigbors=5)` yaitu banyaknya tetangga yang digunakan sebesar 5. Training model menggunakan fungsi `.fit()` dan melakukan prediksi pada set data testing menggunakan fungsi `.predict()`."
   ]
  },
  {
   "cell_type": "code",
   "execution_count": 51,
   "id": "f0f6994f-6782-4eb9-9069-d9b03a2cff71",
   "metadata": {},
   "outputs": [
    {
     "name": "stderr",
     "output_type": "stream",
     "text": [
      "C:\\Users\\USER\\anaconda3\\lib\\site-packages\\sklearn\\neighbors\\_classification.py:228: FutureWarning: Unlike other reduction functions (e.g. `skew`, `kurtosis`), the default behavior of `mode` typically preserves the axis it acts along. In SciPy 1.11.0, this behavior will change: the default value of `keepdims` will become False, the `axis` over which the statistic is taken will be eliminated, and the value None will no longer be accepted. Set `keepdims` to True or False to avoid this warning.\n",
      "  mode, _ = stats.mode(_y[neigh_ind, k], axis=1)\n"
     ]
    }
   ],
   "source": [
    "knn_5 = KNeighborsClassifier(n_neighbors=5) # K = 5\n",
    "knn_5.fit(X_train,y_train)\n",
    "\n",
    "y_pred_5 = knn_5.predict(X_test)"
   ]
  },
  {
   "cell_type": "markdown",
   "id": "774c794c-3788-413a-88f1-ec942f08e313",
   "metadata": {},
   "source": [
    "### Accuracy Model with K = 5"
   ]
  },
  {
   "cell_type": "markdown",
   "id": "bbd898f8-5aef-46b9-ae7c-6109b26830d7",
   "metadata": {},
   "source": [
    "Untuk mengukur tingkat akurasi model, digunakan fungsi `accuracy_score()`"
   ]
  },
  {
   "cell_type": "code",
   "execution_count": 52,
   "id": "ae2356fb-8788-46fb-b0d1-e293c181cd8a",
   "metadata": {},
   "outputs": [
    {
     "name": "stdout",
     "output_type": "stream",
     "text": [
      "Accuracy: 0.9014323865015781\n"
     ]
    }
   ],
   "source": [
    "print('Accuracy:', accuracy_score(y_test,y_pred_5))"
   ]
  },
  {
   "cell_type": "markdown",
   "id": "c6a002f1-ba55-4e75-899a-a63a1aef337a",
   "metadata": {},
   "source": [
    "Didapatkan tingkat akurasi model dengan K = 5 sebesar 0.9014323865015781."
   ]
  },
  {
   "cell_type": "markdown",
   "id": "e2477a87-1e2b-4396-8f61-79c341a18422",
   "metadata": {},
   "source": [
    "### Generating Model K = 9"
   ]
  },
  {
   "cell_type": "markdown",
   "id": "6722b488-b8d8-4003-bb1c-0adc4df7daea",
   "metadata": {},
   "source": [
    "Ingin diketahui apakah dengan nilai K yang berbeda tingkat akurasi akan meningkat. Digunakan fungsi `KNeighborsClassifier` dengan argumen `(n_neigbors=9)` yaitu banyaknya tetangga yang digunakan sebesar 9. Training model menggunakan fungsi `.fit()` dan melakukan prediksi pada set data testing menggunakan fungsi `.predict()`."
   ]
  },
  {
   "cell_type": "code",
   "execution_count": 53,
   "id": "487ee377-a592-4cb5-bfe9-fe715afd439d",
   "metadata": {},
   "outputs": [
    {
     "name": "stderr",
     "output_type": "stream",
     "text": [
      "C:\\Users\\USER\\anaconda3\\lib\\site-packages\\sklearn\\neighbors\\_classification.py:228: FutureWarning: Unlike other reduction functions (e.g. `skew`, `kurtosis`), the default behavior of `mode` typically preserves the axis it acts along. In SciPy 1.11.0, this behavior will change: the default value of `keepdims` will become False, the `axis` over which the statistic is taken will be eliminated, and the value None will no longer be accepted. Set `keepdims` to True or False to avoid this warning.\n",
      "  mode, _ = stats.mode(_y[neigh_ind, k], axis=1)\n"
     ]
    }
   ],
   "source": [
    "knn_9 = KNeighborsClassifier(n_neighbors=9)\n",
    "knn_9.fit(X_train,y_train)\n",
    "\n",
    "y_pred_9 = knn_9.predict(X_test)"
   ]
  },
  {
   "cell_type": "markdown",
   "id": "924d9055-aa8c-447b-8f0d-cd68dc4a5c1c",
   "metadata": {},
   "source": [
    "### Accuracy Model with K = 9"
   ]
  },
  {
   "cell_type": "markdown",
   "id": "9a15901a-bd1a-4558-afd2-1d622f7ecb49",
   "metadata": {},
   "source": [
    "Untuk mengukur tingkat akurasi model, digunakan fungsi `accuracy_score()`"
   ]
  },
  {
   "cell_type": "code",
   "execution_count": 54,
   "id": "df807000-52fd-4a0b-8f31-932c0875f9c6",
   "metadata": {},
   "outputs": [
    {
     "name": "stdout",
     "output_type": "stream",
     "text": [
      "Accuracy: 0.9048312697256615\n"
     ]
    }
   ],
   "source": [
    "print('Accuracy:', accuracy_score(y_test,y_pred_9))"
   ]
  },
  {
   "cell_type": "markdown",
   "id": "b25ad521-27dc-4f15-9904-45ad5a27f423",
   "metadata": {},
   "source": [
    "Didapatkan tingkat akurasi model dengan K = 9 sebesar 0.9048312697256615. Terdapat kenaikan nilai akurasi pada model dengan K = 9 sebesar 0.003."
   ]
  },
  {
   "cell_type": "markdown",
   "id": "d4af4bae-c8d9-4f3e-a808-992372027c08",
   "metadata": {},
   "source": [
    "### Improve Model"
   ]
  },
  {
   "cell_type": "markdown",
   "id": "78053889-b40b-424b-b580-d2e16eb67f12",
   "metadata": {},
   "source": [
    "Untuk memperoleh nilai K dengan range 1 - 25 yang optimal, dapat digunakan argumen sebagai berikut."
   ]
  },
  {
   "cell_type": "code",
   "execution_count": 55,
   "id": "5f588f4a-808d-404e-a899-321e30db575b",
   "metadata": {
    "tags": []
   },
   "outputs": [
    {
     "name": "stderr",
     "output_type": "stream",
     "text": [
      "C:\\Users\\USER\\anaconda3\\lib\\site-packages\\sklearn\\neighbors\\_classification.py:228: FutureWarning: Unlike other reduction functions (e.g. `skew`, `kurtosis`), the default behavior of `mode` typically preserves the axis it acts along. In SciPy 1.11.0, this behavior will change: the default value of `keepdims` will become False, the `axis` over which the statistic is taken will be eliminated, and the value None will no longer be accepted. Set `keepdims` to True or False to avoid this warning.\n",
      "  mode, _ = stats.mode(_y[neigh_ind, k], axis=1)\n",
      "C:\\Users\\USER\\anaconda3\\lib\\site-packages\\sklearn\\neighbors\\_classification.py:228: FutureWarning: Unlike other reduction functions (e.g. `skew`, `kurtosis`), the default behavior of `mode` typically preserves the axis it acts along. In SciPy 1.11.0, this behavior will change: the default value of `keepdims` will become False, the `axis` over which the statistic is taken will be eliminated, and the value None will no longer be accepted. Set `keepdims` to True or False to avoid this warning.\n",
      "  mode, _ = stats.mode(_y[neigh_ind, k], axis=1)\n",
      "C:\\Users\\USER\\anaconda3\\lib\\site-packages\\sklearn\\neighbors\\_classification.py:228: FutureWarning: Unlike other reduction functions (e.g. `skew`, `kurtosis`), the default behavior of `mode` typically preserves the axis it acts along. In SciPy 1.11.0, this behavior will change: the default value of `keepdims` will become False, the `axis` over which the statistic is taken will be eliminated, and the value None will no longer be accepted. Set `keepdims` to True or False to avoid this warning.\n",
      "  mode, _ = stats.mode(_y[neigh_ind, k], axis=1)\n",
      "C:\\Users\\USER\\anaconda3\\lib\\site-packages\\sklearn\\neighbors\\_classification.py:228: FutureWarning: Unlike other reduction functions (e.g. `skew`, `kurtosis`), the default behavior of `mode` typically preserves the axis it acts along. In SciPy 1.11.0, this behavior will change: the default value of `keepdims` will become False, the `axis` over which the statistic is taken will be eliminated, and the value None will no longer be accepted. Set `keepdims` to True or False to avoid this warning.\n",
      "  mode, _ = stats.mode(_y[neigh_ind, k], axis=1)\n",
      "C:\\Users\\USER\\anaconda3\\lib\\site-packages\\sklearn\\neighbors\\_classification.py:228: FutureWarning: Unlike other reduction functions (e.g. `skew`, `kurtosis`), the default behavior of `mode` typically preserves the axis it acts along. In SciPy 1.11.0, this behavior will change: the default value of `keepdims` will become False, the `axis` over which the statistic is taken will be eliminated, and the value None will no longer be accepted. Set `keepdims` to True or False to avoid this warning.\n",
      "  mode, _ = stats.mode(_y[neigh_ind, k], axis=1)\n",
      "C:\\Users\\USER\\anaconda3\\lib\\site-packages\\sklearn\\neighbors\\_classification.py:228: FutureWarning: Unlike other reduction functions (e.g. `skew`, `kurtosis`), the default behavior of `mode` typically preserves the axis it acts along. In SciPy 1.11.0, this behavior will change: the default value of `keepdims` will become False, the `axis` over which the statistic is taken will be eliminated, and the value None will no longer be accepted. Set `keepdims` to True or False to avoid this warning.\n",
      "  mode, _ = stats.mode(_y[neigh_ind, k], axis=1)\n",
      "C:\\Users\\USER\\anaconda3\\lib\\site-packages\\sklearn\\neighbors\\_classification.py:228: FutureWarning: Unlike other reduction functions (e.g. `skew`, `kurtosis`), the default behavior of `mode` typically preserves the axis it acts along. In SciPy 1.11.0, this behavior will change: the default value of `keepdims` will become False, the `axis` over which the statistic is taken will be eliminated, and the value None will no longer be accepted. Set `keepdims` to True or False to avoid this warning.\n",
      "  mode, _ = stats.mode(_y[neigh_ind, k], axis=1)\n",
      "C:\\Users\\USER\\anaconda3\\lib\\site-packages\\sklearn\\neighbors\\_classification.py:228: FutureWarning: Unlike other reduction functions (e.g. `skew`, `kurtosis`), the default behavior of `mode` typically preserves the axis it acts along. In SciPy 1.11.0, this behavior will change: the default value of `keepdims` will become False, the `axis` over which the statistic is taken will be eliminated, and the value None will no longer be accepted. Set `keepdims` to True or False to avoid this warning.\n",
      "  mode, _ = stats.mode(_y[neigh_ind, k], axis=1)\n",
      "C:\\Users\\USER\\anaconda3\\lib\\site-packages\\sklearn\\neighbors\\_classification.py:228: FutureWarning: Unlike other reduction functions (e.g. `skew`, `kurtosis`), the default behavior of `mode` typically preserves the axis it acts along. In SciPy 1.11.0, this behavior will change: the default value of `keepdims` will become False, the `axis` over which the statistic is taken will be eliminated, and the value None will no longer be accepted. Set `keepdims` to True or False to avoid this warning.\n",
      "  mode, _ = stats.mode(_y[neigh_ind, k], axis=1)\n",
      "C:\\Users\\USER\\anaconda3\\lib\\site-packages\\sklearn\\neighbors\\_classification.py:228: FutureWarning: Unlike other reduction functions (e.g. `skew`, `kurtosis`), the default behavior of `mode` typically preserves the axis it acts along. In SciPy 1.11.0, this behavior will change: the default value of `keepdims` will become False, the `axis` over which the statistic is taken will be eliminated, and the value None will no longer be accepted. Set `keepdims` to True or False to avoid this warning.\n",
      "  mode, _ = stats.mode(_y[neigh_ind, k], axis=1)\n",
      "C:\\Users\\USER\\anaconda3\\lib\\site-packages\\sklearn\\neighbors\\_classification.py:228: FutureWarning: Unlike other reduction functions (e.g. `skew`, `kurtosis`), the default behavior of `mode` typically preserves the axis it acts along. In SciPy 1.11.0, this behavior will change: the default value of `keepdims` will become False, the `axis` over which the statistic is taken will be eliminated, and the value None will no longer be accepted. Set `keepdims` to True or False to avoid this warning.\n",
      "  mode, _ = stats.mode(_y[neigh_ind, k], axis=1)\n",
      "C:\\Users\\USER\\anaconda3\\lib\\site-packages\\sklearn\\neighbors\\_classification.py:228: FutureWarning: Unlike other reduction functions (e.g. `skew`, `kurtosis`), the default behavior of `mode` typically preserves the axis it acts along. In SciPy 1.11.0, this behavior will change: the default value of `keepdims` will become False, the `axis` over which the statistic is taken will be eliminated, and the value None will no longer be accepted. Set `keepdims` to True or False to avoid this warning.\n",
      "  mode, _ = stats.mode(_y[neigh_ind, k], axis=1)\n",
      "C:\\Users\\USER\\anaconda3\\lib\\site-packages\\sklearn\\neighbors\\_classification.py:228: FutureWarning: Unlike other reduction functions (e.g. `skew`, `kurtosis`), the default behavior of `mode` typically preserves the axis it acts along. In SciPy 1.11.0, this behavior will change: the default value of `keepdims` will become False, the `axis` over which the statistic is taken will be eliminated, and the value None will no longer be accepted. Set `keepdims` to True or False to avoid this warning.\n",
      "  mode, _ = stats.mode(_y[neigh_ind, k], axis=1)\n",
      "C:\\Users\\USER\\anaconda3\\lib\\site-packages\\sklearn\\neighbors\\_classification.py:228: FutureWarning: Unlike other reduction functions (e.g. `skew`, `kurtosis`), the default behavior of `mode` typically preserves the axis it acts along. In SciPy 1.11.0, this behavior will change: the default value of `keepdims` will become False, the `axis` over which the statistic is taken will be eliminated, and the value None will no longer be accepted. Set `keepdims` to True or False to avoid this warning.\n",
      "  mode, _ = stats.mode(_y[neigh_ind, k], axis=1)\n",
      "C:\\Users\\USER\\anaconda3\\lib\\site-packages\\sklearn\\neighbors\\_classification.py:228: FutureWarning: Unlike other reduction functions (e.g. `skew`, `kurtosis`), the default behavior of `mode` typically preserves the axis it acts along. In SciPy 1.11.0, this behavior will change: the default value of `keepdims` will become False, the `axis` over which the statistic is taken will be eliminated, and the value None will no longer be accepted. Set `keepdims` to True or False to avoid this warning.\n",
      "  mode, _ = stats.mode(_y[neigh_ind, k], axis=1)\n",
      "C:\\Users\\USER\\anaconda3\\lib\\site-packages\\sklearn\\neighbors\\_classification.py:228: FutureWarning: Unlike other reduction functions (e.g. `skew`, `kurtosis`), the default behavior of `mode` typically preserves the axis it acts along. In SciPy 1.11.0, this behavior will change: the default value of `keepdims` will become False, the `axis` over which the statistic is taken will be eliminated, and the value None will no longer be accepted. Set `keepdims` to True or False to avoid this warning.\n",
      "  mode, _ = stats.mode(_y[neigh_ind, k], axis=1)\n",
      "C:\\Users\\USER\\anaconda3\\lib\\site-packages\\sklearn\\neighbors\\_classification.py:228: FutureWarning: Unlike other reduction functions (e.g. `skew`, `kurtosis`), the default behavior of `mode` typically preserves the axis it acts along. In SciPy 1.11.0, this behavior will change: the default value of `keepdims` will become False, the `axis` over which the statistic is taken will be eliminated, and the value None will no longer be accepted. Set `keepdims` to True or False to avoid this warning.\n",
      "  mode, _ = stats.mode(_y[neigh_ind, k], axis=1)\n",
      "C:\\Users\\USER\\anaconda3\\lib\\site-packages\\sklearn\\neighbors\\_classification.py:228: FutureWarning: Unlike other reduction functions (e.g. `skew`, `kurtosis`), the default behavior of `mode` typically preserves the axis it acts along. In SciPy 1.11.0, this behavior will change: the default value of `keepdims` will become False, the `axis` over which the statistic is taken will be eliminated, and the value None will no longer be accepted. Set `keepdims` to True or False to avoid this warning.\n",
      "  mode, _ = stats.mode(_y[neigh_ind, k], axis=1)\n",
      "C:\\Users\\USER\\anaconda3\\lib\\site-packages\\sklearn\\neighbors\\_classification.py:228: FutureWarning: Unlike other reduction functions (e.g. `skew`, `kurtosis`), the default behavior of `mode` typically preserves the axis it acts along. In SciPy 1.11.0, this behavior will change: the default value of `keepdims` will become False, the `axis` over which the statistic is taken will be eliminated, and the value None will no longer be accepted. Set `keepdims` to True or False to avoid this warning.\n",
      "  mode, _ = stats.mode(_y[neigh_ind, k], axis=1)\n",
      "C:\\Users\\USER\\anaconda3\\lib\\site-packages\\sklearn\\neighbors\\_classification.py:228: FutureWarning: Unlike other reduction functions (e.g. `skew`, `kurtosis`), the default behavior of `mode` typically preserves the axis it acts along. In SciPy 1.11.0, this behavior will change: the default value of `keepdims` will become False, the `axis` over which the statistic is taken will be eliminated, and the value None will no longer be accepted. Set `keepdims` to True or False to avoid this warning.\n",
      "  mode, _ = stats.mode(_y[neigh_ind, k], axis=1)\n",
      "C:\\Users\\USER\\anaconda3\\lib\\site-packages\\sklearn\\neighbors\\_classification.py:228: FutureWarning: Unlike other reduction functions (e.g. `skew`, `kurtosis`), the default behavior of `mode` typically preserves the axis it acts along. In SciPy 1.11.0, this behavior will change: the default value of `keepdims` will become False, the `axis` over which the statistic is taken will be eliminated, and the value None will no longer be accepted. Set `keepdims` to True or False to avoid this warning.\n",
      "  mode, _ = stats.mode(_y[neigh_ind, k], axis=1)\n",
      "C:\\Users\\USER\\anaconda3\\lib\\site-packages\\sklearn\\neighbors\\_classification.py:228: FutureWarning: Unlike other reduction functions (e.g. `skew`, `kurtosis`), the default behavior of `mode` typically preserves the axis it acts along. In SciPy 1.11.0, this behavior will change: the default value of `keepdims` will become False, the `axis` over which the statistic is taken will be eliminated, and the value None will no longer be accepted. Set `keepdims` to True or False to avoid this warning.\n",
      "  mode, _ = stats.mode(_y[neigh_ind, k], axis=1)\n",
      "C:\\Users\\USER\\anaconda3\\lib\\site-packages\\sklearn\\neighbors\\_classification.py:228: FutureWarning: Unlike other reduction functions (e.g. `skew`, `kurtosis`), the default behavior of `mode` typically preserves the axis it acts along. In SciPy 1.11.0, this behavior will change: the default value of `keepdims` will become False, the `axis` over which the statistic is taken will be eliminated, and the value None will no longer be accepted. Set `keepdims` to True or False to avoid this warning.\n",
      "  mode, _ = stats.mode(_y[neigh_ind, k], axis=1)\n",
      "C:\\Users\\USER\\anaconda3\\lib\\site-packages\\sklearn\\neighbors\\_classification.py:228: FutureWarning: Unlike other reduction functions (e.g. `skew`, `kurtosis`), the default behavior of `mode` typically preserves the axis it acts along. In SciPy 1.11.0, this behavior will change: the default value of `keepdims` will become False, the `axis` over which the statistic is taken will be eliminated, and the value None will no longer be accepted. Set `keepdims` to True or False to avoid this warning.\n",
      "  mode, _ = stats.mode(_y[neigh_ind, k], axis=1)\n"
     ]
    }
   ],
   "source": [
    "error = []\n",
    "\n",
    "# Calculating error for K values between 1 and 25\n",
    "for i in range(1, 25):  \n",
    "    knn = KNeighborsClassifier(n_neighbors=i)\n",
    "    knn.fit(X_train, y_train)\n",
    "    pred_i = knn.predict(X_test)\n",
    "    error.append(np.mean(pred_i != y_test))"
   ]
  },
  {
   "cell_type": "markdown",
   "id": "1e9cfb5f-85f6-4244-a9ed-820d170b304e",
   "metadata": {},
   "source": [
    "Agar proses analisis mudah dilakukan, digunakan plot yang berisikan `Error Rate K`."
   ]
  },
  {
   "cell_type": "code",
   "execution_count": 56,
   "id": "154958ca-89d3-40ed-aee8-e9d91d8270ef",
   "metadata": {},
   "outputs": [
    {
     "data": {
      "text/plain": [
       "Text(0, 0.5, 'Error Mean')"
      ]
     },
     "execution_count": 56,
     "metadata": {},
     "output_type": "execute_result"
    },
    {
     "data": {
      "image/png": "[encoded data removed]",
      "text/plain": [
       "<Figure size 1200x600 with 1 Axes>"
      ]
     },
     "metadata": {},
     "output_type": "display_data"
    }
   ],
   "source": [
    "plt.figure(figsize=(12, 6))  \n",
    "plt.plot(range(1, 25), error, color='lightblue', marker='o',  \n",
    "         markerfacecolor='blue', markersize=10)\n",
    "plt.title('Error Rate K')  \n",
    "plt.xlabel('K')  \n",
    "plt.ylabel('Error Mean')"
   ]
  },
  {
   "cell_type": "markdown",
   "id": "628cc7c7-8ec2-40a5-bcc7-ce79ece89ac7",
   "metadata": {},
   "source": [
    "Berdasarkan plot, terlihat bahwa error yang paling kecil berada pada K = 23. "
   ]
  },
  {
   "cell_type": "markdown",
   "id": "ca81bea6-f968-4a1b-a7fa-1e7f67ed64e7",
   "metadata": {},
   "source": [
    "### Generating Model K = 23"
   ]
  },
  {
   "cell_type": "markdown",
   "id": "fde195fe-0b1a-45f1-99c9-83ea146eaecf",
   "metadata": {},
   "source": [
    "Digunakan fungsi `KNeighborsClassifier` dengan argumen `(n_neigbors=23)` yaitu banyaknya tetangga yang digunakan sebesar 23 untuk membangun model kembali. Training model menggunakan fungsi `.fit()` dan melakukan prediksi pada set data testing menggunakan fungsi `.predict()`."
   ]
  },
  {
   "cell_type": "code",
   "execution_count": 57,
   "id": "3e8f2d95-296a-447e-ad37-15268ef416d7",
   "metadata": {},
   "outputs": [
    {
     "name": "stderr",
     "output_type": "stream",
     "text": [
      "C:\\Users\\USER\\anaconda3\\lib\\site-packages\\sklearn\\neighbors\\_classification.py:228: FutureWarning: Unlike other reduction functions (e.g. `skew`, `kurtosis`), the default behavior of `mode` typically preserves the axis it acts along. In SciPy 1.11.0, this behavior will change: the default value of `keepdims` will become False, the `axis` over which the statistic is taken will be eliminated, and the value None will no longer be accepted. Set `keepdims` to True or False to avoid this warning.\n",
      "  mode, _ = stats.mode(_y[neigh_ind, k], axis=1)\n"
     ]
    }
   ],
   "source": [
    "knn_23 = KNeighborsClassifier(n_neighbors=23)\n",
    "knn_23.fit(X_train,y_train)\n",
    "\n",
    "y_pred_23 = knn_23.predict(X_test)"
   ]
  },
  {
   "cell_type": "markdown",
   "id": "69e12dc0-76a4-4c14-9710-b926608de980",
   "metadata": {},
   "source": [
    "### Accuracy Model with K = 23"
   ]
  },
  {
   "cell_type": "markdown",
   "id": "4a9eabf3-23ff-4740-93ad-6c4c4356e8f0",
   "metadata": {},
   "source": [
    "Untuk mengukur tingkat akurasi model, digunakan fungsi `accuracy_score()`"
   ]
  },
  {
   "cell_type": "code",
   "execution_count": 58,
   "id": "48aac5e7-a34b-450f-99c5-96fac824392d",
   "metadata": {},
   "outputs": [
    {
     "name": "stdout",
     "output_type": "stream",
     "text": [
      "Accuracy: 0.9065307113377034\n"
     ]
    }
   ],
   "source": [
    "print('Accuracy:', accuracy_score(y_test,y_pred_23))"
   ]
  },
  {
   "cell_type": "markdown",
   "id": "83206351-da0a-4587-a472-62c5c701cc7b",
   "metadata": {},
   "source": [
    "Didapatkan tingkat akurasi model dengan K = 23 sebesar 0.9065307113377034. Dibandingkan dengan model K = 9, terdapat kenaikan nilai akurasi pada model dengan K = 23 sebesar 0.002."
   ]
  },
  {
   "cell_type": "markdown",
   "id": "7b012cac-efde-4d47-9f5d-275053b76efe",
   "metadata": {},
   "source": [
    "### Predict The Response for Train and Test Set"
   ]
  },
  {
   "cell_type": "markdown",
   "id": "ddb19ba2-98cf-4d79-ae7e-a993490690c5",
   "metadata": {},
   "source": [
    "Dilakukan prediksi pada set data training dan data testing menggunakan fungsi `.predict()`"
   ]
  },
  {
   "cell_type": "code",
   "execution_count": 59,
   "id": "062d69d9-e389-4b17-a397-a50e6f2bb751",
   "metadata": {},
   "outputs": [
    {
     "name": "stderr",
     "output_type": "stream",
     "text": [
      "C:\\Users\\USER\\anaconda3\\lib\\site-packages\\sklearn\\neighbors\\_classification.py:228: FutureWarning: Unlike other reduction functions (e.g. `skew`, `kurtosis`), the default behavior of `mode` typically preserves the axis it acts along. In SciPy 1.11.0, this behavior will change: the default value of `keepdims` will become False, the `axis` over which the statistic is taken will be eliminated, and the value None will no longer be accepted. Set `keepdims` to True or False to avoid this warning.\n",
      "  mode, _ = stats.mode(_y[neigh_ind, k], axis=1)\n",
      "C:\\Users\\USER\\anaconda3\\lib\\site-packages\\sklearn\\neighbors\\_classification.py:228: FutureWarning: Unlike other reduction functions (e.g. `skew`, `kurtosis`), the default behavior of `mode` typically preserves the axis it acts along. In SciPy 1.11.0, this behavior will change: the default value of `keepdims` will become False, the `axis` over which the statistic is taken will be eliminated, and the value None will no longer be accepted. Set `keepdims` to True or False to avoid this warning.\n",
      "  mode, _ = stats.mode(_y[neigh_ind, k], axis=1)\n"
     ]
    }
   ],
   "source": [
    "y_pred_train_23 = knn_23.predict(X_train)\n",
    "y_pred_test_23 = knn_23.predict(X_test)"
   ]
  },
  {
   "cell_type": "markdown",
   "id": "dbc6db75-bea0-4799-b2e4-9ba72aee322b",
   "metadata": {},
   "source": [
    "### Confusion Matrix\n",
    "Untuk memperoleh matriks konfusi, digunakan fungsi `confusion_matrix()`"
   ]
  },
  {
   "cell_type": "code",
   "execution_count": 60,
   "id": "e9f90fef-d492-42cf-a5e1-a981e3eb1d06",
   "metadata": {},
   "outputs": [
    {
     "data": {
      "text/plain": [
       "array([[10722,   247],\n",
       "       [  908,   480]], dtype=int64)"
      ]
     },
     "execution_count": 60,
     "metadata": {},
     "output_type": "execute_result"
    }
   ],
   "source": [
    "cm_knn = confusion_matrix(y_test,y_pred_test_23)\n",
    "cm_knn"
   ]
  },
  {
   "cell_type": "markdown",
   "id": "6027aa46-7db5-4b58-803f-24d8b209e2c5",
   "metadata": {},
   "source": [
    "Diperoleh hasil sebagai berikut:\n",
    "\n",
    "- True negative (benar memprediksi negatif) : 10722\n",
    "- False negative (salah memprediksi negatif) : 908\n",
    "- False postive (salah memprediksi positif) : 247\n",
    "- True postive (benar memprediksi positif) : 480"
   ]
  },
  {
   "cell_type": "markdown",
   "id": "20a27b99-911a-42b3-be3c-223ad4fce403",
   "metadata": {},
   "source": [
    "### Classification Report"
   ]
  },
  {
   "cell_type": "markdown",
   "id": "4c228c83-fb3e-425b-8d5c-4841a720512e",
   "metadata": {},
   "source": [
    "Untuk memperoleh hasil yang lebih komprehensif mengenai klasifikasi, dapat digunakan fungsi `classification_report`."
   ]
  },
  {
   "cell_type": "code",
   "execution_count": 61,
   "id": "0bcfb179-6a6d-4179-9d1e-cce5802c2839",
   "metadata": {},
   "outputs": [
    {
     "name": "stdout",
     "output_type": "stream",
     "text": [
      "Classification Report Train Set: \n",
      "               precision    recall  f1-score   support\n",
      "\n",
      "           0       0.92      0.98      0.95     25579\n",
      "           1       0.69      0.36      0.48      3252\n",
      "\n",
      "    accuracy                           0.91     28831\n",
      "   macro avg       0.81      0.67      0.71     28831\n",
      "weighted avg       0.90      0.91      0.90     28831\n",
      "\n",
      "Classification Report Test Set: \n",
      "               precision    recall  f1-score   support\n",
      "\n",
      "           0       0.92      0.98      0.95     10969\n",
      "           1       0.66      0.35      0.45      1388\n",
      "\n",
      "    accuracy                           0.91     12357\n",
      "   macro avg       0.79      0.66      0.70     12357\n",
      "weighted avg       0.89      0.91      0.89     12357\n",
      "\n"
     ]
    }
   ],
   "source": [
    "print('Classification Report Train Set: \\n',classification_report(y_train,y_pred_train_23))\n",
    "print('Classification Report Test Set: \\n',classification_report(y_test,y_pred_test_23))"
   ]
  },
  {
   "cell_type": "markdown",
   "id": "ca470351-9138-461f-8cac-7349d752aa93",
   "metadata": {},
   "source": [
    "Tingkat akurasi model berdasarkan data training sebesar 0.91, sedangkan tingkat akurasi model berdasarkan data testing juga bernilai 0.91. Maka, model dapat dikategorikan sebagai model well-fit."
   ]
  },
  {
   "cell_type": "markdown",
   "id": "41529025-40a2-457b-936f-0a53a0b6af7c",
   "metadata": {},
   "source": [
    "## Support Vector Machine"
   ]
  },
  {
   "cell_type": "markdown",
   "id": "642e94e4-b3d1-4768-a84c-7566c3875322",
   "metadata": {},
   "source": [
    "Support Vector Machine (SVM) adalah suatu teknik supervised learning untuk melakukan prediksi, baik dalam kasus klasifikasi maupun regresi."
   ]
  },
  {
   "cell_type": "markdown",
   "id": "8baedb5d-1838-4f5d-af86-c0ab2fb96bf4",
   "metadata": {
    "tags": []
   },
   "source": [
    "### Model Building"
   ]
  },
  {
   "cell_type": "markdown",
   "id": "0ef894f7-f8d0-4445-a5da-cba09e92eddd",
   "metadata": {},
   "source": [
    "Untuk membangun model SVM, digunakan fungsi `SVC()` dengan argumen `kernel='linear'`. Training model menggunakan fungsi `.fit()` dan melakukan prediksi pada set data training dan testing menggunakan fungsi `predict()`."
   ]
  },
  {
   "cell_type": "code",
   "execution_count": 62,
   "id": "8a3ab749-db69-4643-ae8d-301a6238566f",
   "metadata": {},
   "outputs": [],
   "source": [
    "svc_model = SVC(kernel='linear')\n",
    "\n",
    "svc_model.fit(X_train,y_train)\n",
    "y_pred_train_svc = svc_model.predict(X_train)\n",
    "y_pred_test_svc = svc_model.predict(X_test)"
   ]
  },
  {
   "cell_type": "markdown",
   "id": "4e42caec-2381-42d2-a532-ae867417b08f",
   "metadata": {},
   "source": [
    "### Accuracy\n",
    "Untuk mengukur tingkat akurasi model, digunakan fungsi `accuracy_score()`"
   ]
  },
  {
   "cell_type": "code",
   "execution_count": 63,
   "id": "f27d88f0-4ebd-4fc0-bc22-4010e569da35",
   "metadata": {},
   "outputs": [
    {
     "name": "stdout",
     "output_type": "stream",
     "text": [
      "Accuracy Train Set: 0.9019458222052652\n",
      "Accuracy Test Set: 0.898761835396941\n"
     ]
    }
   ],
   "source": [
    "print('Accuracy Train Set:', accuracy_score(y_train,y_pred_train_svc))\n",
    "print('Accuracy Test Set:', accuracy_score(y_test,y_pred_test_svc))"
   ]
  },
  {
   "cell_type": "markdown",
   "id": "dc893bcf-98d8-492f-9e1f-0657ee1a4dbf",
   "metadata": {},
   "source": [
    "Berdasarkan hasil tersebut didapatkan:\n",
    "\n",
    "- Tingkat akurasi model berdasarkan data training sebesar 0.9019458222052652.\n",
    "- Tingkat akurasi model berdasarkan data testing sebesar 0.898761835396941."
   ]
  },
  {
   "cell_type": "markdown",
   "id": "ee609f8a-ccb9-4a8d-a888-7d5564fc438a",
   "metadata": {},
   "source": [
    "### Confusion Matrix\n",
    "Untuk memperoleh matriks konfusi, digunakan fungsi `confusion_matrix()`"
   ]
  },
  {
   "cell_type": "code",
   "execution_count": 64,
   "id": "090d70e8-5145-44be-8de5-bff226c2e33d",
   "metadata": {},
   "outputs": [
    {
     "data": {
      "text/plain": [
       "array([[10745,   224],\n",
       "       [ 1027,   361]], dtype=int64)"
      ]
     },
     "execution_count": 64,
     "metadata": {},
     "output_type": "execute_result"
    }
   ],
   "source": [
    "cm_svc = confusion_matrix(y_test,y_pred_test_svc)\n",
    "cm_svc"
   ]
  },
  {
   "cell_type": "markdown",
   "id": "4916ed10-022a-4f51-a23d-1249f0273913",
   "metadata": {},
   "source": [
    "Diperoleh hasil sebagai berikut:\n",
    "\n",
    "- True negative (benar memprediksi negatif) : 10745\n",
    "- False negative (salah memprediksi negatif) : 1027\n",
    "- False postive (salah memprediksi positif) : 224\n",
    "- True postive (benar memprediksi positif) : 361"
   ]
  },
  {
   "cell_type": "markdown",
   "id": "2379d7fd-fe73-47b0-8089-2f824c714ca6",
   "metadata": {},
   "source": [
    "### Classification Report"
   ]
  },
  {
   "cell_type": "markdown",
   "id": "57139eda-5b09-4cc8-a983-3ad536e74c81",
   "metadata": {},
   "source": [
    "Untuk memperoleh hasil yang lebih komprehensif mengenai klasifikasi, dapat digunakan fungsi `classification_report`."
   ]
  },
  {
   "cell_type": "code",
   "execution_count": 65,
   "id": "2cebf8c7-84ac-4d13-8314-d8ff48a61992",
   "metadata": {},
   "outputs": [
    {
     "name": "stdout",
     "output_type": "stream",
     "text": [
      "Classification Report Train Set: \n",
      "               precision    recall  f1-score   support\n",
      "\n",
      "           0       0.91      0.98      0.95     25579\n",
      "           1       0.65      0.28      0.39      3252\n",
      "\n",
      "    accuracy                           0.90     28831\n",
      "   macro avg       0.78      0.63      0.67     28831\n",
      "weighted avg       0.89      0.90      0.88     28831\n",
      "\n",
      "Classification Report Test Set: \n",
      "               precision    recall  f1-score   support\n",
      "\n",
      "           0       0.91      0.98      0.94     10969\n",
      "           1       0.62      0.26      0.37      1388\n",
      "\n",
      "    accuracy                           0.90     12357\n",
      "   macro avg       0.76      0.62      0.66     12357\n",
      "weighted avg       0.88      0.90      0.88     12357\n",
      "\n"
     ]
    }
   ],
   "source": [
    "print('Classification Report Train Set: \\n', classification_report(y_train,y_pred_train_svc))\n",
    "print('Classification Report Test Set: \\n', classification_report(y_test,y_pred_test_svc))"
   ]
  },
  {
   "cell_type": "markdown",
   "id": "4b41086c-35fc-4274-ae80-09a0e6a475d9",
   "metadata": {},
   "source": [
    "Tingkat akurasi model berdasarkan data training sebesar 0.90, sedangkan tingkat akurasi model berdasarkan data testing juga bernilai 0.90. Maka, model dapat dikategorikan sebagai model well-fit."
   ]
  },
  {
   "cell_type": "markdown",
   "id": "1924d906-c247-4127-a454-abfc54dbbe8e",
   "metadata": {},
   "source": [
    "## Decision Tree"
   ]
  },
  {
   "cell_type": "markdown",
   "id": "58a83405-5b63-4c23-b90a-706963249eea",
   "metadata": {},
   "source": [
    "Decision Tree atau pohon keputusan adalah alogritma supervised learning yang dapat digunakan untuk memprediksi dengan cara membangun klasifikasi atau regresi dalam bentuk struktur pohon."
   ]
  },
  {
   "cell_type": "markdown",
   "id": "a5891c2e-5e5a-432b-8069-6fc2b803c4b8",
   "metadata": {},
   "source": [
    "### Model Building"
   ]
  },
  {
   "cell_type": "markdown",
   "id": "32484ca7-d22a-40a4-9ecd-8e2c585f84a5",
   "metadata": {},
   "source": [
    "Untuk membangun model Decision Tree, digunakan fungsi `DecisionTreeClassifier()` dengan argumen `max_depth=3` yaitu kedalaman decision tree sebesar 3. Training model menggunakan fungsi `.fit()` dan melakukan prediksi pada set data training dan testing menggunakan fungsi `predict()`."
   ]
  },
  {
   "cell_type": "code",
   "execution_count": 66,
   "id": "56db4771-889e-436a-9b8b-66fb2141396a",
   "metadata": {},
   "outputs": [],
   "source": [
    "dtc = DecisionTreeClassifier(max_depth=3)\n",
    "\n",
    "dtc.fit(X_train, y_train)\n",
    "\n",
    "y_pred_train_dtc = dtc.predict(X_train)\n",
    "y_pred_test_dtc = dtc.predict(X_test)"
   ]
  },
  {
   "cell_type": "markdown",
   "id": "7d7b4389-5c5a-4747-99a3-c7a04490df47",
   "metadata": {
    "tags": []
   },
   "source": [
    "### Accuracy\n",
    "\n",
    "Untuk mengukur tingkat akurasi model, digunakan fungsi `accuracy_score()`"
   ]
  },
  {
   "cell_type": "code",
   "execution_count": 67,
   "id": "3f8a8c93-c668-4745-bd9b-3d5ec08f8049",
   "metadata": {},
   "outputs": [
    {
     "name": "stdout",
     "output_type": "stream",
     "text": [
      "Accuracy Train Set: 0.9070791855988346\n",
      "Accuracy Test Set: 0.9103342235170349\n"
     ]
    }
   ],
   "source": [
    "print('Accuracy Train Set:', accuracy_score(y_train,y_pred_train_dtc))\n",
    "print('Accuracy Test Set:', accuracy_score(y_test,y_pred_test_dtc))"
   ]
  },
  {
   "cell_type": "markdown",
   "id": "ac1ca3aa-0e06-487c-8325-de7eb7a01038",
   "metadata": {},
   "source": [
    "Berdasarkan hasil tersebut didapatkan:\n",
    "\n",
    "- Tingkat akurasi model berdasarkan data training sebesar 0.9070791855988346.\n",
    "- Tingkat akurasi model berdasarkan data testing sebesar 0.9103342235170349."
   ]
  },
  {
   "cell_type": "markdown",
   "id": "7809f5c2-13e8-4c30-8bc7-e56e09b9fe26",
   "metadata": {},
   "source": [
    "### Confusion Matrix\n",
    "Untuk memperoleh matriks konfusi, digunakan fungsi `confusion_matrix()`"
   ]
  },
  {
   "cell_type": "code",
   "execution_count": 68,
   "id": "76c89a36-b9b4-4199-992a-aa9af0df105c",
   "metadata": {},
   "outputs": [
    {
     "data": {
      "text/plain": [
       "array([[10417,   552],\n",
       "       [  556,   832]], dtype=int64)"
      ]
     },
     "execution_count": 68,
     "metadata": {},
     "output_type": "execute_result"
    }
   ],
   "source": [
    "cm_dtc = confusion_matrix(y_test,y_pred_test_dtc)\n",
    "cm_dtc"
   ]
  },
  {
   "cell_type": "markdown",
   "id": "d6bfba29-ab4f-481a-93de-f04792d1e122",
   "metadata": {},
   "source": [
    "Diperoleh hasil sebagai berikut:\n",
    "\n",
    "- True negative (benar memprediksi negatif) : 10417\n",
    "- False negative (salah memprediksi negatif) : 556\n",
    "- False postive (salah memprediksi positif) : 552\n",
    "- True postive (benar memprediksi positif) : 832"
   ]
  },
  {
   "cell_type": "markdown",
   "id": "554876c2-84d4-48bf-a47a-d8489c71c1ab",
   "metadata": {},
   "source": [
    "### Classification Report"
   ]
  },
  {
   "cell_type": "markdown",
   "id": "15e040fa-93ae-4545-98fb-545ab980cc13",
   "metadata": {},
   "source": [
    "Untuk memperoleh hasil yang lebih komprehensif mengenai klasifikasi, dapat digunakan fungsi `classification_report`."
   ]
  },
  {
   "cell_type": "code",
   "execution_count": 69,
   "id": "01aee3bd-2689-486b-b7a7-b5993388e410",
   "metadata": {},
   "outputs": [
    {
     "name": "stdout",
     "output_type": "stream",
     "text": [
      "Classification Train Set: \n",
      "               precision    recall  f1-score   support\n",
      "\n",
      "           0       0.95      0.95      0.95     25579\n",
      "           1       0.59      0.59      0.59      3252\n",
      "\n",
      "    accuracy                           0.91     28831\n",
      "   macro avg       0.77      0.77      0.77     28831\n",
      "weighted avg       0.91      0.91      0.91     28831\n",
      "\n",
      "Classification Test Set: \n",
      "               precision    recall  f1-score   support\n",
      "\n",
      "           0       0.95      0.95      0.95     10969\n",
      "           1       0.60      0.60      0.60      1388\n",
      "\n",
      "    accuracy                           0.91     12357\n",
      "   macro avg       0.78      0.77      0.77     12357\n",
      "weighted avg       0.91      0.91      0.91     12357\n",
      "\n"
     ]
    }
   ],
   "source": [
    "print('Classification Train Set: \\n', classification_report(y_train,y_pred_train_dtc))\n",
    "print('Classification Test Set: \\n', classification_report(y_test,y_pred_test_dtc))"
   ]
  },
  {
   "cell_type": "markdown",
   "id": "ae5f29c1-f705-4fb0-a434-219112cf94da",
   "metadata": {},
   "source": [
    "Tingkat akurasi model berdasarkan data training sebesar 0.91, sedangkan tingkat akurasi model berdasarkan data testing juga bernilai 0.91. Maka, model dapat dikategorikan sebagai model well-fit."
   ]
  },
  {
   "cell_type": "markdown",
   "id": "57c3606d-e2e4-4f8a-9fdf-c4cc8c611c87",
   "metadata": {},
   "source": [
    "### Decision Tree Visualization"
   ]
  },
  {
   "cell_type": "markdown",
   "id": "4a8048dc-5614-4454-ade5-317a97702518",
   "metadata": {},
   "source": [
    "Visualisasi decision tree dapat dilakukan menggunakan argumen berikut."
   ]
  },
  {
   "cell_type": "code",
   "execution_count": 70,
   "id": "d8460699-5da2-4a07-871b-9189edda93ee",
   "metadata": {},
   "outputs": [],
   "source": [
    "feature_cols = list(df[df.columns[:-1]])"
   ]
  },
  {
   "cell_type": "code",
   "execution_count": 71,
   "id": "d284fda1-e1c0-45c3-8af3-d377bb497cff",
   "metadata": {},
   "outputs": [
    {
     "data": {
      "image/png": "[encoded data removed]",
      "text/plain": [
       "<IPython.core.display.Image object>"
      ]
     },
     "execution_count": 71,
     "metadata": {},
     "output_type": "execute_result"
    }
   ],
   "source": [
    "dot_data = StringIO()\n",
    "\n",
    "tree.export_graphviz(dtc,out_file=dot_data,\n",
    "                    class_names=['0','1'],\n",
    "                    feature_names=feature_cols,\n",
    "                    filled=True,\n",
    "                    rounded=True,\n",
    "                    special_characters=True)\n",
    "graph = pydotplus.graph_from_dot_data(dot_data.getvalue())\n",
    "Image(graph.create_png())"
   ]
  },
  {
   "cell_type": "markdown",
   "id": "3cd804be-ab51-432c-9a6d-2ebbb0e61e09",
   "metadata": {},
   "source": [
    "## Random Forest"
   ]
  },
  {
   "cell_type": "markdown",
   "id": "57c4f2a3-6b30-4bc8-ba8f-f8cc38db3806",
   "metadata": {},
   "source": [
    "Random forest merupakan salah satu metode pada algoritma decision tree. Random forest merupakan kombinasi dari masing-masing tree yang baik yang dikombinasikan dalam sebuah model."
   ]
  },
  {
   "cell_type": "markdown",
   "id": "ebf497b5-20da-4d6a-8a4c-beeb413535c6",
   "metadata": {},
   "source": [
    "### Model Building"
   ]
  },
  {
   "cell_type": "markdown",
   "id": "b2335e20-da9f-4ea7-8158-d07553acc126",
   "metadata": {},
   "source": [
    "Untuk membangun model Random Forest, digunakan fungsi `RandomForestClassifier()` dengan argumen `n_estimators=100`. Training model menggunakan fungsi `.fit()` dan melakukan prediksi pada set data training dan testing menggunakan fungsi `predict()`."
   ]
  },
  {
   "cell_type": "code",
   "execution_count": 72,
   "id": "ae3ace8a-cf9c-47f7-b3f4-1ea62ee16dc7",
   "metadata": {},
   "outputs": [],
   "source": [
    "rfc = RandomForestClassifier(n_estimators=100)\n",
    "\n",
    "rfc.fit(X_train, y_train)\n",
    "\n",
    "y_pred_train_rfc = rfc.predict(X_train)\n",
    "y_pred_test_rfc = rfc.predict(X_test)"
   ]
  },
  {
   "cell_type": "markdown",
   "id": "f1944fa3-433f-4fa4-ab80-cdd40f4c9548",
   "metadata": {
    "tags": []
   },
   "source": [
    "### Accuracy\n",
    "\n",
    "Untuk mengukur tingkat akurasi model, digunakan fungsi `accuracy_score()`"
   ]
  },
  {
   "cell_type": "code",
   "execution_count": 73,
   "id": "46ac8d2c-f034-46ed-9432-44e9d1d403a8",
   "metadata": {},
   "outputs": [
    {
     "name": "stdout",
     "output_type": "stream",
     "text": [
      "Accuracy Train Set: 1.0\n",
      "Accuracy Test Set: 0.917131989965202\n"
     ]
    }
   ],
   "source": [
    "print('Accuracy Train Set:', accuracy_score(y_train,y_pred_train_rfc))\n",
    "print('Accuracy Test Set:', accuracy_score(y_test,y_pred_test_rfc))"
   ]
  },
  {
   "cell_type": "markdown",
   "id": "0add4ecb-492c-47f9-994c-f711c6cbf9ed",
   "metadata": {},
   "source": [
    "Berdasarkan hasil tersebut didapatkan:\n",
    "\n",
    "- Tingkat akurasi model berdasarkan data training sebesar 1.0.\n",
    "- Tingkat akurasi model berdasarkan data testing sebesar 0.9175366189204499."
   ]
  },
  {
   "cell_type": "markdown",
   "id": "af37858d-ccaa-41a8-87e3-b7e5ddaa64ac",
   "metadata": {},
   "source": [
    "### Confusion Matrix\n",
    "Untuk memperoleh matriks konfusi, digunakan fungsi `confusion_matrix()`"
   ]
  },
  {
   "cell_type": "code",
   "execution_count": 74,
   "id": "caf75b3c-4f43-455f-a400-46f435620cb0",
   "metadata": {},
   "outputs": [
    {
     "data": {
      "text/plain": [
       "array([[10625,   344],\n",
       "       [  680,   708]], dtype=int64)"
      ]
     },
     "execution_count": 74,
     "metadata": {},
     "output_type": "execute_result"
    }
   ],
   "source": [
    "cm_rfc = confusion_matrix(y_test,y_pred_test_rfc)\n",
    "cm_rfc"
   ]
  },
  {
   "cell_type": "markdown",
   "id": "17bb075a-f106-47e2-afea-71c164bcaf2e",
   "metadata": {},
   "source": [
    "Diperoleh hasil sebagai berikut:\n",
    "\n",
    "- True negative (benar memprediksi negatif) : 10642\n",
    "- False negative (salah memprediksi negatif) : 692\n",
    "- False postive (salah memprediksi positif) : 327\n",
    "- True postive (benar memprediksi positif) : 696"
   ]
  },
  {
   "cell_type": "markdown",
   "id": "4c20dbb6-d671-4c65-bfa4-1a7cd5f5f0d3",
   "metadata": {},
   "source": [
    "### Classification Report"
   ]
  },
  {
   "cell_type": "markdown",
   "id": "7f5ea854-a9ac-41fa-87e8-af48b18ed231",
   "metadata": {},
   "source": [
    "Untuk memperoleh hasil yang lebih komprehensif mengenai klasifikasi, dapat digunakan fungsi `classification_report`."
   ]
  },
  {
   "cell_type": "code",
   "execution_count": 75,
   "id": "28f1f110-4ced-4d98-a019-f68f89b3979f",
   "metadata": {},
   "outputs": [
    {
     "name": "stdout",
     "output_type": "stream",
     "text": [
      "Classification Report Train Set: \n",
      "               precision    recall  f1-score   support\n",
      "\n",
      "           0       1.00      1.00      1.00     25579\n",
      "           1       1.00      1.00      1.00      3252\n",
      "\n",
      "    accuracy                           1.00     28831\n",
      "   macro avg       1.00      1.00      1.00     28831\n",
      "weighted avg       1.00      1.00      1.00     28831\n",
      "\n",
      "Classification Report Test Set: \n",
      "               precision    recall  f1-score   support\n",
      "\n",
      "           0       0.94      0.97      0.95     10969\n",
      "           1       0.67      0.51      0.58      1388\n",
      "\n",
      "    accuracy                           0.92     12357\n",
      "   macro avg       0.81      0.74      0.77     12357\n",
      "weighted avg       0.91      0.92      0.91     12357\n",
      "\n"
     ]
    }
   ],
   "source": [
    "print('Classification Report Train Set: \\n', classification_report(y_train,y_pred_train_rfc))\n",
    "print('Classification Report Test Set: \\n', classification_report(y_test,y_pred_test_rfc))"
   ]
  },
  {
   "cell_type": "markdown",
   "id": "1b15e0a7-5f4a-486b-ab85-2422c4de3e6b",
   "metadata": {},
   "source": [
    "Tingkat akurasi model berdasarkan data training sebesar 1.0, sedangkan tingkat akurasi model berdasarkan data testing bernilai 0.92. Nilai akurasi pada set data training lebih tinggi dari nilai akurasi pada set data testing. Maka, model dapat dikategorikan sebagai model overfitting."
   ]
  },
  {
   "cell_type": "markdown",
   "id": "bf7052be-8ea6-4784-8450-d2941f4724c0",
   "metadata": {},
   "source": [
    "### Random Forest Visualization"
   ]
  },
  {
   "cell_type": "markdown",
   "id": "805ca4e9-fccc-4b9d-9608-cdaef3280ac9",
   "metadata": {},
   "source": [
    "Visualisasi random forest dapat dilakukan menggunakan argumen berikut dan diurutkan dari nilai terbesar ke terkecil."
   ]
  },
  {
   "cell_type": "code",
   "execution_count": 76,
   "id": "159dd15a-aee8-4a29-9486-9cda76b859df",
   "metadata": {},
   "outputs": [
    {
     "data": {
      "text/plain": [
       "duration          0.313016\n",
       "euribor3m         0.119639\n",
       "age               0.091497\n",
       "nr.employed       0.057711\n",
       "job               0.048853\n",
       "education         0.043782\n",
       "campaign          0.041801\n",
       "day_of_week       0.040815\n",
       "pdays             0.033939\n",
       "poutcome          0.027109\n",
       "cons.conf.idx     0.026959\n",
       "emp.var.rate      0.024764\n",
       "marital           0.023493\n",
       "cons.price.idx    0.021656\n",
       "housing           0.020339\n",
       "month             0.018005\n",
       "loan              0.015050\n",
       "previous          0.012917\n",
       "contact           0.009888\n",
       "default           0.008767\n",
       "dtype: float64"
      ]
     },
     "execution_count": 76,
     "metadata": {},
     "output_type": "execute_result"
    }
   ],
   "source": [
    "f_i = rfc.feature_importances_\n",
    "feature_imp = pd.Series(f_i,index=feature_cols)\n",
    "feature_imp = feature_imp.sort_values(ascending=False)\n",
    "feature_imp"
   ]
  },
  {
   "cell_type": "code",
   "execution_count": 77,
   "id": "fcaa0f50-2943-48ae-a64c-d0e97acc02b0",
   "metadata": {},
   "outputs": [
    {
     "data": {
      "image/png": "[encoded data removed]",
      "text/plain": [
       "<Figure size 640x480 with 1 Axes>"
      ]
     },
     "metadata": {},
     "output_type": "display_data"
    }
   ],
   "source": [
    "sns.barplot(x=feature_imp,y=feature_imp.index)\n",
    "\n",
    "plt.title('feature importances of random forest')\n",
    "plt.ylabel('features')\n",
    "plt.xlabel('feature importance score')\n",
    "plt.show()"
   ]
  },
  {
   "cell_type": "markdown",
   "id": "22163ade-8682-49b7-ae5b-e1a9af860bb3",
   "metadata": {},
   "source": [
    "Pada plot, dapat dilihat bahwa beberapa fitur tingkat kepentingannya sangat rendah. Apabila dilakukan analisis lanjutan, fitur-fitur tersebut dapat dihilangkan agar model yang didapat dan hasil prediksi lebih akurat."
   ]
  },
  {
   "cell_type": "markdown",
   "id": "58bc8c53-98f6-4c70-ac87-85c2883818b3",
   "metadata": {},
   "source": [
    "## Naive Bayes"
   ]
  },
  {
   "cell_type": "markdown",
   "id": "ad0f1cb4-2786-4a92-9337-e8274a492df8",
   "metadata": {},
   "source": [
    "Naive Bayes adalah salah satu dari algoritma supervised learning yang metode pengklasifikasiannya didasarkan pada probabilitas/peluang. "
   ]
  },
  {
   "cell_type": "markdown",
   "id": "5ce4d907-2d84-4859-bea3-f896d72e76a6",
   "metadata": {},
   "source": [
    "### Model Building"
   ]
  },
  {
   "cell_type": "markdown",
   "id": "72f920a0-5075-4e0d-a61c-84cef3d2aa78",
   "metadata": {},
   "source": [
    "Untuk membangun model Naive Bayes, digunakan fungsi `Gaussian NB()`. Training model menggunakan fungsi `.fit()` dan melakukan prediksi pada set data training dan testing menggunakan fungsi `predict()`."
   ]
  },
  {
   "cell_type": "code",
   "execution_count": 78,
   "id": "e9c2ee25-0705-4068-9460-aa10cfbcd61c",
   "metadata": {},
   "outputs": [],
   "source": [
    "modelNB = GaussianNB()\n",
    "\n",
    "modelNB.fit(X_train,y_train)\n",
    "\n",
    "y_pred_test_nb = modelNB.predict(X_test)\n",
    "y_pred_train_nb = modelNB.predict(X_train)"
   ]
  },
  {
   "cell_type": "markdown",
   "id": "7be208fe-8308-48f2-bd10-a637a9104277",
   "metadata": {},
   "source": [
    "### Accuracy\n",
    "\n",
    "Untuk mengukur tingkat akurasi model, digunakan fungsi `accuracy_score()`"
   ]
  },
  {
   "cell_type": "code",
   "execution_count": 79,
   "id": "98913379-8c95-4bb0-8b50-7235b376299c",
   "metadata": {},
   "outputs": [
    {
     "name": "stdout",
     "output_type": "stream",
     "text": [
      "Train Set Accuracy: 0.845340085324824\n",
      "Test Set Accuracy: 0.8477785870356883\n"
     ]
    }
   ],
   "source": [
    "print('Train Set Accuracy:', accuracy_score(y_train, y_pred_train_nb))\n",
    "print('Test Set Accuracy:',accuracy_score(y_test,y_pred_test_nb))"
   ]
  },
  {
   "cell_type": "markdown",
   "id": "cd6cc1e1-2730-4a86-8a63-48113785849a",
   "metadata": {},
   "source": [
    "Berdasarkan hasil tersebut didapatkan:\n",
    "\n",
    "- Tingkat akurasi model berdasarkan data training sebesar 0.845340085324824.\n",
    "- Tingkat akurasi model berdasarkan data testing sebesar 0.8477785870356883."
   ]
  },
  {
   "cell_type": "markdown",
   "id": "b98c70e6-80d2-4e5c-b84e-033f3d078b16",
   "metadata": {},
   "source": [
    "### Confusion Matrix\n",
    "Untuk memperoleh matriks konfusi, digunakan fungsi `confusion_matrix()`"
   ]
  },
  {
   "cell_type": "code",
   "execution_count": 80,
   "id": "40b7197a-dcdc-47b9-8fde-cb0ca69406e6",
   "metadata": {},
   "outputs": [
    {
     "data": {
      "text/plain": [
       "array([[9635, 1334],\n",
       "       [ 547,  841]], dtype=int64)"
      ]
     },
     "execution_count": 80,
     "metadata": {},
     "output_type": "execute_result"
    }
   ],
   "source": [
    "cm_nb = confusion_matrix(y_test,y_pred_test_nb)\n",
    "cm_nb"
   ]
  },
  {
   "cell_type": "markdown",
   "id": "e3d7b54b-8ccb-47ec-8ba5-e6d99bcd53b5",
   "metadata": {},
   "source": [
    "Diperoleh hasil sebagai berikut:\n",
    "\n",
    "- True negative (benar memprediksi negatif) : 9635\n",
    "- False negative (salah memprediksi negatif) : 547\n",
    "- False postive (salah memprediksi positif) : 1334\n",
    "- True postive (benar memprediksi positif) : 841\n",
    "\n",
    "Pada algoritma naive bayes, nilai false positive lebih besar daripada nilai true positive. Hal ini berarti kesalahan model memprediksi nilai true lebih besar. Perlu dilakukan improve model agar hasil prediksi yang didapatkan akurat."
   ]
  },
  {
   "cell_type": "markdown",
   "id": "41945990-74da-4b6b-827b-d2132cd8c338",
   "metadata": {},
   "source": [
    "### Classification Report"
   ]
  },
  {
   "cell_type": "markdown",
   "id": "9c1aaefe-453a-46c5-b6cb-22f325a70ae1",
   "metadata": {},
   "source": [
    "Untuk memperoleh hasil yang lebih komprehensif mengenai klasifikasi, dapat digunakan fungsi `classification_report`."
   ]
  },
  {
   "cell_type": "code",
   "execution_count": 81,
   "id": "341514b9-500a-4005-902f-0eee5602acf0",
   "metadata": {},
   "outputs": [
    {
     "name": "stdout",
     "output_type": "stream",
     "text": [
      "Classification Report Train Set: \n",
      "               precision    recall  f1-score   support\n",
      "\n",
      "           0       0.94      0.88      0.91     25579\n",
      "           1       0.38      0.59      0.46      3252\n",
      "\n",
      "    accuracy                           0.85     28831\n",
      "   macro avg       0.66      0.74      0.69     28831\n",
      "weighted avg       0.88      0.85      0.86     28831\n",
      "\n",
      "Classification report Test Set: \n",
      "               precision    recall  f1-score   support\n",
      "\n",
      "           0       0.95      0.88      0.91     10969\n",
      "           1       0.39      0.61      0.47      1388\n",
      "\n",
      "    accuracy                           0.85     12357\n",
      "   macro avg       0.67      0.74      0.69     12357\n",
      "weighted avg       0.88      0.85      0.86     12357\n",
      "\n"
     ]
    }
   ],
   "source": [
    "print('Classification Report Train Set: \\n', classification_report(y_train,y_pred_train_nb))\n",
    "print('Classification report Test Set: \\n', classification_report(y_test,y_pred_test_nb))"
   ]
  },
  {
   "cell_type": "markdown",
   "id": "c389d796-33c5-4635-8146-db583c804ab6",
   "metadata": {},
   "source": [
    "Tingkat akurasi model berdasarkan data training sebesar 0.85, sedangkan tingkat akurasi model berdasarkan data testing bernilai 0.85. Nilai akurasi pada set data training sama dengan nilai akurasi pada set data testing. Maka, model dapat dikategorikan sebagai model well-fit."
   ]
  },
  {
   "cell_type": "markdown",
   "id": "caaf20d0-1d38-42ec-9c34-1f7d54feab17",
   "metadata": {},
   "source": [
    "## Summary"
   ]
  },
  {
   "cell_type": "code",
   "execution_count": 82,
   "id": "fdfa5354-4be0-4d10-92ea-4808337d5cb5",
   "metadata": {},
   "outputs": [
    {
     "name": "stdout",
     "output_type": "stream",
     "text": [
      "Logistic Regression: 0.9122764425022255\n",
      "K-NN: 0.9065307113377034\n",
      "SVM: 0.898761835396941\n",
      "Decision Tree: 0.9103342235170349\n",
      "Random Forest: 0.917131989965202\n",
      "Naive Bayes: 0.8477785870356883\n"
     ]
    }
   ],
   "source": [
    "print(\"Logistic Regression:\", accuracy_score(y_test, y_pred_test_lr))\n",
    "print(\"K-NN:\", accuracy_score(y_test, y_pred_test_23))\n",
    "print(\"SVM:\", accuracy_score(y_test, y_pred_test_svc))\n",
    "print(\"Decision Tree:\", accuracy_score(y_test, y_pred_test_dtc))\n",
    "print(\"Random Forest:\", accuracy_score(y_test, y_pred_test_rfc))\n",
    "print(\"Naive Bayes:\", accuracy_score(y_test, y_pred_test_nb))"
   ]
  },
  {
   "cell_type": "markdown",
   "id": "38da3d8b-0dd7-4089-88f1-7f966333e219",
   "metadata": {},
   "source": [
    "Berdasarkan 6 algoritma, diperoleh nilai akurasi yang paling tinggi pada algoritma Random Forest. Namun, perlu diketahui bahwa model Random Forest adalah model yang overfitting. Model yang memiliki akurasi tinggi dan tidak overfitting atau underfitting adalah model Logistic Regression. Sehingga dapat disimpulkan bahwa algoritma Logistic Regression tepat digunakan untuk memprediksi klien yang akan berlangganan produk bank (deposito bank berjangka) di Portugis."
   ]
  },
  {
   "cell_type": "code",
   "execution_count": null,
   "id": "cc7b6183-287e-4145-83a5-4f217d50e11c",
   "metadata": {},
   "outputs": [],
   "source": []
  }
 ],
 "metadata": {
  "kernelspec": {
   "display_name": "Python 3 (ipykernel)",
   "language": "python",
   "name": "python3"
  },
  "language_info": {
   "codemirror_mode": {
    "name": "ipython",
    "version": 3
   },
   "file_extension": ".py",
   "mimetype": "text/x-python",
   "name": "python",
   "nbconvert_exporter": "python",
   "pygments_lexer": "ipython3",
   "version": "3.9.13"
  }
 },
 "nbformat": 4,
 "nbformat_minor": 5
}
